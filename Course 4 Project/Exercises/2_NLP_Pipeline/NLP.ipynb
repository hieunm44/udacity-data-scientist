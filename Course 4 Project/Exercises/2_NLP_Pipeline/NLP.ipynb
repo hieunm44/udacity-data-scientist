{
 "cells": [
  {
   "metadata": {},
   "cell_type": "markdown",
   "source": "# NLP Pipeline",
   "id": "a4459e0d86eb5218"
  },
  {
   "cell_type": "code",
   "id": "initial_id",
   "metadata": {
    "collapsed": true,
    "ExecuteTime": {
     "end_time": "2025-06-09T09:59:27.595127Z",
     "start_time": "2025-06-09T09:59:27.591595Z"
    }
   },
   "source": [
    "import requests\n",
    "from bs4 import BeautifulSoup\n",
    "import re\n",
    "import nltk\n",
    "from nltk.tokenize import word_tokenize\n",
    "from nltk.tokenize import sent_tokenize\n",
    "from nltk.corpus import stopwords\n",
    "from nltk import pos_tag, ne_chunk\n",
    "from nltk.stem.porter import PorterStemmer\n",
    "from nltk.stem.wordnet import WordNetLemmatizer\n",
    "from sklearn.feature_extraction.text import CountVectorizer\n",
    "from sklearn.feature_extraction.text import TfidfTransformer\n",
    "from sklearn.feature_extraction.text import TfidfVectorizer"
   ],
   "outputs": [],
   "execution_count": 88
  },
  {
   "metadata": {},
   "cell_type": "markdown",
   "source": "## 1. Cleaning",
   "id": "c0ab1f85f8566035"
  },
  {
   "metadata": {
    "ExecuteTime": {
     "end_time": "2025-06-09T09:20:27.504515Z",
     "start_time": "2025-06-09T09:20:27.114903Z"
    }
   },
   "cell_type": "code",
   "source": [
    "r = requests.get(\"https://www.rottentomatoes.com/m/et_the_extraterrestrial/cast-and-crew\")\n",
    "r.text"
   ],
   "id": "dca799cb3f6154f",
   "outputs": [
    {
     "data": {
      "text/plain": [
       "'<!DOCTYPE html>\\n<html lang=\"en\" dir=\"ltr\" xmlns=\"http://www.w3.org/1999/xhtml\" prefix=\"fb: http://www.facebook.com/2008/fbml og: http://opengraphprotocol.org/schema/\">\\n    <head prefix=\"og: http://ogp.me/ns# flixstertomatoes: http://ogp.me/ns/apps/flixstertomatoes#\">\\n\\n        \\n        \\n            <script\\n                charset=\"UTF-8\"\\n                crossorigin=\"anonymous\"\\n                data-domain-script=\"7e979733-6841-4fce-9182-515fac69187f\"\\n                integrity=\"sha384-TKdmlzVmoD70HzftTw4WtOzIBL5mNx8mXSRzEvwrWjpIJ7FZ/EuX758yMDWXtRUN\"\\n                src=\"https://cdn.cookielaw.org/consent/7e979733-6841-4fce-9182-515fac69187f/otSDKStub.js\"\\n                type=\"text/javascript\"\\n            >\\n            </script>\\n            <script type=\"text/javascript\">\\n                function OptanonWrapper() { }\\n            </script>\\n        \\n\\n        \\n            <script\\n                ccpa-opt-out-ids=\"USP\"\\n                ccpa-opt-out-geo=\"US\"\\n                ccpa-opt-out-lspa=\"false\"\\n                charset=\"UTF-8\"\\n                src=\"https://cdn.cookielaw.org/opt-out/otCCPAiab.js\"\\n                type=\"text/javascript\"\\n            >\\n            </script>\\n        \\n        \\n\\n        \\n            \\n            <script src=\"/assets/pizza-pie/javascripts/bundles/roma/rt-common.js?single\"></script>\\n            \\n        \\n\\n        <meta http-equiv=\"Content-Type\" content=\"text/html; charset=utf-8\" />\\n        <meta http-equiv=\"x-ua-compatible\" content=\"ie=edge\">\\n        <meta name=\"viewport\" content=\"width=device-width, initial-scale=1\">\\n\\n        <link rel=\"shortcut icon\" sizes=\"76x76\" type=\"image/x-icon\" href=\"https://www.rottentomatoes.com/assets/pizza-pie/images/favicon.ico\" />\\n\\n        \\n\\n        \\n  \\n        \\n  \\n<title>E.T. the Extra-Terrestrial | Cast and Crew | Rotten Tomatoes</title>\\n\\n\\n    <meta name=\"description\" content=\"Discover the cast and crew of E.T. the Extra-Terrestrial on Rotten Tomatoes. See actors, directors, and more behind the scenes. Explore now!\" />\\n\\n    <meta name=\"twitter:card\" content=\"summary\" />\\n\\n    <meta name=\"twitter:image\" content=\"https://resizing.flixster.com/KJSuMpqapCOoQyK9g9G_FWbxvEQ=/206x305/v2/https://resizing.flixster.com/-XZAfHZM39UwaGJIFWKAE8fS0ak=/v3/t/assets/p10998_p_v13_au.jpg\" />\\n\\n    <meta name=\"twitter:title\" content=\"E.T. the Extra-Terrestrial | Cast and Crew | Rotten Tomatoes\" />\\n\\n    <meta name=\"twitter:text:title\" content=\"E.T. the Extra-Terrestrial | Cast and Crew | Rotten Tomatoes\" />\\n\\n    <meta name=\"twitter:description\" content=\"Discover the cast and crew of E.T. the Extra-Terrestrial on Rotten Tomatoes. See actors, directors, and more behind the scenes. Explore now!\" />\\n\\n\\n\\n    <meta property=\"og:site_name\" content=\"Rotten Tomatoes\" />\\n\\n    <meta property=\"og:title\" content=\"E.T. the Extra-Terrestrial | Cast and Crew | Rotten Tomatoes\" />\\n\\n    <meta property=\"og:description\" content=\"Discover the cast and crew of E.T. the Extra-Terrestrial on Rotten Tomatoes. See actors, directors, and more behind the scenes. Explore now!\" />\\n\\n    <meta property=\"og:type\" content=\"video.movie\" />\\n\\n    <meta property=\"og:url\" content=\"https://www.rottentomatoes.com/m/et_the_extraterrestrial/cast-and-crew\" />\\n\\n    <meta property=\"og:image\" content=\"https://resizing.flixster.com/KJSuMpqapCOoQyK9g9G_FWbxvEQ=/206x305/v2/https://resizing.flixster.com/-XZAfHZM39UwaGJIFWKAE8fS0ak=/v3/t/assets/p10998_p_v13_au.jpg\" />\\n\\n    <meta property=\"og:locale\" content=\"en_US\" />\\n\\n\\n\\n    <link rel=\"canonical\" href=\"https://www.rottentomatoes.com/m/et_the_extraterrestrial/cast-and-crew\" />\\n\\n\\n<script>\\n    var dataLayer = dataLayer || [];\\n    var RottenTomatoes = RottenTomatoes || {};\\n    RottenTomatoes.dtmData = {\"customerId\":\"\",\"loggedInStatus\":\"\",\"rtVersion\":3.1,\"webVersion\":\"node\",\"emsID\":\"9ac889c9-a513-3596-a647-ab4f4554112f\",\"lifeCycleWindow\":\"OUT_OF_THEATERS\",\"pageName\":\"rt | movies | cast and crew | E.T. the Extra-Terrestrial\",\"titleGenre\":\"Kids family\",\"titleId\":\"9ac889c9-a513-3596-a647-ab4f4554112f\",\"titleName\":\"E.T. the Extra-Terrestrial\",\"titleType\":\"Movie\"};\\n    dataLayer.push({\"customerId\":\"\",\"loggedInStatus\":\"\",\"rtVersion\":3.1,\"webVersion\":\"node\",\"emsID\":\"9ac889c9-a513-3596-a647-ab4f4554112f\",\"lifeCycleWindow\":\"OUT_OF_THEATERS\",\"pageName\":\"rt | movies | cast and crew | E.T. the Extra-Terrestrial\",\"titleGenre\":\"Kids family\",\"titleId\":\"9ac889c9-a513-3596-a647-ab4f4554112f\",\"titleName\":\"E.T. the Extra-Terrestrial\",\"titleType\":\"Movie\"});\\n</script>\\n\\n\\n    <script id=\"mps-page-integration\">\\n        window.mpscall = {\"cag[genre]\":\"Kids & Family|Sci-Fi|Adventure\",\"cag[movieshow]\":\"E.T. the Extra-Terrestrial\",\"cag[rating]\":\"PG\",\"cag[release]\":\"Jun 11, 1982\",\"cag[urlid]\":\"/et_the_extraterrestrial\",\"cat\":\"movie|movie_page\",\"field[env]\":\"production\",\"field[rtid]\":\"9ac889c9-a513-3596-a647-ab4f4554112f\",\"title\":\"E.T. the Extra-Terrestrial\",\"type\":\"movie_page\",\"site\":\"rottentomatoes-web\"};\\n        var mpsopts={\\'host\\':\\'mps.nbcuni.com\\', \\'updatecorrelator\\':1};\\n        var mps=mps||{};mps._ext=mps._ext||{};mps._adsheld=[];mps._queue=mps._queue||{};mps._queue.mpsloaded=mps._queue.mpsloaded||[];mps._queue.mpsinit=mps._queue.mpsinit||[];mps._queue.gptloaded=mps._queue.gptloaded||[];mps._queue.adload=mps._queue.adload||[];mps._queue.adclone=mps._queue.adclone||[];mps._queue.adview=mps._queue.adview||[];mps._queue.refreshads=mps._queue.refreshads||[];mps.__timer=Date.now||function(){return+new Date};mps.__intcode=\"v2\";if(typeof mps.getAd!=\"function\")mps.getAd=function(adunit){if(typeof adunit!=\"string\")return false;var slotid=\"mps-getad-\"+adunit.replace(/\\\\W/g,\"\");if(!mps._ext||!mps._ext.loaded){mps._queue.gptloaded.push(function(){typeof mps._gptfirst==\"function\"&&mps._gptfirst(adunit,slotid);mps.insertAd(\"#\"+slotid,adunit)});mps._adsheld.push(adunit)}return\\'<div id=\"\\'+slotid+\\'\" class=\"mps-wrapper\" data-mps-fill-slot=\"\\'+adunit+\\'\"></div>\\'};\\n    </script>\\n    <script src=\"//mps.nbcuni.com/fetch/ext/load-rottentomatoes-web.js?nowrite=2\" id=\"mps-load\"></script>\\n\\n\\n  <script type=\"application/ld+json\">{\"@context\":\"http://schema.org\",\"@type\":\"Movie\",\"actor\":[{\"@type\":\"Person\",\"name\":\"Henry Thomas\",\"sameAs\":\"https://www.rottentomatoes.com/celebrity/henry_thomas\",\"image\":\"https://resizing.flixster.com/vdXpX-hTKGBvkDP2Te6hRlS-s18=/100x120/v2/https://resizing.flixster.com/-XZAfHZM39UwaGJIFWKAE8fS0ak=/v3/t/assets/26487_v9_bb.jpg\"},{\"@type\":\"Person\",\"name\":\"Dee Wallace\",\"sameAs\":\"https://www.rottentomatoes.com/celebrity/dee_wallace\",\"image\":\"https://resizing.flixster.com/c6drmlEiGL_GAu2Xi0-JSfOpQQw=/100x120/v2/https://resizing.flixster.com/-XZAfHZM39UwaGJIFWKAE8fS0ak=/v3/t/assets/1713_v9_bc.jpg\"},{\"@type\":\"Person\",\"name\":\"Peter Coyote\",\"sameAs\":\"https://www.rottentomatoes.com/celebrity/peter_coyote\",\"image\":\"https://resizing.flixster.com/91vjEs6UyZ_Xyq_jFJOqO66t7yk=/100x120/v2/https://resizing.flixster.com/-XZAfHZM39UwaGJIFWKAE8fS0ak=/v3/t/assets/71731_v9_bb.jpg\"},{\"@type\":\"Person\",\"name\":\"Drew Barrymore\",\"sameAs\":\"https://www.rottentomatoes.com/celebrity/drew_barrymore\",\"image\":\"https://resizing.flixster.com/dmGMPMoh3s67kTTcGTSThXM2r_k=/100x120/v2/https://resizing.flixster.com/-XZAfHZM39UwaGJIFWKAE8fS0ak=/v3/t/assets/100_v9_bc.jpg\"},{\"@type\":\"Person\",\"name\":\"C. Thomas Howell\",\"sameAs\":\"https://www.rottentomatoes.com/celebrity/tom_howell\",\"image\":\"https://resizing.flixster.com/EemZQ_16S8Fd-7dRzW3O9Qzy2oQ=/100x120/v2/https://resizing.flixster.com/-XZAfHZM39UwaGJIFWKAE8fS0ak=/v3/t/assets/804_v9_cc.jpg\"},{\"@type\":\"Person\",\"name\":\"Robert MacNaughton\",\"sameAs\":\"https://www.rottentomatoes.com/celebrity/robert-macnaughton\",\"image\":\"https://resizing.flixster.com/SLDpMQWHuCmgZJ_f8VM9VQzVr_w=/100x120/v2/https://resizing.flixster.com/-XZAfHZM39UwaGJIFWKAE8fS0ak=/v3/t/assets/90708_v9_bb.jpg\"},{\"@type\":\"Person\",\"name\":\"K.C. Martel\",\"sameAs\":\"https://www.rottentomatoes.com/celebrity/kc_martel\",\"image\":\"https://resizing.flixster.com/CtDXNoej9f9ILGzhuqbz7Z-MmFU=/100x120/v2/https://resizing.flixster.com/-XZAfHZM39UwaGJIFWKAE8fS0ak=/v3/t/assets/90709_v9_aa.jpg\"},{\"@type\":\"Person\",\"name\":\"Sean Frye\",\"sameAs\":\"https://www.rottentomatoes.com/celebrity/sean_frye\",\"image\":\"https://resizing.flixster.com/3Ll6GV2tuSNqVRxXZ4WvjBlPNl0=/100x120/v2/https://resizing.flixster.com/-XZAfHZM39UwaGJIFWKAE8fS0ak=/v3/t/assets/131890_v9_aa.jpg\"}],\"contentRating\":\"PG\",\"dateCreated\":\"1982-06-11\",\"director\":[{\"@type\":\"Person\",\"name\":\"Steven Spielberg\",\"sameAs\":\"https://www.rottentomatoes.com/celebrity/steve_spielberg\",\"image\":\"https://resizing.flixster.com/mKAoFaKWC96xoazvoRKdYKyvchI=/100x120/v2/https://resizing.flixster.com/-XZAfHZM39UwaGJIFWKAE8fS0ak=/v3/t/assets/1672_v9_bc.jpg\"}],\"description\":\"Discover reviews, ratings, and the latest on E.T. the Extra-Terrestrial. Stay updated on what critics and audiences are saying about this film now.\",\"genre\":[\"Kids & Family\",\"Sci-Fi\",\"Adventure\"],\"image\":\"https://resizing.flixster.com/-XZAfHZM39UwaGJIFWKAE8fS0ak=/v3/t/assets/p10998_p_v13_au.jpg\",\"name\":\"E.T. the Extra-Terrestrial\",\"producer\":[{\"@type\":\"Person\",\"name\":\"Melissa Mathison\",\"sameAs\":\"https://www.rottentomatoes.com/celebrity/melissa_mathison\",\"image\":\"https://resizing.flixster.com/IRvYwrDWX6hH4GnxIkP3FQHm5R4=/100x120/v2/https://resizing.flixster.com/-XZAfHZM39UwaGJIFWKAE8fS0ak=/v3/t/assets/79226_v9_ba.jpg\"}],\"url\":\"https://www.rottentomatoes.com/m/et_the_extraterrestrial/cast-and-crew\"}</script>\\n\\n\\n        <link rel=\"manifest\" href=\"https://www.rottentomatoes.com/assets/pizza-pie/manifest/manifest.json\" />\\n\\n        <link rel=\"apple-touch-icon\" href=\"https://www.rottentomatoes.com/assets/pizza-pie/head-assets/images/apple-touch-icon-60.jpg\" />\\n        <link rel=\"apple-touch-icon\" sizes=\"152x152\" href=\"https://www.rottentomatoes.com/assets/pizza-pie/head-assets/images/apple-touch-icon-152.jpg\" />\\n        <link rel=\"apple-touch-icon\" sizes=\"167x167\" href=\"https://www.rottentomatoes.com/assets/pizza-pie/head-assets/images/apple-touch-icon-167.jpg\" />\\n        <link rel=\"apple-touch-icon\" sizes=\"180x180\" href=\"https://www.rottentomatoes.com/assets/pizza-pie/head-assets/images/apple-touch-icon-180.jpg\" />\\n\\n        \\n\\n        \\n        \\n\\n        \\n        <meta name=\"google-site-verification\" content=\"VPPXtECgUUeuATBacnqnCm4ydGO99reF-xgNklSbNbc\" />\\n\\n        \\n        <meta name=\"msvalidate.01\" content=\"034F16304017CA7DCF45D43850915323\" />\\n        <meta name=\"theme-color\" content=\"#FA320A\">\\n\\n        <!-- DNS prefetch -->\\n        <meta http-equiv=\"x-dns-prefetch-control\" content=\"on\">\\n        \\n            <link rel=\"dns-prefetch\" href=\"//www.rottentomatoes.com\" />\\n        \\n        \\n            <link rel=\"preconnect\" href=\"//www.rottentomatoes.com\" />\\n        \\n\\n        \\n  \\n            <link rel=\"stylesheet\" href=\"/assets/pizza-pie/stylesheets/bundles/layouts/default.adba2173ab7.css\" />\\n\\n            \\n        \\n  <link rel=\"preload\" href=\"/assets/pizza-pie/stylesheets/bundles/pages/castAndCrew.7219347ba49.css\" as=\"style\" onload=\"this.onload=null;this.rel=\\'stylesheet\\'\">\\'\\n\\n\\n        <script>\\n            window.RottenTomatoes = {};\\n            window.RTLocals = {};\\n            window.nunjucksPrecompiled = {};\\n            window.__RT__ = {};\\n        </script>\\n\\n        \\n            \\n            <script src=\"https://cdn.jwplayer.com/libraries/U8MHzHHR.js\"></script>\\n            <script src=\"https://sb.scorecardresearch.com/c2/plugins/streamingtag_plugin_jwplayer.js\"></script>\\n        \\n\\n        \\n        \\n    </head>\\n    \\n    <body\\n        class=\"body no-touch js-mptd-layout\"\\n        data-AdsGlobalSkinTakeoverManager=\"body\"\\n        data-SearchResultsNavManager=\"body\"\\n    >\\n        <cookie-manager></cookie-manager>\\n        <device-inspection-manager endpoint=\"https://www.rottentomatoes.com/napi/device/inspection\"></device-inspection-manager>\\n        <user-activity-manager></user-activity-manager>\\n        <ad-unit-manager></ad-unit-manager>\\n\\n        <auth-initiate-manager\\n    data-ArtiManager=\"authInitiateManager\"\\n    data-WatchlistButtonManager=\"authInitiateManager:createAccount\"\\n>\\n</auth-initiate-manager>\\n<auth-profile-manager data-AuthInitiateManager=\"authProfileManager\"></auth-profile-manager>\\n<auth-validation-manager data-AuthInitiateManager=\"authValidation\"></auth-validation-manager>\\n<overlay-base\\n    data-AuthInitiateManager=\"overlayBase:close\"\\n    data-PagePollsIndexManager=\"authOverlay:close\"\\n    hidden\\n>\\n    <overlay-flows data-AuthInitiateManager=\"overlayFlows\" slot=\"content\">\\n        <button slot=\"close\" class=\"auth-overlay__icon-button auth-overlay__icon-button--close\" aria-label=\"Close\" data-qa=\"close-overlay-btn\">\\n            <rt-icon image icon=\"close\"></rt-icon>\\n        </button>\\n    </overlay-flows>\\n</overlay-base>\\n\\n<notification-alert data-AuthInitiateManager=\"authSuccess\" animate hidden>\\n    <rt-icon icon=\"check-circled\"></rt-icon>\\n    <span>Signed in</span>\\n</notification-alert>\\n\\n<div id=\"auth-templates\" data-AuthInitiateManager=\"authTemplates\">\\n    <template slot=\"screens\" id=\"account-password-change-screen\">\\n    <account-password-change-screen data-qa=\"account-password-change-screen\">\\n        <input-label state=\"default\" slot=\"inputPasswordExisting\">\\n            <label slot=\"label\" for=\"password-existing\">Existing password</label>\\n            <input slot=\"input\" name=\"password-existing\" type=\"password\" placeholder=\"Enter existing password\" autocomplete=\"off\"></input>\\n        </input-label>\\n        <input-label state=\"default\" slot=\"inputPasswordNew\">\\n            <label slot=\"label\" for=\"password-new\">New password</label>\\n            <input slot=\"input\" name=\"password-new\" type=\"password\" placeholder=\"Enter new password\" autocomplete=\"off\"></input>\\n        </input-label>\\n        <rt-button disabled shape=\"pill\" slot=\"submitButton\">Submit</rt-button>\\n    </account-password-change-screen>\\n</template>\\n\\n    <template slot=\"screens\" id=\"account-password-change-updating-screen\">\\n    <login-success-screen data-qa=\"account-password-change-updating-screen\" hidebanner>\\n        <rt-text slot=\"status\" size=\"1.5\" style=\"--fontWeight: var(--franklinGothicDemi);\">\\n            Updating your password...\\n        </rt-text>\\n        <img slot=\"icon\" src=\"/assets/pizza-pie/images/icons/cognito-success.3a3d5f32fab.svg\" width=\"111\" height=\"105\" />\\n    </login-success-screen>\\n</template>\\n    <template slot=\"screens\" id=\"account-password-change-success-screen\">\\n    <login-success-screen data-qa=\"account-password-change-success-screen\" hidebanner>\\n        <rt-text slot=\"status\" size=\"1.5\" style=\"--fontWeight: var(--franklinGothicDemi);\">\\n            Success!\\n        </rt-text>\\n        <img slot=\"icon\" src=\"/assets/pizza-pie/images/icons/cognito-success.3a3d5f32fab.svg\" width=\"111\" height=\"105\" />\\n    </login-success-screen>\\n</template>\\n    <template slot=\"screens\" id=\"cognito-loading\">\\n    <div>\\n        <loading-spinner id=\"cognito-auth-loading-spinner\"></loading-spinner>\\n        <style>\\n            #cognito-auth-loading-spinner {\\n                font-size: 2rem;\\n                transform: translate(calc(100% - 1em), 250px);\\n                width: 50%;\\n            }\\n        </style>\\n    </div>\\n</template>\\n\\n    <template slot=\"screens\" id=\"login-check-email-screen\">\\n  <login-check-email-screen data-qa=\"login-check-email-screen\" email=\"user@email.com\">\\n    <rt-text class=\"note-text\" size=\"1\" slot=\"noteText\">\\n      Please open the email link from the same browser you initiated the change email process from.\\n    </rt-text>\\n    <rt-text slot=\"gotEmailMessage\" size=\"0.875\">\\n      Didn\\'t you get the email?\\n    </rt-text>\\n    <rt-link context=\"label\" slot=\"resendEmailLink\" size=\"0.875\" data-qa=\"resend-email-link\">Resend email</rt-link>\\n    <rt-link context=\"label\" slot=\"troubleLoginLink\" size=\"0.875\" href=\"/reset-client\" data-qa=\"reset-link\">Having trouble logging in?</rt-link>\\n   \\n    <rt-text class=\"terms-and-policies\" slot=\"termsAndPolicies\" size=\"0.75\">\\n      By joining, you agree to the \\n      <rt-link href=\"/policies/terms-and-policies\" target=\"_blank\" data-qa=\"terms-policies-link\">Terms and Policies</rt-link>     \\n      and <rt-link href=\"https://www.nbcuniversal.com/fandango-privacy-policy\" target=\"_blank\" data-qa=\"privacy-policy-link\">Privacy Policy</rt-link>\\n      and to receive email from the\\n      <rt-link href=\"https://www.fandango.com/about-us\" target=\"_blank\" data-qa=\"about-fandango-link\">Fandango Media Brands</rt-link>.\\n    </rt-text>\\n  </login-check-email-screen>\\n</template>\\n\\n    <template slot=\"screens\" id=\"login-email-change-screen\">\\n  <login-email-change-screen data-qa=\"login-email-change-screen\" email=\"user@email.com\">\\n    <input-label class=\"new-email-input\" state=\"default\" slot=\"newEmailInput\" data-qa=\"email-input-label\">\\n      <label slot=\"label\" for=\"newEmail\">Enter new email</label>\\n      <input slot=\"input\" name=\"newEmail\" type=\"text\" placeholder=\"Enter new email\" autocomplete=\"off\" data-qa=\"email-input\"></input>\\n    </input-label>\\n    <rt-button slot=\"submitButton\" disabled shape=\"pill\" data-qa=\"submit-btn\">Submit</rt-button>\\n    <rt-text class=\"terms-and-policies\" slot=\"termsAndPolicies\" size=\"0.75\">\\n      By joining, you agree to the \\n      <rt-link href=\"/policies/terms-and-policies\" target=\"_blank\" data-qa=\"terms-policies-link\">Terms and Policies</rt-link>     \\n      and <rt-link href=\"https://www.nbcuniversal.com/fandango-privacy-policy\" target=\"_blank\" data-qa=\"privacy-policy-link\">Privacy Policy</rt-link>\\n      and to receive email from the\\n      <rt-link href=\"https://www.fandango.com/about-us\" target=\"_blank\" data-qa=\"about-fandango-link\">Fandango Media Brands</rt-link>.\\n    </rt-text>\\n  </login-email-change-screen>\\n</template>\\n\\n    <template slot=\"screens\" id=\"login-error-screen\">\\n    <login-error-screen data-qa=\"login-error\">\\n        <rt-text slot=\"header\" size=\"1.5\" context=\"heading\" data-qa=\"header\">\\n            Something went wrong...\\n        </rt-text>\\n        <rt-text slot=\"description1\" size=\"1\" context=\"label\" data-qa=\"description1\">\\n            Please try again. \\n        </rt-text>\\n        <img slot=\"image\" src=\"/assets/pizza-pie/images/icons/cognito-error.400cc7e0474.svg\" />\\n        <rt-text hidden slot=\"description2\" size=\"1\" context=\"label\" data-qa=\"description2\"></rt-text>\\n        <rt-link slot=\"ctaLink\" hidden context=\"label\" size=\"0.875\" data-qa=\"retry-link\">Retry</rt-link>\\n    </login-error-screen>\\n</template>\\n\\n    <template slot=\"screens\" id=\"login-enter-password-screen\">\\n  <login-enter-password-screen data-qa=\"login-enter-password-screen\">\\n    <rt-text slot=\"title\" size=\"1.5\" style=\"--fontWeight: var(--franklinGothicDemi);\">\\n      Welcome back!\\n    </rt-text>\\n    <rt-text slot=\"username\" data-qa=\"user-email\">\\n      username@email.com\\n    </rt-text>\\n    <input-label slot=\"inputPassword\" state=\"default\" data-qa=\"password-input-label\"> \\n      <label slot=\"label\" for=\"pass\">Enter password</label>\\n      <input slot=\"input\" id=\"pass\" type=\"password\" placeholder=\"Enter password\" autocomplete=\"off\" data-qa=\"password-input\"></input>\\n    </input-label>\\n    <rt-button disabled slot=\"continueButton\" shape=\"pill\" data-qa=\"continue-btn\">Continue</rt-button>\\n    <rt-button slot=\"emailLoginButton\" theme=\"light\" shape=\"pill\" data-qa=\"send-email-btn\">\\n      Send email to verify\\n    </rt-button>\\n    <rt-link slot=\"forgotPasswordLink\" theme=\"light\" data-qa=\"forgot-password-link\">Forgot password</rt-link>\\n    <rt-text slot=\"termsAndPolicies\" size=\"0.75\">\\n      By joining, you agree to the \\n      <rt-link href=\"/policies/terms-and-policies\" target=\"_blank\" data-qa=\"terms-policies-link\">Terms and Policies</rt-link>     \\n      and <rt-link href=\"https://www.nbcuniversal.com/fandango-privacy-policy\" target=\"_blank\" data-qa=\"privacy-policy-link\">Privacy Policy</rt-link>\\n      and to receive email from the\\n      <rt-link href=\"https://www.fandango.com/about-us\" target=\"_blank\" data-qa=\"about-fandango-link\">Fandango Media Brands</rt-link>.\\n    </rt-text>\\n  </login-enter-password-screen>\\n</template>\\n\\n    <template slot=\"screens\" id=\"login-change-success-screen\">\\n  <login-change-success-screen data-qa=\"login-create-success-screen\">\\n    <rt-text slot=\"message\" size=\"1.5\" style=\"--fontWeight: var(--franklinGothicDemi);\">Email change successful</rt-text>\\n    <rt-text slot=\"submessage\">You are signed out for your security. </br> Please sign in again.</rt-text>\\n    <img slot=\"icon\" src=\"/assets/pizza-pie/images/icons/cognito-success.3a3d5f32fab.svg\" width=\"111\" height=\"105\" />\\n  </login-change-success-screen>\\n</template>\\n\\n    <template slot=\"screens\" id=\"login-start-screen\">\\n  <login-start-screen data-qa=\"login-start-screen\">\\n    <input-label\\n      slot=\"inputEmail\" \\n      state=\"default\"\\n      data-qa=\"email-input-label\"\\n    >\\n      <label slot=\"label\" for=\"login-email-input\">Email address</label>\\n      <input\\n        slot=\"input\"\\n        autocomplete=\"username\"\\n        id=\"login-email-input\"\\n        placeholder=\"Email address\"\\n        type=\"text\"\\n        data-qa=\"email-input\"\\n      />\\n    </input-label>\\n    <rt-button disabled slot=\"emailLoginButton\" shape=\"pill\" data-qa=\"continue-btn\">Continue</rt-button>\\n    <rt-button slot=\"googleLoginButton\" shape=\"pill\" theme=\"light\" data-qa=\"google-login-btn\">\\n      <div class=\"google-login-btn-content\">\\n        <img height=\"16px\" width=\"16px\" src=\"/assets/pizza-pie/images/vendor/google/google_logo.28d9eb28faa.svg\" />\\n        Continue with Google\\n      </div>\\n    </rt-button>\\n    <rt-link slot=\"resetLink\" class=\"reset-link\" context=\"label\" size=\"0.875\" href=\"/reset-client\" data-qa=\"reset-link\">\\n      Having trouble logging in?\\n    </rt-link>\\n    <rt-text class=\"terms-and-policies\" slot=\"termsAndPolicies\" size=\"0.75\">\\n      By continuing, you agree to the <rt-link href=\"/policies/terms-and-policies\" target=\"_blank\" data-qa=\"terms-policies-link\">Terms and Policies</rt-link> and\\n      the <rt-link href=\"https://www.nbcuniversal.com/fandango-privacy-policy\" target=\"_blank\" data-qa=\"privacy-policy-link\">Privacy Policy</rt-link> and to receive email from \\n      <rt-link href=\"https://www.fandango.com/about-us\" target=\"_blank\" data-qa=\"about-fandango-link\">Fandango Media Brands</rt-link>.\\n    </rt-text>\\n  </login-start-screen>\\n</template>\\n\\n    <template slot=\"screens\" id=\"login-success-screen\">\\n  <login-success-screen data-qa=\"login-success-screen\">\\n    <rt-text slot=\"status\" size=\"1.5\" style=\"--fontWeight: var(--franklinGothicDemi);\">\\n      Login successful!\\n    </rt-text>\\n    <img slot=\"icon\" src=\"/assets/pizza-pie/images/icons/cognito-success.3a3d5f32fab.svg\" width=\"111\" height=\"105\" />\\n  </login-success-screen>\\n</template>\\n    <template slot=\"screens\" id=\"login-verifying-email-screen\">\\n  <login-verifying-email-screen data-qa=\"login-verifying-email-screen\">\\n    <img slot=\"icon\" src=\"/assets/pizza-pie/images/icons/cognito-auth-verify.e74a69e9a77.svg\" alt=\"email\" />\\n    <rt-text slot=\"status\">Verifying your email...</rt-text>\\n    <rt-link\\n      context=\"label\"\\n      href=\"/?authFlowScreen=loginStartScreen\"\\n      slot=\"retryLink\"\\n      size=\"0.875\"\\n      style=\"--fontWeight: var(--franklinGothicMedium);\"\\n      data-qa=\"retry-link\"\\n    >\\n      Retry\\n    </rt-link>\\n  </login-verifying-email-screen>\\n</template>\\n    <template slot=\"screens\" id=\"cognito-signup-form\">\\n<auth-signup-screen data-qa=\"auth-signup-screen\">\\n    <h2 slot=\"header\" class=\"cognito-signup-form__header\" data-qa=\"auth-signup-screen-title\">Log in or sign up for Rotten Tomatoes</h2>\\n    <rt-button slot=\"signup-option\" theme=\"light\" class=\"cognito-signup-form__option\" value=\"google\" data-qa=\"auth-signup-screen-google-btn\">\\n        <div class=\"cognito-signup-form__option__container\">\\n            <span class=\"cognito-signup-form__option__icon cognito-signup-form__option__icon--google\"></span>\\n            <span class=\"cognito-signup-form__option__text\">Continue with Google</span>\\n        </div>\\n    </rt-button>\\n    <rt-button slot=\"signup-option\" theme=\"light\" class=\"cognito-signup-form__option\" value=\"email\" data-qa=\"auth-signup-screen-email-btn\">\\n        <div class=\"cognito-signup-form__option__container\">\\n            <rt-icon image icon=\"mail\" class=\"cognito-signup-form__option__icon cognito-signup-form__option__icon--mail\"></rt-icon>\\n            <span class=\"cognito-signup-form__option__text\">Continue with Email</span>\\n        </div>\\n    </rt-button>\\n\\n    <input-label-deprecated slot=\"email\">\\n        <label slot=\"label\" for=\"cognito-email-input\" class=\"auth-form__control__label\">Email</label>\\n        <input slot=\"input\" id=\"cognito-email-input\" type=\"email\" data-qa=\"auth-signup-screen-email\">\\n    </input-label-deprecated>\\n\\n    <div slot=\"info\">\\n        <div class=\"no-password-container\">\\n            <rt-badge>New</rt-badge>\\n            <span class=\"no-password\">Where is the password field?</span>\\n            <tool-tip-deprecated\\n                class=\"cognito-signup-form__tooltip\"\\n                title=\"Where is the password field?\"\\n                description=\"Rotten Tomatoes now offers passwordless authentication for all user accounts, making it easier for you to access your information. Simply enter the email address you previously used and hit continue to complete your log-in.\"\\n                slot=\"tooltip\"\\n                nomobilefooter\\n            >\\n                <button slot=\"tool-tip-btn\" class=\"button--link\">\\n                    <rt-icon icon=\"question-ringed\" image></rt-icon>\\n                </button>\\n            </tool-tip-deprecated>\\n        </div>\\n    </div>\\n\\n    <button slot=\"continue\" class=\"auth-form__button\" data-qa=\"auth-signup-screen-continue-btn\">Continue</button>\\n\\n    <p slot=\"help\" class=\"cognito-signup-form-help\">\\n        <a href=\"/reset-client\" data-qa=\"auth-signup-screen-reset-client-link\">Trouble logging in?</a>\\n    </p>\\n\\n    <p slot=\"terms-and-policies\" class=\"cognito-signup-form__terms-and-policies\">\\n        By continuing, you agree to the <a href=\"https://www.nbcuniversal.com/fandango-privacy-policy\" target=\"_blank\" rel=\"noopener\" data-qa=\"auth-signup-screen-privacy-policy-link\">Privacy Policy</a> and\\n        the <a href=\"/policies/terms-and-policies\" target=\"_blank\" rel=\"noopener\" data-qa=\"auth-signup-screen-terms-policies-link\">Terms and Policies</a>, and to receive email from the <a href=\"https://www.fandango.com/about-us\"target=\"_blank\" rel=\"noopener\">Fandango Media Brands</a>.\\n    </p>\\n</auth-signup-screen>\\n</template>\\n\\n    <template slot=\"screens\" id=\"cognito-name-form-us\">\\n  <auth-name-screen data-qa=\"auth-name-screen\">\\n    <input-label-deprecated slot=\"firstName\" data-qa=\"auth-name-screen-firstname-input\">\\n      <label slot=\"label\" for=\"cognito-first-name-input\" class=\"auth-form__control__label\">First name (Required)</label>\\n      <input slot=\"input\" id=\"cognito-first-name-input\" data-qa=\"auth-name-screen-first-name\">\\n    </input-label-deprecated>\\n    <input-label-deprecated slot=\"lastName\" data-qa=\"auth-name-screen-lastname-input\">\\n      <label slot=\"label\" for=\"cognito-last-name-input\" class=\"auth-form__control__label\">Last name (Required)</label>\\n      <input slot=\"input\" id=\"cognito-last-name-input\" data-qa=\"auth-name-screen-last-name\">\\n    </input-label-deprecated>\\n    <rt-button slot=\"createAccount\" class=\"auth-form__button\">Create my account</rt-button>\\n    <p slot=\"termsAndPolicies\" class=\"cognito-signup-form__terms-and-policies\">\\n      By creating an account, you agree to the\\n      <a href=\"https://www.nbcuniversal.com/fandango-privacy-policy\" target=\"_blank\" rel=\"noopener\" data-qa=\"auth-name-screen-privacy-policy-link\"> Privacy Policy </a>\\n      and the<br>\\n      <a href=\"/policies/terms-and-policies\" target=\"_blank\" rel=\"noopener\" data-qa=\"auth-name-screen-terms-policies-link\"> Terms and Policies</a>,\\n      and to receive email from Rotten Tomatoes and to receive email from the\\n      <a href=\"https://www.fandango.com/about-us\" target=\"_blank\" rel=\"noopener\" data-qa=\"auth-name-screen-fandango-media-link\"> Fandango Media Brands</a>.\\n    </p>\\n  </auth-name-screen>\\n</template>\\n\\n    <template slot=\"screens\" id=\"cognito-name-form-foreign\">\\n  <auth-name-screen data-qa=\"auth-name-screen\">\\n    <input-label-deprecated slot=\"firstName\" data-qa=\"auth-name-screen-firstname-input\">\\n      <label slot=\"label\" for=\"cognito-first-name-input\" class=\"auth-form__control__label\">First name (Required)</label>\\n      <input slot=\"input\" id=\"cognito-first-name-input\" data-qa=\"auth-name-screen-first-name\">\\n    </input-label-deprecated>\\n    <input-label-deprecated slot=\"lastName\" data-qa=\"auth-name-screen-lastname-input\">\\n      <label slot=\"label\" for=\"cognito-last-name-input\" class=\"auth-form__control__label\">Last name (Required)</label>\\n      <input slot=\"input\" id=\"cognito-last-name-input\" data-qa=\"auth-name-screen-last-name\">\\n    </input-label-deprecated>\\n    <rt-button slot=\"createAccount\" class=\"auth-form__button\">Create my account</rt-button>\\n    <p slot=\"termsAndPolicies\" class=\"cognito-signup-form__terms-and-policies\">\\n      By creating an account, you agree to the\\n      <a href=\"https://www.nbcuniversal.com/fandango-privacy-policy\" target=\"_blank\" rel=\"noopener\" data-qa=\"auth-name-screen-privacy-policy-link\"> Privacy Policy </a>\\n      and the<br>\\n      <a href=\"/policies/terms-and-policies\" target=\"_blank\" rel=\"noopener\" data-qa=\"auth-name-screen-terms-policies-link\"> Terms and Policies</a>\\n      , and to receive email from Rotten Tomatoes.\\n    </p>\\n  </auth-name-screen>\\n</template>\\n\\n    <template slot=\"screens\" id=\"cognito-checkemail\">\\n    <auth-checkemail-screen data-qa=\"auth-check-email-screen\">\\n        <span slot=\"email-icon\" class=\"cognito-check-email__icon--email\"></span>\\n        <span slot=\"mobile-icon\" class=\"cognito-check-email__icon--mobile\"></span>\\n        <button slot=\"learn-more\" class=\"text-button\" tabindex=\"0\" data-qa=\"auth-check-email-screen-learn-more-link\">LEARN MORE</button>\\n        <a slot=\"help\" tabindex=\"0\" target=\"_blank\" href=\"/help_desk\" data-qa=\"auth-check-email-screen-help-link\">HELP</a>\\n    </auth-checkemail-screen>\\n</template>\\n\\n    <template slot=\"screens\" id=\"cognito-learn-more\">\\n  <auth-learn-more-screen data-qa=\"auth-learn-more-screen\">\\n    <button slot=\"back\" class=\"auth-overlay__icon-button auth-overlay__icon-button--back\">\\n      <rt-icon icon=\"left-arrow-stem\" image></rt-icon>\\n    </button>\\n  </auth-learn-more-screen>\\n</template>\\n    <template slot=\"screens\" id=\"cognito-error\">\\n    <auth-error-screen data-qa=\"auth-error-screen\">\\n        <h2 slot=\"heading\" class=\"cognito-error__heading\" data-qa=\"auth-error-screen-title\">\\n            <rt-icon image icon=\"exclamation-circled\" class=\"cognito-error__icon--exclamation-circled\"></rt-icon>\\n            <span class=\"js-cognito-error-heading-txt\">Email not verified</span>\\n        </h2>\\n        <p slot=\"error-message\" class=\"js-cognito-error-message cognito-error__error-message\" data-qa=\"auth-error-screen-message\">\\n            <!-- error message is set from auth-error-screen WC-->\\n        </p>\\n        <p slot=\"error-code\" class=\"js-cognito-error-code cognito-error__error-message\" data-qa=\"auth-error-screen-code\">\\n            <!-- error code is set from auth-error-screen WC-->\\n        </p>\\n        <rt-button slot=\"tryAgainBtn\" class=\"cognito-error__try-again-btn\"><span class=\"cognito-error__btn-text\" data-qa=\"auth-error-screen-try-again-btn\">TRY AGAIN</span></rt-button>\\n        <rt-button slot=\"cancelBtn\" class=\"cognito-error__cancel-btn\" theme=\"light\"><span class=\"cognito-error__btn-text\" data-qa=\"auth-error-screen-cancel-btn\">CANCEL</span></rt-button>\\n    </auth-error-screen>\\n</template>\\n\\n    <template slot=\"screens\" id=\"cognito-opt-in-us\">\\n  <auth-optin-screen data-qa=\"auth-opt-in-screen\">\\n    <div slot=\"newsletterText\">\\n      <h2 class=\"cognito-optin-form__header unset\">Let\\'s keep in touch!</h2>\\n    </div>\\n    <img slot=\"image\" class=\"image\" src=\"https://images.fandango.com/cms/assets/97c33f00-313f-11ee-9aaf-6762c75465cf--newsletter.png\" alt=\"Rotten Tomatoes Newsletter\">>\\n    <h2 slot=\"subTitle\" class=\"subTitle unset\">Sign up for the Rotten Tomatoes newsletter to get weekly updates on:</h2>\\n    <ul slot=\"options\">\\n      <li class=\"icon-item\">Upcoming Movies and TV shows</li>\\n      <li class=\"icon-item\">Rotten Tomatoes Podcast</li>\\n      <li class=\"icon-item\">Media News + More</li>\\n    </ul>\\n    <rt-button slot=\"optInButton\" data-qa=\"auth-opt-in-screen-opt-in-btn\">\\n      Sign me up\\n    </rt-button>\\n    <rt-button slot=\"optOutButton\" class=\"button--outline\" data-qa=\"auth-opt-in-screen-opt-out-btn\">\\n      No thanks\\n    </rt-button>\\n    <p slot=\"footNote\">\\n      By clicking \"Sign Me Up,\" you are agreeing to receive occasional emails and communications from Fandango Media (Fandango, Vudu, and Rotten Tomatoes) and consenting to Fandango\\'s \\n      <a href=\"https://www.nbcuniversal.com/fandango-privacy-policy\" class=\"optin-link\" target=\"_blank\" rel=\"noopener\" data-qa=\"auth-name-screen-privacy-policy-link\">Privacy Policy</a>\\n      and \\n      <a href=\"/policies/terms-and-policies\" class=\"optin-link\" target=\"_blank\" rel=\"noopener\" data-qa=\"auth-name-screen-privacy-policy-link\">Terms and Policies</a>.\\n      Please allow 10 business days for your account to reflect your preferences.\\n    </p>\\n  </auth-optin-screen>\\n</template>\\n    <template slot=\"screens\" id=\"cognito-opt-in-foreign\">\\n  <auth-optin-screen data-qa=\"auth-opt-in-screen\">\\n    <div slot=\"newsletterText\">\\n      <h2 class=\"cognito-optin-form__header unset\">Let\\'s keep in touch!</h2>\\n    </div>\\n    <img slot=\"image\" class=\"image\" src=\"https://images.fandango.com/cms/assets/97c33f00-313f-11ee-9aaf-6762c75465cf--newsletter.png\" alt=\"Rotten Tomatoes Newsletter\">>\\n    <h2 slot=\"subTitle\" class=\"subTitle unset\">Sign up for the Rotten Tomatoes newsletter to get weekly updates on:</h2>\\n    <ul slot=\"options\">\\n      <li class=\"icon-item\">Upcoming Movies and TV shows</li>\\n      <li class=\"icon-item\">Rotten Tomatoes Podcast</li>\\n      <li class=\"icon-item\">Media News + More</li>\\n    </ul>\\n    <rt-button slot=\"optInButton\" data-qa=\"auth-opt-in-screen-opt-in-btn\">\\n      Sign me up\\n    </rt-button>\\n    <rt-button slot=\"optOutButton\" class=\"button--outline\" data-qa=\"auth-opt-in-screen-opt-out-btn\">\\n      No thanks\\n    </rt-button>\\n  </auth-optin-screen>\\n</template>\\n    <template slot=\"screens\" id=\"cognito-opt-in-success\">\\n    <auth-verify-screen>\\n        <rt-icon icon=\"check-circled\" slot=\"icon\"></rt-icon>\\n        <p class=\"h3\" slot=\"status\">OK, got it!</p>\\n    </auth-verify-screen>\\n</template>\\n\\n</div>\\n\\n\\n        <div id=\"emptyPlaceholder\"></div> \\n\\n        \\n            \\n            <script ASYNC src=\"//assets.adobedtm.com/launch-EN549327edc13e414a9beb5d61bfd9aac6.min.js\"></script>\\n            \\n        \\n\\n        <div id=\"main\" class=\"container rt-layout__body\">\\n            <a href=\"#main-page-content\" class=\"skip-link\">Skip to Main Content</a>\\n\\n            \\n\\n            <div id=\"header_and_leaderboard\">\\n                <div id=\"top_leaderboard_wrapper\" class=\"leaderboard_wrapper \">\\n                    <ad-unit hidden unitdisplay=\"desktop\" unittype=\"topbanner\" adjustheight>\\n                        <div slot=\"adInject\"></div>\\n                    </ad-unit>\\n\\n                    <ad-unit hidden unitdisplay=\"mobile\" unittype=\"mbanner\">\\n                        <div slot=\"adInject\"></div>\\n                    </ad-unit>\\n                </div>\\n            </div>\\n            \\n\\n  <rt-header-manager></rt-header-manager>\\n\\n  <rt-header\\n    aria-label=\"navigation bar\"\\n    class=\"navbar\"\\n    data-qa=\"header-nav-bar\"\\n    data-AdsGlobalNavTakeoverManager=\"header\"\\n    id=\"header-main\"\\n    skeleton=\"panel\"\\n    \\n  >\\n\\n  \\n\\n  \\n\\n  <a\\n    class=\"logo-wrap\"\\n    data-AdsGlobalNavTakeoverManager=\"logoLink\"\\n    data-SearchResultsNavManager=\"rtNavLogo\"\\n    href=\"/\"\\n    id=\"navbar\"\\n    slot=\"logo\"\\n  >\\n    <img\\n      alt=\"Rotten Tomatoes\"\\n      data-qa=\"header-logo\"\\n      data-AdsGlobalNavTakeoverManager=\"logo\"\\n      src=\"/assets/pizza-pie/images/rtlogo.9b892cff3fd.png\"\\n      fetchpriority=\"high\"\\n    />\\n\\n    <div class=\"hide\">\\n      <ad-unit hidden unitdisplay=\"desktop,mobile\" unittype=\"logorepeat\" unittargeting=\"ploc=rtlogo;\">\\n        <div slot=\"adInject\"></div>\\n      </ad-unit>\\n    </div>\\n  </a>\\n\\n  <search-results-nav-manager></search-results-nav-manager>\\n\\n  <search-results-nav\\n    data-adobe-id=\"global-nav-search\"\\n    data-SearchResultsNavManager=\"search\"\\n    slot=\"search\"\\n    skeleton=\"chip\"\\n  >\\n    <search-results-controls\\n      data-SearchResultsNavManager=\"searchControls\"\\n      slot=\"controls\"\\n    >\\n      <input\\n        aria-label=\"Search\"\\n        data-AdsGlobalNavTakeoverManager=\"searchInput\"\\n        data-SearchResultsNavManager=\"inputText:click,input,keydown\"\\n        data-qa=\"search-input\"\\n        placeholder=\"Search\"\\n        slot=\"search-input\"\\n        type=\"text\"\\n      />\\n      <rt-button\\n        class=\"search-clear\"\\n        data-qa=\"search-clear\"\\n        data-AdsGlobalNavTakeoverManager=\"searchClearBtn\"\\n        data-SearchResultsNavManager=\"clearBtn:click\"\\n        size=\"0.875\"\\n        slot=\"search-clear\"\\n        theme=\"transparent\"\\n      >\\n        <rt-icon icon=\"close\"></rt-icon>\\n      </rt-button>\\n      <rt-link\\n        class=\"search-submit\"\\n        aria-label=\"Submit search\"\\n        data-qa=\"search-submit\"\\n        data-AdsGlobalNavTakeoverManager=\"searchSubmitBtn\"\\n        data-SearchResultsNavManager=\"submitBtn:click\"\\n        href=\"/search\"\\n        size=\"0.875\"\\n        slot=\"search-submit\"\\n      >\\n        <rt-icon icon=\"search\"></rt-icon>\\n      </rt-link>\\n      <rt-button\\n        class=\"search-cancel\"\\n        data-qa=\"search-cancel\"\\n        data-AdsGlobalNavTakeoverManager=\"searchCancelBtn\"\\n        data-SearchResultsNavManager=\"cancelBtn:click\"\\n        size=\"0.875\"\\n        slot=\"search-cancel\"\\n        theme=\"transparent\"\\n      >\\n        Cancel\\n      </rt-button>\\n    </search-results-controls>\\n\\n    <search-results\\n      aria-expanded=\"false\"\\n      class=\"hide\"\\n      data-SearchResultsNavManager=\"searchResults\"\\n      slot=\"results\"\\n    >\\n    </search-results>\\n  </search-results-nav>\\n\\n  <ul slot=\"nav-links\">\\n    <li>\\n      <a\\n        href=\"/about\"\\n        data-qa=\"header:link-whats-tmeter\"\\n        data-AdsGlobalNavTakeoverManager=\"text\"\\n      >\\n        About Rotten Tomatoes&reg;\\n      </a>\\n    </li>\\n    <li>\\n      <a\\n        href=\"/critics\"\\n        data-qa=\"header:link-critics-home\"\\n        data-AdsGlobalNavTakeoverManager=\"text\"\\n      >\\n        Critics\\n      </a>\\n    </li>\\n    <li data-RtHeaderManager=\"loginLink\">\\n      <ul>\\n        <li>\\n          <button\\n            id=\"masthead-show-login-btn\"\\n            class=\"js-cognito-signin button--link\"\\n            data-AuthInitiateManager=\"btnSignIn:click\"\\n            data-qa=\"header:login-btn\"\\n            data-AdsGlobalNavTakeoverManager=\"text\"\\n          >\\n            Login/signup\\n          </button>\\n        </li>\\n      </ul>\\n    </li>\\n    <li class=\"hide\" data-RtHeaderManager=\"userItem:keydown,keyup,mouseenter\" data-qa=\"header:user\">\\n      <a class=\"masthead-user-link\" data-RtHeaderManager=\"navUserlink:focus\" rel=\"nofollow\" data-qa=\"user-profile-link\">\\n        <img data-RtHeaderManager=\"navUserImg\" data-qa=\"user-profile-thumb\">\\n        <p\\n          data-AdsGlobalNavTakeoverManager=\"text\"\\n          data-RtHeaderManager=\"navUserFirstName\"\\n          data-qa=\"user-profile-name\"\\n        ></p>\\n        <rt-icon\\n          data-AdsGlobalNavTakeoverManager=\"text\"\\n          icon=\"down-dir\"\\n          image\\n        >\\n        </rt-icon>\\n      </a>\\n      <rt-header-user-info\\n        class=\"hide\"\\n        data-RtHeaderManager=\"userInfo:focusout,mouseleave\"\\n        data-UserActivityManager=\"userInfo\"\\n      >\\n        <a\\n          data-qa=\"user-stats-profile-pic\"\\n          href=\"\"\\n          rel=\"nofollow\"\\n          slot=\"imageExpanded\"\\n          tabindex=\"-1\"\\n        >\\n          <img src=\"\" width=\"40\" alt=\"\">\\n        </a>\\n        <a slot=\"fullName\" rel=\"nofollow\" href=\"\" class=\"username\" data-qa=\"user-stats-name\"></a>\\n        <a slot=\"wts\" rel=\"nofollow\" href=\"\" class=\"wts-count-block\" data-qa=\"user-stats-wts\">\\n          <rt-icon icon=\"plus\" data-qa=\"user-stats-ratings-count\"></rt-icon>\\n          <span class=\"count\" data-qa=\"user-stats-wts-count\"></span>\\n          &nbsp;Wants to See\\n        </a>\\n        <a slot=\"rating\" rel=\"nofollow\" href=\"\" class=\"rating-count-block\" data-qa=\"user-stats-ratings\">\\n          <rt-icon icon=\"star\" data-qa=\"user-stats-ratings-count\"></rt-icon>\\n          <span class=\"count\"></span>\\n          &nbsp;Ratings\\n        </a>\\n\\n        <a slot=\"profileLink\" rel=\"nofollow\" class=\"dropdown-link\" href=\"\" data-qa=\"user-stats-profile-link\">Profile</a>\\n        <a slot=\"accountLink\" rel=\"nofollow\" class=\"dropdown-link\" href=\"/user/account\" data-qa=\"user-stats-account-link\">Account</a>\\n        <a slot=\"logoutLink\" class=\"dropdown-link\" data-RtHeaderManager=\"logoutLink:click\" href=\"#logout\" data-qa=\"user-stats-logout-link\">Log Out</a>\\n      </rt-header-user-info>\\n    </li>\\n  </ul>\\n\\n  <rt-header-nav slot=\"nav-dropdowns\">\\n    \\n    <rt-header-nav-item slot=\"movies\" data-qa=\"masthead:movies-dvds\">\\n      <a\\n        class=\"unset\"\\n        slot=\"link\"\\n        href=\"/browse/movies_in_theaters/sort:popular\"\\n        data-qa=\"masthead:movies-dvds-link\"\\n        data-AdsGlobalNavTakeoverManager=\"text\"\\n      >\\n        Movies\\n      </a>\\n      <rt-header-nav-item-dropdown aria-expanded=\"false\" slot=\"dropdown\" data-qa=\"movies-menu\">\\n        <rt-header-nav-item-dropdown-list slot=\"column\" data-qa=\"header-movies-in-theaters\">\\n          <p slot=\"title\" class=\"h4\" data-qa=\"movies-in-theaters-main-link\"><a class=\"unset\" href=\"/browse/movies_in_theaters/sort:popular\">Movies in theaters</a></p>\\n          <ul slot=\"links\">\\n            <li data-qa=\"in-theaters-item\">\\n              <a href=\"/browse/movies_in_theaters/sort:newest\" data-qa=\"opening-this-week-link\">Opening This Week</a>\\n            </li>\\n            <li data-qa=\"in-theaters-item\">\\n              <a href=\"/browse/movies_in_theaters/sort:top_box_office\" data-qa=\"top-box-office-link\">Top Box Office</a>\\n            </li>\\n            <li data-qa=\"in-theaters-item\">\\n              <a href=\"/browse/movies_coming_soon/\" data-qa=\"coming-soon-link\">Coming Soon to Theaters</a>\\n            </li>\\n            <li data-qa=\"in-theaters-item\">\\n              <a href=\"/browse/movies_in_theaters/critics:certified_fresh~sort:popular\" data-qa=\"certified-fresh-link\">Certified Fresh Movies</a>\\n            </li>\\n          </ul>\\n        </rt-header-nav-item-dropdown-list>\\n        <rt-header-nav-item-dropdown-list slot=\"column\" data-qa=\"header-on-dvd-streaming\">\\n          <p slot=\"title\" class=\"h4\" data-qa=\"dvd-streaming-main-link\"><a class=\"unset\" href=\"/browse/movies_at_home\">Movies at Home</a></p>\\n          <ul slot=\"links\">\\n            \\n            <li data-qa=\"movies-at-home-item\">\\n              <a href=\"/browse/movies_at_home/affiliates:fandango-at-home\" data-qa=\"fandango-at-home-link\">Fandango at Home</a>\\n            </li>\\n            \\n            <li data-qa=\"movies-at-home-item\">\\n              <a href=\"/browse/movies_at_home/affiliates:peacock\" data-qa=\"peacock-link\">Peacock</a>\\n            </li>\\n            \\n            <li data-qa=\"movies-at-home-item\">\\n              <a href=\"/browse/movies_at_home/affiliates:netflix\" data-qa=\"netflix-link\">Netflix</a>\\n            </li>\\n            \\n            <li data-qa=\"movies-at-home-item\">\\n              <a href=\"/browse/movies_at_home/affiliates:apple-tv-plus\" data-qa=\"apple-tv-link\">Apple TV+</a>\\n            </li>\\n            \\n            <li data-qa=\"movies-at-home-item\">\\n              <a href=\"/browse/movies_at_home/affiliates:prime-video\" data-qa=\"prime-video-link\">Prime Video</a>\\n            </li>\\n            \\n            <li data-qa=\"movies-at-home-item\">\\n              <a href=\"/browse/movies_at_home/sort:popular\" data-qa=\"most-popular-streaming-movies-link\">Most Popular Streaming movies</a>\\n            </li>\\n            \\n            <li data-qa=\"movies-at-home-item\">\\n              <a href=\"/browse/movies_at_home/critics:certified_fresh\" data-qa=\"certified-fresh-movies-link\">Certified Fresh movies</a>\\n            </li>\\n            \\n            <li data-qa=\"movies-at-home-item\">\\n              <a href=\"/browse/movies_at_home\" data-qa=\"browse-all-link\">Browse all</a>\\n            </li>\\n            \\n          </ul>\\n        </rt-header-nav-item-dropdown-list>\\n        <rt-header-nav-item-dropdown-list slot=\"column\" data-qa=\"header-movies-more\">\\n          <p slot=\"title\" class=\"h4\">More</p>\\n          <ul slot=\"links\">\\n            <li data-qa=\"what-to-watch-item\">\\n                <a href=\"https://editorial.rottentomatoes.com/rt-hub/what-to-watch\" class=\"what-to-watch\" data-qa=\"what-to-watch-link\">What to Watch<rt-badge>New</rt-badge></a>\\n            </li>\\n          </ul>\\n        </rt-header-nav-item-dropdown-list>\\n        \\n          <rt-header-nav-item-dropdown-list slot=\"column\" cfp>\\n            <p slot=\"title\" class=\"h4\">Certified fresh picks</p>\\n            <ul slot=\"links\" class=\"cfp-wrap\" data-qa=\"header-certified-fresh-picks\" data-curation=\"rt-nav-list-cf-picks\">\\n              \\n                <li data-qa=\"cert-fresh-item\">\\n                  \\n                  <a class=\"cfp-tile\" href=\"/m/ballerina_2025\" data-qa=\"cert-fresh-link\">\\n    <tile-dynamic data-qa=\"tile\">\\n        <rt-img\\n            alt=\"Ballerina poster image\"\\n            slot=\"image\"\\n            src=\"https://resizing.flixster.com/rq5lIsoVZFoFul7GvaUEK5ubP20=/206x305/v2/https://resizing.flixster.com/8fS0D2bCgBf7pXySJoJeUdx77Lo=/fit-in/180x240/v2/https://resizing.flixster.com/LzOx5oXHCkEBotyKyTLCFq5mGnQ=/ems.cHJkLWVtcy1hc3NldHMvbW92aWVzLzhiNWQ2MGU5LTUxMTEtNDc0Zi04ODg1LTkxZmMwZTYyNmNkMy5wbmc=\"\\n            loading=\"lazy\"\\n        ></rt-img>\\n        <div slot=\"caption\" data-track=\"scores\">\\n            <div class=\"score-wrap\">\\n                <score-icon-critics\\n                    certified\\n                    sentiment=\"positive\"\\n                    size=\"1\"\\n                ></score-icon-critics>\\n                <rt-text class=\"critics-score\" size=\"1\" context=\"label\">75%</rt-text>\\n            </div>\\n            <span class=\"p--small\">Ballerina</span>\\n            <span class=\"sr-only\">Link to Ballerina</span>\\n        </div>\\n    </tile-dynamic>\\n</a>\\n                </li>\\n              \\n              \\n                <li data-qa=\"cert-fresh-item\">\\n                  \\n                  <a class=\"cfp-tile\" href=\"/m/dangerous_animals\" data-qa=\"cert-fresh-link\">\\n    <tile-dynamic data-qa=\"tile\">\\n        <rt-img\\n            alt=\"Dangerous Animals poster image\"\\n            slot=\"image\"\\n            src=\"https://resizing.flixster.com/uZXaeEfh0AvStEQlqE3BnzPxni4=/206x305/v2/https://resizing.flixster.com/ywUweJUAgT2hma4k7wKtpSR8W3U=/fit-in/180x240/v2/https://resizing.flixster.com/4y7QSLtp9eYae-RTetv5chPgrVM=/ems.cHJkLWVtcy1hc3NldHMvbW92aWVzL2E1NDkzOGQwLWRmNDgtNGYzZC05ZTcwLTdhNWM3NzA0MjkxYS5qcGc=\"\\n            loading=\"lazy\"\\n        ></rt-img>\\n        <div slot=\"caption\" data-track=\"scores\">\\n            <div class=\"score-wrap\">\\n                <score-icon-critics\\n                    certified\\n                    sentiment=\"positive\"\\n                    size=\"1\"\\n                ></score-icon-critics>\\n                <rt-text class=\"critics-score\" size=\"1\" context=\"label\">85%</rt-text>\\n            </div>\\n            <span class=\"p--small\">Dangerous Animals</span>\\n            <span class=\"sr-only\">Link to Dangerous Animals</span>\\n        </div>\\n    </tile-dynamic>\\n</a>\\n                </li>\\n              \\n              \\n                <li data-qa=\"cert-fresh-item\">\\n                  \\n                  <a class=\"cfp-tile\" href=\"/m/predator_killer_of_killers\" data-qa=\"cert-fresh-link\">\\n    <tile-dynamic data-qa=\"tile\">\\n        <rt-img\\n            alt=\"Predator: Killer of Killers poster image\"\\n            slot=\"image\"\\n            src=\"https://resizing.flixster.com/-sqUIRfHt1QF-dx4syOUYrE7T3A=/206x305/v2/https://resizing.flixster.com/D4AfBHd5pyjJL_FeqptujPFhRNc=/fit-in/180x240/v2/https://resizing.flixster.com/RXDbp40800J_wypkdlDT_e-gaSo=/ems.cHJkLWVtcy1hc3NldHMvbW92aWVzLzZjMDA4OWZiLTM0Y2UtNGE2Yy1hZDM4LTg1M2ZkNGQzOWRjZS5qcGc=\"\\n            loading=\"lazy\"\\n        ></rt-img>\\n        <div slot=\"caption\" data-track=\"scores\">\\n            <div class=\"score-wrap\">\\n                <score-icon-critics\\n                    certified\\n                    sentiment=\"positive\"\\n                    size=\"1\"\\n                ></score-icon-critics>\\n                <rt-text class=\"critics-score\" size=\"1\" context=\"label\">97%</rt-text>\\n            </div>\\n            <span class=\"p--small\">Predator: Killer of Killers</span>\\n            <span class=\"sr-only\">Link to Predator: Killer of Killers</span>\\n        </div>\\n    </tile-dynamic>\\n</a>\\n                </li>\\n              \\n            </ul>\\n          </rt-header-nav-item-dropdown-list>\\n        \\n      </rt-header-nav-item-dropdown>\\n    </rt-header-nav-item>\\n\\n    <rt-header-nav-item slot=\"tv\" data-qa=\"masthead:tv\">\\n      <a\\n        class=\"unset\"\\n        slot=\"link\"\\n        href=\"/browse/tv_series_browse/sort:popular\"\\n        data-qa=\"masthead:tv-link\"\\n        data-AdsGlobalNavTakeoverManager=\"text\"\\n      >\\n        Tv shows\\n      </a>\\n      <rt-header-nav-item-dropdown aria-expanded=\"false\" slot=\"dropdown\" data-qa=\"tv-menu\">\\n        \\n          <rt-header-nav-item-dropdown-list slot=\"column\" data-qa=\"header-tv-list1\">\\n            <p slot=\"title\" class=\"h4\" data-curation=\"rt-hp-text-list-3\">\\n              New TV Tonight\\n            </p>\\n            <ul slot=\"links\" class=\"score-list-wrap\">\\n              \\n                <li data-qa=\"list-item\">\\n                  <a class=\"score-list-item\" href=\"/tv/revival/s01\" data-qa=\"list-item-link\">\\n    <div class=\"score-wrap\">\\n        <score-icon-critics\\n            certified=\"false\"\\n            sentiment=\"empty\"\\n            size=\"1\"\\n        ></score-icon-critics>\\n        \\n        <rt-text\\n            class=\"critics-score-empty\"\\n            context=\"label\"\\n            size=\"1\"\\n            style=\"--textColor: var(--grayLight4); --lineHeight: 1; --letterSpacing: 0.2em;\" \\n        >--</rt-text>\\n        \\n    </div>\\n    <span>\\n        \\n            Revival: Season 1\\n        \\n    </span>\\n</a>\\n                </li>\\n              \\n                <li data-qa=\"list-item\">\\n                  <a class=\"score-list-item\" href=\"/tv/tony_awards/s78\" data-qa=\"list-item-link\">\\n    <div class=\"score-wrap\">\\n        <score-icon-critics\\n            certified=\"false\"\\n            sentiment=\"empty\"\\n            size=\"1\"\\n        ></score-icon-critics>\\n        \\n        <rt-text\\n            class=\"critics-score-empty\"\\n            context=\"label\"\\n            size=\"1\"\\n            style=\"--textColor: var(--grayLight4); --lineHeight: 1; --letterSpacing: 0.2em;\" \\n        >--</rt-text>\\n        \\n    </div>\\n    <span>\\n        \\n            Tony Awards: Season 78\\n        \\n    </span>\\n</a>\\n                </li>\\n              \\n                <li data-qa=\"list-item\">\\n                  <a class=\"score-list-item\" href=\"/tv/call_her_alex/s01\" data-qa=\"list-item-link\">\\n    <div class=\"score-wrap\">\\n        <score-icon-critics\\n            certified=\"false\"\\n            sentiment=\"empty\"\\n            size=\"1\"\\n        ></score-icon-critics>\\n        \\n        <rt-text\\n            class=\"critics-score-empty\"\\n            context=\"label\"\\n            size=\"1\"\\n            style=\"--textColor: var(--grayLight4); --lineHeight: 1; --letterSpacing: 0.2em;\" \\n        >--</rt-text>\\n        \\n    </div>\\n    <span>\\n        \\n            Call Her Alex: Season 1\\n        \\n    </span>\\n</a>\\n                </li>\\n              \\n                <li data-qa=\"list-item\">\\n                  <a class=\"score-list-item\" href=\"/tv/the_kollective/s01\" data-qa=\"list-item-link\">\\n    <div class=\"score-wrap\">\\n        <score-icon-critics\\n            certified=\"false\"\\n            sentiment=\"empty\"\\n            size=\"1\"\\n        ></score-icon-critics>\\n        \\n        <rt-text\\n            class=\"critics-score-empty\"\\n            context=\"label\"\\n            size=\"1\"\\n            style=\"--textColor: var(--grayLight4); --lineHeight: 1; --letterSpacing: 0.2em;\" \\n        >--</rt-text>\\n        \\n    </div>\\n    <span>\\n        \\n            The Kollective: Season 1\\n        \\n    </span>\\n</a>\\n                </li>\\n              \\n                <li data-qa=\"list-item\">\\n                  <a class=\"score-list-item\" href=\"/tv/fubar/s02\" data-qa=\"list-item-link\">\\n    <div class=\"score-wrap\">\\n        <score-icon-critics\\n            certified=\"false\"\\n            sentiment=\"empty\"\\n            size=\"1\"\\n        ></score-icon-critics>\\n        \\n        <rt-text\\n            class=\"critics-score-empty\"\\n            context=\"label\"\\n            size=\"1\"\\n            style=\"--textColor: var(--grayLight4); --lineHeight: 1; --letterSpacing: 0.2em;\" \\n        >--</rt-text>\\n        \\n    </div>\\n    <span>\\n        \\n            FUBAR: Season 2\\n        \\n    </span>\\n</a>\\n                </li>\\n              \\n                <li data-qa=\"list-item\">\\n                  <a class=\"score-list-item\" href=\"/tv/trainwreck/s01\" data-qa=\"list-item-link\">\\n    <div class=\"score-wrap\">\\n        <score-icon-critics\\n            certified=\"false\"\\n            sentiment=\"empty\"\\n            size=\"1\"\\n        ></score-icon-critics>\\n        \\n        <rt-text\\n            class=\"critics-score-empty\"\\n            context=\"label\"\\n            size=\"1\"\\n            style=\"--textColor: var(--grayLight4); --lineHeight: 1; --letterSpacing: 0.2em;\" \\n        >--</rt-text>\\n        \\n    </div>\\n    <span>\\n        \\n            Trainwreck: Season 1\\n        \\n    </span>\\n</a>\\n                </li>\\n              \\n                <li data-qa=\"list-item\">\\n                  <a class=\"score-list-item\" href=\"/tv/the_snake/s01\" data-qa=\"list-item-link\">\\n    <div class=\"score-wrap\">\\n        <score-icon-critics\\n            certified=\"false\"\\n            sentiment=\"empty\"\\n            size=\"1\"\\n        ></score-icon-critics>\\n        \\n        <rt-text\\n            class=\"critics-score-empty\"\\n            context=\"label\"\\n            size=\"1\"\\n            style=\"--textColor: var(--grayLight4); --lineHeight: 1; --letterSpacing: 0.2em;\" \\n        >--</rt-text>\\n        \\n    </div>\\n    <span>\\n        \\n            The Snake: Season 1\\n        \\n    </span>\\n</a>\\n                </li>\\n              \\n                <li data-qa=\"list-item\">\\n                  <a class=\"score-list-item\" href=\"/tv/love_island/s12\" data-qa=\"list-item-link\">\\n    <div class=\"score-wrap\">\\n        <score-icon-critics\\n            certified=\"false\"\\n            sentiment=\"empty\"\\n            size=\"1\"\\n        ></score-icon-critics>\\n        \\n        <rt-text\\n            class=\"critics-score-empty\"\\n            context=\"label\"\\n            size=\"1\"\\n            style=\"--textColor: var(--grayLight4); --lineHeight: 1; --letterSpacing: 0.2em;\" \\n        >--</rt-text>\\n        \\n    </div>\\n    <span>\\n        \\n            Love Island: Season 12\\n        \\n    </span>\\n</a>\\n                </li>\\n              \\n                <li data-qa=\"list-item\">\\n                  <a class=\"score-list-item\" href=\"/tv/the_gilgo_beach_killer_house_of_secrets/s01\" data-qa=\"list-item-link\">\\n    <div class=\"score-wrap\">\\n        <score-icon-critics\\n            certified=\"false\"\\n            sentiment=\"empty\"\\n            size=\"1\"\\n        ></score-icon-critics>\\n        \\n        <rt-text\\n            class=\"critics-score-empty\"\\n            context=\"label\"\\n            size=\"1\"\\n            style=\"--textColor: var(--grayLight4); --lineHeight: 1; --letterSpacing: 0.2em;\" \\n        >--</rt-text>\\n        \\n    </div>\\n    <span>\\n        \\n            The Gilgo Beach Killer: House of Secrets: Season 1\\n        \\n    </span>\\n</a>\\n                </li>\\n              \\n            </ul>\\n            <a\\n              class=\"a--short\"\\n              data-qa=\"tv-list1-view-all-link\"\\n              href=\"/browse/tv_series_browse/sort:newest\"\\n              slot=\"view-all-link\"\\n            >\\n                View All\\n            </a>\\n          </rt-header-nav-item-dropdown-list>\\n        \\n\\n        \\n          <rt-header-nav-item-dropdown-list slot=\"column\" data-qa=\"header-tv-list2\">\\n            <p slot=\"title\" class=\"h4\" data-curation=\"rt-hp-text-list-2\">\\n              Most Popular TV on RT\\n            </p>\\n            <ul slot=\"links\" class=\"score-list-wrap\">\\n              \\n                <li data-qa=\"list-item\">\\n                  <a class=\"score-list-item\" href=\"/tv/dept_q/s01\" data-qa=\"list-item-link\">\\n    <div class=\"score-wrap\">\\n        <score-icon-critics\\n            certified=\"true\"\\n            sentiment=\"positive\"\\n            size=\"1\"\\n        ></score-icon-critics>\\n        \\n        <rt-text\\n            class=\"critics-score\"\\n            context=\"label\"\\n            size=\"1\"\\n            style=\"--lineHeight: 1; --letterSpacing: 0.016em;\"\\n        >84%</rt-text>\\n        \\n    </div>\\n    <span>\\n        \\n            Dept. Q: Season 1\\n        \\n    </span>\\n</a>\\n                </li>\\n              \\n                <li data-qa=\"list-item\">\\n                  <a class=\"score-list-item\" href=\"/tv/stick/s01\" data-qa=\"list-item-link\">\\n    <div class=\"score-wrap\">\\n        <score-icon-critics\\n            certified=\"true\"\\n            sentiment=\"positive\"\\n            size=\"1\"\\n        ></score-icon-critics>\\n        \\n        <rt-text\\n            class=\"critics-score\"\\n            context=\"label\"\\n            size=\"1\"\\n            style=\"--lineHeight: 1; --letterSpacing: 0.016em;\"\\n        >79%</rt-text>\\n        \\n    </div>\\n    <span>\\n        \\n            Stick: Season 1\\n        \\n    </span>\\n</a>\\n                </li>\\n              \\n                <li data-qa=\"list-item\">\\n                  <a class=\"score-list-item\" href=\"/tv/the_survivors_2025/s01\" data-qa=\"list-item-link\">\\n    <div class=\"score-wrap\">\\n        <score-icon-critics\\n            certified=\"false\"\\n            sentiment=\"empty\"\\n            size=\"1\"\\n        ></score-icon-critics>\\n        \\n        <rt-text\\n            class=\"critics-score-empty\"\\n            context=\"label\"\\n            size=\"1\"\\n            style=\"--textColor: var(--grayLight4); --lineHeight: 1; --letterSpacing: 0.2em;\" \\n        >--</rt-text>\\n        \\n    </div>\\n    <span>\\n        \\n            The Survivors: Season 1\\n        \\n    </span>\\n</a>\\n                </li>\\n              \\n                <li data-qa=\"list-item\">\\n                  <a class=\"score-list-item\" href=\"/tv/the_better_sister/s01\" data-qa=\"list-item-link\">\\n    <div class=\"score-wrap\">\\n        <score-icon-critics\\n            certified=\"false\"\\n            sentiment=\"positive\"\\n            size=\"1\"\\n        ></score-icon-critics>\\n        \\n        <rt-text\\n            class=\"critics-score\"\\n            context=\"label\"\\n            size=\"1\"\\n            style=\"--lineHeight: 1; --letterSpacing: 0.016em;\"\\n        >69%</rt-text>\\n        \\n    </div>\\n    <span>\\n        \\n            The Better Sister: Season 1\\n        \\n    </span>\\n</a>\\n                </li>\\n              \\n                <li data-qa=\"list-item\">\\n                  <a class=\"score-list-item\" href=\"/tv/secrets_we_keep/s01\" data-qa=\"list-item-link\">\\n    <div class=\"score-wrap\">\\n        <score-icon-critics\\n            certified=\"false\"\\n            sentiment=\"positive\"\\n            size=\"1\"\\n        ></score-icon-critics>\\n        \\n        <rt-text\\n            class=\"critics-score\"\\n            context=\"label\"\\n            size=\"1\"\\n            style=\"--lineHeight: 1; --letterSpacing: 0.016em;\"\\n        >100%</rt-text>\\n        \\n    </div>\\n    <span>\\n        \\n            Secrets We Keep: Season 1\\n        \\n    </span>\\n</a>\\n                </li>\\n              \\n                <li data-qa=\"list-item\">\\n                  <a class=\"score-list-item\" href=\"/tv/ginny_and_georgia/s03\" data-qa=\"list-item-link\">\\n    <div class=\"score-wrap\">\\n        <score-icon-critics\\n            certified=\"false\"\\n            sentiment=\"positive\"\\n            size=\"1\"\\n        ></score-icon-critics>\\n        \\n        <rt-text\\n            class=\"critics-score\"\\n            context=\"label\"\\n            size=\"1\"\\n            style=\"--lineHeight: 1; --letterSpacing: 0.016em;\"\\n        >67%</rt-text>\\n        \\n    </div>\\n    <span>\\n        \\n            Ginny &amp; Georgia: Season 3\\n        \\n    </span>\\n</a>\\n                </li>\\n              \\n                <li data-qa=\"list-item\">\\n                  <a class=\"score-list-item\" href=\"/tv/murderbot/s01\" data-qa=\"list-item-link\">\\n    <div class=\"score-wrap\">\\n        <score-icon-critics\\n            certified=\"true\"\\n            sentiment=\"positive\"\\n            size=\"1\"\\n        ></score-icon-critics>\\n        \\n        <rt-text\\n            class=\"critics-score\"\\n            context=\"label\"\\n            size=\"1\"\\n            style=\"--lineHeight: 1; --letterSpacing: 0.016em;\"\\n        >97%</rt-text>\\n        \\n    </div>\\n    <span>\\n        \\n            Murderbot: Season 1\\n        \\n    </span>\\n</a>\\n                </li>\\n              \\n                <li data-qa=\"list-item\">\\n                  <a class=\"score-list-item\" href=\"/tv/sirens_2025/s01\" data-qa=\"list-item-link\">\\n    <div class=\"score-wrap\">\\n        <score-icon-critics\\n            certified=\"true\"\\n            sentiment=\"positive\"\\n            size=\"1\"\\n        ></score-icon-critics>\\n        \\n        <rt-text\\n            class=\"critics-score\"\\n            context=\"label\"\\n            size=\"1\"\\n            style=\"--lineHeight: 1; --letterSpacing: 0.016em;\"\\n        >75%</rt-text>\\n        \\n    </div>\\n    <span>\\n        \\n            Sirens: Season 1\\n        \\n    </span>\\n</a>\\n                </li>\\n              \\n                <li data-qa=\"list-item\">\\n                  <a class=\"score-list-item\" href=\"/tv/tires/s02\" data-qa=\"list-item-link\">\\n    <div class=\"score-wrap\">\\n        <score-icon-critics\\n            certified=\"false\"\\n            sentiment=\"positive\"\\n            size=\"1\"\\n        ></score-icon-critics>\\n        \\n        <rt-text\\n            class=\"critics-score\"\\n            context=\"label\"\\n            size=\"1\"\\n            style=\"--lineHeight: 1; --letterSpacing: 0.016em;\"\\n        >83%</rt-text>\\n        \\n    </div>\\n    <span>\\n        \\n            Tires: Season 2\\n        \\n    </span>\\n</a>\\n                </li>\\n              \\n                <li data-qa=\"list-item\">\\n                  <a class=\"score-list-item\" href=\"/tv/the_eternaut/s01\" data-qa=\"list-item-link\">\\n    <div class=\"score-wrap\">\\n        <score-icon-critics\\n            certified=\"false\"\\n            sentiment=\"positive\"\\n            size=\"1\"\\n        ></score-icon-critics>\\n        \\n        <rt-text\\n            class=\"critics-score\"\\n            context=\"label\"\\n            size=\"1\"\\n            style=\"--lineHeight: 1; --letterSpacing: 0.016em;\"\\n        >95%</rt-text>\\n        \\n    </div>\\n    <span>\\n        \\n            The Eternaut: Season 1\\n        \\n    </span>\\n</a>\\n                </li>\\n              \\n            </ul>\\n            <a\\n              class=\"a--short\"\\n              data-qa=\"tv-list2-view-all-link\"\\n              href=\"/browse/tv_series_browse/sort:popular?\"\\n              slot=\"view-all-link\"\\n            >\\n                View All\\n            </a>\\n          </rt-header-nav-item-dropdown-list>\\n        \\n\\n        <rt-header-nav-item-dropdown-list slot=\"column\" data-qa=\"header-tv-more\">\\n          <p slot=\"title\" class=\"h4\">More</p>\\n          <ul slot=\"links\">\\n            <li>\\n              <a href=\"https://editorial.rottentomatoes.com/rt-hub/what-to-watch/\" class=\"what-to-watch\" data-qa=\"what-to-watch-link-tv\">\\n                What to Watch<rt-badge>New</rt-badge>\\n              </a>\\n            </li>\\n            <li>\\n              <a href=\"/browse/tv_series_browse/sort:popular\" data-qa=\"tv-best-link\">\\n                <span>Best TV Shows</span>\\n              </a>\\n            </li>\\n            <li>\\n              <a href=\"/browse/tv_series_browse/sort:popular\" data-qa=\"tv-popular-link\">\\n                <span>Most Popular TV</span>\\n              </a>\\n            </li>\\n            <li>\\n              <a href=\"/browse/tv_series_browse/affiliates:fandango-at-home\" data-qa=\"tv-fandango-at-home-link\">\\n                <span>Fandango at Home</span>\\n              </a>\\n            </li>\\n            <li>\\n              <a href=\"/browse/tv_series_browse/affiliates:peacock\" data-qa=\"tv-peacock-link\">\\n                <span>Peacock</span>\\n              </a>\\n            </li>\\n            <li>\\n              <a href=\"/browse/tv_series_browse/affiliates:paramount-plus\" data-qa=\"tv-paramount-link\">\\n                <span>Paramount+</span>\\n              </a>\\n            </li>\\n            <li>\\n              <a href=\"/browse/tv_series_browse/affiliates:netflix\" data-qa=\"tv-netflix-link\">\\n                <span>Netflix</span>\\n              </a>\\n            </li>\\n            <li>\\n              <a href=\"/browse/tv_series_browse/affiliates:prime-video\" data-qa=\"tv-prime-video-link\">\\n                <span>Prime Video</span>\\n              </a>\\n            </li>\\n            <li>\\n              <a href=\"/browse/tv_series_browse/affiliates:apple-tv-plus\" data-qa=\"tv-apple-tv-plus-link\">\\n                <span>Apple TV+</span>\\n              </a>\\n            </li>\\n          </ul>\\n        </rt-header-nav-item-dropdown-list>\\n\\n        \\n          <rt-header-nav-item-dropdown-list slot=\"column\" cfp data-qa=\"header-certified-fresh-pick\">\\n            <p slot=\"title\" class=\"h4\">\\n              Certified fresh pick\\n            </p>\\n            <ul slot=\"links\" class=\"cfp-wrap\" data-curation=\"rt-nav-list-cf-picks\">\\n              <li>\\n                \\n                <a class=\"cfp-tile\" href=\"/tv/stick/s01\" data-qa=\"cert-fresh-link\">\\n    <tile-dynamic data-qa=\"tile\">\\n        <rt-img\\n            alt=\"Stick: Season 1 poster image\"\\n            slot=\"image\"\\n            src=\"https://resizing.flixster.com/fDWSE8gUn_qu_F4uJftwBv9XzG0=/206x305/v2/https://resizing.flixster.com/AFGTM5WkVJ8sJadSs9EgBEplx6w=/fit-in/180x240/v2/https://resizing.flixster.com/HalQwQIAmTOfYVn9zl9Am61BohQ=/ems.cHJkLWVtcy1hc3NldHMvdHZzZWFzb24vMGFmZjUyODUtOGE1ZC00OTE3LWE4NDItMjQzNTRmYmJjNTk4LnBuZw==\"\\n            loading=\"lazy\"\\n        ></rt-img>\\n        <div slot=\"caption\" data-track=\"scores\">\\n            <div class=\"score-wrap\">\\n                <score-icon-critics\\n                    certified\\n                    sentiment=\"positive\"\\n                    size=\"1\"\\n                ></score-icon-critics>\\n                <rt-text class=\"critics-score\" size=\"1\" context=\"label\">79%</rt-text>\\n            </div>\\n            <span class=\"p--small\">Stick: Season 1</span>\\n            <span class=\"sr-only\">Link to Stick: Season 1</span>\\n        </div>\\n    </tile-dynamic>\\n</a>\\n              </li>\\n            </ul>\\n          </rt-header-nav-item-dropdown-list>\\n        \\n      </rt-header-nav-item-dropdown>\\n    </rt-header-nav-item>\\n\\n    <rt-header-nav-item slot=\"shop\">\\n      <a class=\"unset\"\\n          id=\"shopLink\"\\n          slot=\"link\"\\n          href=\"https://store.fandango.com/\"\\n          target=\"_blank\"\\n          data-qa=\"masthead:shop-link\"\\n          data-AdsGlobalNavTakeoverManager=\"text\"\\n      >\\n          FanStore\\n          <temporary-display\\n            slot=\"temporary-display\"\\n            key=\"shop\"\\n            element=\"#shopLink\"\\n            event=\"click\"\\n          >\\n            <rt-badge hidden>New</rt-badge>\\n          </temporary-display>\\n      </a>\\n    </rt-header-nav-item>\\n\\n    <rt-header-nav-item slot=\"news\" data-qa=\"masthead:news\">\\n      <a\\n        class=\"unset\"\\n        slot=\"link\"\\n        href=\"https://editorial.rottentomatoes.com/\"\\n        data-qa=\"masthead:news-link\"\\n        data-AdsGlobalNavTakeoverManager=\"text\"\\n      >\\n        News\\n      </a>\\n      <rt-header-nav-item-dropdown aria-expanded=\"false\" slot=\"dropdown\" data-qa=\"news-menu\">\\n        <rt-header-nav-item-dropdown-list slot=\"column\" data-qa=\"header-news-columns\">\\n          <p slot=\"title\" class=\"h4\">Columns</p>\\n          <ul slot=\"links\">\\n            <li data-qa=\"column-item\">\\n              <a href=\"https://editorial.rottentomatoes.com/all-time-lists/\" data-pageheader=\"All-Time Lists\" data-qa=\"column-link\">\\n                All-Time Lists\\n              </a>\\n            </li>\\n            <li data-qa=\"column-item\">\\n              <a href=\"https://editorial.rottentomatoes.com/binge-guide/\" data-pageheader=\"Binge Guide\" data-qa=\"column-link\">\\n                Binge Guide\\n              </a>\\n            </li>\\n            <li data-qa=\"column-item\">\\n              <a href=\"https://editorial.rottentomatoes.com/comics-on-tv/\" data-pageheader=\"Comics on TV\" data-qa=\"column-link\">\\n                Comics on TV\\n              </a>\\n            </li>\\n            <li data-qa=\"column-item\">\\n              <a href=\"https://editorial.rottentomatoes.com/countdown/\" data-pageheader=\"Countdown\" data-qa=\"column-link\">\\n                Countdown\\n              </a>\\n            </li>\\n            <li data-qa=\"column-item\">\\n              <a href=\"https://editorial.rottentomatoes.com/five-favorite-films/\" data-pageheader=\"Five Favorite Films\" data-qa=\"column-link\">\\n                Five Favorite Films\\n              </a>\\n            </li>\\n            <li data-qa=\"column-item\">\\n              <a href=\"https://editorial.rottentomatoes.com/video-interviews/\" data-pageheader=\"Video Interviews\" data-qa=\"column-link\">\\n                Video Interviews\\n              </a>\\n            </li>\\n            <li data-qa=\"column-item\">\\n              <a href=\"https://editorial.rottentomatoes.com/weekend-box-office/\" data-pageheader=\"Weekend Box Office\" data-qa=\"column-link\"\\n              >Weekend Box Office\\n            </a>\\n            </li>\\n            <li data-qa=\"column-item\">\\n              <a href=\"https://editorial.rottentomatoes.com/weekly-ketchup/\" data-pageheader=\"Weekly Ketchup\" data-qa=\"column-link\">\\n                Weekly Ketchup\\n              </a>\\n            </li>\\n            <li data-qa=\"column-item\">\\n              <a href=\"https://editorial.rottentomatoes.com/what-to-watch/\" data-pageheader=\"What to Watch\" data-qa=\"column-link\">\\n                What to Watch\\n              </a>\\n            </li>\\n          </ul>\\n        </rt-header-nav-item-dropdown-list>\\n\\n        \\n          <rt-header-nav-item-dropdown-list slot=\"column\" data-qa=\"header-news-guides\">\\n            <p slot=\"title\" class=\"h4\">Guides</p>\\n            <ul slot=\"links\" class=\"news-wrap\">\\n              \\n                <li data-qa=\"guides-item\">\\n                  <a class=\"news-tile\" href=\"https://editorial.rottentomatoes.com/guide/all-batman-movies-ranked/\" data-qa=\"news-link\">\\n    <tile-dynamic\\n        data-qa=\"tile\"\\n        orientation=\"landscape\"\\n    >\\n        <rt-img\\n            alt=\"37 Batman Movies (<em>Batman Forever</em>), Ranked by Tomatometer poster image\"\\n            slot=\"image\"\\n            src=\"https://editorial.rottentomatoes.com/wp-content/uploads/2025/04/600BatmanForever.jpg\"\\n            loading=\"lazy\"\\n        ></rt-img>\\n        <div slot=\"caption\">\\n            <p>37 Batman Movies (<em>Batman Forever</em>), Ranked by Tomatometer</p>\\n            <span class=\"sr-only\">Link to 37 Batman Movies (<em>Batman Forever</em>), Ranked by Tomatometer</span>\\n        </div>\\n    </tile-dynamic>\\n</a>\\n                </li>\\n              \\n                <li data-qa=\"guides-item\">\\n                  <a class=\"news-tile\" href=\"https://editorial.rottentomatoes.com/guide/best-movies-2000/\" data-qa=\"news-link\">\\n    <tile-dynamic\\n        data-qa=\"tile\"\\n        orientation=\"landscape\"\\n    >\\n        <rt-img\\n            alt=\"100 Best Movies of 2000 (<em>Titan A.E.</em>), Ranked by Tomatometer poster image\"\\n            slot=\"image\"\\n            src=\"https://editorial.rottentomatoes.com/wp-content/uploads/2025/04/600TitanAE.jpg\"\\n            loading=\"lazy\"\\n        ></rt-img>\\n        <div slot=\"caption\">\\n            <p>100 Best Movies of 2000 (<em>Titan A.E.</em>), Ranked by Tomatometer</p>\\n            <span class=\"sr-only\">Link to 100 Best Movies of 2000 (<em>Titan A.E.</em>), Ranked by Tomatometer</span>\\n        </div>\\n    </tile-dynamic>\\n</a>\\n                </li>\\n              \\n            </ul>\\n            <a\\n              class=\"a--short\"\\n              data-qa=\"guides-view-all-link\"\\n              href=\"https://editorial.rottentomatoes.com/countdown/\"\\n              slot=\"view-all-link\"\\n            >\\n              View All\\n            </a>\\n          </rt-header-nav-item-dropdown-list>\\n        \\n\\n        \\n          <rt-header-nav-item-dropdown-list slot=\"column\" data-qa=\"header-news-hubs\">\\n            <p slot=\"title\" class=\"h4\">Hubs</p>\\n            <ul slot=\"links\" class=\"news-wrap\">\\n              \\n                <li data-qa=\"hubs-item\">\\n                  <a class=\"news-tile\" href=\"https://editorial.rottentomatoes.com/rt-hub/what-to-watch/\" data-qa=\"news-link\">\\n    <tile-dynamic\\n        data-qa=\"tile\"\\n        orientation=\"landscape\"\\n    >\\n        <rt-img\\n            alt=\"What to Watch: In Theaters and On Streaming poster image\"\\n            slot=\"image\"\\n            src=\"https://editorial.rottentomatoes.com/wp-content/uploads/2024/10/RT_WTW_PRIDE_Representative_600x314.png\"\\n            loading=\"lazy\"\\n        ></rt-img>\\n        <div slot=\"caption\">\\n            <p>What to Watch: In Theaters and On Streaming</p>\\n            <span class=\"sr-only\">Link to What to Watch: In Theaters and On Streaming</span>\\n        </div>\\n    </tile-dynamic>\\n</a>\\n                </li>\\n              \\n                <li data-qa=\"hubs-item\">\\n                  <a class=\"news-tile\" href=\"https://editorial.rottentomatoes.com/rt-hub/awards-tour/\" data-qa=\"news-link\">\\n    <tile-dynamic\\n        data-qa=\"tile\"\\n        orientation=\"landscape\"\\n    >\\n        <rt-img\\n            alt=\"Awards Tour poster image\"\\n            slot=\"image\"\\n            src=\"https://editorial.rottentomatoes.com/wp-content/uploads/2023/02/RT_AwardsTour_Thumbnail_600x314.jpg\"\\n            loading=\"lazy\"\\n        ></rt-img>\\n        <div slot=\"caption\">\\n            <p>Awards Tour</p>\\n            <span class=\"sr-only\">Link to Awards Tour</span>\\n        </div>\\n    </tile-dynamic>\\n</a>\\n                </li>\\n              \\n            </ul>\\n            <a\\n              class=\"a--short\"\\n              data-qa=\"hubs-view-all-link\"\\n              href=\"https://editorial.rottentomatoes.com/rt-hubs/\"\\n              slot=\"view-all-link\"\\n            >\\n              View All\\n            </a>\\n          </rt-header-nav-item-dropdown-list>\\n        \\n\\n        \\n          <rt-header-nav-item-dropdown-list slot=\"column\" data-qa=\"header-news-rt-news\">\\n            <p slot=\"title\" class=\"h4\">RT News</p>\\n            <ul slot=\"links\" class=\"news-wrap\">\\n              \\n                <li data-qa=\"rt-news-item\">\\n                  <a class=\"news-tile\" href=\"https://editorial.rottentomatoes.com/article/u2-legend-bono-reveals-inspiration-behind-stories-of-surrender/\" data-qa=\"news-link\">\\n    <tile-dynamic\\n        data-qa=\"tile\"\\n        orientation=\"landscape\"\\n    >\\n        <rt-img\\n            alt=\"U2 Legend Bono Reveals Inspiration Behind <em>Stories of Surrender</em> poster image\"\\n            slot=\"image\"\\n            src=\"https://editorial.rottentomatoes.com/wp-content/uploads/2025/06/Bono.jpeg.png\"\\n            loading=\"lazy\"\\n        ></rt-img>\\n        <div slot=\"caption\">\\n            <p>U2 Legend Bono Reveals Inspiration Behind <em>Stories of Surrender</em></p>\\n            <span class=\"sr-only\">Link to U2 Legend Bono Reveals Inspiration Behind <em>Stories of Surrender</em></span>\\n        </div>\\n    </tile-dynamic>\\n</a>\\n                </li>\\n              \\n                <li data-qa=\"rt-news-item\">\\n                  <a class=\"news-tile\" href=\"https://editorial.rottentomatoes.com/article/predator-killer-of-killers-first-reviews/\" data-qa=\"news-link\">\\n    <tile-dynamic\\n        data-qa=\"tile\"\\n        orientation=\"landscape\"\\n    >\\n        <rt-img\\n            alt=\"<em>Predator: Killer of Killers</em> First Reviews: &#8220;Every <em>Predator</em> Fan&#8217;s Dream Come True&#8221; poster image\"\\n            slot=\"image\"\\n            src=\"https://editorial.rottentomatoes.com/wp-content/uploads/2025/06/Predator_Killer_of_Killers-600x314-1.jpg\"\\n            loading=\"lazy\"\\n        ></rt-img>\\n        <div slot=\"caption\">\\n            <p><em>Predator: Killer of Killers</em> First Reviews: &#8220;Every <em>Predator</em> Fan&#8217;s Dream Come True&#8221;</p>\\n            <span class=\"sr-only\">Link to <em>Predator: Killer of Killers</em> First Reviews: &#8220;Every <em>Predator</em> Fan&#8217;s Dream Come True&#8221;</span>\\n        </div>\\n    </tile-dynamic>\\n</a>\\n                </li>\\n              \\n            </ul>\\n            <a\\n              class=\"a--short\"\\n              data-qa=\"rt-news-view-all-link\"\\n              href=\"https://editorial.rottentomatoes.com/news/\"\\n              slot=\"view-all-link\"\\n            >\\n              View All\\n            </a>\\n          </rt-header-nav-item-dropdown-list>\\n        \\n      </rt-header-nav-item-dropdown>\\n    </rt-header-nav-item>\\n\\n    <rt-header-nav-item slot=\"showtimes\">\\n      <a\\n        class=\"unset\"\\n        slot=\"link\"\\n        href=\"https://www.fandango.com/movies-in-theaters?a=13036\"\\n        target=\"_blank\"\\n        rel=\"noopener\"\\n        data-qa=\"masthead:tickets-showtimes-link\"\\n        data-AdsGlobalNavTakeoverManager=\"text\"\\n      >\\n        Showtimes\\n      </a>\\n    </rt-header-nav-item>\\n  </rt-header-nav>\\n\\n</rt-header>\\n\\n<ads-global-nav-takeover-manager></ads-global-nav-takeover-manager>\\n<section class=\"trending-bar\">\\n  \\n\\n  <ad-unit hidden id=\"trending_bar_ad\" unitdisplay=\"desktop\" unittype=\"trendinggraphic\">\\n    <div slot=\"adInject\"></div>\\n  </ad-unit>\\n  <div id=\"trending-bar-start\" class=\"trending-list-wrap\" data-qa=\"trending-bar\">\\n    <ul class=\"list-inline trending-bar__list\" data-curation=\"rt-nav-trending\"\\n      data-qa=\"trending-bar-list\">\\n      <li class=\"trending-bar__header\">Trending on RT</li>\\n      \\n      <li><a class=\"trending-bar__link\" href=\"https://editorial.rottentomatoes.com/article/renewed-and-cancelled-tv-shows-2025/\"  data-qa=\"trending-bar-item\"> Renewed &amp; Cancelled TV </a></li>\\n      \\n      <li><a class=\"trending-bar__link\" href=\"https://editorial.rottentomatoes.com/article/movie-re-releases-calendar/\"  data-qa=\"trending-bar-item\"> Re-Release Calendar </a></li>\\n      \\n      <li><a class=\"trending-bar__link\" href=\"https://editorial.rottentomatoes.com/guide/predator/\"  data-qa=\"trending-bar-item\"> Predator Movies Ranked </a></li>\\n      \\n      <li><a class=\"trending-bar__link\" href=\"https://editorial.rottentomatoes.com/guide/best-new-horror-movies/\"  data-qa=\"trending-bar-item\"> Best New Horror </a></li>\\n      \\n    </ul>\\n    <div class=\"trending-bar__social\" data-qa=\"trending-bar-social-list\">\\n      <social-media-icons theme=\"light\" size=\"14\"></social-media-icons>\\n    </div>\\n  </div>\\n</section>\\n\\n\\n\\n            <main\\n                id=\"main_container\"\\n                class=\"container rt-layout__content\"\\n            >\\n                \\n                <bottom-nav data-qa=\"bottom-nav\" data-DiscoveryGridsManager=\"bottomNavComponent\">\\n                    <a slot=\"template\">\\n                        <bottom-nav-item></bottom-nav-item>\\n                    </a>\\n                </bottom-nav>\\n                \\n\\n                <div id=\"main-page-content\">\\n                    \\n  \\n                    \\n  <div id=\"cast-and-crew\">\\n    <div id=\"header-wrap\">\\n      \\n          <div\\n  class=\"modules-layout\"\\n  tabindex=\"-1\"\\n  data-ModulesNavigationManager=\"content:focusin\"\\n>\\n  \\n\\n  \\n<div class=\"media-header\">\\n  <cast-and-crew-title-bar skeleton=\"panel\">\\n    <rt-img\\n      slot=\"bgImage\"\\n      fallbacktheme=\"iconic\"\\n      loading=\"eager\"\\n      src=\"https://resizing.flixster.com/0Dsr_VwRa3BDaMSlhWD7bMo1eeY=/450x110/filters:blur(8)/v2/https://statcdn.fandango.com/MPX/image/NBCU_Fandango/432/335/thumb_4AD7A6EA-169F-408C-9C44-6538D696F733.jpg,https://resizing.flixster.com/YouYT7GaBcju4x4TkfIuDm0dprk=/1100x110/filters:blur(8)/v2/https://statcdn.fandango.com/MPX/image/NBCU_Fandango/432/335/thumb_4AD7A6EA-169F-408C-9C44-6538D696F733.jpg\"\\n    ></rt-img>\\n    <rt-text slot=\"title\" context=\"heading\" size=\"1.625\">\\n      E.T. the Extra-Terrestrial: Full Cast & Crew\\n    </rt-text>\\n    <rt-text slot=\"year\">Released Jun 11, 1982</rt-text>\\n    <rt-text slot=\"genres\">Kids &amp; Family/Sci-Fi/Adventure</rt-text>\\n  </cast-and-crew-title-bar>\\n</div>\\n\\n</div>\\n\\n      \\n    </div>\\n\\n    <div id=\"main-wrap\">  \\n      <div id=\"modules-wrap\" data-curation=\"drawer\">\\n          \\n              <div\\n  class=\"modules-layout\"\\n  tabindex=\"-1\"\\n  data-ModulesNavigationManager=\"content:focusin\"\\n>\\n  \\n\\n  \\n<section\\n  aria-labelledby=\"media-info-label\"\\n  class=\"media-info\"\\n  data-adobe-id=\"media-info\"\\n  data-qa=\"section:media-info\"\\n>\\n\\n  <div class=\"content-wrap\">\\n    <cast-and-crew-media-info skeleton=\"panel\">\\n      <rt-img slot=\"poster\" src=\"https://resizing.flixster.com/KJSuMpqapCOoQyK9g9G_FWbxvEQ=/206x305/v2/https://resizing.flixster.com/-XZAfHZM39UwaGJIFWKAE8fS0ak=/v3/t/assets/p10998_p_v13_au.jpg\"></rt-img>\\n      \\n      <drawer-more slot=\"description\" maxlines=\"3\" status=\"closed\">\\n        <rt-text slot=\"content\" size=\"1\">After a gentle alien becomes stranded on Earth, the being is discovered and befriended by a young boy named Elliott (Henry Thomas). Bringing the extraterrestrial into his suburban California house, Elliott introduces E.T., as the alien is dubbed, to his brother and his little sister, Gertie (Drew Barrymore), and the children decide to keep its existence a secret. Soon, however, E.T. falls ill, resulting in government intervention and a dire situation for both Elliott and the alien.</rt-text>\\n        <rt-link slot=\"ctaOpen\">\\n            <rt-icon icon=\"down-open\"></rt-icon>\\n        </rt-link>\\n        <rt-link slot=\"ctaClose\">\\n            <rt-icon icon=\"up-open\"></rt-icon>\\n        </rt-link>\\n      </drawer-more>\\n\\n      <span slot=\"contentRating\">PG</span>\\n      <span slot=\"releaseDate\">Released: Jun 11, 1982</span>\\n      <rt-button\\n        slot=\"mediaUrl\"\\n        href=\"/m/et_the_extraterrestrial\"\\n        shape=\"pill\"\\n        theme=\"simplified\"\\n      >\\n        See Movie Details\\n      </rt-button>\\n    </cast-and-crew-media-info>\\n  </div>\\n</section>\\n\\n</div>\\n\\n          \\n              <ad-unit hidden unitdisplay=\"desktop\" unittype=\"opbannerone\">\\n  <div slot=\"adInject\" class=\"banner-ad\"></div>\\n</ad-unit>\\n          \\n              <ad-unit hidden unitdisplay=\"mobile\" unittype=\"mboxadtwo\" showadlink>\\n  <div slot=\"adInject\" class=\"rectangle_ad mobile center\"></div>\\n</ad-unit>\\n          \\n              <div\\n  class=\"modules-layout\"\\n  tabindex=\"-1\"\\n  data-ModulesNavigationManager=\"content:focusin\"\\n>\\n  \\n\\n  \\n<section\\n  class=\"cast-and-crew\"\\n  data-adobe-id=\"cast-and-crew\"\\n  data-qa=\"section:cast-and-crew\"\\n>\\n  <h2 class=\"unset\"><rt-text context=\"heading\" size=\"1.25\">Cast &amp; Crew</rt-text></h2>\\n  <div class=\"tab-wrap\">\\n    <rt-tab\\n      data-CastAndCrewManager=\"tab:click\"\\n      data-filter=\"all\"\\n      data-qa=\"all-tab\"\\n      selected\\n    > All </rt-tab>\\n    <rt-tab \\n      data-CastAndCrewManager=\"tab:click\"\\n      data-filter=\"cast\"\\n      data-qa=\"cast-tab\"\\n    > Cast </rt-tab>\\n    <rt-tab \\n      data-CastAndCrewManager=\"tab:click\"\\n      data-filter=\"crew\"\\n      data-qa=\"crew-tab\"\\n    > Crew </rt-tab>\\n  </div>\\n\\n  <cast-and-crew-manager></cast-and-crew-manager>\\n  <div class=\"content-wrap\">\\n    <div data-CastAndCrewManager=\"mediaContainer\">\\n    \\n      <cast-and-crew-card \\n        data-CastAndCrewManager=\"card\"\\n        data-role=\"all,crew\"\\n        mediaurl=\"/celebrity/steve_spielberg\" skeleton=\"panel\"\\n      >\\n        <rt-img slot=\"poster\" loading=\"lazy\" src=\"https://resizing.flixster.com/y_qsV1N0tCBNNcdHhCPZqbH96so=/68x102/v2/https://resizing.flixster.com/-XZAfHZM39UwaGJIFWKAE8fS0ak=/v3/t/assets/1672_v9_bc.jpg\"></rt-img>\\n        <rt-text slot=\"title\" context=\"label\">Steven Spielberg</rt-text>\\n        <rt-text slot=\"characters\"></rt-text>\\n        <rt-text slot=\"credits\">Director, Producer</rt-text>\\n      </cast-and-crew-card>\\n    \\n      <cast-and-crew-card \\n        data-CastAndCrewManager=\"card\"\\n        data-role=\"all,cast\"\\n        mediaurl=\"/celebrity/henry_thomas\" skeleton=\"panel\"\\n      >\\n        <rt-img slot=\"poster\" loading=\"lazy\" src=\"https://resizing.flixster.com/pdP4YomB6QrnJZWGgHr1CEWP6xI=/68x102/v2/https://resizing.flixster.com/-XZAfHZM39UwaGJIFWKAE8fS0ak=/v3/t/assets/26487_v9_bb.jpg\"></rt-img>\\n        <rt-text slot=\"title\" context=\"label\">Henry Thomas</rt-text>\\n        <rt-text slot=\"characters\">Elliott</rt-text>\\n        <rt-text slot=\"credits\">Actor</rt-text>\\n      </cast-and-crew-card>\\n    \\n      <cast-and-crew-card \\n        data-CastAndCrewManager=\"card\"\\n        data-role=\"all,cast\"\\n        mediaurl=\"/celebrity/dee_wallace\" skeleton=\"panel\"\\n      >\\n        <rt-img slot=\"poster\" loading=\"lazy\" src=\"https://resizing.flixster.com/T-WBzZdeKOmZO2Ekl4LCUfWIuTg=/68x102/v2/https://resizing.flixster.com/-XZAfHZM39UwaGJIFWKAE8fS0ak=/v3/t/assets/1713_v9_bc.jpg\"></rt-img>\\n        <rt-text slot=\"title\" context=\"label\">Dee Wallace</rt-text>\\n        <rt-text slot=\"characters\">Mary</rt-text>\\n        <rt-text slot=\"credits\">Actor</rt-text>\\n      </cast-and-crew-card>\\n    \\n      <cast-and-crew-card \\n        data-CastAndCrewManager=\"card\"\\n        data-role=\"all,cast\"\\n        mediaurl=\"/celebrity/peter_coyote\" skeleton=\"panel\"\\n      >\\n        <rt-img slot=\"poster\" loading=\"lazy\" src=\"https://resizing.flixster.com/FADHkPD9JSlYV1iuIu53uMPFxl8=/68x102/v2/https://resizing.flixster.com/-XZAfHZM39UwaGJIFWKAE8fS0ak=/v3/t/assets/71731_v9_bb.jpg\"></rt-img>\\n        <rt-text slot=\"title\" context=\"label\">Peter Coyote</rt-text>\\n        <rt-text slot=\"characters\">Keys</rt-text>\\n        <rt-text slot=\"credits\">Actor</rt-text>\\n      </cast-and-crew-card>\\n    \\n      <cast-and-crew-card \\n        data-CastAndCrewManager=\"card\"\\n        data-role=\"all,cast\"\\n        mediaurl=\"/celebrity/drew_barrymore\" skeleton=\"panel\"\\n      >\\n        <rt-img slot=\"poster\" loading=\"lazy\" src=\"https://resizing.flixster.com/pDqhNbOZ-HNabHXb_AzJew2JSqg=/68x102/v2/https://resizing.flixster.com/-XZAfHZM39UwaGJIFWKAE8fS0ak=/v3/t/assets/100_v9_bc.jpg\"></rt-img>\\n        <rt-text slot=\"title\" context=\"label\">Drew Barrymore</rt-text>\\n        <rt-text slot=\"characters\">Gertie</rt-text>\\n        <rt-text slot=\"credits\">Actor</rt-text>\\n      </cast-and-crew-card>\\n    \\n      <cast-and-crew-card \\n        data-CastAndCrewManager=\"card\"\\n        data-role=\"all,cast\"\\n        mediaurl=\"/celebrity/tom_howell\" skeleton=\"panel\"\\n      >\\n        <rt-img slot=\"poster\" loading=\"lazy\" src=\"https://resizing.flixster.com/cGmTpTSNkeNdP2aIq5DfGqbTZF0=/68x102/v2/https://resizing.flixster.com/-XZAfHZM39UwaGJIFWKAE8fS0ak=/v3/t/assets/804_v9_cc.jpg\"></rt-img>\\n        <rt-text slot=\"title\" context=\"label\">C. Thomas Howell</rt-text>\\n        <rt-text slot=\"characters\">Tyler</rt-text>\\n        <rt-text slot=\"credits\">Actor</rt-text>\\n      </cast-and-crew-card>\\n    \\n      <cast-and-crew-card \\n        data-CastAndCrewManager=\"card\"\\n        data-role=\"all,cast\"\\n        mediaurl=\"/celebrity/robert-macnaughton\" skeleton=\"panel\"\\n      >\\n        <rt-img slot=\"poster\" loading=\"lazy\" src=\"https://resizing.flixster.com/EnXkUeGOuZuuTeGcipm0xXnRtvE=/68x102/v2/https://resizing.flixster.com/-XZAfHZM39UwaGJIFWKAE8fS0ak=/v3/t/assets/90708_v9_bb.jpg\"></rt-img>\\n        <rt-text slot=\"title\" context=\"label\">Robert MacNaughton</rt-text>\\n        <rt-text slot=\"characters\">Michael</rt-text>\\n        <rt-text slot=\"credits\">Actor</rt-text>\\n      </cast-and-crew-card>\\n    \\n      <cast-and-crew-card \\n        data-CastAndCrewManager=\"card\"\\n        data-role=\"all,cast\"\\n        mediaurl=\"/celebrity/kc_martel\" skeleton=\"panel\"\\n      >\\n        <rt-img slot=\"poster\" loading=\"lazy\" src=\"https://resizing.flixster.com/6M1MTAKkB5G85RmLb4Y8xBMOZWs=/68x102/v2/https://resizing.flixster.com/-XZAfHZM39UwaGJIFWKAE8fS0ak=/v3/t/assets/90709_v9_aa.jpg\"></rt-img>\\n        <rt-text slot=\"title\" context=\"label\">K.C. Martel</rt-text>\\n        <rt-text slot=\"characters\">Greg</rt-text>\\n        <rt-text slot=\"credits\">Actor</rt-text>\\n      </cast-and-crew-card>\\n    \\n      <cast-and-crew-card \\n        data-CastAndCrewManager=\"card\"\\n        data-role=\"all,cast\"\\n        mediaurl=\"/celebrity/sean_frye\" skeleton=\"panel\"\\n      >\\n        <rt-img slot=\"poster\" loading=\"lazy\" src=\"https://resizing.flixster.com/Ye9o7fCeVkGzzy-pZPCgM8DI95Q=/68x102/v2/https://resizing.flixster.com/-XZAfHZM39UwaGJIFWKAE8fS0ak=/v3/t/assets/131890_v9_aa.jpg\"></rt-img>\\n        <rt-text slot=\"title\" context=\"label\">Sean Frye</rt-text>\\n        <rt-text slot=\"characters\">Steve</rt-text>\\n        <rt-text slot=\"credits\">Actor</rt-text>\\n      </cast-and-crew-card>\\n    \\n      <cast-and-crew-card \\n        data-CastAndCrewManager=\"card\"\\n        data-role=\"all,crew\"\\n        mediaurl=\"/celebrity/melissa_mathison\" skeleton=\"panel\"\\n      >\\n        <rt-img slot=\"poster\" loading=\"lazy\" src=\"https://resizing.flixster.com/qeneUarlJlWjnDXvspWmN3MXeMQ=/68x102/v2/https://resizing.flixster.com/-XZAfHZM39UwaGJIFWKAE8fS0ak=/v3/t/assets/79226_v9_ba.jpg\"></rt-img>\\n        <rt-text slot=\"title\" context=\"label\">Melissa Mathison</rt-text>\\n        <rt-text slot=\"characters\"></rt-text>\\n        <rt-text slot=\"credits\">Screenwriter, Executive Producer</rt-text>\\n      </cast-and-crew-card>\\n    \\n      <cast-and-crew-card \\n        data-CastAndCrewManager=\"card\"\\n        data-role=\"all,crew\"\\n        mediaurl=\"/celebrity/kathleen_kennedy\" skeleton=\"panel\"\\n      >\\n        <rt-img slot=\"poster\" loading=\"lazy\" src=\"https://resizing.flixster.com/k9fPZel-JPnVBahEXdb_jwj184M=/68x102/v2/https://resizing.flixster.com/-XZAfHZM39UwaGJIFWKAE8fS0ak=/v3/t/assets/322316_v9_bc.jpg\"></rt-img>\\n        <rt-text slot=\"title\" context=\"label\">Kathleen Kennedy</rt-text>\\n        <rt-text slot=\"characters\"></rt-text>\\n        <rt-text slot=\"credits\">Producer</rt-text>\\n      </cast-and-crew-card>\\n    \\n      <cast-and-crew-card \\n        data-CastAndCrewManager=\"card\"\\n        data-role=\"all,crew\"\\n        mediaurl=\"/celebrity/allen_daviau\" skeleton=\"panel\"\\n      >\\n        <rt-img slot=\"poster\" loading=\"lazy\" src=\"https://resizing.flixster.com/9WHgXK0jMlPCGbqQ2QH5c5HzTU0=/68x102/v2/https://resizing.flixster.com/-XZAfHZM39UwaGJIFWKAE8fS0ak=/v3/t/assets/465579_v9_bb.jpg\"></rt-img>\\n        <rt-text slot=\"title\" context=\"label\">Allen Daviau</rt-text>\\n        <rt-text slot=\"characters\"></rt-text>\\n        <rt-text slot=\"credits\">Cinematographer</rt-text>\\n      </cast-and-crew-card>\\n    \\n      <cast-and-crew-card \\n        data-CastAndCrewManager=\"card\"\\n        data-role=\"all,crew\"\\n        mediaurl=\"/celebrity/carol_littleton\" skeleton=\"panel\"\\n      >\\n        <rt-img slot=\"poster\" loading=\"lazy\" src=\"https://resizing.flixster.com/n9SCLrkhw93ww739-UKPvAr42UE=/68x102/v2/https://resizing.flixster.com/-XZAfHZM39UwaGJIFWKAE8fS0ak=/v3/t/assets/464134_v9_ba.jpg\"></rt-img>\\n        <rt-text slot=\"title\" context=\"label\">Carol Littleton</rt-text>\\n        <rt-text slot=\"characters\"></rt-text>\\n        <rt-text slot=\"credits\">Film Editing</rt-text>\\n      </cast-and-crew-card>\\n    \\n      <cast-and-crew-card \\n        data-CastAndCrewManager=\"card\"\\n        data-role=\"all,crew\"\\n        mediaurl=\"/celebrity/john_williams_19\" skeleton=\"panel\"\\n      >\\n        <rt-img slot=\"poster\" loading=\"lazy\" src=\"https://resizing.flixster.com/Ik9atMOKsRhSfr5IgjLupCJFinQ=/68x102/v2/https://resizing.flixster.com/-XZAfHZM39UwaGJIFWKAE8fS0ak=/v3/t/assets/516972_v9_bb.jpg\"></rt-img>\\n        <rt-text slot=\"title\" context=\"label\">John Williams</rt-text>\\n        <rt-text slot=\"characters\"></rt-text>\\n        <rt-text slot=\"credits\">Original Music</rt-text>\\n      </cast-and-crew-card>\\n    \\n      <cast-and-crew-card \\n        data-CastAndCrewManager=\"card\"\\n        data-role=\"all,crew\"\\n        mediaurl=\"/celebrity/jim_bissell\" skeleton=\"panel\"\\n      >\\n        <rt-img slot=\"poster\" loading=\"lazy\" src=\"https://resizing.flixster.com/8_BwYAMVmpZRmhE2l_EClhvfd4E=/68x102/v2/https://resizing.flixster.com/-XZAfHZM39UwaGJIFWKAE8fS0ak=/v3/t/assets/342147_v9_ba.jpg\"></rt-img>\\n        <rt-text slot=\"title\" context=\"label\">Jim Bissell</rt-text>\\n        <rt-text slot=\"characters\"></rt-text>\\n        <rt-text slot=\"credits\">Production Design</rt-text>\\n      </cast-and-crew-card>\\n    \\n      <cast-and-crew-card \\n        data-CastAndCrewManager=\"card\"\\n        data-role=\"all,crew\"\\n        mediaurl=\"/celebrity/jackie_carr\" skeleton=\"panel\"\\n      >\\n        <rt-img slot=\"poster\" loading=\"lazy\" src=\"none\"></rt-img>\\n        <rt-text slot=\"title\" context=\"label\">Jackie Carr</rt-text>\\n        <rt-text slot=\"characters\"></rt-text>\\n        <rt-text slot=\"credits\">Set Decoration</rt-text>\\n      </cast-and-crew-card>\\n    \\n      <cast-and-crew-card \\n        data-CastAndCrewManager=\"card\"\\n        data-role=\"all,crew\"\\n        mediaurl=\"/celebrity/deborah_lynn_scott\" skeleton=\"panel\"\\n      >\\n        <rt-img slot=\"poster\" loading=\"lazy\" src=\"https://resizing.flixster.com/MMaExQXsRpwbgfu3KlTPiD9VM1Q=/68x102/v2/https://resizing.flixster.com/-XZAfHZM39UwaGJIFWKAE8fS0ak=/v3/t/assets/459135_v9_aa.jpg\"></rt-img>\\n        <rt-text slot=\"title\" context=\"label\">Deborah Lynn Scott</rt-text>\\n        <rt-text slot=\"characters\"></rt-text>\\n        <rt-text slot=\"credits\">Costume Design</rt-text>\\n      </cast-and-crew-card>\\n    \\n      <cast-and-crew-card \\n        data-CastAndCrewManager=\"card\"\\n        data-role=\"all,crew\"\\n        mediaurl=\"/celebrity/marci_liroff\" skeleton=\"panel\"\\n      >\\n        <rt-img slot=\"poster\" loading=\"lazy\" src=\"https://resizing.flixster.com/4wF9B3oALQU2UeCIWdcy0O4nrLM=/68x102/v2/https://resizing.flixster.com/-XZAfHZM39UwaGJIFWKAE8fS0ak=/v3/t/assets/458753_v9_ab.jpg\"></rt-img>\\n        <rt-text slot=\"title\" context=\"label\">Marci Liroff</rt-text>\\n        <rt-text slot=\"characters\"></rt-text>\\n        <rt-text slot=\"credits\">Casting</rt-text>\\n      </cast-and-crew-card>\\n    \\n      <cast-and-crew-card \\n        data-CastAndCrewManager=\"card\"\\n        data-role=\"all,crew\"\\n        mediaurl=\"/celebrity/mike_fenton\" skeleton=\"panel\"\\n      >\\n        <rt-img slot=\"poster\" loading=\"lazy\" src=\"https://resizing.flixster.com/r12BvIccrVBGlmGe9vD37O1hsZk=/68x102/v2/https://resizing.flixster.com/-XZAfHZM39UwaGJIFWKAE8fS0ak=/v3/t/assets/465031_v9_ba.jpg\"></rt-img>\\n        <rt-text slot=\"title\" context=\"label\">Mike Fenton</rt-text>\\n        <rt-text slot=\"characters\"></rt-text>\\n        <rt-text slot=\"credits\">Casting</rt-text>\\n      </cast-and-crew-card>\\n    \\n      <cast-and-crew-card \\n        data-CastAndCrewManager=\"card\"\\n        data-role=\"all,crew\"\\n        mediaurl=\"/celebrity/jane_feinberg\" skeleton=\"panel\"\\n      >\\n        <rt-img slot=\"poster\" loading=\"lazy\" src=\"none\"></rt-img>\\n        <rt-text slot=\"title\" context=\"label\">Jane Feinberg</rt-text>\\n        <rt-text slot=\"characters\"></rt-text>\\n        <rt-text slot=\"credits\">Casting</rt-text>\\n      </cast-and-crew-card>\\n    \\n    </div>\\n  </div>\\n  <empty-state\\n    hidden\\n    data-CastAndCrewManager=\"emptyState\"\\n    image=\"question-mark\"\\n    style=\"--imageHeight: 104px; --imageWidth: 104px;\"\\n  >\\n    <div slot=\"content\" class=\"content\">\\n      <rt-text context=\"label\" data-CastAndCrewManager=\"emptyStateMessage\">No Cast and Crew</rt-text>\\n    </div>   \\n  </empty-state>\\n</section>\\n\\n</div>\\n\\n          \\n      </div>\\n\\n      <div id=\"sidebar-wrap\">\\n    <div data-adobe-id=\"discovery-sidebar\" data-DiscoverySidebarManager=\"sticky\">\\n        <discovery-sidebar-manager>\\n            <script data-json=\"discoverySidebarJSON\" type=\"application/json\">{\"lifecycle\":\"OUT_OF_THEATERS\",\"mediaType\":\"movie\"}</script>\\n        </discovery-sidebar-manager>\\n        <discovery-sidebar\\n            skeleton=\"panel\"\\n            data-DiscoverySidebarManager=\"sidebar\"\\n        ></discovery-sidebar>\\n\\n        <ad-unit\\n            data-DiscoverySidebarManager=\"ad:instantiated\"\\n            unitdisplay=\"desktop\"\\n            unittype=\"topmulti\"\\n            showadlink\\n        >\\n            <div slot=\"adInject\"></div>\\n        </ad-unit>\\n    </div>\\n</div>\\n\\n    </div>\\n  </div>\\n\\n                </div>\\n\\n                <back-to-top hidden></back-to-top>\\n            </main>\\n\\n            <ad-unit hidden unitdisplay=\"desktop\" unittype=\"bottombanner\">\\n                <div slot=\"adInject\" class=\"sleaderboard_wrapper\"></div>\\n            </ad-unit>\\n\\n            <ads-global-skin-takeover-manager></ads-global-skin-takeover-manager>\\n\\n            <footer-manager></footer-manager>\\n<footer class=\"footer container\" data-PagePicturesManager=\"footer\">\\n    \\n\\n    <div class=\"footer__content-desktop-block\" data-qa=\"footer:section\">\\n        <div class=\"footer__content-group\">\\n            <ul class=\"footer__links-list\">\\n                <li class=\"footer__links-list-item\">\\n                    <a href=\"/help_desk\" data-qa=\"footer:link-helpdesk\">Help</a>\\n                </li>\\n                <li class=\"footer__links-list-item\">\\n                    <a href=\"/about\" data-qa=\"footer:link-about\">About Rotten Tomatoes</a>\\n                </li>\\n                <li id=\"footer-feedback\" class=\"footer__links-list-item\" data-qa=\"footer-feedback-desktop\">\\n                    \\n                </li>\\n            </ul>\\n        </div>\\n        <div class=\"footer__content-group\">\\n            <ul class=\"footer__links-list\">\\n                <li class=\"footer__links-list-item\">\\n                    <a href=\"/critics/criteria\" data-qa=\"footer:link-critic-submission\">Critic Submission</a>\\n                </li>\\n                <li class=\"footer__links-list-item\">\\n                    <a href=\"/help_desk/licensing\" data-qa=\"footer:link-licensing\">Licensing</a>\\n                </li>\\n                <li class=\"footer__links-list-item\">\\n                    <a href=\"https://together.nbcuni.com/advertise/?utm_source=rotten_tomatoes&amp;utm_medium=referral&amp;utm_campaign=property_ad_pages&amp;utm_content=footer\" target=\"_blank\" rel=\"noopener\" data-qa=\"footer:link-ads\">Advertise With Us</a>\\n                </li>\\n                <li class=\"footer__links-list-item\">\\n                    <a href=\"//www.fandango.com/careers\" target=\"_blank\" rel=\"noopener\" data-qa=\"footer:link-careers\">Careers</a>\\n                </li>\\n            </ul>\\n        </div>\\n        <div class=\"footer__content-group footer__newsletter-block\">\\n            <p class=\"h3 footer__content-group-title\">\\n                <rt-icon icon=\"mail\" size=\"1.25\" style=\"fill:#fff\"></rt-icon>&ensp;Join the Newsletter\\n            </p>\\n            <p class=\"footer__newsletter-copy\">Get the freshest reviews, news, and more delivered right to your inbox!</p>\\n            <rt-button shape=\"pill\" data-FooterManager=\"btnNewsLetter:click\" data-qa=\"footer-newsletter-desktop\">\\n                Join The Newsletter\\n            </rt-button>\\n            <a data-FooterManager=\"linkNewsLetter\" class= \"button footer__newsletter-btn hide\" target=\"_blank\" rel=\"noopener\">\\n                Join The Newsletter\\n            </a>\\n        </div>\\n        <div class=\"footer__content-group footer__social-block\" data-qa=\"footer:social\">\\n            <p class=\"h3 footer__content-group-title\">Follow Us</p>\\n            <social-media-icons theme=\"light\" size=\"20\"></social-media-icons>\\n        </div>\\n    </div>\\n\\n    <div class=\"footer__content-mobile-block\" data-qa=\"mfooter:section\">\\n        <div class=\"footer__content-group\">\\n            <div class=\"mobile-app-cta-wrap\">\\n                \\n                <mobile-app-cta\\n                    showandroid=\"false\"\\n                    showios=\"false\"\\n                    hidden\\n                ></mobile-app-cta>\\n            </div>\\n\\n            <p class=\"footer__copyright-legal\" data-qa=\"mfooter:copyright\">\\n                <rt-text size=\"0.75\">Copyright &copy; Fandango. All rights reserved.</rt-text>\\n            </p>\\n            <p>\\n                <rt-button shape=\"pill\" data-FooterManager=\"btnNewsLetter:click\" data-qa=\"footer-newsletter-mobile\"\\n                    >Join The Newsletter</rt-button>\\n            </p>\\n            <a\\n                data-FooterManager=\"linkNewsLetter\"\\n                class= \"button footer__newsletter-btn hide\"\\n                target=\"_blank\"\\n                rel=\"noopener\"\\n            >Join The Newsletter</a>\\n\\n            <ul class=\"footer__links-list list-inline\">\\n                <li class=\"footer__links-list-item\">\\n                    <a href=\"https://www.nbcuniversal.com/fandango-privacy-policy\" target=\"_blank\" rel=\"noopener\" data-qa=\"mfooter:link-privacy-policy\">\\n                        Privacy Policy\\n                    </a>\\n                </li>\\n                <li class=\"footer__links-list-item\">\\n                    <a href=\"/policies/terms-and-policies\" data-qa=\"mfooter:link-terms-policies\">Terms and Policies</a>\\n                </li>\\n                <li class=\"footer__links-list-item\">\\n                    <img data-FooterManager=\"iconCCPA\" src=\"https://images.fandango.com/cms/assets/266533e0-7afb-11ed-83f2-4f600722b564--privacyoptions.svg\" class=\"footer__ccpa-icon\" loading=\"lazy\" alt=\"CCPA icon\" />\\n                    <!-- OneTrust Cookies Settings button start -->\\n                    <a href=\"javascript:void(0)\" id=\"ot-sdk-btn\" class=\"ot-sdk-show-settings mobile\" data-qa=\"footer-cookie-settings-mobile\">Cookie Settings</a>\\n                    <!-- OneTrust Cookies Settings button end -->\\n                </li>\\n                <li class=\"footer__links-list-item\">\\n                    <a href=\"https://www.nbcuniversal.com/privacy/california-consumer-privacy-act\" target=\"_blank\" rel=\"noopener\" data-qa=\"mfooter:link-california-notice\">California Notice</a>\\n                </li>\\n                <li class=\"footer__links-list-item\">\\n                    <a href=\"https://www.nbcuniversal.com/privacy/cookies#accordionheader2\" target=\"_blank\" rel=\"noopener\" data-qa=\"mfooter:link-adChoices\">Ad Choices</a>\\n                </li>\\n                <li id=\"footer-feedback-mobile\" class=\"footer__links-list-item\" data-qa=\"footer-feedback-mobile\">\\n                    \\n                </li>\\n                <li class=\"footer__links-list-item\">\\n                    <a href=\"/faq#accessibility\" data-qa=\"mfooter:link-accessibility\">Accessibility</a>\\n                </li>\\n            </ul>\\n        </div>\\n    </div>\\n    <div class=\"footer__copyright\">\\n        <ul class=\"footer__links-list list-inline list-inline--separator\" data-qa=\"footer:links-list-privacy\">\\n            <li class=\"footer__links-list-item version\" data-qa=\"footer:version\">\\n                <span>V3.1</span>\\n            </li>\\n            <li class=\"footer__links-list-item\">\\n                <a href=\"https://www.nbcuniversal.com/fandango-privacy-policy\" target=\"_blank\" rel=\"noopener\" data-qa=\"footer:link-privacy-policy\">\\n                    Privacy Policy\\n                </a>\\n            </li>\\n            <li class=\"footer__links-list-item\">\\n                <a href=\"/policies/terms-and-policies\" data-qa=\"footer:link-terms-policies\">Terms and Policies</a>\\n            </li>\\n            <li class=\"footer__links-list-item\">\\n                <img data-FooterManager=\"iconCCPA\" src=\"https://images.fandango.com/cms/assets/266533e0-7afb-11ed-83f2-4f600722b564--privacyoptions.svg\" class=\"footer__ccpa-icon\" loading=\"lazy\" alt=\"CCPA icon\" />\\n                <!-- OneTrust Cookies Settings button start -->\\n                <a href=\"javascript:void(0)\" id=\"ot-sdk-btn\" class=\"ot-sdk-show-settings\" data-qa=\"footer-cookie-settings-desktop\">Cookie Settings</a>\\n                <!-- OneTrust Cookies Settings button end -->\\n            </li>\\n            <li class=\"footer__links-list-item\">\\n                <a href=\"https://www.nbcuniversal.com/privacy/california-consumer-privacy-act\" target=\"_blank\" rel=\"noopener\" data-qa=\"footer:link-california-notice\">California Notice</a>\\n            </li>\\n            <li class=\"footer__links-list-item\">\\n                <a href=\"https://www.nbcuniversal.com/privacy/cookies#accordionheader2\" target=\"_blank\" rel=\"noopener\" data-qa=\"footer:link-adChoices\">Ad Choices</a>\\n            </li>\\n            <li class=\"footer__links-list-item\">\\n                <a href=\"/faq#accessibility\" data-qa=\"footer:link-accessibility\">Accessibility</a>\\n            </li>\\n        </ul>\\n        <span class=\"footer__copyright-legal\" data-qa=\"footer:copyright\">\\n            Copyright &copy; Fandango. A Division of\\n            <a href=\"https://www.nbcuniversal.com\" target=\"_blank\" rel=\"noopener\" data-qa=\"footer:link-nbcuniversal\">NBCUniversal</a>.\\n            All rights reserved.\\n        </span>\\n    </div>\\n</footer>\\n\\n        </div>\\n\\n        \\n\\n        \\n  \\n        <script type=\"text/javascript\">\\n      (function (root) {\\n        /* -- Data -- */\\n        root.RottenTomatoes || (root.RottenTomatoes = {});\\nroot.RottenTomatoes.context || (root.RottenTomatoes.context = {});\\nroot.RottenTomatoes.context.resetCookies = [\"AMCVS_8CF467C25245AE3F0A490D4C%40AdobeOrg\",\"AMCV_8CF467C25245AE3F0A490D4C%40AdobeOrg\",\"WRIgnore\",\"WRUIDAWS\",\"__CT_Data\",\"__gads\",\"_admrla\",\"_awl\",\"_cs_c\",\"_cs_id\",\"_cs_mk\",\"_cs_s\",\"_fbp\",\"_ga\",\"_gat_gtmTracker\",\"_gid\",\"aam_uuid\",\"akamai_generated_location\",\"auth_token\",\"auth_user\",\"auth_client\",\"check\",\"cognito\",\"fblo_326803741017\",\"fbm_326803741017\",\"fbsr_326803741017\",\"gpv_Page\",\"id_token\",\"is_auth\",\"loginPlatform\",\"mbox\",\"notice_behavior\",\"optimizelyBuckets\",\"optimizelyEndUserId\",\"optimizelyPendingLogEvents\",\"optimizelySegments\",\"s_cc\",\"s_dayslastvisit\",\"s_dayslastvisit_s\",\"s_invisit\",\"s_prevPage\",\"s_sq\",\"s_vnum\",\"cognito\",\"fbm_326803741017\",\"fbsr_326803741017\",\"id_token\",\"JSESSIONID\",\"QSI_HistorySession\",\"QSI_SI_8up4dWDOtjAg0hn_intercept\",\"_ALGOLIA\",\"__Host-color-scheme\",\"__Host-theme-options\",\"__host_color_scheme\",\"__host_theme_options\",\"_cb\",\"_cb_ls\",\"_cb_svref\",\"_chartbeat2\",\"_chartbeat4\",\"_chartbeat5\",\"_sp_id.47f3\",\"_sp_ses.47f3\",\"_v__chartbeat3\",\"adops_master_kvs\",\"akacd_RTReplatform\",\"algoliaUT\",\"cognito\",\"cl_duid\",\"fbsr_326803741017\",\"id_token\",\"mps_uuid\",\"session_id\",\"_admrla\",\"_awl\",\"_ga\",\"_gid\",\"aam_uuid\",\"cognito\",\"fbm_326803741017\",\"id_token\",\"_cb\",\"_cb_ls\",\"_cb_svref\",\"_chartbeat2\",\"adops_master_kvs\",\"cognito\",\"id_token\",\"krg_crb\",\"krg_uid\",\"mps_uuid\"];\\nroot.Fandango || (root.Fandango = {});\\nroot.Fandango.dtmData = {\"webVersion\":\"node\",\"rtVersion\":3.1,\"loggedInStatus\":\"\",\"customerId\":\"\",\"pageName\":\"trailers\"};\\nroot.RottenTomatoes.context.video = {\"file\":\"https:\\\\u002F\\\\u002Flink.theplatform.com\\\\u002Fs\\\\u002FNGweTC\\\\u002Fmedia\\\\u002Fxk6YK0QIxOdm?formats=MPEG-DASH+widevine,M3U+appleHlsEncryption,M3U+none,MPEG-DASH+none,MPEG4,MP3\",\"type\":\"hls\",\"description\":\"\",\"image\":\"https:\\\\u002F\\\\u002Fstatcdn.fandango.com\\\\u002FMPX\\\\u002Fimage\\\\u002FNBCU_Fandango\\\\u002F827\\\\u002F855\\\\u002Fthumb_94BC468F-A4A3-483C-A95C-2AAFCDC31BCF.jpg\",\"isRedBand\":false,\"mediaid\":\"1786499651782\",\"mpxId\":\"1786499651782\",\"publicId\":\"xk6YK0QIxOdm\",\"title\":\"The Secrets We Keep: Movie Clip - You Know Who I Am\",\"default\":false,\"label\":\"0\",\"duration\":\"0:27\",\"durationInSeconds\":\"27.11\",\"emsMediaType\":\"Movie\",\"emsId\":\"d19fbcc3-57b1-4f49-91f8-e9e7d1587eff\",\"overviewPageUrl\":\"\\\\u002Fm\\\\u002Fthe_secrets_we_keep\",\"videoPageUrl\":\"\\\\u002Fm\\\\u002Fthe_secrets_we_keep\\\\u002Fvideos\\\\u002Fxk6YK0QIxOdm\",\"videoType\":\"CLIP\",\"adobeDataLayer\":{\"content\":{\"id\":\"fandango_1786499651782\",\"length\":\"27.11\",\"type\":\"vod\",\"player_name\":\"jw\",\"sdk_version\":\"web: 6.51.0\",\"channel\":\"movie\",\"originator\":\"bleecker street\",\"name\":\"the secrets we keep: movie clip - you know who i am\",\"rating\":\"not adult\",\"stream_type\":\"video\"},\"media_params\":{\"genre\":\"mystery & thriller\",\"show_type\":2}},\"comscore\":{\"labelmapping\":\"c3=\\\\\"rottentomatoes.com\\\\\", ns_st_st=\\\\\"Rotten Tomatoes\\\\\", ns_st_pu=\\\\\"Bleecker Street\\\\\", ns_st_pr=\\\\\"The Secrets We Keep\\\\\", ns_st_sn=\\\\\"*null\\\\\", ns_st_en=\\\\\"*null\\\\\", ns_st_ge=\\\\\"Mystery & Thriller\\\\\", ns_st_ia=\\\\\"0\\\\\", ns_st_ce=\\\\\"0\\\\\", ns_st_ddt=\\\\\"2020\\\\\", ns_st_tdt=\\\\\"2020\\\\\"\"},\"thumbnail\":\"https:\\\\u002F\\\\u002Fresizing.flixster.com\\\\u002FCi7K9B7Xycvl9n3Lfc2p_OESNu8=\\\\u002F270x160\\\\u002Fv2\\\\u002Fhttps:\\\\u002F\\\\u002Fstatcdn.fandango.com\\\\u002FMPX\\\\u002Fimage\\\\u002FNBCU_Fandango\\\\u002F827\\\\u002F855\\\\u002Fthumb_94BC468F-A4A3-483C-A95C-2AAFCDC31BCF.jpg\"};\\nroot.RottenTomatoes.context.videoClipsJson = {\"count\":2};\\nroot.RottenTomatoes.criticPage = {\"vanity\":\"janelle-mccammack\",\"type\":\"tv\",\"typeDisplayName\":\"TV\",\"totalReviews\":\"\",\"criticID\":\"21882\"};\\nroot.RottenTomatoes.context.review = {\"mediaType\":\"movie\",\"title\":\"Socialism\",\"emsId\":\"22558423-fc0d-3661-86e2-323c558e0428\",\"type\":\"all\",\"sort\":undefined,\"reviewsCount\":0,\"pageInfo\":undefined,\"reviewerDefaultImg\":\"https:\\\\u002F\\\\u002Fimages.fandango.com\\\\u002Fcms\\\\u002Fassets\\\\u002F5b6ff500-1663-11ec-ae31-05a670d2d590--rtactordefault.png\",\"reviewerDefaultImgWidth\":\"100\"};\\nroot.RottenTomatoes.context.useCursorPagination = true;\\nroot.RottenTomatoes.context.verifiedTooltip = undefined;\\nroot.RottenTomatoes.context.layout = {\"header\":{\"movies\":{\"moviesAtHome\":{\"tarsSlug\":\"rt-nav-movies-at-home\",\"linkList\":[{\"header\":\"Fandango at Home\",\"slug\":\"fandango-at-home-link\",\"url\":\"\\\\u002Fbrowse\\\\u002Fmovies_at_home\\\\u002Faffiliates:fandango-at-home\"},{\"header\":\"Peacock\",\"slug\":\"peacock-link\",\"url\":\"\\\\u002Fbrowse\\\\u002Fmovies_at_home\\\\u002Faffiliates:peacock\"},{\"header\":\"Netflix\",\"slug\":\"netflix-link\",\"url\":\"\\\\u002Fbrowse\\\\u002Fmovies_at_home\\\\u002Faffiliates:netflix\"},{\"header\":\"Apple TV+\",\"slug\":\"apple-tv-link\",\"url\":\"\\\\u002Fbrowse\\\\u002Fmovies_at_home\\\\u002Faffiliates:apple-tv-plus\"},{\"header\":\"Prime Video\",\"slug\":\"prime-video-link\",\"url\":\"\\\\u002Fbrowse\\\\u002Fmovies_at_home\\\\u002Faffiliates:prime-video\"},{\"header\":\"Most Popular Streaming movies\",\"slug\":\"most-popular-streaming-movies-link\",\"url\":\"\\\\u002Fbrowse\\\\u002Fmovies_at_home\\\\u002Fsort:popular\"},{\"header\":\"Certified Fresh movies\",\"slug\":\"certified-fresh-movies-link\",\"url\":\"\\\\u002Fbrowse\\\\u002Fmovies_at_home\\\\u002Fcritics:certified_fresh\"},{\"header\":\"Browse all\",\"slug\":\"browse-all-link\",\"url\":\"\\\\u002Fbrowse\\\\u002Fmovies_at_home\"}]}},\"editorial\":{\"guides\":{\"posts\":[{\"ID\":143757,\"author\":12,\"featured_image\":{\"source\":\"https:\\\\u002F\\\\u002Feditorial.rottentomatoes.com\\\\u002Fwp-content\\\\u002Fuploads\\\\u002F2025\\\\u002F04\\\\u002F600BatmanForever.jpg\"},\"link\":\"https:\\\\u002F\\\\u002Feditorial.rottentomatoes.com\\\\u002Fguide\\\\u002Fall-batman-movies-ranked\\\\u002F\",\"status\":\"publish\",\"title\":\"37 Batman Movies (\\\\u003Cem\\\\u003EBatman Forever\\\\u003C\\\\u002Fem\\\\u003E), Ranked by Tomatometer\",\"type\":\"guide\"},{\"ID\":264966,\"author\":7,\"featured_image\":{\"source\":\"https:\\\\u002F\\\\u002Feditorial.rottentomatoes.com\\\\u002Fwp-content\\\\u002Fuploads\\\\u002F2025\\\\u002F04\\\\u002F600TitanAE.jpg\"},\"link\":\"https:\\\\u002F\\\\u002Feditorial.rottentomatoes.com\\\\u002Fguide\\\\u002Fbest-movies-2000\\\\u002F\",\"status\":\"publish\",\"title\":\"100 Best Movies of 2000 (\\\\u003Cem\\\\u003ETitan A.E.\\\\u003C\\\\u002Fem\\\\u003E), Ranked by Tomatometer\",\"type\":\"guide\"}],\"title\":\"Guides\",\"url\":\"https:\\\\u002F\\\\u002Feditorial.rottentomatoes.com\\\\u002Fcountdown\\\\u002F\"},\"hubs\":{\"posts\":[{\"ID\":237626,\"author\":12,\"featured_image\":{\"source\":\"https:\\\\u002F\\\\u002Feditorial.rottentomatoes.com\\\\u002Fwp-content\\\\u002Fuploads\\\\u002F2024\\\\u002F10\\\\u002FRT_WTW_PRIDE_Representative_600x314.png\"},\"link\":\"https:\\\\u002F\\\\u002Feditorial.rottentomatoes.com\\\\u002Frt-hub\\\\u002Fwhat-to-watch\\\\u002F\",\"status\":\"publish\",\"title\":\"What to Watch: In Theaters and On Streaming\",\"type\":\"rt-hub\"},{\"ID\":140214,\"author\":12,\"featured_image\":{\"source\":\"https:\\\\u002F\\\\u002Feditorial.rottentomatoes.com\\\\u002Fwp-content\\\\u002Fuploads\\\\u002F2023\\\\u002F02\\\\u002FRT_AwardsTour_Thumbnail_600x314.jpg\"},\"link\":\"https:\\\\u002F\\\\u002Feditorial.rottentomatoes.com\\\\u002Frt-hub\\\\u002Fawards-tour\\\\u002F\",\"status\":\"publish\",\"title\":\"Awards Tour\",\"type\":\"rt-hub\"}],\"title\":\"Hubs\",\"url\":\"https:\\\\u002F\\\\u002Feditorial.rottentomatoes.com\\\\u002Frt-hubs\\\\u002F\"},\"news\":{\"posts\":[{\"ID\":266909,\"author\":822,\"featured_image\":{\"source\":\"https:\\\\u002F\\\\u002Feditorial.rottentomatoes.com\\\\u002Fwp-content\\\\u002Fuploads\\\\u002F2025\\\\u002F06\\\\u002FBono.jpeg.png\"},\"link\":\"https:\\\\u002F\\\\u002Feditorial.rottentomatoes.com\\\\u002Farticle\\\\u002Fu2-legend-bono-reveals-inspiration-behind-stories-of-surrender\\\\u002F\",\"status\":\"publish\",\"title\":\"U2 Legend Bono Reveals Inspiration Behind \\\\u003Cem\\\\u003EStories of Surrender\\\\u003C\\\\u002Fem\\\\u003E\",\"type\":\"article\"},{\"ID\":266673,\"author\":669,\"featured_image\":{\"source\":\"https:\\\\u002F\\\\u002Feditorial.rottentomatoes.com\\\\u002Fwp-content\\\\u002Fuploads\\\\u002F2025\\\\u002F06\\\\u002FPredator_Killer_of_Killers-600x314-1.jpg\"},\"link\":\"https:\\\\u002F\\\\u002Feditorial.rottentomatoes.com\\\\u002Farticle\\\\u002Fpredator-killer-of-killers-first-reviews\\\\u002F\",\"status\":\"publish\",\"title\":\"\\\\u003Cem\\\\u003EPredator: Killer of Killers\\\\u003C\\\\u002Fem\\\\u003E First Reviews: &#8220;Every \\\\u003Cem\\\\u003EPredator\\\\u003C\\\\u002Fem\\\\u003E Fan&#8217;s Dream Come True&#8221;\",\"type\":\"article\"}],\"title\":\"RT News\",\"url\":\"https:\\\\u002F\\\\u002Feditorial.rottentomatoes.com\\\\u002Fnews\\\\u002F\"}},\"trendingTarsSlug\":\"rt-nav-trending\",\"trending\":[{\"header\":\"Renewed & Cancelled TV\",\"url\":\"https:\\\\u002F\\\\u002Feditorial.rottentomatoes.com\\\\u002Farticle\\\\u002Frenewed-and-cancelled-tv-shows-2025\\\\u002F\"},{\"header\":\"Re-Release Calendar\",\"url\":\"https:\\\\u002F\\\\u002Feditorial.rottentomatoes.com\\\\u002Farticle\\\\u002Fmovie-re-releases-calendar\\\\u002F\"},{\"header\":\"Predator Movies Ranked\",\"url\":\"https:\\\\u002F\\\\u002Feditorial.rottentomatoes.com\\\\u002Fguide\\\\u002Fpredator\\\\u002F\"},{\"header\":\"Best New Horror\",\"url\":\"https:\\\\u002F\\\\u002Feditorial.rottentomatoes.com\\\\u002Fguide\\\\u002Fbest-new-horror-movies\\\\u002F\"}],\"certifiedMedia\":{\"certifiedFreshTvSeason\":{\"header\":null,\"media\":{\"url\":\"\\\\u002Ftv\\\\u002Fstick\\\\u002Fs01\",\"name\":\"Stick: Season 1\",\"score\":79,\"posterImg\":\"https:\\\\u002F\\\\u002Fresizing.flixster.com\\\\u002FfDWSE8gUn_qu_F4uJftwBv9XzG0=\\\\u002F206x305\\\\u002Fv2\\\\u002Fhttps:\\\\u002F\\\\u002Fresizing.flixster.com\\\\u002FAFGTM5WkVJ8sJadSs9EgBEplx6w=\\\\u002Ffit-in\\\\u002F180x240\\\\u002Fv2\\\\u002Fhttps:\\\\u002F\\\\u002Fresizing.flixster.com\\\\u002FHalQwQIAmTOfYVn9zl9Am61BohQ=\\\\u002Fems.cHJkLWVtcy1hc3NldHMvdHZzZWFzb24vMGFmZjUyODUtOGE1ZC00OTE3LWE4NDItMjQzNTRmYmJjNTk4LnBuZw==\"},\"tarsSlug\":\"rt-nav-list-cf-picks\"},\"certifiedFreshMovieInTheater\":{\"header\":null,\"media\":{\"url\":\"\\\\u002Fm\\\\u002Fballerina_2025\",\"name\":\"Ballerina\",\"score\":75,\"posterImg\":\"https:\\\\u002F\\\\u002Fresizing.flixster.com\\\\u002Frq5lIsoVZFoFul7GvaUEK5ubP20=\\\\u002F206x305\\\\u002Fv2\\\\u002Fhttps:\\\\u002F\\\\u002Fresizing.flixster.com\\\\u002F8fS0D2bCgBf7pXySJoJeUdx77Lo=\\\\u002Ffit-in\\\\u002F180x240\\\\u002Fv2\\\\u002Fhttps:\\\\u002F\\\\u002Fresizing.flixster.com\\\\u002FLzOx5oXHCkEBotyKyTLCFq5mGnQ=\\\\u002Fems.cHJkLWVtcy1hc3NldHMvbW92aWVzLzhiNWQ2MGU5LTUxMTEtNDc0Zi04ODg1LTkxZmMwZTYyNmNkMy5wbmc=\"}},\"certifiedFreshMovieInTheater4\":{\"header\":null,\"media\":{\"url\":\"\\\\u002Fm\\\\u002Fdangerous_animals\",\"name\":\"Dangerous Animals\",\"score\":85,\"posterImg\":\"https:\\\\u002F\\\\u002Fresizing.flixster.com\\\\u002FuZXaeEfh0AvStEQlqE3BnzPxni4=\\\\u002F206x305\\\\u002Fv2\\\\u002Fhttps:\\\\u002F\\\\u002Fresizing.flixster.com\\\\u002FywUweJUAgT2hma4k7wKtpSR8W3U=\\\\u002Ffit-in\\\\u002F180x240\\\\u002Fv2\\\\u002Fhttps:\\\\u002F\\\\u002Fresizing.flixster.com\\\\u002F4y7QSLtp9eYae-RTetv5chPgrVM=\\\\u002Fems.cHJkLWVtcy1hc3NldHMvbW92aWVzL2E1NDkzOGQwLWRmNDgtNGYzZC05ZTcwLTdhNWM3NzA0MjkxYS5qcGc=\"}},\"certifiedFreshMovieAtHome\":{\"header\":null,\"media\":{\"url\":\"\\\\u002Fm\\\\u002Fpredator_killer_of_killers\",\"name\":\"Predator: Killer of Killers\",\"score\":97,\"posterImg\":\"https:\\\\u002F\\\\u002Fresizing.flixster.com\\\\u002F-sqUIRfHt1QF-dx4syOUYrE7T3A=\\\\u002F206x305\\\\u002Fv2\\\\u002Fhttps:\\\\u002F\\\\u002Fresizing.flixster.com\\\\u002FD4AfBHd5pyjJL_FeqptujPFhRNc=\\\\u002Ffit-in\\\\u002F180x240\\\\u002Fv2\\\\u002Fhttps:\\\\u002F\\\\u002Fresizing.flixster.com\\\\u002FRXDbp40800J_wypkdlDT_e-gaSo=\\\\u002Fems.cHJkLWVtcy1hc3NldHMvbW92aWVzLzZjMDA4OWZiLTM0Y2UtNGE2Yy1hZDM4LTg1M2ZkNGQzOWRjZS5qcGc=\"}},\"tarsSlug\":\"rt-nav-list-cf-picks\"},\"tvLists\":{\"newTvTonight\":{\"tarsSlug\":\"rt-hp-text-list-3\",\"title\":\"New TV Tonight\",\"shows\":[{\"title\":\"Revival: Season 1\",\"tomatometer\":{\"tomatometer\":null,\"sentiment\":\"empty\",\"certified\":false},\"tvPageUrl\":\"\\\\u002Ftv\\\\u002Frevival\\\\u002Fs01\"},{\"title\":\"Tony Awards: Season 78\",\"tomatometer\":{\"tomatometer\":null,\"sentiment\":\"empty\",\"certified\":false},\"tvPageUrl\":\"\\\\u002Ftv\\\\u002Ftony_awards\\\\u002Fs78\"},{\"title\":\"Call Her Alex: Season 1\",\"tomatometer\":{\"tomatometer\":null,\"sentiment\":\"empty\",\"certified\":false},\"tvPageUrl\":\"\\\\u002Ftv\\\\u002Fcall_her_alex\\\\u002Fs01\"},{\"title\":\"The Kollective: Season 1\",\"tomatometer\":{\"tomatometer\":null,\"sentiment\":\"empty\",\"certified\":false},\"tvPageUrl\":\"\\\\u002Ftv\\\\u002Fthe_kollective\\\\u002Fs01\"},{\"title\":\"FUBAR: Season 2\",\"tomatometer\":{\"tomatometer\":null,\"sentiment\":\"empty\",\"certified\":false},\"tvPageUrl\":\"\\\\u002Ftv\\\\u002Ffubar\\\\u002Fs02\"},{\"title\":\"Trainwreck: Season 1\",\"tomatometer\":{\"tomatometer\":null,\"sentiment\":\"empty\",\"certified\":false},\"tvPageUrl\":\"\\\\u002Ftv\\\\u002Ftrainwreck\\\\u002Fs01\"},{\"title\":\"The Snake: Season 1\",\"tomatometer\":{\"tomatometer\":null,\"sentiment\":\"empty\",\"certified\":false},\"tvPageUrl\":\"\\\\u002Ftv\\\\u002Fthe_snake\\\\u002Fs01\"},{\"title\":\"Love Island: Season 12\",\"tomatometer\":{\"tomatometer\":null,\"sentiment\":\"empty\",\"certified\":false},\"tvPageUrl\":\"\\\\u002Ftv\\\\u002Flove_island\\\\u002Fs12\"},{\"title\":\"The Gilgo Beach Killer: House of Secrets: Season 1\",\"tomatometer\":{\"tomatometer\":null,\"sentiment\":\"empty\",\"certified\":false},\"tvPageUrl\":\"\\\\u002Ftv\\\\u002Fthe_gilgo_beach_killer_house_of_secrets\\\\u002Fs01\"}]},\"mostPopularTvOnRt\":{\"tarsSlug\":\"rt-hp-text-list-2\",\"title\":\"Most Popular TV on RT\",\"shows\":[{\"title\":\"Dept. Q: Season 1\",\"tomatometer\":{\"tomatometer\":84,\"sentiment\":\"positive\",\"certified\":true},\"tvPageUrl\":\"\\\\u002Ftv\\\\u002Fdept_q\\\\u002Fs01\"},{\"title\":\"Stick: Season 1\",\"tomatometer\":{\"tomatometer\":79,\"sentiment\":\"positive\",\"certified\":true},\"tvPageUrl\":\"\\\\u002Ftv\\\\u002Fstick\\\\u002Fs01\"},{\"title\":\"The Survivors: Season 1\",\"tomatometer\":{\"tomatometer\":null,\"sentiment\":\"empty\",\"certified\":false},\"tvPageUrl\":\"\\\\u002Ftv\\\\u002Fthe_survivors_2025\\\\u002Fs01\"},{\"title\":\"The Better Sister: Season 1\",\"tomatometer\":{\"tomatometer\":69,\"sentiment\":\"positive\",\"certified\":false},\"tvPageUrl\":\"\\\\u002Ftv\\\\u002Fthe_better_sister\\\\u002Fs01\"},{\"title\":\"Secrets We Keep: Season 1\",\"tomatometer\":{\"tomatometer\":100,\"sentiment\":\"positive\",\"certified\":false},\"tvPageUrl\":\"\\\\u002Ftv\\\\u002Fsecrets_we_keep\\\\u002Fs01\"},{\"title\":\"Ginny & Georgia: Season 3\",\"tomatometer\":{\"tomatometer\":67,\"sentiment\":\"positive\",\"certified\":false},\"tvPageUrl\":\"\\\\u002Ftv\\\\u002Fginny_and_georgia\\\\u002Fs03\"},{\"title\":\"Murderbot: Season 1\",\"tomatometer\":{\"tomatometer\":97,\"sentiment\":\"positive\",\"certified\":true},\"tvPageUrl\":\"\\\\u002Ftv\\\\u002Fmurderbot\\\\u002Fs01\"},{\"title\":\"Sirens: Season 1\",\"tomatometer\":{\"tomatometer\":75,\"sentiment\":\"positive\",\"certified\":true},\"tvPageUrl\":\"\\\\u002Ftv\\\\u002Fsirens_2025\\\\u002Fs01\"},{\"title\":\"Tires: Season 2\",\"tomatometer\":{\"tomatometer\":83,\"sentiment\":\"positive\",\"certified\":false},\"tvPageUrl\":\"\\\\u002Ftv\\\\u002Ftires\\\\u002Fs02\"},{\"title\":\"The Eternaut: Season 1\",\"tomatometer\":{\"tomatometer\":95,\"sentiment\":\"positive\",\"certified\":false},\"tvPageUrl\":\"\\\\u002Ftv\\\\u002Fthe_eternaut\\\\u002Fs01\"}]}}},\"links\":{\"moviesInTheaters\":{\"certifiedFresh\":\"\\\\u002Fbrowse\\\\u002Fmovies_in_theaters\\\\u002Fcritics:certified_fresh~sort:popular\",\"comingSoon\":\"\\\\u002Fbrowse\\\\u002Fmovies_coming_soon\\\\u002F\",\"openingThisWeek\":\"\\\\u002Fbrowse\\\\u002Fmovies_in_theaters\\\\u002Fsort:newest\",\"title\":\"\\\\u002Fbrowse\\\\u002Fmovies_in_theaters\",\"topBoxOffice\":\"\\\\u002Fbrowse\\\\u002Fmovies_in_theaters\"},\"onDvdAndStreaming\":{\"all\":\"\\\\u002Fbrowse\\\\u002Fmovies_at_home\\\\u002F\",\"certifiedFresh\":\"\\\\u002Fbrowse\\\\u002Fmovies_at_home\\\\u002Fcritics:certified_fresh\",\"title\":\"\\\\u002Fbrowse\\\\u002Fmovies_at_home\\\\u002F\",\"top\":\"\\\\u002Fbrowse\\\\u002Fmovies_at_home\\\\u002Fsort:popular\"},\"moreMovies\":{\"topMovies\":\"\\\\u002Fbrowse\\\\u002Fmovies_at_home\\\\u002Fsort:popular\",\"trailers\":\"\\\\u002Ftrailers\"},\"tvTonight\":\"\\\\u002Fbrowse\\\\u002Ftv_series_browse\\\\u002Fsort:newest\",\"tvPopular\":\"\\\\u002Fbrowse\\\\u002Ftv_series_browse\\\\u002Fsort:popular\",\"moreTv\":{\"topTv\":\"\\\\u002Fbrowse\\\\u002Ftv_series_browse\\\\u002Fsort:popular\",\"certifiedFresh\":\"\\\\u002Fbrowse\\\\u002Ftv_series_browse\\\\u002Fcritics:fresh\"},\"editorial\":{\"allTimeLists\":\"https:\\\\u002F\\\\u002Feditorial.rottentomatoes.com\\\\u002Fall-time-lists\\\\u002F\",\"bingeGuide\":\"https:\\\\u002F\\\\u002Feditorial.rottentomatoes.com\\\\u002Fbinge-guide\\\\u002F\",\"comicsOnTv\":\"https:\\\\u002F\\\\u002Feditorial.rottentomatoes.com\\\\u002Fcomics-on-tv\\\\u002F\",\"countdown\":\"https:\\\\u002F\\\\u002Feditorial.rottentomatoes.com\\\\u002Fcountdown\\\\u002F\",\"fiveFavoriteFilms\":\"https:\\\\u002F\\\\u002Feditorial.rottentomatoes.com\\\\u002Ffive-favorite-films\\\\u002F\",\"videoInterviews\":\"https:\\\\u002F\\\\u002Feditorial.rottentomatoes.com\\\\u002Fvideo-interviews\\\\u002F\",\"weekendBoxOffice\":\"https:\\\\u002F\\\\u002Feditorial.rottentomatoes.com\\\\u002Fweekend-box-office\\\\u002F\",\"weeklyKetchup\":\"https:\\\\u002F\\\\u002Feditorial.rottentomatoes.com\\\\u002Fweekly-ketchup\\\\u002F\",\"whatToWatch\":\"https:\\\\u002F\\\\u002Feditorial.rottentomatoes.com\\\\u002Fwhat-to-watch\\\\u002F\"},\"advertisingFooter\":\"https:\\\\u002F\\\\u002Ftogether.nbcuni.com\\\\u002Fadvertise\\\\u002F?utm_source=rotten_tomatoes&utm_medium=referral&utm_campaign=property_ad_pages&utm_content=footer\",\"californiaNotice\":\"https:\\\\u002F\\\\u002Fwww.nbcuniversal.com\\\\u002Fprivacy\\\\u002Fcalifornia-consumer-privacy-act\",\"careers\":\"\\\\u002F\\\\u002Fwww.fandango.com\\\\u002Fcareers\",\"cookieManagement\":\"https:\\\\u002F\\\\u002Fwww.nbcuniversal.com\\\\u002Fprivacy\\\\u002Fcookies#accordionheader2\",\"fandangoAbout\":\"https:\\\\u002F\\\\u002Fwww.fandango.com\\\\u002Fabout-us\",\"privacyPolicy\":\"https:\\\\u002F\\\\u002Fwww.nbcuniversal.com\\\\u002Ffandango-privacy-policy\",\"termsPolicies\":\"\\\\u002Fpolicies\\\\u002Fterms-and-policies\"}};\\nroot.RottenTomatoes.thirdParty = {\"chartBeat\":{\"auth\":\"64558\",\"domain\":\"rottentomatoes.com\"},\"mpx\":{\"accountPid\":\"NGweTC\",\"playerPid\":\"y__7B0iQTi4P\",\"playerPidPDK6\":\"pdk6_y__7B0iQTi4P\",\"accountId\":\"2474312077\"},\"algoliaSearch\":{\"aId\":\"79FRDP12PN\",\"sId\":\"175588f6e5f8319b27702e4cc4013561\"},\"cognito\":{\"upId\":\"us-west-2_4L0ZX4b1U\",\"clientId\":\"7pu48v8i2n25t4vhes0edck31c\"}};\\nroot.RottenTomatoes.serviceWorker = {\"isServiceWokerOn\":true};\\nroot.__RT__ || (root.__RT__ = {});\\nroot.__RT__.featureFlags = {\"adsCarouselHP\":false,\"adsCarouselHPSlug\":\"rt-sponsored-carousel-list-mcdonalds-hp\",\"adsCarouselOP\":false,\"adsCarouselOPSlug\":\"rt-sponsored-carousel-list-mcdonalds-op\",\"adsMockDLP\":false,\"adsPages\":\"none\",\"adsVideoSpotlightHP\":false,\"artiEnabled\":false,\"authPasswordEnabled\":true,\"authVerboseLogs\":false,\"bypassCriticValidationEnabled\":false,\"castAndCrewEnabled\":true,\"editorialApiDisabled\":false,\"legacyBridge\":true,\"logVerboseEnabled\":false,\"mobileAppAndroid\":\"https:\\\\u002F\\\\u002Fplay.google.com\\\\u002Fstore\\\\u002Fapps\\\\u002Fdev?id=5657857426092552056&hl=en_US\",\"mobileAppIos\":\"https:\\\\u002F\\\\u002Fapps.apple.com\\\\u002Fus\\\\u002Fapp\\\\u002Ffandango-at-home\\\\u002Fid487285735\",\"mobileAppIosMeta\":\"app-id=487285735, app-argument=https:\\\\u002F\\\\u002Fathome.fandango.com\\\\u002F\",\"mobileNavEnabled\":false,\"pageJsonEnabled\":false,\"profilesFeaturesEnabled\":false,\"redesignMediaHeroEnabled\":true,\"redesignMoreLikeThis\":true,\"redesignSortTable\":true,\"trafficAndroidEnabled\":false,\"trafficSafariEnabled\":false,\"userMigrationEnabled\":true,\"videoGeoFencingEnabled\":true};\\nroot.RottenTomatoes.context.adsMockDLP = false;\\nroot.RottenTomatoes.context.req = {\"params\":{\"vanity\":\"et_the_extraterrestrial\"},\"query\":{},\"route\":{},\"url\":\"\\\\u002Fm\\\\u002Fet_the_extraterrestrial\\\\u002Fcast-and-crew\",\"secure\":false,\"buildVersion\":undefined};\\nroot.RottenTomatoes.context.config = {};\\nroot.BK = {\"PageName\":\"http:\\\\u002F\\\\u002Fwww.rottentomatoes.com\\\\u002Fm\\\\u002Fet_the_extraterrestrial\\\\u002Fcast-and-crew\",\"SiteID\":37528,\"SiteSection\":\"movie\",\"MovieId\":\"9ac889c9-a513-3596-a647-ab4f4554112f\",\"MovieTitle\":\"E.T. the Extra-Terrestrial\"};\\nroot.RottenTomatoes.dtmData = {\"customerId\":\"\",\"loggedInStatus\":\"\",\"rtVersion\":3.1,\"webVersion\":\"node\",\"emsID\":\"9ac889c9-a513-3596-a647-ab4f4554112f\",\"lifeCycleWindow\":\"OUT_OF_THEATERS\",\"pageName\":\"rt | movies | cast and crew | E.T. the Extra-Terrestrial\",\"titleGenre\":\"Kids family\",\"titleId\":\"9ac889c9-a513-3596-a647-ab4f4554112f\",\"titleName\":\"E.T. the Extra-Terrestrial\",\"titleType\":\"Movie\"};\\nroot.RottenTomatoes.context.gptSite = \"movie\";\\n\\n      }(this));\\n    </script>\\n\\n        <script fetchpriority=\"high\" src=\"/assets/pizza-pie/javascripts/bundles/roma/preload.41eb59600af.js\"></script>\\n\\n        <script  src=\"/assets/pizza-pie/javascripts/bundles/roma/vendors.a4cc402b78a.js\"></script>\\n\\n        <script  src=\"/assets/pizza-pie/javascripts/bundles/roma/default.f9f4105d1f7.js\"></script>\\n\\n        \\n            <script\\n                async\\n                data-SearchResultsNavManager=\"script:load\"\\n                src=\"https://cdn.jsdelivr.net/npm/algoliasearch@4/dist/algoliasearch-lite.umd.js\">\\n            </script>\\n            <script  src=\"/assets/pizza-pie/javascripts/templates/roma/searchNav.a3288ea5efe.js\"></script>\\n            <script  src=\"/assets/pizza-pie/javascripts/bundles/roma/searchNav.2b6d47e4cfe.js\"></script>\\n        \\n        \\n\\n  <script  src=\"/assets/pizza-pie/javascripts/templates/pages/castAndCrew/index.5ba96ff9ceb.js\"></script>\\n\\n    <script  src=\"/assets/pizza-pie/javascripts/bundles/pages/castAndCrew/index.858b85c48af.js\"></script>\\n\\n\\n        \\n            \\n            <script>\\n                if (window.mps && typeof window.mps.writeFooter === \\'function\\') {\\n                    window.mps.writeFooter();\\n                }\\n            </script>\\n            \\n        \\n\\n        \\n            \\n            <script>\\n                window._satellite && _satellite.pageBottom();\\n            </script>\\n            \\n        \\n    </body>\\n</html>\\n'"
      ]
     },
     "execution_count": 25,
     "metadata": {},
     "output_type": "execute_result"
    }
   ],
   "execution_count": 25
  },
  {
   "metadata": {
    "ExecuteTime": {
     "end_time": "2025-06-09T09:21:29.443716Z",
     "start_time": "2025-06-09T09:21:29.413394Z"
    }
   },
   "cell_type": "code",
   "source": [
    "#  remove HTML tags\n",
    "soup = BeautifulSoup(r.text, \"lxml\")\n",
    "soup.get_text()"
   ],
   "id": "49c36f064b0951d4",
   "outputs": [
    {
     "data": {
      "text/plain": [
       "\"\\n\\n\\n\\n\\n\\n\\n\\n\\n\\nE.T. the Extra-Terrestrial | Cast and Crew | Rotten Tomatoes\\n\\n\\n\\n\\n\\n\\n\\n\\n\\n\\n\\n\\n\\n\\n\\n\\n\\n\\n\\n\\n\\n\\n\\n\\n\\n\\n\\n\\n\\n\\n\\n'\\n\\n\\n        \\n\\n\\n\\n\\n\\n\\n\\n\\n\\n\\n\\n\\n\\n\\n\\n\\n\\n\\n\\n\\nSigned in\\n\\n\\n\\n\\n\\n\\n\\n\\n\\n\\n\\n\\n\\n\\n\\n\\n\\n\\n\\n\\n\\n\\n\\n\\n\\n\\n\\nSkip to Main Content\\n\\n\\n\\n\\n\\n\\n\\n\\n\\n\\n\\n\\n\\n\\n\\n\\n\\n\\n\\n\\n\\n\\n\\n\\n\\n\\n\\n\\n\\n\\n\\n        Cancel\\n      \\n\\n\\n\\n\\n\\n\\n\\n        About Rotten Tomatoes®\\n      \\n\\n\\n\\n        Critics\\n      \\n\\n\\n\\n\\n\\n            Login/signup\\n          \\n\\n\\n\\n\\n\\n\\n\\n\\n\\n\\n\\n\\n\\n\\n\\n\\n\\n\\n          \\xa0Wants to See\\n        \\n\\n\\n\\n          \\xa0Ratings\\n        \\nProfile\\nAccount\\nLog Out\\n\\n\\n\\n\\n\\n\\n        Movies\\n      \\n\\n\\nMovies in theaters\\n\\n\\nOpening This Week\\n\\n\\nTop Box Office\\n\\n\\nComing Soon to Theaters\\n\\n\\nCertified Fresh Movies\\n\\n\\n\\n\\nMovies at Home\\n\\n\\nFandango at Home\\n\\n\\nPeacock\\n\\n\\nNetflix\\n\\n\\nApple TV+\\n\\n\\nPrime Video\\n\\n\\nMost Popular Streaming movies\\n\\n\\nCertified Fresh movies\\n\\n\\nBrowse all\\n\\n\\n\\n\\nMore\\n\\n\\nWhat to WatchNew\\n\\n\\n\\n\\nCertified fresh picks\\n\\n\\n\\n\\n\\n\\n\\n\\n75%\\n\\nBallerina\\nLink to Ballerina\\n\\n\\n\\n\\n\\n\\n\\n\\n\\n\\n\\n85%\\n\\nDangerous Animals\\nLink to Dangerous Animals\\n\\n\\n\\n\\n\\n\\n\\n\\n\\n\\n\\n97%\\n\\nPredator: Killer of Killers\\nLink to Predator: Killer of Killers\\n\\n\\n\\n\\n\\n\\n\\n\\n\\n\\n        Tv shows\\n      \\n\\n\\n\\n              New TV Tonight\\n            \\n\\n\\n\\n\\n\\n--\\n\\n\\n        \\n            Revival: Season 1\\n        \\n    \\n\\n\\n\\n\\n\\n\\n--\\n\\n\\n        \\n            Tony Awards: Season 78\\n        \\n    \\n\\n\\n\\n\\n\\n\\n--\\n\\n\\n        \\n            Call Her Alex: Season 1\\n        \\n    \\n\\n\\n\\n\\n\\n\\n--\\n\\n\\n        \\n            The Kollective: Season 1\\n        \\n    \\n\\n\\n\\n\\n\\n\\n--\\n\\n\\n        \\n            FUBAR: Season 2\\n        \\n    \\n\\n\\n\\n\\n\\n\\n--\\n\\n\\n        \\n            Trainwreck: Season 1\\n        \\n    \\n\\n\\n\\n\\n\\n\\n--\\n\\n\\n        \\n            The Snake: Season 1\\n        \\n    \\n\\n\\n\\n\\n\\n\\n--\\n\\n\\n        \\n            Love Island: Season 12\\n        \\n    \\n\\n\\n\\n\\n\\n\\n--\\n\\n\\n        \\n            The Gilgo Beach Killer: House of Secrets: Season 1\\n        \\n    \\n\\n\\n\\n\\n                View All\\n            \\n\\n\\n\\n              Most Popular TV on RT\\n            \\n\\n\\n\\n\\n\\n84%\\n\\n\\n        \\n            Dept. Q: Season 1\\n        \\n    \\n\\n\\n\\n\\n\\n\\n79%\\n\\n\\n        \\n            Stick: Season 1\\n        \\n    \\n\\n\\n\\n\\n\\n\\n--\\n\\n\\n        \\n            The Survivors: Season 1\\n        \\n    \\n\\n\\n\\n\\n\\n\\n69%\\n\\n\\n        \\n            The Better Sister: Season 1\\n        \\n    \\n\\n\\n\\n\\n\\n\\n100%\\n\\n\\n        \\n            Secrets We Keep: Season 1\\n        \\n    \\n\\n\\n\\n\\n\\n\\n67%\\n\\n\\n        \\n            Ginny & Georgia: Season 3\\n        \\n    \\n\\n\\n\\n\\n\\n\\n97%\\n\\n\\n        \\n            Murderbot: Season 1\\n        \\n    \\n\\n\\n\\n\\n\\n\\n75%\\n\\n\\n        \\n            Sirens: Season 1\\n        \\n    \\n\\n\\n\\n\\n\\n\\n83%\\n\\n\\n        \\n            Tires: Season 2\\n        \\n    \\n\\n\\n\\n\\n\\n\\n95%\\n\\n\\n        \\n            The Eternaut: Season 1\\n        \\n    \\n\\n\\n\\n\\n                View All\\n            \\n\\n\\nMore\\n\\n\\n\\n                What to WatchNew\\n\\n\\n\\n\\nBest TV Shows\\n\\n\\n\\n\\nMost Popular TV\\n\\n\\n\\n\\nFandango at Home\\n\\n\\n\\n\\nPeacock\\n\\n\\n\\n\\nParamount+\\n\\n\\n\\n\\nNetflix\\n\\n\\n\\n\\nPrime Video\\n\\n\\n\\n\\nApple TV+\\n\\n\\n\\n\\n\\n\\n              Certified fresh pick\\n            \\n\\n\\n\\n\\n\\n\\n\\n\\n79%\\n\\nStick: Season 1\\nLink to Stick: Season 1\\n\\n\\n\\n\\n\\n\\n\\n\\n\\n\\n          FanStore\\n          \\nNew\\n\\n\\n\\n\\n\\n        News\\n      \\n\\n\\nColumns\\n\\n\\n\\n                All-Time Lists\\n              \\n\\n\\n\\n                Binge Guide\\n              \\n\\n\\n\\n                Comics on TV\\n              \\n\\n\\n\\n                Countdown\\n              \\n\\n\\n\\n                Five Favorite Films\\n              \\n\\n\\n\\n                Video Interviews\\n              \\n\\n\\nWeekend Box Office\\n            \\n\\n\\n\\n                Weekly Ketchup\\n              \\n\\n\\n\\n                What to Watch\\n              \\n\\n\\n\\n\\nGuides\\n\\n\\n\\n\\n\\n\\n37 Batman Movies (Batman Forever), Ranked by Tomatometer\\nLink to 37 Batman Movies (Batman Forever), Ranked by Tomatometer\\n\\n\\n\\n\\n\\n\\n\\n\\n\\n100 Best Movies of 2000 (Titan A.E.), Ranked by Tomatometer\\nLink to 100 Best Movies of 2000 (Titan A.E.), Ranked by Tomatometer\\n\\n\\n\\n\\n\\n\\n              View All\\n            \\n\\n\\nHubs\\n\\n\\n\\n\\n\\n\\nWhat to Watch: In Theaters and On Streaming\\nLink to What to Watch: In Theaters and On Streaming\\n\\n\\n\\n\\n\\n\\n\\n\\n\\nAwards Tour\\nLink to Awards Tour\\n\\n\\n\\n\\n\\n\\n              View All\\n            \\n\\n\\nRT News\\n\\n\\n\\n\\n\\n\\nU2 Legend Bono Reveals Inspiration Behind Stories of Surrender\\nLink to U2 Legend Bono Reveals Inspiration Behind Stories of Surrender\\n\\n\\n\\n\\n\\n\\n\\n\\n\\nPredator: Killer of Killers First Reviews: “Every Predator Fan’s Dream Come True”\\nLink to Predator: Killer of Killers First Reviews: “Every Predator Fan’s Dream Come True”\\n\\n\\n\\n\\n\\n\\n              View All\\n            \\n\\n\\n\\n\\n\\n        Showtimes\\n      \\n\\n\\n\\n\\n\\n\\n\\n\\n\\n\\nTrending on RT\\n Renewed & Cancelled TV \\n Re-Release Calendar \\n Predator Movies Ranked \\n Best New Horror \\n\\n\\n\\n\\n\\n\\n\\n\\n\\n\\n\\n\\n\\n\\n\\n\\n\\n\\n\\n\\n      E.T. the Extra-Terrestrial: Full Cast & Crew\\n    \\nReleased Jun 11, 1982\\nKids & Family/Sci-Fi/Adventure\\n\\n\\n\\n\\n\\n\\n\\n\\n\\n\\n\\n\\nAfter a gentle alien becomes stranded on Earth, the being is discovered and befriended by a young boy named Elliott (Henry Thomas). Bringing the extraterrestrial into his suburban California house, Elliott introduces E.T., as the alien is dubbed, to his brother and his little sister, Gertie (Drew Barrymore), and the children decide to keep its existence a secret. Soon, however, E.T. falls ill, resulting in government intervention and a dire situation for both Elliott and the alien.\\n\\n\\n\\n\\n\\n\\n\\nPG\\nReleased: Jun 11, 1982\\n\\n        See Movie Details\\n      \\n\\n\\n\\n\\n\\n\\n\\n\\n\\n\\n\\n\\nCast & Crew\\n\\n All \\n Cast \\n Crew \\n\\n\\n\\n\\n\\n\\nSteven Spielberg\\n\\nDirector, Producer\\n\\n\\n\\nHenry Thomas\\nElliott\\nActor\\n\\n\\n\\nDee Wallace\\nMary\\nActor\\n\\n\\n\\nPeter Coyote\\nKeys\\nActor\\n\\n\\n\\nDrew Barrymore\\nGertie\\nActor\\n\\n\\n\\nC. Thomas Howell\\nTyler\\nActor\\n\\n\\n\\nRobert MacNaughton\\nMichael\\nActor\\n\\n\\n\\nK.C. Martel\\nGreg\\nActor\\n\\n\\n\\nSean Frye\\nSteve\\nActor\\n\\n\\n\\nMelissa Mathison\\n\\nScreenwriter, Executive Producer\\n\\n\\n\\nKathleen Kennedy\\n\\nProducer\\n\\n\\n\\nAllen Daviau\\n\\nCinematographer\\n\\n\\n\\nCarol Littleton\\n\\nFilm Editing\\n\\n\\n\\nJohn Williams\\n\\nOriginal Music\\n\\n\\n\\nJim Bissell\\n\\nProduction Design\\n\\n\\n\\nJackie Carr\\n\\nSet Decoration\\n\\n\\n\\nDeborah Lynn Scott\\n\\nCostume Design\\n\\n\\n\\nMarci Liroff\\n\\nCasting\\n\\n\\n\\nMike Fenton\\n\\nCasting\\n\\n\\n\\nJane Feinberg\\n\\nCasting\\n\\n\\n\\n\\n\\nNo Cast and Crew\\n\\n\\n\\n\\n\\n\\n\\n\\n\\n\\n\\n\\n\\n\\n\\n\\n\\n\\n\\n\\n\\n\\n\\n\\n\\n\\n\\n\\n\\n\\n\\nHelp\\n\\n\\nAbout Rotten Tomatoes\\n\\n\\n\\n\\n\\n\\n\\n\\nCritic Submission\\n\\n\\nLicensing\\n\\n\\nAdvertise With Us\\n\\n\\nCareers\\n\\n\\n\\n\\n\\n\\u2002Join the Newsletter\\n            \\nGet the freshest reviews, news, and more delivered right to your inbox!\\n\\n                Join The Newsletter\\n            \\n\\n                Join The Newsletter\\n            \\n\\n\\nFollow Us\\n\\n\\n\\n\\n\\n\\n\\n\\n\\nCopyright © Fandango. All rights reserved.\\n\\n\\nJoin The Newsletter\\n\\nJoin The Newsletter\\n\\n\\n\\n                        Privacy Policy\\n                    \\n\\n\\nTerms and Policies\\n\\n\\n\\n\\nCookie Settings\\n\\n\\n\\nCalifornia Notice\\n\\n\\nAd Choices\\n\\n\\n\\n\\nAccessibility\\n\\n\\n\\n\\n\\n\\n\\nV3.1\\n\\n\\n\\n                    Privacy Policy\\n                \\n\\n\\nTerms and Policies\\n\\n\\n\\n\\nCookie Settings\\n\\n\\n\\nCalifornia Notice\\n\\n\\nAd Choices\\n\\n\\nAccessibility\\n\\n\\n\\n            Copyright © Fandango. A Division of\\n            NBCUniversal.\\n            All rights reserved.\\n        \\n\\n\\n\\n\\n\\n\\n\\n\\n\\n\\n\\n\\n\\n\\n\\n\""
      ]
     },
     "execution_count": 26,
     "metadata": {},
     "output_type": "execute_result"
    }
   ],
   "execution_count": 26
  },
  {
   "metadata": {
    "ExecuteTime": {
     "end_time": "2025-06-09T09:22:36.976987Z",
     "start_time": "2025-06-09T09:22:36.971382Z"
    }
   },
   "cell_type": "code",
   "source": [
    "# Find cast crew summaries\n",
    "crew = soup.find_all('cast-and-crew-card')\n",
    "print('Number of people in the cast crew:', len(crew))"
   ],
   "id": "4719257ed3d45173",
   "outputs": [
    {
     "name": "stdout",
     "output_type": "stream",
     "text": [
      "Number of people in the cast crew: 20\n"
     ]
    }
   ],
   "execution_count": 29
  },
  {
   "metadata": {
    "ExecuteTime": {
     "end_time": "2025-06-09T09:22:43.127279Z",
     "start_time": "2025-06-09T09:22:43.122659Z"
    }
   },
   "cell_type": "code",
   "source": [
    "# Inspect the first crew member to find tags for the member's name and role\n",
    "# print the first summary in crew\n",
    "print(crew[0].prettify())"
   ],
   "id": "8e01c20d5aa75a7c",
   "outputs": [
    {
     "name": "stdout",
     "output_type": "stream",
     "text": [
      "<cast-and-crew-card data-castandcrewmanager=\"card\" data-role=\"all,crew\" mediaurl=\"/celebrity/steve_spielberg\" skeleton=\"panel\">\n",
      " <rt-img loading=\"lazy\" slot=\"poster\" src=\"https://resizing.flixster.com/y_qsV1N0tCBNNcdHhCPZqbH96so=/68x102/v2/https://resizing.flixster.com/-XZAfHZM39UwaGJIFWKAE8fS0ak=/v3/t/assets/1672_v9_bc.jpg\">\n",
      " </rt-img>\n",
      " <rt-text context=\"label\" slot=\"title\">\n",
      "  Steven Spielberg\n",
      " </rt-text>\n",
      " <rt-text slot=\"characters\">\n",
      " </rt-text>\n",
      " <rt-text slot=\"credits\">\n",
      "  Director, Producer\n",
      " </rt-text>\n",
      "</cast-and-crew-card>\n",
      "\n"
     ]
    }
   ],
   "execution_count": 30
  },
  {
   "metadata": {
    "ExecuteTime": {
     "end_time": "2025-06-09T09:24:19.672940Z",
     "start_time": "2025-06-09T09:24:19.667507Z"
    }
   },
   "cell_type": "code",
   "source": [
    "# Look for tags that contain the actor/actress's name and the role that you want to extract. Then, use the find_all method on the crew object to pull out the html with those tags.\n",
    "# Afterwards, don't forget to do some extra cleaning to isolate the names (get rid of unnecessary html).\n",
    "# Extract name\n",
    "crew[0].find_all('rt-text')[0].get_text().strip()"
   ],
   "id": "9f7d75f7a95700e1",
   "outputs": [
    {
     "data": {
      "text/plain": [
       "'Steven Spielberg'"
      ]
     },
     "execution_count": 37,
     "metadata": {},
     "output_type": "execute_result"
    }
   ],
   "execution_count": 37
  },
  {
   "metadata": {
    "ExecuteTime": {
     "end_time": "2025-06-09T09:24:49.464348Z",
     "start_time": "2025-06-09T09:24:49.459168Z"
    }
   },
   "cell_type": "code",
   "source": [
    "# Extract role\n",
    "crew[0].find_all('rt-text')[2].get_text().strip()"
   ],
   "id": "6d79f2e16042a624",
   "outputs": [
    {
     "data": {
      "text/plain": [
       "'Director, Producer'"
      ]
     },
     "execution_count": 39,
     "metadata": {},
     "output_type": "execute_result"
    }
   ],
   "execution_count": 39
  },
  {
   "metadata": {
    "ExecuteTime": {
     "end_time": "2025-06-09T09:25:14.455803Z",
     "start_time": "2025-06-09T09:25:14.450337Z"
    }
   },
   "cell_type": "code",
   "source": [
    "# Collect names and roles of ALL memeber listings\n",
    "name_role = []\n",
    "for summary in crew:\n",
    "    # append name and role of each summary to name_role list\n",
    "    name = summary.find_all('rt-text')[0].get_text().strip()\n",
    "    role = summary.find_all('rt-text')[2].get_text().strip()\n",
    "    name_role.append((name, role))\n",
    "\n",
    "print(len(name_role), \"actors found in cast crew. Sample:\")\n",
    "name_role[:5]"
   ],
   "id": "59c855c9aadb0fe2",
   "outputs": [
    {
     "name": "stdout",
     "output_type": "stream",
     "text": [
      "20 actors found in cast crew. Sample:\n"
     ]
    },
    {
     "data": {
      "text/plain": [
       "[('Steven Spielberg', 'Director, Producer'),\n",
       " ('Henry Thomas', 'Actor'),\n",
       " ('Dee Wallace', 'Actor'),\n",
       " ('Peter Coyote', 'Actor'),\n",
       " ('Drew Barrymore', 'Actor')]"
      ]
     },
     "execution_count": 40,
     "metadata": {},
     "output_type": "execute_result"
    }
   ],
   "execution_count": 40
  },
  {
   "metadata": {},
   "cell_type": "markdown",
   "source": "## 2. Normalization",
   "id": "b19abf8536c79fa6"
  },
  {
   "metadata": {
    "ExecuteTime": {
     "end_time": "2025-06-09T09:27:32.760988Z",
     "start_time": "2025-06-09T09:27:32.757139Z"
    }
   },
   "cell_type": "code",
   "source": [
    "text = \"The first time you see The Second Renaissance it may look boring. Look at it at least twice and definitely watch part 2. It will change your view of the matrix. Are the human people the ones who started the war ? Is AI a bad thing ?\"\n",
    "print(text)"
   ],
   "id": "db3f5c2776787bc2",
   "outputs": [
    {
     "name": "stdout",
     "output_type": "stream",
     "text": [
      "The first time you see The Second Renaissance it may look boring. Look at it at least twice and definitely watch part 2. It will change your view of the matrix. Are the human people the ones who started the war ? Is AI a bad thing ?\n"
     ]
    }
   ],
   "execution_count": 41
  },
  {
   "metadata": {
    "ExecuteTime": {
     "end_time": "2025-06-09T09:27:38.793004Z",
     "start_time": "2025-06-09T09:27:38.787894Z"
    }
   },
   "cell_type": "code",
   "source": [
    "# Convert to lowercase\n",
    "text = text.lower()\n",
    "print(text)"
   ],
   "id": "2dbb2f377624f64b",
   "outputs": [
    {
     "name": "stdout",
     "output_type": "stream",
     "text": [
      "the first time you see the second renaissance it may look boring. look at it at least twice and definitely watch part 2. it will change your view of the matrix. are the human people the ones who started the war ? is ai a bad thing ?\n"
     ]
    }
   ],
   "execution_count": 42
  },
  {
   "metadata": {
    "ExecuteTime": {
     "end_time": "2025-06-09T09:28:07.185037Z",
     "start_time": "2025-06-09T09:28:07.180818Z"
    }
   },
   "cell_type": "code",
   "source": [
    "# Remove punctuation characters\n",
    "text = re.sub(r\"[^a-zA-Z0-9]\", \" \", text)\n",
    "print(text)"
   ],
   "id": "be13d1d0fd54e75",
   "outputs": [
    {
     "name": "stdout",
     "output_type": "stream",
     "text": [
      "the first time you see the second renaissance it may look boring  look at it at least twice and definitely watch part 2  it will change your view of the matrix  are the human people the ones who started the war   is ai a bad thing  \n"
     ]
    }
   ],
   "execution_count": 44
  },
  {
   "metadata": {},
   "cell_type": "markdown",
   "source": "## 3. Tokenization",
   "id": "8dcc0ce44791ded5"
  },
  {
   "metadata": {
    "ExecuteTime": {
     "end_time": "2025-06-09T09:34:08.591398Z",
     "start_time": "2025-06-09T09:34:06.363285Z"
    }
   },
   "cell_type": "code",
   "source": "nltk.download('punkt_tab')",
   "id": "6bfffd020ab6a1f7",
   "outputs": [
    {
     "name": "stderr",
     "output_type": "stream",
     "text": [
      "[nltk_data] Downloading package punkt_tab to /home/hieu/nltk_data...\n",
      "[nltk_data]   Unzipping tokenizers/punkt_tab.zip.\n"
     ]
    },
    {
     "data": {
      "text/plain": [
       "True"
      ]
     },
     "execution_count": 50,
     "metadata": {},
     "output_type": "execute_result"
    }
   ],
   "execution_count": 50
  },
  {
   "metadata": {
    "ExecuteTime": {
     "end_time": "2025-06-09T09:32:48.093083Z",
     "start_time": "2025-06-09T09:32:48.089799Z"
    }
   },
   "cell_type": "code",
   "source": [
    "text = \"Dr. Smith graduated from the University of Washington. He later started an analytics firm called Lux, which catered to enterprise customers.\"\n",
    "print(text)"
   ],
   "id": "46db101c2e35886e",
   "outputs": [
    {
     "name": "stdout",
     "output_type": "stream",
     "text": [
      "Dr. Smith graduated from the University of Washington. He later started an analytics firm called Lux, which catered to enterprise customers.\n"
     ]
    }
   ],
   "execution_count": 48
  },
  {
   "metadata": {
    "ExecuteTime": {
     "end_time": "2025-06-09T09:34:11.183424Z",
     "start_time": "2025-06-09T09:34:11.162496Z"
    }
   },
   "cell_type": "code",
   "source": [
    "# Split text into words using NLTK\n",
    "words = word_tokenize(text)\n",
    "print(words)"
   ],
   "id": "48798558b7914ee8",
   "outputs": [
    {
     "name": "stdout",
     "output_type": "stream",
     "text": [
      "['Dr.', 'Smith', 'graduated', 'from', 'the', 'University', 'of', 'Washington', '.', 'He', 'later', 'started', 'an', 'analytics', 'firm', 'called', 'Lux', ',', 'which', 'catered', 'to', 'enterprise', 'customers', '.']\n"
     ]
    }
   ],
   "execution_count": 51
  },
  {
   "metadata": {
    "ExecuteTime": {
     "end_time": "2025-06-09T09:37:20.827872Z",
     "start_time": "2025-06-09T09:37:20.822387Z"
    }
   },
   "cell_type": "code",
   "source": [
    "# Split text into sentences\n",
    "sentences = sent_tokenize(text)\n",
    "print(sentences)"
   ],
   "id": "4dbe92d5ead68aec",
   "outputs": [
    {
     "name": "stdout",
     "output_type": "stream",
     "text": [
      "['Dr. Smith graduated from the University of Washington.', 'He later started an analytics firm called Lux, which catered to enterprise customers.']\n"
     ]
    }
   ],
   "execution_count": 52
  },
  {
   "metadata": {},
   "cell_type": "markdown",
   "source": "## 4. Stop Words",
   "id": "bc953e2497f84a40"
  },
  {
   "metadata": {
    "ExecuteTime": {
     "end_time": "2025-06-09T09:39:45.587298Z",
     "start_time": "2025-06-09T09:39:45.583523Z"
    }
   },
   "cell_type": "code",
   "source": [
    "text = \"The first time you see The Second Renaissance it may look boring. Look at it at least twice and definitely watch part 2. It will change your view of the matrix. Are the human people the ones who started the war ? Is AI a bad thing ?\"\n",
    "print(text)"
   ],
   "id": "c2cde21149d8d790",
   "outputs": [
    {
     "name": "stdout",
     "output_type": "stream",
     "text": [
      "The first time you see The Second Renaissance it may look boring. Look at it at least twice and definitely watch part 2. It will change your view of the matrix. Are the human people the ones who started the war ? Is AI a bad thing ?\n"
     ]
    }
   ],
   "execution_count": 54
  },
  {
   "metadata": {
    "ExecuteTime": {
     "end_time": "2025-06-09T09:39:45.796816Z",
     "start_time": "2025-06-09T09:39:45.794226Z"
    }
   },
   "cell_type": "code",
   "source": [
    "# Normalize text\n",
    "text = re.sub(r\"[^a-zA-Z0-9]\", \" \", text.lower())"
   ],
   "id": "8b12dd5837768c13",
   "outputs": [],
   "execution_count": 55
  },
  {
   "metadata": {
    "ExecuteTime": {
     "end_time": "2025-06-09T09:39:51.487459Z",
     "start_time": "2025-06-09T09:39:51.484177Z"
    }
   },
   "cell_type": "code",
   "source": [
    "# Tokenize text\n",
    "words = word_tokenize(text)\n",
    "print(words)"
   ],
   "id": "c4ab0f549776bd0e",
   "outputs": [
    {
     "name": "stdout",
     "output_type": "stream",
     "text": [
      "['the', 'first', 'time', 'you', 'see', 'the', 'second', 'renaissance', 'it', 'may', 'look', 'boring', 'look', 'at', 'it', 'at', 'least', 'twice', 'and', 'definitely', 'watch', 'part', '2', 'it', 'will', 'change', 'your', 'view', 'of', 'the', 'matrix', 'are', 'the', 'human', 'people', 'the', 'ones', 'who', 'started', 'the', 'war', 'is', 'ai', 'a', 'bad', 'thing']\n"
     ]
    }
   ],
   "execution_count": 56
  },
  {
   "metadata": {
    "ExecuteTime": {
     "end_time": "2025-06-09T09:39:57.493482Z",
     "start_time": "2025-06-09T09:39:57.481504Z"
    }
   },
   "cell_type": "code",
   "source": [
    "# Remove stop words\n",
    "words = [w for w in words if w not in stopwords.words(\"english\")]\n",
    "print(words)"
   ],
   "id": "2bd75afff5203db6",
   "outputs": [
    {
     "name": "stdout",
     "output_type": "stream",
     "text": [
      "['first', 'time', 'see', 'second', 'renaissance', 'may', 'look', 'boring', 'look', 'least', 'twice', 'definitely', 'watch', 'part', '2', 'change', 'view', 'matrix', 'human', 'people', 'ones', 'started', 'war', 'ai', 'bad', 'thing']\n"
     ]
    }
   ],
   "execution_count": 57
  },
  {
   "metadata": {
    "ExecuteTime": {
     "end_time": "2025-06-09T09:40:25.220189Z",
     "start_time": "2025-06-09T09:40:25.214667Z"
    }
   },
   "cell_type": "code",
   "source": "print(stopwords.words(\"english\"))",
   "id": "f0b7bb09435302e7",
   "outputs": [
    {
     "name": "stdout",
     "output_type": "stream",
     "text": [
      "['i', 'me', 'my', 'myself', 'we', 'our', 'ours', 'ourselves', 'you', \"you're\", \"you've\", \"you'll\", \"you'd\", 'your', 'yours', 'yourself', 'yourselves', 'he', 'him', 'his', 'himself', 'she', \"she's\", 'her', 'hers', 'herself', 'it', \"it's\", 'its', 'itself', 'they', 'them', 'their', 'theirs', 'themselves', 'what', 'which', 'who', 'whom', 'this', 'that', \"that'll\", 'these', 'those', 'am', 'is', 'are', 'was', 'were', 'be', 'been', 'being', 'have', 'has', 'had', 'having', 'do', 'does', 'did', 'doing', 'a', 'an', 'the', 'and', 'but', 'if', 'or', 'because', 'as', 'until', 'while', 'of', 'at', 'by', 'for', 'with', 'about', 'against', 'between', 'into', 'through', 'during', 'before', 'after', 'above', 'below', 'to', 'from', 'up', 'down', 'in', 'out', 'on', 'off', 'over', 'under', 'again', 'further', 'then', 'once', 'here', 'there', 'when', 'where', 'why', 'how', 'all', 'any', 'both', 'each', 'few', 'more', 'most', 'other', 'some', 'such', 'no', 'nor', 'not', 'only', 'own', 'same', 'so', 'than', 'too', 'very', 's', 't', 'can', 'will', 'just', 'don', \"don't\", 'should', \"should've\", 'now', 'd', 'll', 'm', 'o', 're', 've', 'y', 'ain', 'aren', \"aren't\", 'couldn', \"couldn't\", 'didn', \"didn't\", 'doesn', \"doesn't\", 'hadn', \"hadn't\", 'hasn', \"hasn't\", 'haven', \"haven't\", 'isn', \"isn't\", 'ma', 'mightn', \"mightn't\", 'mustn', \"mustn't\", 'needn', \"needn't\", 'shan', \"shan't\", 'shouldn', \"shouldn't\", 'wasn', \"wasn't\", 'weren', \"weren't\", 'won', \"won't\", 'wouldn', \"wouldn't\"]\n"
     ]
    }
   ],
   "execution_count": 58
  },
  {
   "metadata": {},
   "cell_type": "markdown",
   "source": [
    "## 5. POS and NER\n",
    "### 5.1. POS"
   ],
   "id": "accf3838dd595556"
  },
  {
   "metadata": {
    "ExecuteTime": {
     "end_time": "2025-06-09T09:41:58.903473Z",
     "start_time": "2025-06-09T09:41:57.957511Z"
    }
   },
   "cell_type": "code",
   "source": "nltk.download('averaged_perceptron_tagger_eng')",
   "id": "2dcec820e5a75fdc",
   "outputs": [
    {
     "name": "stderr",
     "output_type": "stream",
     "text": [
      "[nltk_data] Downloading package averaged_perceptron_tagger_eng to\n",
      "[nltk_data]     /home/hieu/nltk_data...\n",
      "[nltk_data]   Unzipping taggers/averaged_perceptron_tagger_eng.zip.\n"
     ]
    },
    {
     "data": {
      "text/plain": [
       "True"
      ]
     },
     "execution_count": 62,
     "metadata": {},
     "output_type": "execute_result"
    }
   ],
   "execution_count": 62
  },
  {
   "metadata": {
    "ExecuteTime": {
     "end_time": "2025-06-09T09:41:59.704441Z",
     "start_time": "2025-06-09T09:41:59.588054Z"
    }
   },
   "cell_type": "code",
   "source": [
    "text = \"I always lie down to tell a lie.\"\n",
    "# tokenize text\n",
    "sentence = word_tokenize(text)\n",
    "# tag each word with part of speech\n",
    "pos_tag(sentence)"
   ],
   "id": "ebb50ed353fc6ba3",
   "outputs": [
    {
     "data": {
      "text/plain": [
       "[('I', 'PRP'),\n",
       " ('always', 'RB'),\n",
       " ('lie', 'VBP'),\n",
       " ('down', 'RP'),\n",
       " ('to', 'TO'),\n",
       " ('tell', 'VB'),\n",
       " ('a', 'DT'),\n",
       " ('lie', 'NN'),\n",
       " ('.', '.')]"
      ]
     },
     "execution_count": 63,
     "metadata": {},
     "output_type": "execute_result"
    }
   ],
   "execution_count": 63
  },
  {
   "metadata": {},
   "cell_type": "markdown",
   "source": "### 5.2. NER",
   "id": "1ad95079f00c5a22"
  },
  {
   "metadata": {
    "ExecuteTime": {
     "end_time": "2025-06-09T09:46:58.614049Z",
     "start_time": "2025-06-09T09:46:58.049966Z"
    }
   },
   "cell_type": "code",
   "source": [
    "nltk.download('maxent_ne_chunker_tab')\n",
    "nltk.download('words')"
   ],
   "id": "aa6d2f24053cf526",
   "outputs": [
    {
     "name": "stderr",
     "output_type": "stream",
     "text": [
      "[nltk_data] Downloading package maxent_ne_chunker_tab to\n",
      "[nltk_data]     /home/hieu/nltk_data...\n",
      "[nltk_data]   Package maxent_ne_chunker_tab is already up-to-date!\n",
      "[nltk_data] Downloading package words to /home/hieu/nltk_data...\n",
      "[nltk_data]   Unzipping corpora/words.zip.\n"
     ]
    },
    {
     "data": {
      "text/plain": [
       "True"
      ]
     },
     "execution_count": 67,
     "metadata": {},
     "output_type": "execute_result"
    }
   ],
   "execution_count": 67
  },
  {
   "metadata": {
    "ExecuteTime": {
     "end_time": "2025-06-09T09:47:00.472946Z",
     "start_time": "2025-06-09T09:47:00.184337Z"
    }
   },
   "cell_type": "code",
   "source": [
    "text = \"Antonio joined Udacity Inc. in California.\"\n",
    "# tokenize, pos tag, then recognize named entities in text\n",
    "tree = ne_chunk(pos_tag(word_tokenize(text)))\n",
    "print(tree)"
   ],
   "id": "41baeebf1b262075",
   "outputs": [
    {
     "name": "stdout",
     "output_type": "stream",
     "text": [
      "(S\n",
      "  (PERSON Antonio/NNP)\n",
      "  joined/VBD\n",
      "  (ORGANIZATION Udacity/NNP Inc./NNP)\n",
      "  in/IN\n",
      "  (GPE California/NNP)\n",
      "  ./.)\n"
     ]
    }
   ],
   "execution_count": 68
  },
  {
   "metadata": {
    "ExecuteTime": {
     "end_time": "2025-06-09T09:47:06.999061Z",
     "start_time": "2025-06-09T09:47:06.994155Z"
    }
   },
   "cell_type": "code",
   "source": [
    "# Define a custom grammar\n",
    "my_grammar = nltk.CFG.fromstring(\"\"\"\n",
    "S -> NP VP\n",
    "PP -> P NP\n",
    "NP -> Det N | Det N PP | 'I'\n",
    "VP -> V NP | VP PP\n",
    "Det -> 'an' | 'my'\n",
    "N -> 'elephant' | 'pajamas'\n",
    "V -> 'shot'\n",
    "P -> 'in'\n",
    "\"\"\")\n",
    "parser = nltk.ChartParser(my_grammar)"
   ],
   "id": "198ba3b7b0c9a39c",
   "outputs": [],
   "execution_count": 69
  },
  {
   "metadata": {
    "ExecuteTime": {
     "end_time": "2025-06-09T09:47:08.663107Z",
     "start_time": "2025-06-09T09:47:08.641862Z"
    }
   },
   "cell_type": "code",
   "source": [
    "# Parse a sentence\n",
    "sentence = word_tokenize(\"I shot an elephant in my pajamas\")\n",
    "for tree in parser.parse(sentence):\n",
    "    print(tree)"
   ],
   "id": "f572d1a06a5ff575",
   "outputs": [
    {
     "name": "stdout",
     "output_type": "stream",
     "text": [
      "(S\n",
      "  (NP I)\n",
      "  (VP\n",
      "    (VP (V shot) (NP (Det an) (N elephant)))\n",
      "    (PP (P in) (NP (Det my) (N pajamas)))))\n",
      "(S\n",
      "  (NP I)\n",
      "  (VP\n",
      "    (V shot)\n",
      "    (NP (Det an) (N elephant) (PP (P in) (NP (Det my) (N pajamas))))))\n"
     ]
    }
   ],
   "execution_count": 70
  },
  {
   "metadata": {},
   "cell_type": "markdown",
   "source": "## 6. Stemming and Lemmatization",
   "id": "74849b98702a71f2"
  },
  {
   "metadata": {
    "ExecuteTime": {
     "end_time": "2025-06-09T09:48:17.452375Z",
     "start_time": "2025-06-09T09:48:17.448581Z"
    }
   },
   "cell_type": "code",
   "source": [
    "text = \"The first time you see The Second Renaissance it may look boring. Look at it at least twice and definitely watch part 2. It will change your view of the matrix. Are the human people the ones who started the war ? Is AI a bad thing ?\"\n",
    "\n",
    "# Normalize text\n",
    "text = re.sub(r\"[^a-zA-Z0-9]\", \" \", text.lower())\n",
    "\n",
    "# Tokenize text\n",
    "words = text.split()\n",
    "print(words)"
   ],
   "id": "c18d725beac2aab5",
   "outputs": [
    {
     "name": "stdout",
     "output_type": "stream",
     "text": [
      "['the', 'first', 'time', 'you', 'see', 'the', 'second', 'renaissance', 'it', 'may', 'look', 'boring', 'look', 'at', 'it', 'at', 'least', 'twice', 'and', 'definitely', 'watch', 'part', '2', 'it', 'will', 'change', 'your', 'view', 'of', 'the', 'matrix', 'are', 'the', 'human', 'people', 'the', 'ones', 'who', 'started', 'the', 'war', 'is', 'ai', 'a', 'bad', 'thing']\n"
     ]
    }
   ],
   "execution_count": 71
  },
  {
   "metadata": {
    "ExecuteTime": {
     "end_time": "2025-06-09T09:48:23.207315Z",
     "start_time": "2025-06-09T09:48:23.198827Z"
    }
   },
   "cell_type": "code",
   "source": [
    "# Remove stop words\n",
    "words = [w for w in words if w not in stopwords.words(\"english\")]\n",
    "print(words)"
   ],
   "id": "bebed078f8e30112",
   "outputs": [
    {
     "name": "stdout",
     "output_type": "stream",
     "text": [
      "['first', 'time', 'see', 'second', 'renaissance', 'may', 'look', 'boring', 'look', 'least', 'twice', 'definitely', 'watch', 'part', '2', 'change', 'view', 'matrix', 'human', 'people', 'ones', 'started', 'war', 'ai', 'bad', 'thing']\n"
     ]
    }
   ],
   "execution_count": 72
  },
  {
   "metadata": {},
   "cell_type": "markdown",
   "source": "### 6.1. Stemming",
   "id": "59c3f6e269248f9d"
  },
  {
   "metadata": {
    "ExecuteTime": {
     "end_time": "2025-06-09T09:48:47.000592Z",
     "start_time": "2025-06-09T09:48:46.993809Z"
    }
   },
   "cell_type": "code",
   "source": [
    "# Reduce words to their stems\n",
    "stemmed = [PorterStemmer().stem(w) for w in words]\n",
    "print(stemmed)"
   ],
   "id": "b9e25ad90ece6361",
   "outputs": [
    {
     "name": "stdout",
     "output_type": "stream",
     "text": [
      "['first', 'time', 'see', 'second', 'renaiss', 'may', 'look', 'bore', 'look', 'least', 'twice', 'definit', 'watch', 'part', '2', 'chang', 'view', 'matrix', 'human', 'peopl', 'one', 'start', 'war', 'ai', 'bad', 'thing']\n"
     ]
    }
   ],
   "execution_count": 74
  },
  {
   "metadata": {},
   "cell_type": "markdown",
   "source": "### 6.2. Lemmatization",
   "id": "faa40951c1adb25"
  },
  {
   "metadata": {
    "ExecuteTime": {
     "end_time": "2025-06-09T09:50:43.591325Z",
     "start_time": "2025-06-09T09:50:40.653087Z"
    }
   },
   "cell_type": "code",
   "source": [
    "# Reduce words to their root form\n",
    "lemmed = [WordNetLemmatizer().lemmatize(w) for w in words]\n",
    "print(lemmed)"
   ],
   "id": "58fef8042ef51516",
   "outputs": [
    {
     "name": "stdout",
     "output_type": "stream",
     "text": [
      "['first', 'time', 'see', 'second', 'renaissance', 'may', 'look', 'boring', 'look', 'least', 'twice', 'definitely', 'watch', 'part', '2', 'change', 'view', 'matrix', 'human', 'people', 'one', 'started', 'war', 'ai', 'bad', 'thing']\n"
     ]
    }
   ],
   "execution_count": 76
  },
  {
   "metadata": {},
   "cell_type": "markdown",
   "source": "## 7. Bag of Words and TF-IDF",
   "id": "b3296ad500bb3926"
  },
  {
   "metadata": {
    "ExecuteTime": {
     "end_time": "2025-06-09T09:53:47.739478Z",
     "start_time": "2025-06-09T09:53:47.736391Z"
    }
   },
   "cell_type": "code",
   "source": [
    "corpus = [\"The first time you see The Second Renaissance it may look boring.\",\n",
    "        \"Look at it at least twice and definitely watch part 2.\",\n",
    "        \"It will change your view of the matrix.\",\n",
    "        \"Are the human people the ones who started the war?\",\n",
    "        \"Is AI a bad thing ?\"]"
   ],
   "id": "7ba0392995a60bb5",
   "outputs": [],
   "execution_count": 77
  },
  {
   "metadata": {
    "ExecuteTime": {
     "end_time": "2025-06-09T09:53:48.238015Z",
     "start_time": "2025-06-09T09:53:48.234551Z"
    }
   },
   "cell_type": "code",
   "source": [
    "stop_words = stopwords.words(\"english\")\n",
    "lemmatizer = WordNetLemmatizer()"
   ],
   "id": "388a9a47fb52008f",
   "outputs": [],
   "execution_count": 78
  },
  {
   "metadata": {
    "ExecuteTime": {
     "end_time": "2025-06-09T09:53:56.963301Z",
     "start_time": "2025-06-09T09:53:56.959660Z"
    }
   },
   "cell_type": "code",
   "source": [
    "def tokenize(text):\n",
    "    # normalize case and remove punctuation\n",
    "    text = re.sub(r\"[^a-zA-Z0-9]\", \" \", text.lower())\n",
    "\n",
    "    # tokenize text\n",
    "    tokens = word_tokenize(text)\n",
    "\n",
    "    # lemmatize andremove stop words\n",
    "    tokens = [lemmatizer.lemmatize(word) for word in tokens if word not in stop_words]\n",
    "\n",
    "    return tokens"
   ],
   "id": "ce895dfaac60c8fd",
   "outputs": [],
   "execution_count": 79
  },
  {
   "metadata": {},
   "cell_type": "markdown",
   "source": "### 7.1. `CountVectorizer` (Bag of Words)",
   "id": "3f7098bc6b185d23"
  },
  {
   "metadata": {
    "ExecuteTime": {
     "end_time": "2025-06-09T09:54:39.316639Z",
     "start_time": "2025-06-09T09:54:39.309627Z"
    }
   },
   "cell_type": "code",
   "source": [
    "# initialize count vectorizer object\n",
    "vect = CountVectorizer(tokenizer=tokenize)\n",
    "\n",
    "# get counts of each token (word) in text data\n",
    "X = vect.fit_transform(corpus)\n",
    "\n",
    "# convert sparse matrix to numpy array to view\n",
    "X.toarray()"
   ],
   "id": "12c99a78d732eecc",
   "outputs": [
    {
     "data": {
      "text/plain": [
       "array([[0, 0, 0, 1, 0, 0, 1, 0, 0, 1, 0, 1, 0, 0, 0, 1, 1, 1, 0, 0, 1, 0,\n",
       "        0, 0, 0],\n",
       "       [1, 0, 0, 0, 0, 1, 0, 0, 1, 1, 0, 0, 0, 1, 0, 0, 0, 0, 0, 0, 0, 1,\n",
       "        0, 0, 1],\n",
       "       [0, 0, 0, 0, 1, 0, 0, 0, 0, 0, 1, 0, 0, 0, 0, 0, 0, 0, 0, 0, 0, 0,\n",
       "        1, 0, 0],\n",
       "       [0, 0, 0, 0, 0, 0, 0, 1, 0, 0, 0, 0, 1, 0, 1, 0, 0, 0, 1, 0, 0, 0,\n",
       "        0, 1, 0],\n",
       "       [0, 1, 1, 0, 0, 0, 0, 0, 0, 0, 0, 0, 0, 0, 0, 0, 0, 0, 0, 1, 0, 0,\n",
       "        0, 0, 0]])"
      ]
     },
     "execution_count": 82,
     "metadata": {},
     "output_type": "execute_result"
    }
   ],
   "execution_count": 82
  },
  {
   "metadata": {
    "ExecuteTime": {
     "end_time": "2025-06-09T09:54:53.247042Z",
     "start_time": "2025-06-09T09:54:53.241639Z"
    }
   },
   "cell_type": "code",
   "source": [
    "# view token vocabulary and counts\n",
    "vect.vocabulary_"
   ],
   "id": "4702d0e64b521385",
   "outputs": [
    {
     "data": {
      "text/plain": [
       "{'first': 6,\n",
       " 'time': 20,\n",
       " 'see': 17,\n",
       " 'second': 16,\n",
       " 'renaissance': 15,\n",
       " 'may': 11,\n",
       " 'look': 9,\n",
       " 'boring': 3,\n",
       " 'least': 8,\n",
       " 'twice': 21,\n",
       " 'definitely': 5,\n",
       " 'watch': 24,\n",
       " 'part': 13,\n",
       " '2': 0,\n",
       " 'change': 4,\n",
       " 'view': 22,\n",
       " 'matrix': 10,\n",
       " 'human': 7,\n",
       " 'people': 14,\n",
       " 'one': 12,\n",
       " 'started': 18,\n",
       " 'war': 23,\n",
       " 'ai': 1,\n",
       " 'bad': 2,\n",
       " 'thing': 19}"
      ]
     },
     "execution_count": 83,
     "metadata": {},
     "output_type": "execute_result"
    }
   ],
   "execution_count": 83
  },
  {
   "metadata": {},
   "cell_type": "markdown",
   "source": "### 7.2. TF-IDF",
   "id": "eb83fb50ebfef340"
  },
  {
   "metadata": {
    "ExecuteTime": {
     "end_time": "2025-06-09T09:58:14.851195Z",
     "start_time": "2025-06-09T09:58:14.838951Z"
    }
   },
   "cell_type": "code",
   "source": [
    "# TfidfTransformer\n",
    "# initialize tf-idf transformer object\n",
    "transformer = TfidfTransformer(smooth_idf=False)\n",
    "\n",
    "# use counts from count vectorizer results to compute tf-idf values\n",
    "tfidf = transformer.fit_transform(X)\n",
    "\n",
    "# convert sparse matrix to numpy array to view\n",
    "tfidf.toarray()"
   ],
   "id": "77761b915582f4b4",
   "outputs": [
    {
     "data": {
      "text/plain": [
       "array([[0.        , 0.        , 0.        , 0.36419547, 0.        ,\n",
       "        0.        , 0.36419547, 0.        , 0.        , 0.26745392,\n",
       "        0.        , 0.36419547, 0.        , 0.        , 0.        ,\n",
       "        0.36419547, 0.36419547, 0.36419547, 0.        , 0.        ,\n",
       "        0.36419547, 0.        , 0.        , 0.        , 0.        ],\n",
       "       [0.39105193, 0.        , 0.        , 0.        , 0.        ,\n",
       "        0.39105193, 0.        , 0.        , 0.39105193, 0.28717648,\n",
       "        0.        , 0.        , 0.        , 0.39105193, 0.        ,\n",
       "        0.        , 0.        , 0.        , 0.        , 0.        ,\n",
       "        0.        , 0.39105193, 0.        , 0.        , 0.39105193],\n",
       "       [0.        , 0.        , 0.        , 0.        , 0.57735027,\n",
       "        0.        , 0.        , 0.        , 0.        , 0.        ,\n",
       "        0.57735027, 0.        , 0.        , 0.        , 0.        ,\n",
       "        0.        , 0.        , 0.        , 0.        , 0.        ,\n",
       "        0.        , 0.        , 0.57735027, 0.        , 0.        ],\n",
       "       [0.        , 0.        , 0.        , 0.        , 0.        ,\n",
       "        0.        , 0.        , 0.4472136 , 0.        , 0.        ,\n",
       "        0.        , 0.        , 0.4472136 , 0.        , 0.4472136 ,\n",
       "        0.        , 0.        , 0.        , 0.4472136 , 0.        ,\n",
       "        0.        , 0.        , 0.        , 0.4472136 , 0.        ],\n",
       "       [0.        , 0.57735027, 0.57735027, 0.        , 0.        ,\n",
       "        0.        , 0.        , 0.        , 0.        , 0.        ,\n",
       "        0.        , 0.        , 0.        , 0.        , 0.        ,\n",
       "        0.        , 0.        , 0.        , 0.        , 0.57735027,\n",
       "        0.        , 0.        , 0.        , 0.        , 0.        ]])"
      ]
     },
     "execution_count": 85,
     "metadata": {},
     "output_type": "execute_result"
    }
   ],
   "execution_count": 85
  },
  {
   "metadata": {
    "ExecuteTime": {
     "end_time": "2025-06-09T09:59:31.218470Z",
     "start_time": "2025-06-09T09:59:31.208881Z"
    }
   },
   "cell_type": "code",
   "source": [
    "# TfidfVectorizer\n",
    "# initialize tf-idf vectorizer object\n",
    "vectorizer = TfidfVectorizer()\n",
    "\n",
    "# compute bag of word counts and tf-idf values\n",
    "X = vectorizer.fit_transform(corpus)\n",
    "\n",
    "# convert sparse matrix to numpy array to view\n",
    "X.toarray()"
   ],
   "id": "848bdc919e47a459",
   "outputs": [
    {
     "data": {
      "text/plain": [
       "array([[0.        , 0.        , 0.        , 0.        , 0.        ,\n",
       "        0.30298183, 0.        , 0.        , 0.30298183, 0.        ,\n",
       "        0.        , 0.20291046, 0.        , 0.24444384, 0.        ,\n",
       "        0.30298183, 0.        , 0.        , 0.        , 0.        ,\n",
       "        0.30298183, 0.30298183, 0.30298183, 0.        , 0.40582093,\n",
       "        0.        , 0.30298183, 0.        , 0.        , 0.        ,\n",
       "        0.        , 0.        , 0.        , 0.30298183, 0.        ],\n",
       "       [0.        , 0.30015782, 0.        , 0.60031564, 0.        ,\n",
       "        0.        , 0.        , 0.30015782, 0.        , 0.        ,\n",
       "        0.        , 0.20101919, 0.30015782, 0.24216544, 0.        ,\n",
       "        0.        , 0.        , 0.        , 0.30015782, 0.        ,\n",
       "        0.        , 0.        , 0.        , 0.        , 0.        ,\n",
       "        0.        , 0.        , 0.30015782, 0.        , 0.        ,\n",
       "        0.30015782, 0.        , 0.        , 0.        , 0.        ],\n",
       "       [0.        , 0.        , 0.        , 0.        , 0.        ,\n",
       "        0.        , 0.38077552, 0.        , 0.        , 0.        ,\n",
       "        0.        , 0.25500981, 0.        , 0.        , 0.38077552,\n",
       "        0.        , 0.38077552, 0.        , 0.        , 0.        ,\n",
       "        0.        , 0.        , 0.        , 0.        , 0.25500981,\n",
       "        0.        , 0.        , 0.        , 0.38077552, 0.        ,\n",
       "        0.        , 0.        , 0.38077552, 0.        , 0.38077552],\n",
       "       [0.        , 0.        , 0.30101067, 0.        , 0.        ,\n",
       "        0.        , 0.        , 0.        , 0.        , 0.30101067,\n",
       "        0.        , 0.        , 0.        , 0.        , 0.        ,\n",
       "        0.        , 0.        , 0.30101067, 0.        , 0.30101067,\n",
       "        0.        , 0.        , 0.        , 0.30101067, 0.60477106,\n",
       "        0.        , 0.        , 0.        , 0.        , 0.30101067,\n",
       "        0.        , 0.30101067, 0.        , 0.        , 0.        ],\n",
       "       [0.5       , 0.        , 0.        , 0.        , 0.5       ,\n",
       "        0.        , 0.        , 0.        , 0.        , 0.        ,\n",
       "        0.5       , 0.        , 0.        , 0.        , 0.        ,\n",
       "        0.        , 0.        , 0.        , 0.        , 0.        ,\n",
       "        0.        , 0.        , 0.        , 0.        , 0.        ,\n",
       "        0.5       , 0.        , 0.        , 0.        , 0.        ,\n",
       "        0.        , 0.        , 0.        , 0.        , 0.        ]])"
      ]
     },
     "execution_count": 89,
     "metadata": {},
     "output_type": "execute_result"
    }
   ],
   "execution_count": 89
  }
 ],
 "metadata": {
  "kernelspec": {
   "display_name": "Python 3",
   "language": "python",
   "name": "python3"
  },
  "language_info": {
   "codemirror_mode": {
    "name": "ipython",
    "version": 2
   },
   "file_extension": ".py",
   "mimetype": "text/x-python",
   "name": "python",
   "nbconvert_exporter": "python",
   "pygments_lexer": "ipython2",
   "version": "2.7.6"
  }
 },
 "nbformat": 4,
 "nbformat_minor": 5
}

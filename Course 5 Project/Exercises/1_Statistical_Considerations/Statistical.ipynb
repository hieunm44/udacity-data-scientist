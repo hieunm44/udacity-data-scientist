{
 "cells": [
  {
   "metadata": {},
   "cell_type": "markdown",
   "source": "# Statistical Considerations",
   "id": "cde8d821095ab443"
  },
  {
   "cell_type": "code",
   "id": "initial_id",
   "metadata": {
    "collapsed": true,
    "ExecuteTime": {
     "end_time": "2025-06-09T11:54:04.623725Z",
     "start_time": "2025-06-09T11:54:03.140145Z"
    }
   },
   "source": [
    "import numpy as np\n",
    "import pandas as pd\n",
    "import scipy.stats as stats\n",
    "from statsmodels.stats import proportion as proptests\n",
    "\n",
    "import matplotlib.pyplot as plt"
   ],
   "outputs": [],
   "execution_count": 1
  },
  {
   "metadata": {},
   "cell_type": "markdown",
   "source": "## 1. Statistical Significance",
   "id": "d0d274f62575be33"
  },
  {
   "metadata": {
    "ExecuteTime": {
     "end_time": "2025-06-09T16:07:33.542150Z",
     "start_time": "2025-06-09T16:07:33.531006Z"
    }
   },
   "cell_type": "code",
   "source": [
    "data = pd.read_csv('statistical_significance_data.csv')\n",
    "data"
   ],
   "id": "1d192d5ecb6e1051",
   "outputs": [
    {
     "data": {
      "text/plain": [
       "     condition  click\n",
       "0            1      0\n",
       "1            0      0\n",
       "2            0      0\n",
       "3            1      1\n",
       "4            1      0\n",
       "..         ...    ...\n",
       "994          1      0\n",
       "995          0      0\n",
       "996          1      0\n",
       "997          0      0\n",
       "998          0      0\n",
       "\n",
       "[999 rows x 2 columns]"
      ],
      "text/html": [
       "<div>\n",
       "<style scoped>\n",
       "    .dataframe tbody tr th:only-of-type {\n",
       "        vertical-align: middle;\n",
       "    }\n",
       "\n",
       "    .dataframe tbody tr th {\n",
       "        vertical-align: top;\n",
       "    }\n",
       "\n",
       "    .dataframe thead th {\n",
       "        text-align: right;\n",
       "    }\n",
       "</style>\n",
       "<table border=\"1\" class=\"dataframe\">\n",
       "  <thead>\n",
       "    <tr style=\"text-align: right;\">\n",
       "      <th></th>\n",
       "      <th>condition</th>\n",
       "      <th>click</th>\n",
       "    </tr>\n",
       "  </thead>\n",
       "  <tbody>\n",
       "    <tr>\n",
       "      <th>0</th>\n",
       "      <td>1</td>\n",
       "      <td>0</td>\n",
       "    </tr>\n",
       "    <tr>\n",
       "      <th>1</th>\n",
       "      <td>0</td>\n",
       "      <td>0</td>\n",
       "    </tr>\n",
       "    <tr>\n",
       "      <th>2</th>\n",
       "      <td>0</td>\n",
       "      <td>0</td>\n",
       "    </tr>\n",
       "    <tr>\n",
       "      <th>3</th>\n",
       "      <td>1</td>\n",
       "      <td>1</td>\n",
       "    </tr>\n",
       "    <tr>\n",
       "      <th>4</th>\n",
       "      <td>1</td>\n",
       "      <td>0</td>\n",
       "    </tr>\n",
       "    <tr>\n",
       "      <th>...</th>\n",
       "      <td>...</td>\n",
       "      <td>...</td>\n",
       "    </tr>\n",
       "    <tr>\n",
       "      <th>994</th>\n",
       "      <td>1</td>\n",
       "      <td>0</td>\n",
       "    </tr>\n",
       "    <tr>\n",
       "      <th>995</th>\n",
       "      <td>0</td>\n",
       "      <td>0</td>\n",
       "    </tr>\n",
       "    <tr>\n",
       "      <th>996</th>\n",
       "      <td>1</td>\n",
       "      <td>0</td>\n",
       "    </tr>\n",
       "    <tr>\n",
       "      <th>997</th>\n",
       "      <td>0</td>\n",
       "      <td>0</td>\n",
       "    </tr>\n",
       "    <tr>\n",
       "      <th>998</th>\n",
       "      <td>0</td>\n",
       "      <td>0</td>\n",
       "    </tr>\n",
       "  </tbody>\n",
       "</table>\n",
       "<p>999 rows × 2 columns</p>\n",
       "</div>"
      ]
     },
     "execution_count": 14,
     "metadata": {},
     "output_type": "execute_result"
    }
   ],
   "execution_count": 14
  },
  {
   "metadata": {},
   "cell_type": "markdown",
   "source": [
    "In the dataset, the 'condition' column takes a 0 for the control group, and 1 for the experimental group. The 'click' column takes a values of 0 for no click, and 1 for a click.\n",
    "\n",
    "### 1.1. Invariant Metric\n",
    "Đầu tiên, ta cần kiểm tra number of visitors assigned to each group is similar. Nếu ta thấy two groups are imbalanced on invariant metric, thì cần kiểm tra how visitors were split để cho any sources of bias are accounted for.\n",
    "\n",
    "Ở đây ta muốn thực hiện một two-sided hypothesis test on proportion of visitors assigned to one of our conditions. Chọn control hay experimental condition ko quan trọng vì ta sẽ có cùng KQ.\n",
    "\n",
    "Nếu ta dùng simulation-based approach, ta sẽ simulate number of visitors that would be assigned to each group for number of total observations, giả sử ta có expected 50/50 split. Thực hiện nhiều lần (khoảng 200 000 repetitions) và xem how many simulated cases we get as extreme or more extreme a deviation from 50/50. Vì là two-sided test, an extreme case cũng có thể chứa values on opposite side of 50/50. (VD, simulated outcomes of .48 and lower are considered as being more extreme than an actual observation of 0.48, và simulated outcomes of .52 and higher cũng thế). Proportion of flagged simulation outcomes sẽ cho p-value, ta mong p-value đủ lớn để ko thể reject the null hypothesis.\n",
    "\n",
    "Nếu ta dùng analytic approach, ta có thể dùng exact binomial distribution để tính p-value. Cách phổ biến hơn là dùng normal distribution approximation. Để có precise p-value, ta cũng cần thực hiện continuity correction, bằng cách cộng thêm hoặc trừ đi 0.5 to the total count trước khi tính area underneath the curve. (VD nếu ta có 415 / 850 assigned to control group, thì normal approximation sẽ là area to left of $(415 + 0.5) / 850 = 0.489$ và to right of $(435 - 0.5) / 850 = 0.511$.)"
   ],
   "id": "87ab57cb7a86c42"
  },
  {
   "metadata": {
    "ExecuteTime": {
     "end_time": "2025-06-09T16:08:12.056141Z",
     "start_time": "2025-06-09T16:08:12.048727Z"
    }
   },
   "cell_type": "code",
   "source": [
    "# Analytic Approach\n",
    "# get number of trials and number of 'successes'\n",
    "n_obs = data.shape[0]\n",
    "n_control = data.groupby('condition').size()[0]\n",
    "print('n_control:', n_control)\n",
    "\n",
    "# Compute a z-score and p-value\n",
    "p = 0.5\n",
    "sd = np.sqrt(p * (1-p) * n_obs)\n",
    "\n",
    "z_score = ((n_control + 0.5) - p * n_obs) / sd\n",
    "p_value = 2*stats.norm.cdf(z_score)\n",
    "\n",
    "print(\"z-score: {z}\".format(z=z_score))\n",
    "print(\"p-value from z-score: {p}\".format(p=p_value))"
   ],
   "id": "3e832c1a9bee1641",
   "outputs": [
    {
     "name": "stdout",
     "output_type": "stream",
     "text": [
      "n_control: 491\n",
      "z-score: -0.5062175977346661\n",
      "p-value from z-score: 0.6127039025537114\n"
     ]
    }
   ],
   "execution_count": 16
  },
  {
   "metadata": {
    "ExecuteTime": {
     "end_time": "2025-06-09T12:00:20.469573Z",
     "start_time": "2025-06-09T12:00:20.453273Z"
    }
   },
   "cell_type": "code",
   "source": [
    "# Simulation Approach\n",
    "# get number of trials and number of 'successes'\n",
    "n_obs = data.shape[0]\n",
    "n_control = data.groupby('condition').size()[0]\n",
    "print('n_control:', n_control)\n",
    "\n",
    "# simulate outcomes under null, compare to observed outcome\n",
    "p = 0.5\n",
    "n_trials = 200_000\n",
    "\n",
    "samples = np.random.binomial(n_obs, p, n_trials)\n",
    "p_value = np.logical_or(samples <= n_control, samples >= (n_obs - n_control)).mean()\n",
    "\n",
    "print(\"p-value from the observed outcome: {p}\".format(p=p_value))"
   ],
   "id": "66129806641b04ee",
   "outputs": [
    {
     "name": "stdout",
     "output_type": "stream",
     "text": [
      "p-value from the observed outcome: 0.612965\n"
     ]
    }
   ],
   "execution_count": 6
  },
  {
   "metadata": {},
   "cell_type": "markdown",
   "source": [
    "### 1.2. Evaluation Metric\n",
    "Giờ thực hiện hypothesis test on evaluation metric: click-through rate. Ta muốn thấy experimental group has a significantly larger click-through rate than the control group, a one-tailed test.\n",
    "\n",
    "Ta dùng overall click-through rate làm common proportion to draw simulated values from for each group.\n",
    "\n",
    "Bên cạnh pooled click-through rate, ta sẽ cần pooled std để tính z-score. Mặc dù cũng có thể có continuity correction, nó là much more conservative than p-value that a simulation will usually imply. Tính z-score và p-value ko có continuity correction sẽ là closer to the simulation's outcomes, mặc dù là slightly more optimistic about there being a statistical difference between groups."
   ],
   "id": "8a8bd9339de7b698"
  },
  {
   "metadata": {
    "ExecuteTime": {
     "end_time": "2025-06-09T12:01:07.186963Z",
     "start_time": "2025-06-09T12:01:07.170942Z"
    }
   },
   "cell_type": "code",
   "source": [
    "p_click = data.groupby('condition').mean()['click']\n",
    "p_click"
   ],
   "id": "b90bd31213fb51c8",
   "outputs": [
    {
     "data": {
      "text/plain": [
       "condition\n",
       "0    0.079430\n",
       "1    0.112205\n",
       "Name: click, dtype: float64"
      ]
     },
     "execution_count": 7,
     "metadata": {},
     "output_type": "execute_result"
    }
   ],
   "execution_count": 7
  },
  {
   "metadata": {
    "ExecuteTime": {
     "end_time": "2025-06-09T12:01:11.134034Z",
     "start_time": "2025-06-09T12:01:11.129375Z"
    }
   },
   "cell_type": "code",
   "source": "p_click[1] - p_click[0]",
   "id": "45dbf4df751fb54f",
   "outputs": [
    {
     "data": {
      "text/plain": [
       "0.03277498917523293"
      ]
     },
     "execution_count": 8,
     "metadata": {},
     "output_type": "execute_result"
    }
   ],
   "execution_count": 8
  },
  {
   "metadata": {
    "ExecuteTime": {
     "end_time": "2025-06-09T12:01:33.472948Z",
     "start_time": "2025-06-09T12:01:33.467911Z"
    }
   },
   "cell_type": "code",
   "source": [
    "# Analytic Approach\n",
    "# get number of trials and overall 'success' rate under null\n",
    "n_control = data.groupby('condition').size()[0]\n",
    "n_exper = data.groupby('condition').size()[1]\n",
    "p_null = data['click'].mean()\n",
    "\n",
    "# compute standard error, z-score, and p-value\n",
    "se_p = np.sqrt(p_null * (1-p_null) * (1/n_control + 1/n_exper))\n",
    "\n",
    "z_score = (p_click[1] - p_click[0]) / se_p\n",
    "p_val = 1-stats.norm.cdf(z_score)\n",
    "\n",
    "print(\"z-score: {z}\".format(z=z_score))\n",
    "print(\"p-value from z-score: {p}\".format(p=p_val))"
   ],
   "id": "23336d3d5de8cc98",
   "outputs": [
    {
     "name": "stdout",
     "output_type": "stream",
     "text": [
      "z-score: 1.7571887396196666\n",
      "p-value from z-score: 0.039442821974613684\n"
     ]
    }
   ],
   "execution_count": 9
  },
  {
   "metadata": {
    "ExecuteTime": {
     "end_time": "2025-06-09T12:02:00.387285Z",
     "start_time": "2025-06-09T12:02:00.341548Z"
    }
   },
   "cell_type": "code",
   "source": [
    "# Simulation Approach\n",
    "# get number of trials and overall 'success' rate under null\n",
    "n_control = data.groupby('condition').size()[0]\n",
    "n_exper = data.groupby('condition').size()[1]\n",
    "p_null = data['click'].mean()\n",
    "\n",
    "# simulate outcomes under null, compare to observed outcome\n",
    "n_trials = 200_000\n",
    "\n",
    "ctrl_clicks = np.random.binomial(n_control, p_null, n_trials)\n",
    "exp_clicks = np.random.binomial(n_exper, p_null, n_trials)\n",
    "samples = exp_clicks / n_exper - ctrl_clicks / n_control\n",
    "\n",
    "print((samples >= (p_click[1] - p_click[0])).mean())"
   ],
   "id": "366755db09f9b297",
   "outputs": [
    {
     "name": "stdout",
     "output_type": "stream",
     "text": [
      "0.04039\n"
     ]
    }
   ],
   "execution_count": 11
  },
  {
   "metadata": {},
   "cell_type": "markdown",
   "source": [
    "## 2. Experiment Size\n",
    "Nếu biết cần bn observations để detect desired effect to desired level of reliability, ta sẽ biết cần chạy experiment bao lâu và nó có là feasible ko.\n",
    "\n",
    "VD, ta có baseline CTR 10% và ta muốn thấy a manipulation increase this baseline to 12%. Cần bn observations ở mỗi group để detect this change with power $1−\\beta=.80$ (i.e. detect 2% absolute increase 80% of the time), at a Type I error rate of $\\alpha=.05$.\n",
    " ?\n",
    "### 2.1. Method 1: Trial and Error\n",
    "Mỗi sample size sẽ có a level of power associated with it; testing multiple sample sizes sẽ thu hẹp dần minimum sample size cần có. Cách này ko thực sự efficient, nhưng cho an intuition for how experiment sizing works.\n",
    "1. Under null hypothesis, ta sẽ có a critical value for which Type I error rate is at our desired alpha level.\n",
    "  - `se_null`: Compute std for difference in proportions under null hypothesis for two groups. Base probability is given by `p_null`. Variance of difference distribution is sum of variances for individual distributions, and each group is assigned `n` observations.\n",
    "  - `null_dist`: To assist in re-use, this should be a [scipy norm object](https://docs.scipy.org/doc/scipy/reference/generated/scipy.stats.norm.html).\n",
    "  - `p_crit`: Compute critical value of distribution that would cause us to reject null hypothesis.\n",
    "2. The power is proportion of distribution under alternative hypothesis that is past that previously-obtained critical value.\n",
    "  - `se_alt`: This will be std of differences under the desired detectable difference. Individual distributions will have different variances now: one with `p_null` probability of success, and the other with `p_alt` probability of success.\n",
    "  - `alt_dist`: This will be a scipy norm object like above.\n",
    "  - `beta`: Beta is probability of a Type-II error, or probability of failing to reject the null for a particular non-null state. That means you should make use of `alt_dist` and `p_crit` here!"
   ],
   "id": "5496ce4b27c7860c"
  },
  {
   "metadata": {
    "ExecuteTime": {
     "end_time": "2025-06-09T16:33:09.330342Z",
     "start_time": "2025-06-09T16:33:09.325096Z"
    }
   },
   "cell_type": "code",
   "source": [
    "def power(p_null, p_alt, n, alpha = .05, plot = True):\n",
    "    \"\"\"\n",
    "    Compute the power of detecting the difference in two populations with\n",
    "    different proportion parameters, given a desired alpha rate.\n",
    "\n",
    "    Input parameters:\n",
    "        p_null: base success rate under null hypothesis\n",
    "        p_alt : desired success rate to be detected, must be larger than\n",
    "                p_null\n",
    "        n     : number of observations made in each group\n",
    "        alpha : Type-I error rate\n",
    "        plot  : boolean for whether or not a plot of distributions will be\n",
    "                created\n",
    "\n",
    "    Output value:\n",
    "        power : Power to detect the desired difference, under the null.\n",
    "    \"\"\"\n",
    "\n",
    "    # Compute the power\n",
    "    se_null = np.sqrt((p_null * (1-p_null) + p_null * (1-p_null)) / n)\n",
    "    null_dist = stats.norm(loc = 0, scale = se_null)\n",
    "    p_crit = null_dist.ppf(1 - alpha)\n",
    "\n",
    "    se_alt  = np.sqrt((p_null * (1-p_null) + p_alt  * (1-p_alt) ) / n)\n",
    "    alt_dist = stats.norm(loc = p_alt - p_null, scale = se_alt)\n",
    "    beta = alt_dist.cdf(p_crit)\n",
    "\n",
    "    if plot:\n",
    "        # Compute distribution heights\n",
    "        low_bound = null_dist.ppf(.01)\n",
    "        high_bound = alt_dist.ppf(.99)\n",
    "        x = np.linspace(low_bound, high_bound, 201)\n",
    "        y_null = null_dist.pdf(x)\n",
    "        y_alt = alt_dist.pdf(x)\n",
    "\n",
    "        # Plot the distributions\n",
    "        plt.plot(x, y_null)\n",
    "        plt.plot(x, y_alt)\n",
    "        plt.vlines(p_crit, 0, np.amax([null_dist.pdf(p_crit), alt_dist.pdf(p_crit)]),\n",
    "                   linestyles = '--')\n",
    "        plt.fill_between(x, y_null, 0, where = (x >= p_crit), alpha = .5)\n",
    "        plt.fill_between(x, y_alt , 0, where = (x <= p_crit), alpha = .5)\n",
    "\n",
    "        plt.legend(['null','alt'])\n",
    "        plt.xlabel('difference')\n",
    "        plt.ylabel('density')\n",
    "        plt.show()\n",
    "\n",
    "    # return power\n",
    "    return (1 - beta)"
   ],
   "id": "b971ad5a7ec0943e",
   "outputs": [],
   "execution_count": 17
  },
  {
   "metadata": {
    "ExecuteTime": {
     "end_time": "2025-06-09T16:33:10.175131Z",
     "start_time": "2025-06-09T16:33:10.022822Z"
    }
   },
   "cell_type": "code",
   "source": "power(.1, .12, 1000)",
   "id": "6b4442c957eaf2f0",
   "outputs": [
    {
     "data": {
      "text/plain": [
       "<Figure size 640x480 with 1 Axes>"
      ],
      "image/png": "[encoded data removed]"
     },
     "metadata": {},
     "output_type": "display_data"
    },
    {
     "data": {
      "text/plain": [
       "0.44122379261151545"
      ]
     },
     "execution_count": 18,
     "metadata": {},
     "output_type": "execute_result"
    }
   ],
   "execution_count": 18
  },
  {
   "metadata": {
    "ExecuteTime": {
     "end_time": "2025-06-09T16:33:23.016917Z",
     "start_time": "2025-06-09T16:33:23.006494Z"
    }
   },
   "cell_type": "code",
   "source": [
    "assert np.isclose(power(.1, .12, 1000, plot = False), 0.4412, atol = 1e-4)\n",
    "assert np.isclose(power(.1, .12, 3000, plot = False), 0.8157, atol = 1e-4)\n",
    "assert np.isclose(power(.1, .12, 5000, plot = False), 0.9474, atol = 1e-4)\n",
    "print('You should see this message if all the assertions passed!')"
   ],
   "id": "6b8655ad90a3fbc6",
   "outputs": [
    {
     "name": "stdout",
     "output_type": "stream",
     "text": [
      "You should see this message if all the assertions passed!\n"
     ]
    }
   ],
   "execution_count": 19
  },
  {
   "metadata": {},
   "cell_type": "markdown",
   "source": [
    "### 2.2. Method 2: Analytic Solution\n",
    "Key point là, for an $\\alpha$ and $\\beta$ both < .5, critical value for determining statistical significance will fall between null CTR and alternative, desired click-through rate. So, difference between $p_0$ and $p_1$ can be subdivided into distance from $p_0$ to critical value $p^*$ and distance from $p^*$ to $p_1$.\n",
    "\n",
    "<img src= 'ExpSize_Power.png'>\n",
    "\n",
    "Those subdivisions can be expressed in terms of the standard error and the z-scores:\n",
    "$$p^* - p_0 = z_{1-\\alpha} SE_{0},$$\n",
    "$$p_1 - p^* = -z_{\\beta} SE_{1};$$\n",
    "$$p_1 - p_0 = z_{1-\\alpha} SE_{0} - z_{\\beta} SE_{1}$$\n",
    "\n",
    "In turn,  standard errors can be expressed in terms of standard deviations of distributions, divided by square root of number of samples in each group:\n",
    "$$SE_{0} = \\frac{s_{0}}{\\sqrt{n}},$$\n",
    "$$SE_{1} = \\frac{s_{1}}{\\sqrt{n}}$$\n",
    "\n",
    "Substituting these values in and solving for $n$ will give us a formula for computing a minimum sample size to detect a specified difference, at desired level of power:\n",
    "$$n = \\lceil \\big(\\frac{z_{\\alpha} s_{0} - z_{\\beta} s_{1}}{p_1 - p_0}\\big)^2 \\rceil$$"
   ],
   "id": "6df79abec9be7035"
  },
  {
   "metadata": {
    "ExecuteTime": {
     "end_time": "2025-06-09T16:40:39.019803Z",
     "start_time": "2025-06-09T16:40:39.014967Z"
    }
   },
   "cell_type": "code",
   "source": [
    "def experiment_size(p_null, p_alt, alpha = .05, beta = .20):\n",
    "    \"\"\"\n",
    "    Compute the minimum number of samples needed to achieve a desired power\n",
    "    level for a given effect size.\n",
    "\n",
    "    Input parameters:\n",
    "        p_null: base success rate under null hypothesis\n",
    "        p_alt : desired success rate to be detected\n",
    "        alpha : Type-I error rate\n",
    "        beta  : Type-II error rate\n",
    "\n",
    "    Output value:\n",
    "        n : Number of samples required for each group to obtain desired power\n",
    "    \"\"\"\n",
    "\n",
    "    # Get necessary z-scores and standard deviations (@ 1 obs per group)\n",
    "    z_null = stats.norm.ppf(1 - alpha)\n",
    "    z_alt  = stats.norm.ppf(beta)\n",
    "    sd_null = np.sqrt(p_null * (1-p_null) + p_null * (1-p_null))\n",
    "    sd_alt  = np.sqrt(p_null * (1-p_null) + p_alt  * (1-p_alt) )\n",
    "\n",
    "    # Compute and return minimum sample size\n",
    "    p_diff = p_alt - p_null\n",
    "    n = ((z_null*sd_null - z_alt*sd_alt) / p_diff) ** 2\n",
    "    return np.ceil(n)"
   ],
   "id": "fded96947a3b6741",
   "outputs": [],
   "execution_count": 20
  },
  {
   "metadata": {
    "ExecuteTime": {
     "end_time": "2025-06-09T16:40:42.511276Z",
     "start_time": "2025-06-09T16:40:42.506872Z"
    }
   },
   "cell_type": "code",
   "source": "experiment_size(.1, .12)",
   "id": "9f764bbc8e129b15",
   "outputs": [
    {
     "data": {
      "text/plain": [
       "2863.0"
      ]
     },
     "execution_count": 21,
     "metadata": {},
     "output_type": "execute_result"
    }
   ],
   "execution_count": 21
  },
  {
   "metadata": {
    "ExecuteTime": {
     "end_time": "2025-06-09T16:40:46.392921Z",
     "start_time": "2025-06-09T16:40:46.389532Z"
    }
   },
   "cell_type": "code",
   "source": [
    "assert np.isclose(experiment_size(.1, .12), 2863)\n",
    "print('You should see this message if the assertion passed!')"
   ],
   "id": "ff17fd32fafe1ca4",
   "outputs": [
    {
     "name": "stdout",
     "output_type": "stream",
     "text": [
      "You should see this message if the assertion passed!\n"
     ]
    }
   ],
   "execution_count": 22
  },
  {
   "metadata": {},
   "cell_type": "markdown",
   "source": [
    "### 2.3. Notes on Interpretation\n",
    "The example explored above is a one-tailed test, with the alternative value greater than the null. The power computations performed in the first part will _not_ work if the alternative proportion is greater than the null, e.g. detecting a proportion parameter of 0.88 against a null of 0.9. You might want to try to rewrite the code to handle that case! The same issue should not show up for the second approach, where we directly compute the sample size.\n",
    "\n",
    "If you find that you need to do a two-tailed test, you should pay attention to two main things. First of all, the \"alpha\" parameter needs to account for the fact that the rejection region is divided into two areas. Secondly, you should perform the computation based on the worst-case scenario, the alternative case with the highest variability. Since, for the binomial, variance is highest when $p = .5$, decreasing as $p$ approaches 0 or 1, you should choose the alternative value that is closest to .5 as your reference when computing the necessary sample size.\n",
    "\n",
    "Note as well that the above methods only perform sizing for _statistical significance_, and do not take into account _practical significance_. One thing that should be realized is that if the true size of the experimental effect is the same as the desired practical significance level, then it's a coin flip whether the mean will be above or below the practical significance bound. This also doesn't even consider how a confidence interval might interact with that bound. In a way, experiment sizing is a way of checking about whether or not you'll be able to get what you _want_ from running an experiment, rather than checking if you'll get what you _need_."
   ],
   "id": "15e9e5585175237b"
  },
  {
   "metadata": {},
   "cell_type": "markdown",
   "source": [
    "### 2.4. Alternative Approaches\n",
    "There are also tools and Python packages that can also help with sample sizing decisions, so you don't need to solve for every case on your own. The sample size calculator [here](http://www.evanmiller.org/ab-testing/sample-size.html) is applicable for proportions, and provides the same results as the methods explored above. (Note that the calculator assumes a two-tailed test, however.) Python package \"statsmodels\" has a number of functions in its [`power` module](https://www.statsmodels.org/stable/stats.html#power-and-sample-size-calculations) that perform power and sample size calculations. Unlike previously shown methods, differences between null and alternative are parameterized as an effect size (standardized difference between group means divided by the standard deviation). Thus, we can use these functions for more than just tests of proportions. If we want to do the same tests as before, the [`proportion_effectsize`](http://www.statsmodels.org/stable/generated/statsmodels.stats.proportion.proportion_effectsize.html) function computes [Cohen's h](https://en.wikipedia.org/wiki/Cohen%27s_h) as a measure of effect size. As a result, the output of the statsmodel functions will be different from the result expected above. This shouldn't be a major concern since in most cases, you're not going to be stopping based on an exact number of observations. You'll just use the value to make general design decisions."
   ],
   "id": "29c20b6f7d5dc44c"
  },
  {
   "metadata": {
    "ExecuteTime": {
     "end_time": "2025-06-09T16:41:38.900637Z",
     "start_time": "2025-06-09T16:41:38.887235Z"
    }
   },
   "cell_type": "code",
   "source": [
    "# example of using statsmodels for sample size calculation\n",
    "from statsmodels.stats.power import NormalIndPower\n",
    "from statsmodels.stats.proportion import proportion_effectsize\n",
    "\n",
    "# leave out the \"nobs\" parameter to solve for it\n",
    "NormalIndPower().solve_power(effect_size = proportion_effectsize(.12, .1), alpha = .05, power = 0.8,\n",
    "                             alternative = 'larger')"
   ],
   "id": "ceebb28baf8a2023",
   "outputs": [
    {
     "data": {
      "text/plain": [
       "3020.515856462414"
      ]
     },
     "execution_count": 23,
     "metadata": {},
     "output_type": "execute_result"
    }
   ],
   "execution_count": 23
  },
  {
   "metadata": {},
   "cell_type": "markdown",
   "source": [
    "## 3. Non-Parametric Tests\n",
    "### 3.1. Bootstrapping\n",
    "Bootstrapping đc dùng để estimate sampling distributions bằng cách dùng actually collected data để sinh new samples mà có thể đã đc hypothetically collected. Một bootstrapped sample nghĩa là lấy ra drawing points từ original data _with replacement_ tới khi có số lượng points như ở original data. Bản chất là ta đang coi original data như population: khi ko có assumptions về original population distribution, dùng original data làm model of population là cách tốt nhất ta có thể làm\n",
    "\n",
    "Lấy ra nhiều bootstrapped samples cho phép ta estimate sampling distribution for various statistics on original data. VD, ta muốn có 95% confidence interval for 90th percentile from a dataset of 5000 data points. (có thể là ta đang xem  website load times và muốn reduce worst cases). Đầu tiên, ta lấy một bootstrap sample (i.e. draw 5000 points with replacement from original data) và record 90th percentile, rồi lặp lại nhiều lần, VD 100 000. Từ các bootstrapped 90th percentile estimates này, ta tính confidence interval bằng cách tìm values mà capture central 95% of the estimates (cutting off 2.5% on each tail). Các bước là:\n",
    "1. Initialize some useful variables by storing the number of data points in `n_points` and setting up an empty list for the bootstrapped quantile values in `sample_qs`.\n",
    "2. Create a loop for each trial where:\n",
    "  - First generate a bootstrap sample by sampling from our data with replacement. ([`random.choice`](https://numpy.org/doc/stable/reference/random/generated/numpy.random.choice.html) will be useful here.)\n",
    "  - Then, compute `q`th quantile of sample and add it to `sample_qs` list. If you're using numpy v0.15 or later, you can use [`quantile`](https://numpy.org/doc/stable/reference/generated/numpy.quantile.html) function to get the quantile directly with `q`; on v0.14 or earlier, you'll need to put `q` in terms of a percentile and use [`percentile`](https://numpy.org/doc/stable/reference/random/generated/numpy.random.permutation.html) instead.\n",
    "3. After gathering bootstrapped quantiles, find the limits that capture the central `c` proportion of quantiles to form estimated confidence interval."
   ],
   "id": "8fc45dbde8a491c9"
  },
  {
   "metadata": {
    "ExecuteTime": {
     "end_time": "2025-06-09T17:04:27.461860Z",
     "start_time": "2025-06-09T17:04:27.458083Z"
    }
   },
   "cell_type": "code",
   "source": [
    "def quantile_ci(data, q, c = .95, n_trials = 1000):\n",
    "    \"\"\"\n",
    "    Compute a confidence interval for a quantile of a dataset using a bootstrap\n",
    "    method.\n",
    "\n",
    "    Input parameters:\n",
    "        data: data in form of 1-D array-like (e.g. numpy array or Pandas series)\n",
    "        q: quantile to be estimated, must be between 0 and 1\n",
    "        c: confidence interval width\n",
    "        n_trials: number of bootstrap samples to perform\n",
    "\n",
    "    Output value:\n",
    "        ci: Tuple indicating lower and upper bounds of bootstrapped\n",
    "            confidence interval\n",
    "    \"\"\"\n",
    "\n",
    "    # initialize storage of bootstrapped sample quantiles\n",
    "    n_points = data.shape[0]\n",
    "    sample_qs = []\n",
    "\n",
    "    # For each trial...\n",
    "    for _ in range(n_trials):\n",
    "        # draw a random sample from the data with replacement...\n",
    "        sample = np.random.choice(data, n_points, replace = True)\n",
    "\n",
    "        # compute the desired quantile...\n",
    "        sample_q = np.percentile(sample, 100 * q)\n",
    "\n",
    "        # and add the value to the list of sampled quantiles\n",
    "        sample_qs.append(sample_q)\n",
    "\n",
    "    # Compute the confidence interval bounds\n",
    "    lower_limit = np.percentile(sample_qs, (1 - c)/2 * 100)\n",
    "    upper_limit = np.percentile(sample_qs, (1 + c)/2 * 100)\n",
    "\n",
    "    return (lower_limit, upper_limit)"
   ],
   "id": "2258c651584e1b6d",
   "outputs": [],
   "execution_count": 24
  },
  {
   "metadata": {
    "ExecuteTime": {
     "end_time": "2025-06-09T17:04:35.202619Z",
     "start_time": "2025-06-09T17:04:35.196784Z"
    }
   },
   "cell_type": "code",
   "source": [
    "data = pd.read_csv('bootstrapping_data.csv')\n",
    "data.head(10)"
   ],
   "id": "26a0652a70feb95f",
   "outputs": [
    {
     "data": {
      "text/plain": [
       "   time\n",
       "0  8152\n",
       "1  2082\n",
       "2  3049\n",
       "3  3317\n",
       "4   813\n",
       "5  1442\n",
       "6  3815\n",
       "7  2113\n",
       "8   738\n",
       "9  2499"
      ],
      "text/html": [
       "<div>\n",
       "<style scoped>\n",
       "    .dataframe tbody tr th:only-of-type {\n",
       "        vertical-align: middle;\n",
       "    }\n",
       "\n",
       "    .dataframe tbody tr th {\n",
       "        vertical-align: top;\n",
       "    }\n",
       "\n",
       "    .dataframe thead th {\n",
       "        text-align: right;\n",
       "    }\n",
       "</style>\n",
       "<table border=\"1\" class=\"dataframe\">\n",
       "  <thead>\n",
       "    <tr style=\"text-align: right;\">\n",
       "      <th></th>\n",
       "      <th>time</th>\n",
       "    </tr>\n",
       "  </thead>\n",
       "  <tbody>\n",
       "    <tr>\n",
       "      <th>0</th>\n",
       "      <td>8152</td>\n",
       "    </tr>\n",
       "    <tr>\n",
       "      <th>1</th>\n",
       "      <td>2082</td>\n",
       "    </tr>\n",
       "    <tr>\n",
       "      <th>2</th>\n",
       "      <td>3049</td>\n",
       "    </tr>\n",
       "    <tr>\n",
       "      <th>3</th>\n",
       "      <td>3317</td>\n",
       "    </tr>\n",
       "    <tr>\n",
       "      <th>4</th>\n",
       "      <td>813</td>\n",
       "    </tr>\n",
       "    <tr>\n",
       "      <th>5</th>\n",
       "      <td>1442</td>\n",
       "    </tr>\n",
       "    <tr>\n",
       "      <th>6</th>\n",
       "      <td>3815</td>\n",
       "    </tr>\n",
       "    <tr>\n",
       "      <th>7</th>\n",
       "      <td>2113</td>\n",
       "    </tr>\n",
       "    <tr>\n",
       "      <th>8</th>\n",
       "      <td>738</td>\n",
       "    </tr>\n",
       "    <tr>\n",
       "      <th>9</th>\n",
       "      <td>2499</td>\n",
       "    </tr>\n",
       "  </tbody>\n",
       "</table>\n",
       "</div>"
      ]
     },
     "execution_count": 25,
     "metadata": {},
     "output_type": "execute_result"
    }
   ],
   "execution_count": 25
  },
  {
   "metadata": {
    "ExecuteTime": {
     "end_time": "2025-06-09T17:04:41.810151Z",
     "start_time": "2025-06-09T17:04:41.661017Z"
    }
   },
   "cell_type": "code",
   "source": "plt.hist(data['time'], bins = np.arange(0, data['time'].max()+400, 400));",
   "id": "718a8796db6edd93",
   "outputs": [
    {
     "data": {
      "text/plain": [
       "<Figure size 640x480 with 1 Axes>"
      ],
      "image/png": "[encoded data removed]"
     },
     "metadata": {},
     "output_type": "display_data"
    }
   ],
   "execution_count": 26
  },
  {
   "metadata": {
    "ExecuteTime": {
     "end_time": "2025-06-09T17:04:47.012571Z",
     "start_time": "2025-06-09T17:04:46.752519Z"
    }
   },
   "cell_type": "code",
   "source": [
    "lims = quantile_ci(data['time'], 0.9)\n",
    "print(lims)"
   ],
   "id": "9ae0836a52636b3d",
   "outputs": [
    {
     "name": "stdout",
     "output_type": "stream",
     "text": [
      "(5498.195000000001, 5834.300000000001)\n"
     ]
    }
   ],
   "execution_count": 27
  },
  {
   "metadata": {},
   "cell_type": "markdown",
   "source": [
    "#### Bootstrapping Notes\n",
    "Confidence intervals coming from the bootstrap procedure will be optimistic compared to the true state of the world. This is because there will be things that we don't know about the real world that we can't account for, due to not having a parametric model of the world's state. Consider the extreme case of trying to understand the distribution of the maximum value: our confidence interval would never be able to include any value greater than the largest observed value and it makes no sense to have any lower bound below the maximum observation. Intuitively, however, there's a pretty clear possibility for there to be unobserved values that are larger than the one we've observed, especially for skewed data like shown in the example.\n",
    "\n",
    "This doesn't override the bootstrap method's advantages, however. The bootstrap procedure is fairly simple and straightforward. Since you don't make assumptions about the distribution of data, it can be applicable for any case you encounter. The results should also be fairly comparable to standard tests. But it does take computational effort, and its output does depend on the data put in. For reference, for the 95% CI on the 90th percentile example explored above, the inferred interval would only capture about 83% of 90th percentiles from the original generating distribution. But a more intricate procedure using a binomial assumption to index on the observed data only does about one percentage point better (84%). And both of these depend on the specific data generated: a different set of 5000 points will produce different intervals, with different accuracies.\n",
    "\n",
    "Binomial solution for percentile CIs reference: [1](https://www-users.york.ac.uk/~mb55/intro/cicent.htm), [2](https://stats.stackexchange.com/questions/99829/how-to-obtain-a-confidence-interval-for-a-percentile)"
   ],
   "id": "8feca56e5dff377d"
  },
  {
   "metadata": {},
   "cell_type": "markdown",
   "source": [
    "### 3.2. Permutation Tests\n",
    "Là một resampling-type test để so sánh values on an outcome variable between two or more groups. Resampling đc thực hiện trên group labels. Idea là, under null hypothesis, outcome distribution should be same for all groups, whether control or experimental. Do đó, ta có thể emulate null bằng cách coi tất cả data values là một single large group. Apply labels randomly to data points (while maintaining original group membership ratios) sẽ cho một simulated outcome from null.\n",
    "\n",
    "Phần còn lại tương tự sampling approach to a standard hypothesis test, ngoại trừ ta chưa chỉ rõ reference distribution to sample from – we're sampling directly from the data we've collected. Sau khi apply labels randomly to all data and và record outcome statistic nhiều lần, ta so sánh actual, observed statistic với simulated statistics. p-value đc tính là số lần simulated statistic values are as or more extreme as the one actually observed.\n",
    "\n",
    "Giờ test xem 90th percentile of times có là statistically significantly smaller for  experimental group, so với control group:\n",
    "1. Initialize an empty list to store difference in sample quantiles as `sample_diffs`.\n",
    "2. Create a loop for each trial where:\n",
    "  - First generate a permutation sample by randomly shuffling data point labels. ([`random.permutation`](https://numpy.org/doc/stable/reference/random/generated/numpy.random.permutation.html) will be useful here.)\n",
    "  - Then, compute `q`th quantile of data points that have been assigned to each group based on permuted labels. the difference in quantiles to the `sample_diffs` list.\n",
    "3. After gathering quantile differences for permuted samples, compute observed difference for actual data. Then, compute a p-value from number of permuted sample differences that are less than or greater than observed difference, depending on desired alternative hypothesis."
   ],
   "id": "fff85c0855c6ed0e"
  },
  {
   "metadata": {
    "ExecuteTime": {
     "end_time": "2025-06-09T17:34:18.292516Z",
     "start_time": "2025-06-09T17:34:18.287472Z"
    }
   },
   "cell_type": "code",
   "source": [
    "def quantile_permtest(x, y, q, alternative = 'less', n_trials = 10_000):\n",
    "    \"\"\"\n",
    "    Compute a confidence interval for a quantile of a dataset using a bootstrap\n",
    "    method.\n",
    "\n",
    "    Input parameters:\n",
    "        x: 1-D array-like of data for independent / grouping feature as 0s and 1s\n",
    "        y: 1-D array-like of data for dependent / output feature\n",
    "        q: quantile to be estimated, must be between 0 and 1\n",
    "        alternative: type of test to perform, {'less', 'greater'}\n",
    "        n_trials: number of permutation trials to perform\n",
    "\n",
    "    Output value:\n",
    "        p: estimated p-value of test\n",
    "    \"\"\"\n",
    "\n",
    "\n",
    "    # initialize storage of bootstrapped sample quantiles\n",
    "    sample_diffs = []\n",
    "\n",
    "    # For each trial...\n",
    "    for _ in range(n_trials):\n",
    "        # randomly permute the grouping labels\n",
    "        labels = np.random.permutation(x)\n",
    "\n",
    "        # compute the difference in quantiles\n",
    "        cond_q = np.percentile(y[labels == 0], 100 * q)\n",
    "        exp_q  = np.percentile(y[labels == 1], 100 * q)\n",
    "\n",
    "        # and add the value to the list of sampled differences\n",
    "        sample_diffs.append(exp_q - cond_q)\n",
    "\n",
    "    # compute observed statistic\n",
    "    cond_q = np.percentile(y[x == 0], 100 * q)\n",
    "    exp_q  = np.percentile(y[x == 1], 100 * q)\n",
    "    obs_diff = exp_q - cond_q\n",
    "\n",
    "    # compute a p-value\n",
    "    if alternative == 'less':\n",
    "        hits = (sample_diffs <= obs_diff).sum()\n",
    "    elif alternative == 'greater':\n",
    "        hits = (sample_diffs >= obs_diff).sum()\n",
    "\n",
    "    return (hits / n_trials)"
   ],
   "id": "d6694925fdafbb97",
   "outputs": [],
   "execution_count": 28
  },
  {
   "metadata": {
    "ExecuteTime": {
     "end_time": "2025-06-09T17:34:29.694935Z",
     "start_time": "2025-06-09T17:34:29.688440Z"
    }
   },
   "cell_type": "code",
   "outputs": [
    {
     "data": {
      "text/plain": [
       "   condition  time\n",
       "0          0  5940\n",
       "1          0   666\n",
       "2          1   571\n",
       "3          1   779\n",
       "4          0  1928\n",
       "5          0  3791\n",
       "6          0   736\n",
       "7          1  8482\n",
       "8          0  4594\n",
       "9          0  1171"
      ],
      "text/html": [
       "<div>\n",
       "<style scoped>\n",
       "    .dataframe tbody tr th:only-of-type {\n",
       "        vertical-align: middle;\n",
       "    }\n",
       "\n",
       "    .dataframe tbody tr th {\n",
       "        vertical-align: top;\n",
       "    }\n",
       "\n",
       "    .dataframe thead th {\n",
       "        text-align: right;\n",
       "    }\n",
       "</style>\n",
       "<table border=\"1\" class=\"dataframe\">\n",
       "  <thead>\n",
       "    <tr style=\"text-align: right;\">\n",
       "      <th></th>\n",
       "      <th>condition</th>\n",
       "      <th>time</th>\n",
       "    </tr>\n",
       "  </thead>\n",
       "  <tbody>\n",
       "    <tr>\n",
       "      <th>0</th>\n",
       "      <td>0</td>\n",
       "      <td>5940</td>\n",
       "    </tr>\n",
       "    <tr>\n",
       "      <th>1</th>\n",
       "      <td>0</td>\n",
       "      <td>666</td>\n",
       "    </tr>\n",
       "    <tr>\n",
       "      <th>2</th>\n",
       "      <td>1</td>\n",
       "      <td>571</td>\n",
       "    </tr>\n",
       "    <tr>\n",
       "      <th>3</th>\n",
       "      <td>1</td>\n",
       "      <td>779</td>\n",
       "    </tr>\n",
       "    <tr>\n",
       "      <th>4</th>\n",
       "      <td>0</td>\n",
       "      <td>1928</td>\n",
       "    </tr>\n",
       "    <tr>\n",
       "      <th>5</th>\n",
       "      <td>0</td>\n",
       "      <td>3791</td>\n",
       "    </tr>\n",
       "    <tr>\n",
       "      <th>6</th>\n",
       "      <td>0</td>\n",
       "      <td>736</td>\n",
       "    </tr>\n",
       "    <tr>\n",
       "      <th>7</th>\n",
       "      <td>1</td>\n",
       "      <td>8482</td>\n",
       "    </tr>\n",
       "    <tr>\n",
       "      <th>8</th>\n",
       "      <td>0</td>\n",
       "      <td>4594</td>\n",
       "    </tr>\n",
       "    <tr>\n",
       "      <th>9</th>\n",
       "      <td>0</td>\n",
       "      <td>1171</td>\n",
       "    </tr>\n",
       "  </tbody>\n",
       "</table>\n",
       "</div>"
      ]
     },
     "execution_count": 29,
     "metadata": {},
     "output_type": "execute_result"
    }
   ],
   "execution_count": 29,
   "source": [
    "data = pd.read_csv('permutation_data.csv')\n",
    "data.head(10)"
   ],
   "id": "57854fc8ae760807"
  },
  {
   "metadata": {
    "ExecuteTime": {
     "end_time": "2025-06-09T17:34:37.690723Z",
     "start_time": "2025-06-09T17:34:37.451367Z"
    }
   },
   "cell_type": "code",
   "source": [
    "bin_borders = np.arange(0, data['time'].max()+400, 400)\n",
    "plt.hist(data[data['condition'] == 0]['time'], alpha = 0.5, bins = bin_borders)\n",
    "plt.hist(data[data['condition'] == 1]['time'], alpha = 0.5, bins = bin_borders)\n",
    "plt.legend(labels = ['control', 'experiment']);"
   ],
   "id": "bb6b9c5586b40973",
   "outputs": [
    {
     "data": {
      "text/plain": [
       "<Figure size 640x480 with 1 Axes>"
      ],
      "image/png": "[encoded data removed]"
     },
     "metadata": {},
     "output_type": "display_data"
    }
   ],
   "execution_count": 30
  },
  {
   "metadata": {
    "ExecuteTime": {
     "end_time": "2025-06-09T17:34:48.544486Z",
     "start_time": "2025-06-09T17:34:48.540432Z"
    }
   },
   "cell_type": "code",
   "source": [
    "# Just how different are the two distributions' 90th percentiles?\n",
    "print(np.percentile(data[data['condition'] == 0]['time'], 90),\n",
    "      np.percentile(data[data['condition'] == 1]['time'], 90))"
   ],
   "id": "1ec7f834af9702e0",
   "outputs": [
    {
     "name": "stdout",
     "output_type": "stream",
     "text": [
      "5809.2 5492.2\n"
     ]
    }
   ],
   "execution_count": 31
  },
  {
   "metadata": {
    "ExecuteTime": {
     "end_time": "2025-06-09T17:34:55.290577Z",
     "start_time": "2025-06-09T17:34:49.048723Z"
    }
   },
   "cell_type": "code",
   "source": [
    "quantile_permtest(x=data['condition'],\n",
    "                  y=data['time'],\n",
    "                  q=0.9,\n",
    "                  alternative='less')"
   ],
   "id": "e028723be43aedd8",
   "outputs": [
    {
     "data": {
      "text/plain": [
       "0.0315"
      ]
     },
     "execution_count": 32,
     "metadata": {},
     "output_type": "execute_result"
    }
   ],
   "execution_count": 32
  },
  {
   "metadata": {},
   "cell_type": "markdown",
   "source": [
    "### 3.3. Rank-Sum Test (Mann-Whitney)\n",
    "Khá khác với two previous approaches, ko có resamplng; test chỉ đc thực hiện trên data present. Rank-sum test, còn đgl Mann-Whitney U test, ko phải là a test of any particular statistic, like mean or median. Nó là a test of distributions: giả sử ta lấy ra one value at random from populations behind each group. Null hypothesis là có an equal chance that larger value is from first group as second group; alternative hypothesis là có an unequal chance, which can be specified as one- or two-tailed.\n",
    "\n",
    " Để test hypothesis này, từ data we've collected ta phải xem có bn cases values from one group win compared to values in second. Nghĩa là, đối với mỗi data point in first group, ta đếm số lượng values in second group mà nhỏ hơn nó. (Nếu hai values bằng nhau, ta tính là một tie, worth +0.5 to tally). Number of wins for first group là $U$.\n",
    "\n",
    "Đã đc cmr $U$ là approximately normally-distributed, given a large enough sample size. Nếu ta có $n_1$ data points in first group và $n_2$ points in second, thì ta có tất cả $n_1n_2$ matchups và an equivalent number of victory points to hand out. Under null hypothesis, ta sẽ mong đợi number of wins là evenly distributed between groups, nên expected wins là $\\mu_U = \\frac{n_1 n_2}{2}$. Variability in number of wins là (assuming no or few ties):\n",
    "$$\n",
    "\\sigma_U = \\sqrt{\\frac{n_1n_2(n_1+n_2+1)}{12}}\n",
    "$$\n",
    "Các $\\mu_U$ and $\\sigma_U$ values này sẽ đc dùng để tính a standard normal z-score, từ đó tính p-value."
   ],
   "id": "267cfd5a7e9ab6ae"
  },
  {
   "metadata": {
    "ExecuteTime": {
     "end_time": "2025-06-09T19:03:55.372711Z",
     "start_time": "2025-06-09T19:03:55.365754Z"
    }
   },
   "cell_type": "code",
   "source": [
    "def ranked_sum(x, y, alternative = 'two-sided'):\n",
    "    \"\"\"\n",
    "    Return a p-value for a ranked-sum test, assuming no ties.\n",
    "\n",
    "    Input parameters:\n",
    "        x: 1-D array-like of data for first group\n",
    "        y: 1-D array-like of data for second group\n",
    "        alternative: type of test to perform, {'two-sided', less', 'greater'}\n",
    "\n",
    "    Output value:\n",
    "        p: estimated p-value of test\n",
    "    \"\"\"\n",
    "\n",
    "    # compute U\n",
    "    u = 0\n",
    "    for i in x:\n",
    "        wins = (i > y).sum()\n",
    "        ties = (i == y).sum()\n",
    "        u += wins + 0.5 * ties\n",
    "\n",
    "    # compute a z-score\n",
    "    n_1 = x.shape[0]\n",
    "    n_2 = y.shape[0]\n",
    "    mean_u = n_1 * n_2 / 2\n",
    "    sd_u = np.sqrt( n_1 * n_2 * (n_1 + n_2 + 1) / 12 )\n",
    "    z = (u - mean_u) / sd_u\n",
    "\n",
    "    # compute a p-value\n",
    "    if alternative == 'two-sided':\n",
    "        p = 2 * stats.norm.cdf(-np.abs(z))\n",
    "    if alternative == 'less':\n",
    "        p = stats.norm.cdf(z)\n",
    "    elif alternative == 'greater':\n",
    "        p = stats.norm.cdf(-z)\n",
    "\n",
    "    return p"
   ],
   "id": "ca16db6b24dbab35",
   "outputs": [],
   "execution_count": 33
  },
  {
   "metadata": {
    "ExecuteTime": {
     "end_time": "2025-06-09T19:04:34.622536Z",
     "start_time": "2025-06-09T19:04:34.609100Z"
    }
   },
   "cell_type": "code",
   "source": [
    "data = pd.read_csv('permutation_data.csv')\n",
    "data.head()"
   ],
   "id": "c227ae33ddf3243c",
   "outputs": [
    {
     "data": {
      "text/plain": [
       "   condition  time\n",
       "0          0  5940\n",
       "1          0   666\n",
       "2          1   571\n",
       "3          1   779\n",
       "4          0  1928"
      ],
      "text/html": [
       "<div>\n",
       "<style scoped>\n",
       "    .dataframe tbody tr th:only-of-type {\n",
       "        vertical-align: middle;\n",
       "    }\n",
       "\n",
       "    .dataframe tbody tr th {\n",
       "        vertical-align: top;\n",
       "    }\n",
       "\n",
       "    .dataframe thead th {\n",
       "        text-align: right;\n",
       "    }\n",
       "</style>\n",
       "<table border=\"1\" class=\"dataframe\">\n",
       "  <thead>\n",
       "    <tr style=\"text-align: right;\">\n",
       "      <th></th>\n",
       "      <th>condition</th>\n",
       "      <th>time</th>\n",
       "    </tr>\n",
       "  </thead>\n",
       "  <tbody>\n",
       "    <tr>\n",
       "      <th>0</th>\n",
       "      <td>0</td>\n",
       "      <td>5940</td>\n",
       "    </tr>\n",
       "    <tr>\n",
       "      <th>1</th>\n",
       "      <td>0</td>\n",
       "      <td>666</td>\n",
       "    </tr>\n",
       "    <tr>\n",
       "      <th>2</th>\n",
       "      <td>1</td>\n",
       "      <td>571</td>\n",
       "    </tr>\n",
       "    <tr>\n",
       "      <th>3</th>\n",
       "      <td>1</td>\n",
       "      <td>779</td>\n",
       "    </tr>\n",
       "    <tr>\n",
       "      <th>4</th>\n",
       "      <td>0</td>\n",
       "      <td>1928</td>\n",
       "    </tr>\n",
       "  </tbody>\n",
       "</table>\n",
       "</div>"
      ]
     },
     "execution_count": 34,
     "metadata": {},
     "output_type": "execute_result"
    }
   ],
   "execution_count": 34
  },
  {
   "metadata": {
    "ExecuteTime": {
     "end_time": "2025-06-09T19:04:39.522141Z",
     "start_time": "2025-06-09T19:04:39.276519Z"
    }
   },
   "cell_type": "code",
   "source": [
    "bin_borders = np.arange(0, data['time'].max()+400, 400)\n",
    "plt.hist(data[data['condition'] == 0]['time'], alpha = 0.5, bins = bin_borders)\n",
    "plt.hist(data[data['condition'] == 1]['time'], alpha = 0.5, bins = bin_borders)\n",
    "plt.legend(labels = ['control', 'experiment']);"
   ],
   "id": "ebc9f40e3090bb2c",
   "outputs": [
    {
     "data": {
      "text/plain": [
       "<Figure size 640x480 with 1 Axes>"
      ],
      "image/png": "[encoded data removed]"
     },
     "metadata": {},
     "output_type": "display_data"
    }
   ],
   "execution_count": 35
  },
  {
   "metadata": {
    "ExecuteTime": {
     "end_time": "2025-06-09T19:04:44.706275Z",
     "start_time": "2025-06-09T19:04:43.887178Z"
    }
   },
   "cell_type": "code",
   "source": [
    "ranked_sum(data[data['condition'] == 0]['time'],\n",
    "           data[data['condition'] == 1]['time'],\n",
    "           alternative = 'greater')"
   ],
   "id": "9e537c795ef7a65f",
   "outputs": [
    {
     "data": {
      "text/plain": [
       "0.001752226502296106"
      ]
     },
     "execution_count": 36,
     "metadata": {},
     "output_type": "execute_result"
    }
   ],
   "execution_count": 36
  },
  {
   "metadata": {},
   "cell_type": "markdown",
   "source": [
    "#### Notes\n",
    "For smaller sample sizes, something like the permutation test can be performed. After exhaustively checking the distribution of victories for every possible assignment of group labels to value, a p-value can be computed for how unusual the actually-observed $U$ was.\n",
    "\n",
    "Also, there already exists a function in the scipy stats package [`mannwhitneyu`](https://docs.scipy.org/doc/scipy/reference/generated/scipy.stats.mannwhitneyu.html) that performs the Mann Whitney U test. This function considers more factors than the implementation above, including a correction on the standard deviation for ties and a continuity correction (since we're approximating a discretely-valued distribution with a continuous one). In addition, the approach they take is computationally more efficient, based on the sum of value ranks (hence the rank-sum test name) rather than the matchups explanation provided above."
   ],
   "id": "925e4cc7cac2d90"
  },
  {
   "metadata": {
    "ExecuteTime": {
     "end_time": "2025-06-09T19:05:12.735456Z",
     "start_time": "2025-06-09T19:05:12.720510Z"
    }
   },
   "cell_type": "code",
   "source": [
    "stats.mannwhitneyu(data[data['condition'] == 0]['time'],\n",
    "                   data[data['condition'] == 1]['time'],\n",
    "                   alternative = 'greater')"
   ],
   "id": "b053ff4d99931d6a",
   "outputs": [
    {
     "data": {
      "text/plain": [
       "MannwhitneyuResult(statistic=3273546.0, pvalue=0.001752280226004597)"
      ]
     },
     "execution_count": 37,
     "metadata": {},
     "output_type": "execute_result"
    }
   ],
   "execution_count": 37
  },
  {
   "metadata": {},
   "cell_type": "markdown",
   "source": [
    "### 3.4.Sign Test\n",
    "Chỉ dùng collected data to compute a test result. Nó chỉ yc có paired values between two groups to compare, and tests whether one group's values tend to be higher than other's.\n",
    "\n",
    "Ta ko quan trâm how large differences are between groups, mà chỉ quan tâm group nào có a larger value. Điều này khiến sign test là một fairly weak test, mặc dù nó vẫn có thể đc applied fairly broadly. Nó hữu ích nhát khi ta có ít observations để lấy ra và ko thể có a good assumption of underlying distribution characteristics. VD, ta có thể dùng sign test làm một additional check on click rates that have been aggregated on a daily basis.\n",
    "\n",
    "Count of victories for a particular group có thể đc modeled bằng binomial distribution. Under null hypothesis, sẽ là equally likely that either group has a larger value (trong case of a tie, ta bỏ qua comparison): binomial distribution's success parameter là $p = 0.5$."
   ],
   "id": "5ca8a040e347d8a6"
  },
  {
   "metadata": {
    "ExecuteTime": {
     "end_time": "2025-06-09T19:10:44.301790Z",
     "start_time": "2025-06-09T19:10:44.294376Z"
    }
   },
   "cell_type": "code",
   "source": [
    "def sign_test(x, y, alternative = 'two-sided'):\n",
    "    \"\"\"\n",
    "    Return a p-value for a ranked-sum test, assuming no ties.\n",
    "\n",
    "    Input parameters:\n",
    "        x: 1-D array-like of data for first group\n",
    "        y: 1-D array-like of data for second group\n",
    "        alternative: type of test to perform, {'two-sided', less', 'greater'}\n",
    "\n",
    "    Output value:\n",
    "        p: estimated p-value of test\n",
    "    \"\"\"\n",
    "\n",
    "    # compute parameters\n",
    "    n = x.shape[0] - (x == y).sum()\n",
    "    k = (x > y).sum() - (x == y).sum()\n",
    "\n",
    "    # compute a p-value\n",
    "    if alternative == 'two-sided':\n",
    "        p = min(1, 2 * stats.binom(n, 0.5).cdf(min(k, n-k)))\n",
    "    if alternative == 'less':\n",
    "        p = stats.binom(n, 0.5).cdf(k)\n",
    "    elif alternative == 'greater':\n",
    "        p = stats.binom(n, 0.5).cdf(n-k)\n",
    "\n",
    "    return p"
   ],
   "id": "f6bbd856883d3a5b",
   "outputs": [],
   "execution_count": 38
  },
  {
   "metadata": {
    "ExecuteTime": {
     "end_time": "2025-06-09T19:10:51.565002Z",
     "start_time": "2025-06-09T19:10:51.555758Z"
    }
   },
   "cell_type": "code",
   "source": [
    "data = pd.read_csv('signtest_data.csv')\n",
    "data.head(10)"
   ],
   "id": "6074dcb99dff4b4f",
   "outputs": [
    {
     "data": {
      "text/plain": [
       "   day  control      exp\n",
       "0    1  0.09610  0.09715\n",
       "1    2  0.07357  0.06954\n",
       "2    3  0.10030  0.08782\n",
       "3    4  0.07225  0.06936\n",
       "4    5  0.06173  0.09893\n",
       "5    6  0.07736  0.08050\n",
       "6    7  0.07121  0.11161\n",
       "7    8  0.08207  0.10802\n",
       "8    9  0.10602  0.08793\n",
       "9   10  0.10000  0.12043"
      ],
      "text/html": [
       "<div>\n",
       "<style scoped>\n",
       "    .dataframe tbody tr th:only-of-type {\n",
       "        vertical-align: middle;\n",
       "    }\n",
       "\n",
       "    .dataframe tbody tr th {\n",
       "        vertical-align: top;\n",
       "    }\n",
       "\n",
       "    .dataframe thead th {\n",
       "        text-align: right;\n",
       "    }\n",
       "</style>\n",
       "<table border=\"1\" class=\"dataframe\">\n",
       "  <thead>\n",
       "    <tr style=\"text-align: right;\">\n",
       "      <th></th>\n",
       "      <th>day</th>\n",
       "      <th>control</th>\n",
       "      <th>exp</th>\n",
       "    </tr>\n",
       "  </thead>\n",
       "  <tbody>\n",
       "    <tr>\n",
       "      <th>0</th>\n",
       "      <td>1</td>\n",
       "      <td>0.09610</td>\n",
       "      <td>0.09715</td>\n",
       "    </tr>\n",
       "    <tr>\n",
       "      <th>1</th>\n",
       "      <td>2</td>\n",
       "      <td>0.07357</td>\n",
       "      <td>0.06954</td>\n",
       "    </tr>\n",
       "    <tr>\n",
       "      <th>2</th>\n",
       "      <td>3</td>\n",
       "      <td>0.10030</td>\n",
       "      <td>0.08782</td>\n",
       "    </tr>\n",
       "    <tr>\n",
       "      <th>3</th>\n",
       "      <td>4</td>\n",
       "      <td>0.07225</td>\n",
       "      <td>0.06936</td>\n",
       "    </tr>\n",
       "    <tr>\n",
       "      <th>4</th>\n",
       "      <td>5</td>\n",
       "      <td>0.06173</td>\n",
       "      <td>0.09893</td>\n",
       "    </tr>\n",
       "    <tr>\n",
       "      <th>5</th>\n",
       "      <td>6</td>\n",
       "      <td>0.07736</td>\n",
       "      <td>0.08050</td>\n",
       "    </tr>\n",
       "    <tr>\n",
       "      <th>6</th>\n",
       "      <td>7</td>\n",
       "      <td>0.07121</td>\n",
       "      <td>0.11161</td>\n",
       "    </tr>\n",
       "    <tr>\n",
       "      <th>7</th>\n",
       "      <td>8</td>\n",
       "      <td>0.08207</td>\n",
       "      <td>0.10802</td>\n",
       "    </tr>\n",
       "    <tr>\n",
       "      <th>8</th>\n",
       "      <td>9</td>\n",
       "      <td>0.10602</td>\n",
       "      <td>0.08793</td>\n",
       "    </tr>\n",
       "    <tr>\n",
       "      <th>9</th>\n",
       "      <td>10</td>\n",
       "      <td>0.10000</td>\n",
       "      <td>0.12043</td>\n",
       "    </tr>\n",
       "  </tbody>\n",
       "</table>\n",
       "</div>"
      ]
     },
     "execution_count": 39,
     "metadata": {},
     "output_type": "execute_result"
    }
   ],
   "execution_count": 39
  },
  {
   "metadata": {
    "ExecuteTime": {
     "end_time": "2025-06-09T19:11:32.649687Z",
     "start_time": "2025-06-09T19:11:32.497814Z"
    }
   },
   "cell_type": "code",
   "source": [
    "plt.plot(data['day'], data['control'], label='control')\n",
    "plt.plot(data['day'], data['exp'], label='exp')\n",
    "plt.legend()\n",
    "\n",
    "plt.xlabel('Day of Experiment')\n",
    "plt.ylabel('Success rate');"
   ],
   "id": "a2b06ff79ae9ecd0",
   "outputs": [
    {
     "data": {
      "text/plain": [
       "<Figure size 640x480 with 1 Axes>"
      ],
      "image/png": "[encoded data removed]"
     },
     "metadata": {},
     "output_type": "display_data"
    }
   ],
   "execution_count": 42
  },
  {
   "metadata": {
    "ExecuteTime": {
     "end_time": "2025-06-09T19:16:24.927481Z",
     "start_time": "2025-06-09T19:16:24.920804Z"
    }
   },
   "cell_type": "code",
   "source": "sign_test(data['control'], data['exp'], 'less')",
   "id": "3ea4b736ad804130",
   "outputs": [
    {
     "data": {
      "text/plain": [
       "0.08978271484375"
      ]
     },
     "execution_count": 43,
     "metadata": {},
     "output_type": "execute_result"
    }
   ],
   "execution_count": 43
  },
  {
   "metadata": {},
   "cell_type": "markdown",
   "source": [
    "## 4. Early Stopping\n",
    "Hàm dưới dùng bernoulli / binomial success model for outcome metric, measuring against a historic baseline. That is, each observation is a single coin flip with success probability \"p\". If we see a number of successes that is unusual for our baseline value of \"p\", then we declare a statistically significant result. We will divide the experiment length into multiple 'blocks', checking the status of the experiment after each block is complete. Our outputs of interest are the proportion of trials that are statistically significant in _any_ test, and the proportion of trials that are statistically significant after _each_ individual block. Các bước là:\n",
    "1. Simulate some data\n",
    " - Compute the number of trials per block. For simplicity, just round up any fractions so that each block has the same number of trials: we might end up with slightly more trials per block than the corresponding function parameter.\n",
    " - Generate a data matrix with the number of successes observed in each block: the number of rows should be the number of simulations and the number of columns the number of blocks.\n",
    "2. Compute z-scores at each 'peek'\n",
    " - For each row, compute the cumulative number of successes after each 'block' of the experiment. The result should be a matrix with the same dimensions as the data, but each column cumulatively adds up the values in each row up to that point.\n",
    " - Compute the expected mean and standard deviation for the number of successes after each 'block' of the experiment. This will be based on the binomial distribution and is centered on the raw counts, rather than proportion of successes. It'll be useful to create a vector with the cumulative sum of trials after each block to facilitate these calculations.\n",
    " - Use the cumulative counts, the expected counts, and the standard deviations, to compute the z-scores for each peek at the experiment.\n",
    "3. Aggregate test outcomes\n",
    " - Compute a critical z-value using the supposed Type I error rate. Use this critical value to flag which of the z-scores would be counted as statistically significant, and which would not.\n",
    " - The proportion of trials that are significant at _any_ test will be the proportion of rows that have at least one flagged value. The proportion of trials that are significant at _each_ block will be the mean number of flagged values in each column; this will be a 1-d array. Return both of these values as the output of the function."
   ],
   "id": "e0e6bd0ea62d55"
  },
  {
   "metadata": {
    "ExecuteTime": {
     "end_time": "2025-06-09T19:18:33.327384Z",
     "start_time": "2025-06-09T19:18:33.322785Z"
    }
   },
   "cell_type": "code",
   "source": [
    "def peeking_sim(alpha = .05, p = .5, n_trials = 1000, n_blocks = 2, n_sims = 10000):\n",
    "    \"\"\"\n",
    "    This function simulates the rate of Type I errors made if an early\n",
    "    stopping decision is made based on a significant result when peeking ahead.\n",
    "\n",
    "    Input parameters:\n",
    "        alpha: Supposed Type I error rate\n",
    "        p: Probability of individual trial success\n",
    "        n_trials: Number of trials in a full experiment\n",
    "        n_blocks: Number of times data is looked at (including end)\n",
    "        n_sims: Number of simulated experiments run\n",
    "\n",
    "    Return:\n",
    "        p_sig_any: Proportion of simulations significant at any check point,\n",
    "        p_sig_each: Proportion of simulations significant at each check point\n",
    "    \"\"\"\n",
    "\n",
    "    # generate data\n",
    "    trials_per_block = np.ceil(n_trials / n_blocks).astype(int)\n",
    "    data = np.random.binomial(trials_per_block, p, [n_sims, n_blocks])\n",
    "\n",
    "    # standardize data\n",
    "    data_cumsum = np.cumsum(data, axis = 1)\n",
    "    block_sizes = trials_per_block * np.arange(1, n_blocks+1, 1)\n",
    "    block_means = block_sizes * p\n",
    "    block_sds   = np.sqrt(block_sizes * p * (1-p))\n",
    "    data_zscores = (data_cumsum - block_means) / block_sds\n",
    "\n",
    "    # test outcomes\n",
    "    z_crit = stats.norm.ppf(1-alpha/2)\n",
    "    sig_flags = np.abs(data_zscores) > z_crit\n",
    "    p_sig_any = (sig_flags.sum(axis = 1) > 0).mean()\n",
    "    p_sig_each = sig_flags.mean(axis = 0)\n",
    "\n",
    "    return (p_sig_any, p_sig_each)"
   ],
   "id": "1e2e8a49208f0da3",
   "outputs": [],
   "execution_count": 44
  },
  {
   "metadata": {
    "ExecuteTime": {
     "end_time": "2025-06-09T19:18:39.500415Z",
     "start_time": "2025-06-09T19:18:39.468883Z"
    }
   },
   "cell_type": "code",
   "source": "peeking_sim(n_trials = 10_000, n_sims = 100_000)",
   "id": "1755b0b44db3f04f",
   "outputs": [
    {
     "data": {
      "text/plain": [
       "(0.08266, array([0.04947, 0.05033]))"
      ]
     },
     "execution_count": 45,
     "metadata": {},
     "output_type": "execute_result"
    }
   ],
   "execution_count": 45
  },
  {
   "metadata": {},
   "cell_type": "markdown",
   "source": [
    "#### A Multiple Comparisons Approach to Early Peeking\n",
    "The safest way we could deal with performing multiple checks and making poor early stopping decisions is to simply not do it. Once an experiment has been planned and all assignment procedures checked, you should just let the experiment run to completion and just assess the results at the very end. That's not to say that you can't perform early stopping, but it does require additional planning.\n",
    "\n",
    "One way in which you could solve for multiple peeking is to adjust the significance level of individual tests so that the overall error rate is at its desired level. But applying the Bonferroni or Šidák corrections as shown earlier in the lesson will definitely be too conservative, since we know that there is a correlation in test results between peeks. If we see some simulated run with z-score above the threshold at the halfway point, it's more likely to be above that threshold at the end point, compared to some other simulated run that is not statistically significant at the halfway point. One way in which we can obtain a better significance threshold is through the power of simulation. After performing the same steps 1 and 2 above, we want to find a significance level that would call our desired proportion of simulated tests as statistically significant:\n",
    "\n",
    "1. Simulate some data (as above)\n",
    "2. Compute z-scores at each 'peek' (as above)\n",
    "3. Obtain required individual-test error rate\n",
    "    - A run is considered statistically significant if it exceeds the critical bounds at _any_ peek. Obtain the maximum z-score from each row as a worst-case scenario for a null run to be falsely rejected.\n",
    "    - Find the z-score threshold that would reject our desired overall Type I error rate.\n",
    "    - Convert that z-score into an equivalent individual-test error rate."
   ],
   "id": "3c1e5ed65c299efb"
  },
  {
   "metadata": {
    "ExecuteTime": {
     "end_time": "2025-06-09T19:20:01.878976Z",
     "start_time": "2025-06-09T19:20:01.874213Z"
    }
   },
   "cell_type": "code",
   "source": [
    "def peeking_correction(alpha = .05, p = .5, n_trials = 1000, n_blocks = 2, n_sims = 10000):\n",
    "    \"\"\"\n",
    "    This function uses simulations to estimate the individual error rate necessary\n",
    "    to limit the Type I error rate, if an early stopping decision is made based on\n",
    "    a significant result when peeking ahead.\n",
    "\n",
    "    Input parameters:\n",
    "        alpha: Desired overall Type I error rate\n",
    "        p: Probability of individual trial success\n",
    "        n_trials: Number of trials in a full experiment\n",
    "        n_blocks: Number of times data is looked at (including end)\n",
    "        n_sims: Number of simulated experiments run\n",
    "\n",
    "    Return:\n",
    "        alpha_ind: Individual error rate required to achieve overall error rate\n",
    "    \"\"\"\n",
    "\n",
    "    # generate data\n",
    "    trials_per_block = np.ceil(n_trials / n_blocks).astype(int)\n",
    "    data = np.random.binomial(trials_per_block, p, [n_sims, n_blocks])\n",
    "\n",
    "    # standardize data\n",
    "    data_cumsum = np.cumsum(data, axis = 1)\n",
    "    block_sizes = trials_per_block * np.arange(1, n_blocks+1, 1)\n",
    "    block_means = block_sizes * p\n",
    "    block_sds   = np.sqrt(block_sizes * p * (1-p))\n",
    "    data_zscores = (data_cumsum - block_means) / block_sds\n",
    "\n",
    "    # find necessary individual error rate\n",
    "    max_zscores = np.abs(data_zscores).max(axis = 1)\n",
    "    z_crit_ind = np.percentile(max_zscores, 100 * (1 - alpha))\n",
    "    alpha_ind = 2 * (1 - stats.norm.cdf(z_crit_ind))\n",
    "\n",
    "    return alpha_ind"
   ],
   "id": "cbd6cf566ac69a78",
   "outputs": [],
   "execution_count": 46
  },
  {
   "metadata": {
    "ExecuteTime": {
     "end_time": "2025-06-09T19:21:36.005182Z",
     "start_time": "2025-06-09T19:21:35.983884Z"
    }
   },
   "cell_type": "code",
   "source": "peeking_correction(n_trials = 10_000, n_sims = 100_000)",
   "id": "d55689905af10684",
   "outputs": [
    {
     "data": {
      "text/plain": [
       "0.02941431013863638"
      ]
     },
     "execution_count": 47,
     "metadata": {},
     "output_type": "execute_result"
    }
   ],
   "execution_count": 47
  },
  {
   "metadata": {},
   "cell_type": "markdown",
   "source": "KQ required individual error rate là .029, cao hơn .025 or .0253 từ Bonferroni and Šidák corrections, respectively. KQ này gần vớ numbers given in table in middle of [this article](https://www.evanmiller.org/how-not-to-run-an-ab-test.html); chú ý peeking $n$ times nghĩa là splitting experiment into $n + 1$ blocks.",
   "id": "988e088eafa8a997"
  }
 ],
 "metadata": {
  "kernelspec": {
   "display_name": "Python 3",
   "language": "python",
   "name": "python3"
  },
  "language_info": {
   "codemirror_mode": {
    "name": "ipython",
    "version": 2
   },
   "file_extension": ".py",
   "mimetype": "text/x-python",
   "name": "python",
   "nbconvert_exporter": "python",
   "pygments_lexer": "ipython2",
   "version": "2.7.6"
  }
 },
 "nbformat": 4,
 "nbformat_minor": 5
}

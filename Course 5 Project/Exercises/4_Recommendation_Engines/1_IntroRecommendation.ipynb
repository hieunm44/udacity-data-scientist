{
 "cells": [
  {
   "metadata": {},
   "cell_type": "markdown",
   "source": "# Intro Recommendation Engines",
   "id": "acfa0e2bde3d41df"
  },
  {
   "cell_type": "code",
   "id": "initial_id",
   "metadata": {
    "collapsed": true,
    "ExecuteTime": {
     "end_time": "2025-06-09T23:04:02.882321Z",
     "start_time": "2025-06-09T23:04:02.550809Z"
    }
   },
   "source": [
    "import numpy as np\n",
    "import pandas as pd\n",
    "import matplotlib.pyplot as plt\n",
    "import tests as t\n",
    "import datetime\n",
    "from scipy.stats import spearmanr, kendalltau"
   ],
   "outputs": [],
   "execution_count": 26
  },
  {
   "metadata": {},
   "cell_type": "markdown",
   "source": "## 1. Getting to Know The Data",
   "id": "e468e5b9e7cb5cff"
  },
  {
   "metadata": {
    "ExecuteTime": {
     "end_time": "2025-06-09T22:43:20.170297Z",
     "start_time": "2025-06-09T22:43:17.690617Z"
    }
   },
   "cell_type": "code",
   "source": [
    "# Read in the datasets\n",
    "movies = pd.read_csv('original_movies.dat',\n",
    "                     delimiter='::',\n",
    "                     header=None,\n",
    "                     names=['movie_id', 'movie', 'genre'],\n",
    "                     dtype={'movie_id': object}, engine='python')\n",
    "\n",
    "reviews = pd.read_csv('original_ratings.dat',\n",
    "                      delimiter='::',\n",
    "                      header=None,\n",
    "                      names=['user_id', 'movie_id', 'rating', 'timestamp'],\n",
    "                      dtype={'movie_id': object, 'user_id': object, 'timestamp': object},\n",
    "                      engine='python')\n",
    "\n",
    "# Reduce the size reviews dataset\n",
    "reviews = reviews.loc[:100000,:]"
   ],
   "id": "3aa746829cd222d",
   "outputs": [],
   "execution_count": 2
  },
  {
   "metadata": {
    "ExecuteTime": {
     "end_time": "2025-06-09T22:43:20.192513Z",
     "start_time": "2025-06-09T22:43:20.185335Z"
    }
   },
   "cell_type": "code",
   "source": "movies.head()",
   "id": "fbbad22a7c727a7",
   "outputs": [
    {
     "data": {
      "text/plain": [
       "  movie_id                                              movie  \\\n",
       "0  0000008      Edison Kinetoscopic Record of a Sneeze (1894)   \n",
       "1  0000010                La sortie des usines Lumière (1895)   \n",
       "2  0000012                      The Arrival of a Train (1896)   \n",
       "3       25  The Oxford and Cambridge University Boat Race ...   \n",
       "4  0000091                         Le manoir du diable (1896)   \n",
       "\n",
       "               genre  \n",
       "0  Documentary|Short  \n",
       "1  Documentary|Short  \n",
       "2  Documentary|Short  \n",
       "3                NaN  \n",
       "4       Short|Horror  "
      ],
      "text/html": [
       "<div>\n",
       "<style scoped>\n",
       "    .dataframe tbody tr th:only-of-type {\n",
       "        vertical-align: middle;\n",
       "    }\n",
       "\n",
       "    .dataframe tbody tr th {\n",
       "        vertical-align: top;\n",
       "    }\n",
       "\n",
       "    .dataframe thead th {\n",
       "        text-align: right;\n",
       "    }\n",
       "</style>\n",
       "<table border=\"1\" class=\"dataframe\">\n",
       "  <thead>\n",
       "    <tr style=\"text-align: right;\">\n",
       "      <th></th>\n",
       "      <th>movie_id</th>\n",
       "      <th>movie</th>\n",
       "      <th>genre</th>\n",
       "    </tr>\n",
       "  </thead>\n",
       "  <tbody>\n",
       "    <tr>\n",
       "      <th>0</th>\n",
       "      <td>0000008</td>\n",
       "      <td>Edison Kinetoscopic Record of a Sneeze (1894)</td>\n",
       "      <td>Documentary|Short</td>\n",
       "    </tr>\n",
       "    <tr>\n",
       "      <th>1</th>\n",
       "      <td>0000010</td>\n",
       "      <td>La sortie des usines Lumière (1895)</td>\n",
       "      <td>Documentary|Short</td>\n",
       "    </tr>\n",
       "    <tr>\n",
       "      <th>2</th>\n",
       "      <td>0000012</td>\n",
       "      <td>The Arrival of a Train (1896)</td>\n",
       "      <td>Documentary|Short</td>\n",
       "    </tr>\n",
       "    <tr>\n",
       "      <th>3</th>\n",
       "      <td>25</td>\n",
       "      <td>The Oxford and Cambridge University Boat Race ...</td>\n",
       "      <td>NaN</td>\n",
       "    </tr>\n",
       "    <tr>\n",
       "      <th>4</th>\n",
       "      <td>0000091</td>\n",
       "      <td>Le manoir du diable (1896)</td>\n",
       "      <td>Short|Horror</td>\n",
       "    </tr>\n",
       "  </tbody>\n",
       "</table>\n",
       "</div>"
      ]
     },
     "execution_count": 3,
     "metadata": {},
     "output_type": "execute_result"
    }
   ],
   "execution_count": 3
  },
  {
   "metadata": {
    "ExecuteTime": {
     "end_time": "2025-06-09T22:43:30.076439Z",
     "start_time": "2025-06-09T22:43:30.069687Z"
    }
   },
   "cell_type": "code",
   "source": "reviews.head()",
   "id": "d781f7d087300c00",
   "outputs": [
    {
     "data": {
      "text/plain": [
       "  user_id  movie_id  rating   timestamp\n",
       "0       1   0114508       8  1381006850\n",
       "1       2   0208092       5  1586466072\n",
       "2       2   0358273       9  1579057827\n",
       "3       2  10039344       5  1578603053\n",
       "4       2   6751668       9  1578955697"
      ],
      "text/html": [
       "<div>\n",
       "<style scoped>\n",
       "    .dataframe tbody tr th:only-of-type {\n",
       "        vertical-align: middle;\n",
       "    }\n",
       "\n",
       "    .dataframe tbody tr th {\n",
       "        vertical-align: top;\n",
       "    }\n",
       "\n",
       "    .dataframe thead th {\n",
       "        text-align: right;\n",
       "    }\n",
       "</style>\n",
       "<table border=\"1\" class=\"dataframe\">\n",
       "  <thead>\n",
       "    <tr style=\"text-align: right;\">\n",
       "      <th></th>\n",
       "      <th>user_id</th>\n",
       "      <th>movie_id</th>\n",
       "      <th>rating</th>\n",
       "      <th>timestamp</th>\n",
       "    </tr>\n",
       "  </thead>\n",
       "  <tbody>\n",
       "    <tr>\n",
       "      <th>0</th>\n",
       "      <td>1</td>\n",
       "      <td>0114508</td>\n",
       "      <td>8</td>\n",
       "      <td>1381006850</td>\n",
       "    </tr>\n",
       "    <tr>\n",
       "      <th>1</th>\n",
       "      <td>2</td>\n",
       "      <td>0208092</td>\n",
       "      <td>5</td>\n",
       "      <td>1586466072</td>\n",
       "    </tr>\n",
       "    <tr>\n",
       "      <th>2</th>\n",
       "      <td>2</td>\n",
       "      <td>0358273</td>\n",
       "      <td>9</td>\n",
       "      <td>1579057827</td>\n",
       "    </tr>\n",
       "    <tr>\n",
       "      <th>3</th>\n",
       "      <td>2</td>\n",
       "      <td>10039344</td>\n",
       "      <td>5</td>\n",
       "      <td>1578603053</td>\n",
       "    </tr>\n",
       "    <tr>\n",
       "      <th>4</th>\n",
       "      <td>2</td>\n",
       "      <td>6751668</td>\n",
       "      <td>9</td>\n",
       "      <td>1578955697</td>\n",
       "    </tr>\n",
       "  </tbody>\n",
       "</table>\n",
       "</div>"
      ]
     },
     "execution_count": 4,
     "metadata": {},
     "output_type": "execute_result"
    }
   ],
   "execution_count": 4
  },
  {
   "metadata": {
    "ExecuteTime": {
     "end_time": "2025-06-09T22:43:59.492504Z",
     "start_time": "2025-06-09T22:43:59.482805Z"
    }
   },
   "cell_type": "code",
   "source": [
    "# number of movies\n",
    "print(\"The number of movies is {}.\".format(movies.shape[0]))\n",
    "\n",
    "# number of ratings\n",
    "print(\"The number of ratings is {}.\".format(reviews.shape[0]))\n",
    "\n",
    "# unique users\n",
    "print(\"The number of unique users is {}.\".format(reviews.user_id.nunique()))\n",
    "\n",
    "# missing ratings\n",
    "print(\"The number of missing reviews is {}.\".format(int(reviews.rating.isnull().mean()*reviews.shape[0])))\n",
    "\n",
    "# the average, min, and max ratings given\n",
    "print(\"The average, minimum, and max ratings given are {}, {}, and {}, respectively.\".format(np.round(reviews.rating.mean(), 0), reviews.rating.min(), reviews.rating.max()))"
   ],
   "id": "1c4cde7cdee3432d",
   "outputs": [
    {
     "name": "stdout",
     "output_type": "stream",
     "text": [
      "The number of movies is 35479.\n",
      "The number of ratings is 100001.\n",
      "The number of unique users is 8022.\n",
      "The number of missing reviews is 0.\n",
      "The average, minimum, and max ratings given are 7.0, 0, and 10, respectively.\n"
     ]
    }
   ],
   "execution_count": 5
  },
  {
   "metadata": {
    "ExecuteTime": {
     "end_time": "2025-06-09T22:44:07.024740Z",
     "start_time": "2025-06-09T22:44:06.998652Z"
    }
   },
   "cell_type": "code",
   "source": [
    "# number of different genres\n",
    "genres = []\n",
    "for val in movies.genre:\n",
    "    try:\n",
    "        genres.extend(val.split('|'))\n",
    "    except AttributeError:\n",
    "        pass\n",
    "\n",
    "# we end up needing this later\n",
    "genres = set(genres)\n",
    "print(\"The number of genres is {}.\".format(len(genres)))"
   ],
   "id": "4f46bddc6930a21",
   "outputs": [
    {
     "name": "stdout",
     "output_type": "stream",
     "text": [
      "The number of genres is 28.\n"
     ]
    }
   ],
   "execution_count": 6
  },
  {
   "metadata": {
    "ExecuteTime": {
     "end_time": "2025-06-09T22:44:33.867289Z",
     "start_time": "2025-06-09T22:44:33.864058Z"
    }
   },
   "cell_type": "code",
   "source": [
    "# Use your findings to match each variable to the correct statement in the dictionary\n",
    "a = 8022\n",
    "b = 10\n",
    "c = 7\n",
    "d = 35479\n",
    "e = 15\n",
    "f = 0\n",
    "g = 4\n",
    "h = 100001\n",
    "i = 28\n",
    "\n",
    "dict_sol1 = {\n",
    "'The number of movies in the dataset': d,\n",
    "'The number of ratings in the dataset': h,\n",
    "'The number of different genres': i,\n",
    "'The number of unique users in the dataset': a,\n",
    "'The number missing ratings in the reviews dataset': f,\n",
    "'The average rating given across all ratings': c,\n",
    "'The minimum rating given across all ratings': f,\n",
    "'The maximum rating given across all ratings': b\n",
    "}\n",
    "\n",
    "# Check your solution\n",
    "t.q1_check(dict_sol1)"
   ],
   "id": "dce10b61cc0361df",
   "outputs": [
    {
     "name": "stdout",
     "output_type": "stream",
     "text": [
      "That looks good to me!\n"
     ]
    }
   ],
   "execution_count": 7
  },
  {
   "metadata": {},
   "cell_type": "markdown",
   "source": [
    "Next, we need to pull some additional relevant information out of the existing columns. For each of the datasets, there are a couple of cleaning steps we need to take care of:\n",
    "\n",
    "**Movies**\n",
    "* Pull the date from the title and create new column\n",
    "* Dummy the date column with 1's and 0's for each century of a movie (1800's, 1900's, and 2000's)\n",
    "* Dummy column the genre with 1's and 0's for each genre\n",
    "\n",
    "**Reviews**\n",
    "* Create a date out of time stamp"
   ],
   "id": "5189b7f9e1e7dba1"
  },
  {
   "metadata": {
    "ExecuteTime": {
     "end_time": "2025-06-09T22:45:22.655926Z",
     "start_time": "2025-06-09T22:45:22.598392Z"
    }
   },
   "cell_type": "code",
   "source": [
    "# pull date if it exists\n",
    "create_date = lambda val: val[-5:-1] if val[-1] == ')' else np.nan\n",
    "\n",
    "# apply the function to pull the date\n",
    "movies['date'] = movies['movie'].apply(create_date)\n",
    "\n",
    "# Return century of movie as a dummy column\n",
    "def add_movie_year(val):\n",
    "    if val[:2] == yr:\n",
    "        return 1\n",
    "    else:\n",
    "        return 0\n",
    "\n",
    "# Apply function\n",
    "for yr in ['18', '19', '20']:\n",
    "    movies[str(yr) + \"00's\"] = movies['date'].apply(add_movie_year)"
   ],
   "id": "12baed98f9a9a8c7",
   "outputs": [],
   "execution_count": 8
  },
  {
   "metadata": {
    "ExecuteTime": {
     "end_time": "2025-06-09T22:45:29.444202Z",
     "start_time": "2025-06-09T22:45:29.054911Z"
    }
   },
   "cell_type": "code",
   "source": [
    "# Function to split and return values for columns\n",
    "def split_genres(val):\n",
    "    try:\n",
    "        if val.find(gene) >-1:\n",
    "            return 1\n",
    "        else:\n",
    "            return 0\n",
    "    except AttributeError:\n",
    "        return 0\n",
    "\n",
    "# Apply function for each genre\n",
    "for gene in genres:\n",
    "    movies[gene] = movies['genre'].apply(split_genres)"
   ],
   "id": "c8d58deb06f46788",
   "outputs": [],
   "execution_count": 9
  },
  {
   "metadata": {
    "ExecuteTime": {
     "end_time": "2025-06-09T22:45:42.468989Z",
     "start_time": "2025-06-09T22:45:42.454840Z"
    }
   },
   "cell_type": "code",
   "source": "movies.head()",
   "id": "3787576737217424",
   "outputs": [
    {
     "data": {
      "text/plain": [
       "  movie_id                                              movie  \\\n",
       "0  0000008      Edison Kinetoscopic Record of a Sneeze (1894)   \n",
       "1  0000010                La sortie des usines Lumière (1895)   \n",
       "2  0000012                      The Arrival of a Train (1896)   \n",
       "3       25  The Oxford and Cambridge University Boat Race ...   \n",
       "4  0000091                         Le manoir du diable (1896)   \n",
       "\n",
       "               genre  date  1800's  1900's  2000's  Film-Noir  Family  War  \\\n",
       "0  Documentary|Short  1894       1       0       0          0       0    0   \n",
       "1  Documentary|Short  1895       1       0       0          0       0    0   \n",
       "2  Documentary|Short  1896       1       0       0          0       0    0   \n",
       "3                NaN  1895       1       0       0          0       0    0   \n",
       "4       Short|Horror  1896       1       0       0          0       0    0   \n",
       "\n",
       "   ...  Comedy  Romance  Fantasy  Game-Show  Animation  Crime  Thriller  \\\n",
       "0  ...       0        0        0          0          0      0         0   \n",
       "1  ...       0        0        0          0          0      0         0   \n",
       "2  ...       0        0        0          0          0      0         0   \n",
       "3  ...       0        0        0          0          0      0         0   \n",
       "4  ...       0        0        0          0          0      0         0   \n",
       "\n",
       "   Music  Reality-TV  Short  \n",
       "0      0           0      1  \n",
       "1      0           0      1  \n",
       "2      0           0      1  \n",
       "3      0           0      0  \n",
       "4      0           0      1  \n",
       "\n",
       "[5 rows x 35 columns]"
      ],
      "text/html": [
       "<div>\n",
       "<style scoped>\n",
       "    .dataframe tbody tr th:only-of-type {\n",
       "        vertical-align: middle;\n",
       "    }\n",
       "\n",
       "    .dataframe tbody tr th {\n",
       "        vertical-align: top;\n",
       "    }\n",
       "\n",
       "    .dataframe thead th {\n",
       "        text-align: right;\n",
       "    }\n",
       "</style>\n",
       "<table border=\"1\" class=\"dataframe\">\n",
       "  <thead>\n",
       "    <tr style=\"text-align: right;\">\n",
       "      <th></th>\n",
       "      <th>movie_id</th>\n",
       "      <th>movie</th>\n",
       "      <th>genre</th>\n",
       "      <th>date</th>\n",
       "      <th>1800's</th>\n",
       "      <th>1900's</th>\n",
       "      <th>2000's</th>\n",
       "      <th>Film-Noir</th>\n",
       "      <th>Family</th>\n",
       "      <th>War</th>\n",
       "      <th>...</th>\n",
       "      <th>Comedy</th>\n",
       "      <th>Romance</th>\n",
       "      <th>Fantasy</th>\n",
       "      <th>Game-Show</th>\n",
       "      <th>Animation</th>\n",
       "      <th>Crime</th>\n",
       "      <th>Thriller</th>\n",
       "      <th>Music</th>\n",
       "      <th>Reality-TV</th>\n",
       "      <th>Short</th>\n",
       "    </tr>\n",
       "  </thead>\n",
       "  <tbody>\n",
       "    <tr>\n",
       "      <th>0</th>\n",
       "      <td>0000008</td>\n",
       "      <td>Edison Kinetoscopic Record of a Sneeze (1894)</td>\n",
       "      <td>Documentary|Short</td>\n",
       "      <td>1894</td>\n",
       "      <td>1</td>\n",
       "      <td>0</td>\n",
       "      <td>0</td>\n",
       "      <td>0</td>\n",
       "      <td>0</td>\n",
       "      <td>0</td>\n",
       "      <td>...</td>\n",
       "      <td>0</td>\n",
       "      <td>0</td>\n",
       "      <td>0</td>\n",
       "      <td>0</td>\n",
       "      <td>0</td>\n",
       "      <td>0</td>\n",
       "      <td>0</td>\n",
       "      <td>0</td>\n",
       "      <td>0</td>\n",
       "      <td>1</td>\n",
       "    </tr>\n",
       "    <tr>\n",
       "      <th>1</th>\n",
       "      <td>0000010</td>\n",
       "      <td>La sortie des usines Lumière (1895)</td>\n",
       "      <td>Documentary|Short</td>\n",
       "      <td>1895</td>\n",
       "      <td>1</td>\n",
       "      <td>0</td>\n",
       "      <td>0</td>\n",
       "      <td>0</td>\n",
       "      <td>0</td>\n",
       "      <td>0</td>\n",
       "      <td>...</td>\n",
       "      <td>0</td>\n",
       "      <td>0</td>\n",
       "      <td>0</td>\n",
       "      <td>0</td>\n",
       "      <td>0</td>\n",
       "      <td>0</td>\n",
       "      <td>0</td>\n",
       "      <td>0</td>\n",
       "      <td>0</td>\n",
       "      <td>1</td>\n",
       "    </tr>\n",
       "    <tr>\n",
       "      <th>2</th>\n",
       "      <td>0000012</td>\n",
       "      <td>The Arrival of a Train (1896)</td>\n",
       "      <td>Documentary|Short</td>\n",
       "      <td>1896</td>\n",
       "      <td>1</td>\n",
       "      <td>0</td>\n",
       "      <td>0</td>\n",
       "      <td>0</td>\n",
       "      <td>0</td>\n",
       "      <td>0</td>\n",
       "      <td>...</td>\n",
       "      <td>0</td>\n",
       "      <td>0</td>\n",
       "      <td>0</td>\n",
       "      <td>0</td>\n",
       "      <td>0</td>\n",
       "      <td>0</td>\n",
       "      <td>0</td>\n",
       "      <td>0</td>\n",
       "      <td>0</td>\n",
       "      <td>1</td>\n",
       "    </tr>\n",
       "    <tr>\n",
       "      <th>3</th>\n",
       "      <td>25</td>\n",
       "      <td>The Oxford and Cambridge University Boat Race ...</td>\n",
       "      <td>NaN</td>\n",
       "      <td>1895</td>\n",
       "      <td>1</td>\n",
       "      <td>0</td>\n",
       "      <td>0</td>\n",
       "      <td>0</td>\n",
       "      <td>0</td>\n",
       "      <td>0</td>\n",
       "      <td>...</td>\n",
       "      <td>0</td>\n",
       "      <td>0</td>\n",
       "      <td>0</td>\n",
       "      <td>0</td>\n",
       "      <td>0</td>\n",
       "      <td>0</td>\n",
       "      <td>0</td>\n",
       "      <td>0</td>\n",
       "      <td>0</td>\n",
       "      <td>0</td>\n",
       "    </tr>\n",
       "    <tr>\n",
       "      <th>4</th>\n",
       "      <td>0000091</td>\n",
       "      <td>Le manoir du diable (1896)</td>\n",
       "      <td>Short|Horror</td>\n",
       "      <td>1896</td>\n",
       "      <td>1</td>\n",
       "      <td>0</td>\n",
       "      <td>0</td>\n",
       "      <td>0</td>\n",
       "      <td>0</td>\n",
       "      <td>0</td>\n",
       "      <td>...</td>\n",
       "      <td>0</td>\n",
       "      <td>0</td>\n",
       "      <td>0</td>\n",
       "      <td>0</td>\n",
       "      <td>0</td>\n",
       "      <td>0</td>\n",
       "      <td>0</td>\n",
       "      <td>0</td>\n",
       "      <td>0</td>\n",
       "      <td>1</td>\n",
       "    </tr>\n",
       "  </tbody>\n",
       "</table>\n",
       "<p>5 rows × 35 columns</p>\n",
       "</div>"
      ]
     },
     "execution_count": 10,
     "metadata": {},
     "output_type": "execute_result"
    }
   ],
   "execution_count": 10
  },
  {
   "metadata": {
    "ExecuteTime": {
     "end_time": "2025-06-09T22:47:33.176954Z",
     "start_time": "2025-06-09T22:47:32.708494Z"
    }
   },
   "cell_type": "code",
   "source": [
    "change_timestamp = lambda val: datetime.datetime.fromtimestamp(int(val)).strftime('%Y-%m-%d %H:%M:%S')\n",
    "reviews['date'] = reviews['timestamp'].apply(change_timestamp)\n",
    "reviews_new, movies_new = t.show_clean_dataframes()"
   ],
   "id": "72ecdbd12b911784",
   "outputs": [
    {
     "name": "stdout",
     "output_type": "stream",
     "text": [
      "   Unnamed: 0  user_id  movie_id  rating   timestamp                 date\n",
      "0           0        1    114508       8  1381006850  2013-10-05 21:00:50\n",
      "1           1        2    208092       5  1586466072  2020-04-09 21:01:12\n",
      "2           2        2    358273       9  1579057827  2020-01-15 03:10:27\n",
      "3           3        2  10039344       5  1578603053  2020-01-09 20:50:53\n",
      "4           4        2   6751668       9  1578955697  2020-01-13 22:48:17\n",
      "   Unnamed: 0  movie_id                                              movie  \\\n",
      "0           0         8      Edison Kinetoscopic Record of a Sneeze (1894)   \n",
      "1           1        10                La sortie des usines Lumière (1895)   \n",
      "2           2        12                      The Arrival of a Train (1896)   \n",
      "3           3        25  The Oxford and Cambridge University Boat Race ...   \n",
      "4           4        91                         Le manoir du diable (1896)   \n",
      "\n",
      "               genre  date  1800's  1900's  2000's  Documentary  Adventure  \\\n",
      "0  Documentary|Short  1894       1       0       0            1          0   \n",
      "1  Documentary|Short  1895       1       0       0            1          0   \n",
      "2  Documentary|Short  1896       1       0       0            1          0   \n",
      "3                NaN  1895       1       0       0            0          0   \n",
      "4       Short|Horror  1896       1       0       0            0          0   \n",
      "\n",
      "   ...  War  Romance  Musical  Film-Noir  Sport  Mystery  Western  Horror  \\\n",
      "0  ...    0        0        0          0      0        0        0       0   \n",
      "1  ...    0        0        0          0      0        0        0       0   \n",
      "2  ...    0        0        0          0      0        0        0       0   \n",
      "3  ...    0        0        0          0      0        0        0       0   \n",
      "4  ...    0        0        0          0      0        0        0       1   \n",
      "\n",
      "   Comedy  Music  \n",
      "0       0      0  \n",
      "1       0      0  \n",
      "2       0      0  \n",
      "3       0      0  \n",
      "4       0      0  \n",
      "\n",
      "[5 rows x 36 columns]\n"
     ]
    }
   ],
   "execution_count": 12
  },
  {
   "metadata": {},
   "cell_type": "code",
   "outputs": [],
   "execution_count": null,
   "source": [
    "# reviews.to_csv('reviews_clean.csv')\n",
    "# movies.to_csv('movies_clean.csv')"
   ],
   "id": "8947a3c77870cc36"
  },
  {
   "metadata": {},
   "cell_type": "markdown",
   "source": "## 2. Most Popular Recommendation",
   "id": "c39c14c453af3255"
  },
  {
   "metadata": {},
   "cell_type": "code",
   "outputs": [],
   "execution_count": null,
   "source": [
    "movies = pd.read_csv('movies_clean.csv')\n",
    "reviews = pd.read_csv('reviews_clean.csv')\n",
    "del movies['Unnamed: 0']\n",
    "del reviews['Unnamed: 0']"
   ],
   "id": "efd08b1c0db079cc"
  },
  {
   "metadata": {},
   "cell_type": "markdown",
   "source": [
    "### 2.1. How To Find The Most Popular Movies?\n",
    "Task là no matter the user, ta cho ra a list of the recommendations chỉ dựa trên most popular items, theo các criteria sau:\n",
    "* A movie with highest average rating is considered best\n",
    "* With ties, movies that have more ratings are better\n",
    "* A movie must have a minimum of 5 ratings to be considered among best movies\n",
    "* If movies are tied in their average rating and number of ratings, the ranking is determined by the movie that is most recent rating\n",
    "\n",
    "Mđ là lấy một **user_id** và trả về **n_top** recommendations (thực ra sẽ ko dùng user_id)."
   ],
   "id": "787e5978756a3f20"
  },
  {
   "metadata": {
    "ExecuteTime": {
     "end_time": "2025-06-09T22:52:42.185990Z",
     "start_time": "2025-06-09T22:52:42.180203Z"
    }
   },
   "cell_type": "code",
   "source": [
    "def create_ranked_df(movies, reviews):\n",
    "        '''\n",
    "        INPUT\n",
    "        movies - the movies dataframe\n",
    "        reviews - the reviews dataframe\n",
    "\n",
    "        OUTPUT\n",
    "        ranked_movies - a dataframe with movies that are sorted by highest avg rating, more reviews,\n",
    "                        then time, and must have more than 4 ratings\n",
    "        '''\n",
    "\n",
    "        # Pull the average ratings and number of ratings for each movie\n",
    "        movie_ratings = reviews.groupby('movie_id')['rating']\n",
    "        avg_ratings = movie_ratings.mean()\n",
    "        num_ratings = movie_ratings.count()\n",
    "        last_rating = pd.DataFrame(reviews.groupby('movie_id').max()['date'])\n",
    "        last_rating.columns = ['last_rating']\n",
    "\n",
    "        # Add Dates\n",
    "        rating_count_df = pd.DataFrame({'avg_rating': avg_ratings, 'num_ratings': num_ratings})\n",
    "        rating_count_df = rating_count_df.join(last_rating)\n",
    "\n",
    "        # merge with the movies dataset\n",
    "        movie_recs = movies.set_index('movie_id').join(rating_count_df)\n",
    "\n",
    "        # sort by top avg rating and number of ratings\n",
    "        ranked_movies = movie_recs.sort_values(['avg_rating', 'num_ratings', 'last_rating'], ascending=False)\n",
    "\n",
    "        # for edge cases - subset the movie list to those with only 5 or more reviews\n",
    "        ranked_movies = ranked_movies[ranked_movies['num_ratings'] > 4]\n",
    "\n",
    "        return ranked_movies\n",
    "\n",
    "\n",
    "def popular_recommendations(user_id, n_top, ranked_movies):\n",
    "    '''\n",
    "    INPUT:\n",
    "    user_id - the user_id (str) of the individual you are making recommendations for\n",
    "    n_top - an integer of the number recommendations you want back\n",
    "    ranked_movies - a pandas dataframe of the already ranked movies based on avg rating, count, and time\n",
    "\n",
    "    OUTPUT:\n",
    "    top_movies - a list of the n_top recommended movies by movie title in order best to worst\n",
    "    '''\n",
    "\n",
    "    top_movies = list(ranked_movies['movie'][:n_top])\n",
    "\n",
    "    return top_movies"
   ],
   "id": "4e27964fa34d40af",
   "outputs": [],
   "execution_count": 14
  },
  {
   "metadata": {
    "ExecuteTime": {
     "end_time": "2025-06-09T22:53:04.050946Z",
     "start_time": "2025-06-09T22:53:01.501582Z"
    }
   },
   "cell_type": "code",
   "source": [
    "ranked_movies = create_ranked_df(movies, reviews)\n",
    "\n",
    "# Top 20 movies recommended for id 1\n",
    "recs_20_for_1 = popular_recommendations('1', 20, ranked_movies)\n",
    "\n",
    "# Top 5 movies recommended for id 53968\n",
    "recs_5_for_53968 = popular_recommendations('53968', 5, ranked_movies)\n",
    "\n",
    "# Top 100 movies recommended for id 70000\n",
    "recs_100_for_70000 = popular_recommendations('70000', 100, ranked_movies)\n",
    "\n",
    "# Top 35 movies recommended for id 43\n",
    "recs_35_for_43 = popular_recommendations('43', 35, ranked_movies)"
   ],
   "id": "da46d546a1872192",
   "outputs": [],
   "execution_count": 16
  },
  {
   "metadata": {
    "ExecuteTime": {
     "end_time": "2025-06-09T22:53:12.647939Z",
     "start_time": "2025-06-09T22:53:12.641574Z"
    }
   },
   "cell_type": "code",
   "source": [
    "# check 1\n",
    "assert t.popular_recommendations('1', 20, ranked_movies) == recs_20_for_1,  \"The first check failed...\"\n",
    "# check 2\n",
    "assert t.popular_recommendations('53968', 5, ranked_movies) == recs_5_for_53968,  \"The second check failed...\"\n",
    "# check 3\n",
    "assert t.popular_recommendations('70000', 100, ranked_movies) == recs_100_for_70000,  \"The third check failed...\"\n",
    "# check 4\n",
    "assert t.popular_recommendations('43', 35, ranked_movies) == recs_35_for_43,  \"The fourth check failed...\"\n",
    "\n",
    "print(\"If you got here, looks like you are good to go!  Nice job!\")"
   ],
   "id": "95171810f8ba1565",
   "outputs": [
    {
     "name": "stdout",
     "output_type": "stream",
     "text": [
      "If you got here, looks like you are good to go!  Nice job!\n"
     ]
    }
   ],
   "execution_count": 17
  },
  {
   "metadata": {},
   "cell_type": "markdown",
   "source": [
    "## 2.2. Adding Filters\n",
    "Giừo thêm các filters cho movie **year** and **genre**."
   ],
   "id": "5e7107d0d6a3a33a"
  },
  {
   "metadata": {
    "ExecuteTime": {
     "end_time": "2025-06-09T22:54:53.153320Z",
     "start_time": "2025-06-09T22:54:53.148450Z"
    }
   },
   "cell_type": "code",
   "source": [
    "def popular_recs_filtered(user_id, n_top, ranked_movies, years=None, genres=None):\n",
    "    '''\n",
    "    INPUT:\n",
    "    user_id - the user_id (str) of the individual you are making recommendations for\n",
    "    n_top - an integer of the number recommendations you want back\n",
    "    ranked_movies - a pandas dataframe of the already ranked movies based on avg rating, count, and time\n",
    "    years - a list of strings with years of movies\n",
    "    genres - a list of strings with genres of movies\n",
    "\n",
    "    OUTPUT:\n",
    "    top_movies - a list of the n_top recommended movies by movie title in order best to worst\n",
    "    '''\n",
    "    # Filter movies based on year and genre\n",
    "    if years is not None:\n",
    "        ranked_movies = ranked_movies[ranked_movies['date'].isin(years)]\n",
    "\n",
    "    if genres is not None:\n",
    "        num_genre_match = ranked_movies[genres].sum(axis=1)\n",
    "        ranked_movies = ranked_movies.loc[num_genre_match > 0, :]\n",
    "\n",
    "\n",
    "    # create top movies list\n",
    "    top_movies = list(ranked_movies['movie'][:n_top])\n",
    "\n",
    "    return top_movies"
   ],
   "id": "57b82d664b9e2f68",
   "outputs": [],
   "execution_count": 18
  },
  {
   "metadata": {
    "ExecuteTime": {
     "end_time": "2025-06-09T22:54:58.132998Z",
     "start_time": "2025-06-09T22:54:58.119369Z"
    }
   },
   "cell_type": "code",
   "source": [
    "# Top 20 movies recommended for id 1 with years=['2015', '2016', '2017', '2018'], genres=['History']\n",
    "recs_20_for_1_filtered = popular_recs_filtered('1', 20, ranked_movies, years=['2015', '2016', '2017', '2018'], genres=['History'])\n",
    "\n",
    "# Top 5 movies recommended for id 53968 with no genre filter but years=['2015', '2016', '2017', '2018']\n",
    "recs_5_for_53968_filtered = popular_recs_filtered('53968', 5, ranked_movies, years=['2015', '2016', '2017', '2018'])\n",
    "\n",
    "# Top 100 movies recommended for id 70000 with no year filter but genres=['History', 'News']\n",
    "recs_100_for_70000_filtered = popular_recs_filtered('70000', 100, ranked_movies, genres=['History', 'News'])"
   ],
   "id": "78992b06768c1da1",
   "outputs": [],
   "execution_count": 19
  },
  {
   "metadata": {
    "ExecuteTime": {
     "end_time": "2025-06-09T22:55:03.914655Z",
     "start_time": "2025-06-09T22:55:03.897222Z"
    }
   },
   "cell_type": "code",
   "source": [
    "# check 1\n",
    "assert t.popular_recs_filtered('1', 20, ranked_movies, years=['2015', '2016', '2017', '2018'], genres=['History']) == recs_20_for_1_filtered,  \"The first check failed...\"\n",
    "# check 2\n",
    "assert t.popular_recs_filtered('53968', 5, ranked_movies, years=['2015', '2016', '2017', '2018']) == recs_5_for_53968_filtered,  \"The second check failed...\"\n",
    "# check 3\n",
    "assert t.popular_recs_filtered('70000', 100, ranked_movies, genres=['History', 'News']) == recs_100_for_70000_filtered,  \"The third check failed...\"\n",
    "\n",
    "print(\"If you got here, looks like you are good to go!  Nice job!\")"
   ],
   "id": "25b2916e3a542c47",
   "outputs": [
    {
     "name": "stdout",
     "output_type": "stream",
     "text": [
      "If you got here, looks like you are good to go!  Nice job!\n"
     ]
    }
   ],
   "execution_count": 20
  }
 ],
 "metadata": {
  "kernelspec": {
   "display_name": "Python 3",
   "language": "python",
   "name": "python3"
  },
  "language_info": {
   "codemirror_mode": {
    "name": "ipython",
    "version": 2
   },
   "file_extension": ".py",
   "mimetype": "text/x-python",
   "name": "python",
   "nbconvert_exporter": "python",
   "pygments_lexer": "ipython2",
   "version": "2.7.6"
  }
 },
 "nbformat": 4,
 "nbformat_minor": 5
}

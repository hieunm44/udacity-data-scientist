{
 "cells": [
  {
   "metadata": {},
   "cell_type": "markdown",
   "source": "# Matrix Factorization",
   "id": "e6b7f23da163f63b"
  },
  {
   "cell_type": "code",
   "id": "initial_id",
   "metadata": {
    "collapsed": true,
    "ExecuteTime": {
     "end_time": "2025-06-11T14:08:32.507958Z",
     "start_time": "2025-06-11T14:08:32.501215Z"
    }
   },
   "source": [
    "import numpy as np\n",
    "import pandas as pd\n",
    "import matplotlib.pyplot as plt\n",
    "import seaborn as sns\n",
    "import svd_tests as t\n",
    "import pickle"
   ],
   "outputs": [],
   "execution_count": 1
  },
  {
   "metadata": {},
   "cell_type": "markdown",
   "source": [
    "## 1. SVD\n",
    "`1.` Run the cell below to create the **user_movie_subset** dataframe.  This will be the dataframe you will be using for the first part of this notebook."
   ],
   "id": "cadc0342ad8aff1a"
  },
  {
   "metadata": {
    "ExecuteTime": {
     "end_time": "2025-06-11T13:33:25.224012Z",
     "start_time": "2025-06-11T13:33:24.224539Z"
    }
   },
   "cell_type": "code",
   "source": [
    "movies = pd.read_csv('movies_clean.csv')\n",
    "reviews = pd.read_csv('reviews_clean.csv')\n",
    "\n",
    "del movies['Unnamed: 0']\n",
    "del reviews['Unnamed: 0']\n",
    "\n",
    "# Create user-by-item matrix\n",
    "user_items = reviews[['user_id', 'movie_id', 'rating']]\n",
    "user_by_movie = user_items.groupby(['user_id', 'movie_id'])['rating'].max().unstack()\n",
    "\n",
    "user_movie_subset = user_by_movie[[75314,  68646, 99685]].dropna(axis=0)\n",
    "print(user_movie_subset)"
   ],
   "id": "72c0f81dceed4a3c",
   "outputs": [
    {
     "name": "stdout",
     "output_type": "stream",
     "text": [
      "movie_id  75314  68646  99685\n",
      "user_id                      \n",
      "2213        7.0   10.0    8.0\n",
      "2223        6.0   10.0    7.0\n",
      "2942        8.0    9.0    8.0\n",
      "3298        8.0   10.0   10.0\n",
      "3424        9.0    9.0    9.0\n",
      "5205        8.0    9.0    9.0\n"
     ]
    }
   ],
   "execution_count": 3
  },
  {
   "metadata": {},
   "cell_type": "markdown",
   "source": "`2.` Now that you have the **user_movie_subset** matrix, use this matrix to correctly match each key to the correct value in the dictionary below.  Use the cells below the dictionary as necessary.",
   "id": "4b6565bd86d92ca8"
  },
  {
   "metadata": {
    "ExecuteTime": {
     "end_time": "2025-06-11T13:34:03.729932Z",
     "start_time": "2025-06-11T13:34:03.726315Z"
    }
   },
   "cell_type": "code",
   "source": [
    "# match each letter to the best statement in the dictionary below - each will be used at most once\n",
    "a = 6\n",
    "b = 99685\n",
    "c = 'The Godfather'\n",
    "d = 'Goodfellas'\n",
    "e = 3298\n",
    "f = 30685\n",
    "g = 3\n",
    "\n",
    "sol_1_dict = {\n",
    "    'the number of users in the user_movie_subset': a,\n",
    "    'the number of movies in the user_movie_subset': g,\n",
    "    'the user_id with the highest average ratings given': e,\n",
    "    'the movie_id with the highest average ratings received': b,\n",
    "    'the name of the movie that received the highest average rating': d\n",
    "}\n",
    "\n",
    "#test dictionary here\n",
    "t.test1(sol_1_dict)"
   ],
   "id": "150b149a2db84894",
   "outputs": [
    {
     "name": "stdout",
     "output_type": "stream",
     "text": [
      "That's right!  There are 6 users in the dataset, which is given by the number of rows. There are 3 movies in the dataset given by the number of columns.  You can find the movies or users with the highest average ratings by taking the mean of each row or column.  Using the movies table, you can find the movie names associated with each id.  This shows the top rated movie is Goodfellas!\n"
     ]
    }
   ],
   "execution_count": 4
  },
  {
   "metadata": {
    "ExecuteTime": {
     "end_time": "2025-06-11T13:34:12.651700Z",
     "start_time": "2025-06-11T13:34:12.632107Z"
    }
   },
   "cell_type": "code",
   "source": [
    "# user with the highest average rating\n",
    "print(user_movie_subset.mean(axis=1))\n",
    "\n",
    "# movie with highest average rating\n",
    "print(user_movie_subset.mean(axis=0))\n",
    "\n",
    "# list of movie names\n",
    "for movie_id in [73486, 75314,  68646, 99685]:\n",
    "    print(movies[movies['movie_id'] == movie_id]['movie'])\n",
    "\n",
    "# users by movies\n",
    "user_movie_subset.shape"
   ],
   "id": "fa78d2f235a0b61f",
   "outputs": [
    {
     "name": "stdout",
     "output_type": "stream",
     "text": [
      "user_id\n",
      "2213    8.333333\n",
      "2223    7.666667\n",
      "2942    8.333333\n",
      "3298    9.333333\n",
      "3424    9.000000\n",
      "5205    8.666667\n",
      "dtype: float64\n",
      "movie_id\n",
      "75314    7.666667\n",
      "68646    9.500000\n",
      "99685    8.500000\n",
      "dtype: float64\n",
      "4505    One Flew Over the Cuckoo's Nest (1975)\n",
      "Name: movie, dtype: object\n",
      "4692    Taxi Driver (1976)\n",
      "Name: movie, dtype: object\n",
      "3988    The Godfather (1972)\n",
      "Name: movie, dtype: object\n",
      "7404    Goodfellas (1990)\n",
      "Name: movie, dtype: object\n"
     ]
    },
    {
     "data": {
      "text/plain": [
       "(6, 3)"
      ]
     },
     "execution_count": 5,
     "metadata": {},
     "output_type": "execute_result"
    }
   ],
   "execution_count": 5
  },
  {
   "metadata": {},
   "cell_type": "markdown",
   "source": [
    "Now that you have a little more context about the matrix we will be performing Singular Value Decomposition on, we're going to do just that.  To get started, let's remind ourselves about the dimensions of each of the matrices we are going to get back.   Essentially, we are going to split the **user_movie_subset** matrix into three matrices:\n",
    "$$ U \\Sigma V^T $$\n",
    "\n",
    "`3.` Given what you learned about in the previous parts of this lesson, provide the dimensions for each of the matrices specified above using the dictionary below."
   ],
   "id": "ecbe9d55b116a6b3"
  },
  {
   "metadata": {
    "ExecuteTime": {
     "end_time": "2025-06-11T13:34:33.293398Z",
     "start_time": "2025-06-11T13:34:33.290043Z"
    }
   },
   "cell_type": "code",
   "source": [
    "# match each letter in the dictionary below - a letter may appear more than once.\n",
    "a = 'a number that you can choose as the number of latent features to keep'\n",
    "b = 'the number of users'\n",
    "c = 'the number of movies'\n",
    "d = 'the sum of the number of users and movies'\n",
    "e = 'the product of the number of users and movies'\n",
    "\n",
    "sol_2_dict = {\n",
    "    'the number of rows in the U matrix': b,\n",
    "    'the number of columns in the U matrix': a,\n",
    "    'the number of rows in the V transpose matrix': a,\n",
    "    'the number of columns in the V transpose matrix': c\n",
    "}\n",
    "\n",
    "#test dictionary here\n",
    "t.test2(sol_2_dict)"
   ],
   "id": "28175598188134d0",
   "outputs": [
    {
     "name": "stdout",
     "output_type": "stream",
     "text": [
      "That's right!  We will now put this to use, so you can see how the dot product of these matrices come together to create our user item matrix.  The number of latent features will control the sigma matrix as well, and this will a square matrix that will at most be the minimum of the number of users and number of movies (in our case the minimum is the 4 movies).\n"
     ]
    }
   ],
   "execution_count": 6
  },
  {
   "metadata": {},
   "cell_type": "markdown",
   "source": [
    "Now let's verify the above dimensions by performing SVD on our user-movie matrix.\n",
    "\n",
    "`4.` Below you can find the code used to perform SVD in numpy. What do you notice about the shapes of your matrices?  If you try to take the dot product of the three objects you get back, can you directly do this to get back the user-movie matrix?"
   ],
   "id": "19c9eed364817193"
  },
  {
   "metadata": {
    "ExecuteTime": {
     "end_time": "2025-06-11T13:34:54.228442Z",
     "start_time": "2025-06-11T13:34:54.221179Z"
    }
   },
   "cell_type": "code",
   "source": [
    "u, s, vt = np.linalg.svd(user_movie_subset)\n",
    "s.shape, u.shape, vt.shape"
   ],
   "id": "3bcaf5bad3765b0",
   "outputs": [
    {
     "data": {
      "text/plain": [
       "((3,), (6, 6), (3, 3))"
      ]
     },
     "execution_count": 7,
     "metadata": {},
     "output_type": "execute_result"
    }
   ],
   "execution_count": 7
  },
  {
   "metadata": {
    "ExecuteTime": {
     "end_time": "2025-06-11T13:35:00.864318Z",
     "start_time": "2025-06-11T13:35:00.860908Z"
    }
   },
   "cell_type": "code",
   "source": [
    "# Run this cell for our thoughts on the questions posted above\n",
    "t.question4thoughts()"
   ],
   "id": "3d77912408fb784c",
   "outputs": [
    {
     "name": "stdout",
     "output_type": "stream",
     "text": [
      "Looking at the dimensions of the three returned objects, we can see the following:\n",
      "\n",
      " 1. The u matrix is a square matrix with the number of rows and columns equaling the number of users. \n",
      "\n",
      " 2. The v transpose matrix is also a square matrix with the number of rows and columns equaling the number of items.\n",
      "\n",
      " 3. The sigma matrix is actually returned as just an array with 4 values.  \n",
      "\n",
      " In order to set up the matrices in a way that they can be multiplied together, we have a few steps to perform: \n",
      "\n",
      " 1. Turn sigma into a square matrix with the number of latent features we would like to keep. \n",
      "\n",
      " 2. Change the columns of u and the rows of v transpose to match this number of dimensions. \n",
      "\n",
      " If we would like to exactly re-create the user-movie matrix, we could choose to keep all of the latent features.\n"
     ]
    }
   ],
   "execution_count": 8
  },
  {
   "metadata": {},
   "cell_type": "markdown",
   "source": [
    "`5.` Use the thoughts from the above question to create **u**, **s**, and **vt** with four latent features.  When you have all three matrices created correctly, run the test below to show that the dot product of the three matrices creates the original user-movie matrix.  The matrices should have the following dimensions:\n",
    "$$ U_{n x k} $$\n",
    "$$\\Sigma_{k x k} $$\n",
    "$$V^T_{k x m} $$\n",
    "\n",
    "where:\n",
    "1. n is the number of users\n",
    "2. k is the number of latent features to keep (4 for this case)\n",
    "3. m is the number of movies"
   ],
   "id": "c2c6aefd8e62c2cb"
  },
  {
   "metadata": {
    "ExecuteTime": {
     "end_time": "2025-06-11T13:36:15.680012Z",
     "start_time": "2025-06-11T13:36:15.675666Z"
    }
   },
   "cell_type": "code",
   "source": [
    "# Change the dimensions of u, s, and vt as necessary to use three latent features\n",
    "# update the shape of u and store in u_new\n",
    "u_new = u[:, :len(s)]\n",
    "\n",
    "# update the shape of s and store in s_new\n",
    "s_new = np.zeros((len(s), len(s)))\n",
    "s_new[:len(s), :len(s)] = np.diag(s)\n",
    "\n",
    "# Because we are using 3 latent features and there are only 3 movies,\n",
    "# vt and vt_new are the same\n",
    "vt_new = vt"
   ],
   "id": "6c05d6dce99cb609",
   "outputs": [],
   "execution_count": 9
  },
  {
   "metadata": {
    "ExecuteTime": {
     "end_time": "2025-06-11T13:36:20.255595Z",
     "start_time": "2025-06-11T13:36:20.251505Z"
    }
   },
   "cell_type": "code",
   "source": [
    "assert u_new.shape == (6, 3), \"Oops!  The shape of the u matrix doesn't look right. It should be 6 by 3.\"\n",
    "assert s_new.shape == (3, 3), \"Oops!  The shape of the sigma matrix doesn't look right.  It should be 3 x 3.\"\n",
    "assert vt_new.shape == (3, 3), \"Oops! The shape of the v transpose matrix doesn't look right.  It should be 3 x 3.\"\n",
    "assert np.allclose(np.dot(np.dot(u_new, s_new), vt_new), user_movie_subset), \"Oops!  Something went wrong with the dot product.  Your result didn't reproduce the original movie_user matrix.\"\n",
    "print(\"That's right! The dimensions of u should be 6 x 3, and both v transpose and sigma should be 3 x 3.  The dot product of the three matrices how equals the original user-movie matrix!\")"
   ],
   "id": "e5c526dcd02f35b5",
   "outputs": [
    {
     "name": "stdout",
     "output_type": "stream",
     "text": [
      "That's right! The dimensions of u should be 6 x 3, and both v transpose and sigma should be 3 x 3.  The dot product of the three matrices how equals the original user-movie matrix!\n"
     ]
    }
   ],
   "execution_count": 10
  },
  {
   "metadata": {},
   "cell_type": "markdown",
   "source": [
    "It turns out that the sigma matrix can actually tell us how much of the original variability in the user-movie matrix is captured by each latent feature.  The total amount of variability to be explained is the sum of the squared diagonal elements.  The amount of variability explained by the first componenet is the square of the first value in the diagonal.  The amount of variability explained by the second componenet is the square of the second value in the diagonal.\n",
    "\n",
    "`6.` Using the above information, can you determine the amount of variability in the original user-movie matrix that can be explained by only using the first two components? Use the cell below for your work, and then test your answer against the solution with the following cell."
   ],
   "id": "307ebe9e9be669f7"
  },
  {
   "metadata": {
    "ExecuteTime": {
     "end_time": "2025-06-11T13:36:34.297084Z",
     "start_time": "2025-06-11T13:36:34.292922Z"
    }
   },
   "cell_type": "code",
   "source": [
    "total_var = np.sum(s**2)\n",
    "var_exp_comp1_and_comp2 = s[0]**2 + s[1]**2\n",
    "perc_exp = round(var_exp_comp1_and_comp2/total_var*100, 2)\n",
    "print(\"The total variance in the original matrix is {}.\".format(total_var))\n",
    "print(\"Ther percentage of variability captured by the first two components is {}%.\".format(perc_exp))"
   ],
   "id": "c1f3530394f52af9",
   "outputs": [
    {
     "name": "stdout",
     "output_type": "stream",
     "text": [
      "The total variance in the original matrix is 1340.0000000000005.\n",
      "Ther percentage of variability captured by the first two components is 99.91%.\n"
     ]
    }
   ],
   "execution_count": 11
  },
  {
   "metadata": {
    "ExecuteTime": {
     "end_time": "2025-06-11T13:36:37.685712Z",
     "start_time": "2025-06-11T13:36:37.681109Z"
    }
   },
   "cell_type": "code",
   "source": [
    "assert np.round(perc_exp, 2) == 99.91, \"Oops!  That doesn't look quite right.  You should have total variability as the sum of all the squared elements in the sigma matrix.  Then just the sum of the squared first two elements is the amount explained by the first two latent features.  Try again.\"\n",
    "print(\"Yup!  That all looks good!\")"
   ],
   "id": "48490b853a1713b8",
   "outputs": [
    {
     "name": "stdout",
     "output_type": "stream",
     "text": [
      "Yup!  That all looks good!\n"
     ]
    }
   ],
   "execution_count": 12
  },
  {
   "metadata": {},
   "cell_type": "markdown",
   "source": [
    "`7.` Similar to in the previous question, change the shapes of your u, sigma, and v transpose matrices.  However, this time consider only using the first 2 components to reproduce the user-movie matrix instead of all 3. After you have your matrices set up, check your matrices against the solution by running the tests.  The matrices should have the following dimensions:\n",
    "$$ U_{n x k} $$\n",
    "$$\\Sigma_{k x k} $$\n",
    "$$V^T_{k x m} $$\n",
    "\n",
    "where:\n",
    "1. n is the number of users\n",
    "2. k is the number of latent features to keep (2 for this case)\n",
    "3. m is the number of movies"
   ],
   "id": "dea23c4c76ed80a3"
  },
  {
   "metadata": {
    "ExecuteTime": {
     "end_time": "2025-06-11T13:37:29.804797Z",
     "start_time": "2025-06-11T13:37:29.800878Z"
    }
   },
   "cell_type": "code",
   "source": [
    "# Change the dimensions of u, s, and vt as necessary to use four latent features\n",
    "# update the shape of u and store in u_new\n",
    "k = 2\n",
    "u_2 = u[:, :k]\n",
    "\n",
    "# update the shape of s and store in s_new\n",
    "s_2 = np.zeros((k, k))\n",
    "s_2[:k, :k] = np.diag(s[:k])\n",
    "\n",
    "# Because we are using 2 latent features, we need to update vt this time\n",
    "vt_2 = vt[:k, :]"
   ],
   "id": "91b9d9ab32294458",
   "outputs": [],
   "execution_count": 14
  },
  {
   "metadata": {
    "ExecuteTime": {
     "end_time": "2025-06-11T13:37:30.663070Z",
     "start_time": "2025-06-11T13:37:30.660097Z"
    }
   },
   "cell_type": "code",
   "source": [
    "assert u_2.shape == (6, 2), \"Oops!  The shape of the u matrix doesn't look right. It should be 6 by 2.\"\n",
    "assert s_2.shape == (2, 2), \"Oops!  The shape of the sigma matrix doesn't look right.  It should be 2 x 2.\"\n",
    "assert vt_2.shape == (2, 3), \"Oops! The shape of the v transpose matrix doesn't look right.  It should be 2 x 3.\"\n",
    "print(\"That's right! The dimensions of u should be 6 x 2, sigma should be 2 x 2, and v transpose should be 2 x 3. \\n\\n The question is now that we don't have all of the latent features, how well can we really re-create the original user-movie matrix?\")"
   ],
   "id": "d9f7c659da8c9af9",
   "outputs": [
    {
     "name": "stdout",
     "output_type": "stream",
     "text": [
      "That's right! The dimensions of u should be 6 x 2, sigma should be 2 x 2, and v transpose should be 2 x 3. \n",
      "\n",
      " The question is now that we don't have all of the latent features, how well can we really re-create the original user-movie matrix?\n"
     ]
    }
   ],
   "execution_count": 15
  },
  {
   "metadata": {},
   "cell_type": "markdown",
   "source": "`8.` When using all 4 latent features, we saw that we could exactly reproduce the user-movie matrix.  Now that we only have 2 latent features, we might measure how well we are able to reproduce the original matrix by looking at the sum of squared errors from each rating produced by taking the dot product as compared to the actual rating.  Find the sum of squared error based on only the two latent features, and use the following cell to test against the solution.",
   "id": "1ff4f669a3a98e86"
  },
  {
   "metadata": {
    "ExecuteTime": {
     "end_time": "2025-06-11T13:37:44.034318Z",
     "start_time": "2025-06-11T13:37:44.029098Z"
    }
   },
   "cell_type": "code",
   "source": [
    "# Compute the dot product\n",
    "pred_ratings = np.dot(np.dot(u_2, s_2), vt_2)\n",
    "\n",
    "# Compute the squared error for each predicted vs. actual rating\n",
    "sum_square_errs = np.sum(np.sum((user_movie_subset - pred_ratings)**2))"
   ],
   "id": "c765b4051fc3d17e",
   "outputs": [],
   "execution_count": 16
  },
  {
   "metadata": {
    "ExecuteTime": {
     "end_time": "2025-06-11T13:37:49.046851Z",
     "start_time": "2025-06-11T13:37:49.043467Z"
    }
   },
   "cell_type": "code",
   "source": [
    "assert np.round(sum_square_errs, 2)==1.2, \"Oops!  That doesn't look quite right.  You should return a single number for the whole matrix.\"\n",
    "print(\"That looks right!  Nice job!\")"
   ],
   "id": "87017efc1dc1219c",
   "outputs": [
    {
     "name": "stdout",
     "output_type": "stream",
     "text": [
      "That looks right!  Nice job!\n"
     ]
    }
   ],
   "execution_count": 17
  },
  {
   "metadata": {},
   "cell_type": "markdown",
   "source": [
    "At this point, you may be thinking... why would we want to choose a k that doesn't just give us back the full user-movie matrix with all the original ratings.  This is a good question.  One reason might be for computational reasons - sure, you may want to reduce the dimensionality of the data you are keeping, but really this isn't the main reason we would want to perform reduce k to lesser than the minimum of the number of movies or users.\n",
    "\n",
    "Let's take a step back for a second.  In this example we just went through, your matrix was very clean.  That is, for every user-movie combination, we had a rating.  **There were no missing values.** But what we know from the previous lesson is that the user-movie matrix is full of missing values.\n",
    "\n",
    "A matrix similar to the one we just performed SVD on:\n",
    "\n",
    "<img src=\"images/nice_ex.png\" width=\"400\" height=\"400\">\n",
    "\n",
    "The real world:\n",
    "\n",
    "<img src=\"images/real_ex.png\" width=\"400\" height=\"400\">\n",
    "\n",
    "Therefore, if we keep all k latent features it is likely that latent features with smaller values in the sigma matrix will explain variability that is probably due to noise and not signal. Furthermore, if we use these \"noisey\" latent features to assist in re-constructing the original user-movie matrix it will potentially (and likely) lead to worse ratings than if we only have latent features associated with signal.\n",
    "\n",
    "`9.` Let's try introducing just a little of the real world into this example by performing SVD on a matrix with missing values.  Below I have added a new user to our matrix who hasn't rated all four of our movies.  Try performing SVD on the new matrix.  What happens?"
   ],
   "id": "3a5ceed7d94c4664"
  },
  {
   "metadata": {
    "ExecuteTime": {
     "end_time": "2025-06-11T13:38:34.978575Z",
     "start_time": "2025-06-11T13:38:34.971552Z"
    }
   },
   "cell_type": "code",
   "source": "user_movie_subset",
   "id": "3fc108fc0efdc4b0",
   "outputs": [
    {
     "data": {
      "text/plain": [
       "movie_id  75314  68646  99685\n",
       "user_id                      \n",
       "2213        7.0   10.0    8.0\n",
       "2223        6.0   10.0    7.0\n",
       "2942        8.0    9.0    8.0\n",
       "3298        8.0   10.0   10.0\n",
       "3424        9.0    9.0    9.0\n",
       "5205        8.0    9.0    9.0"
      ],
      "text/html": [
       "<div>\n",
       "<style scoped>\n",
       "    .dataframe tbody tr th:only-of-type {\n",
       "        vertical-align: middle;\n",
       "    }\n",
       "\n",
       "    .dataframe tbody tr th {\n",
       "        vertical-align: top;\n",
       "    }\n",
       "\n",
       "    .dataframe thead th {\n",
       "        text-align: right;\n",
       "    }\n",
       "</style>\n",
       "<table border=\"1\" class=\"dataframe\">\n",
       "  <thead>\n",
       "    <tr style=\"text-align: right;\">\n",
       "      <th>movie_id</th>\n",
       "      <th>75314</th>\n",
       "      <th>68646</th>\n",
       "      <th>99685</th>\n",
       "    </tr>\n",
       "    <tr>\n",
       "      <th>user_id</th>\n",
       "      <th></th>\n",
       "      <th></th>\n",
       "      <th></th>\n",
       "    </tr>\n",
       "  </thead>\n",
       "  <tbody>\n",
       "    <tr>\n",
       "      <th>2213</th>\n",
       "      <td>7.0</td>\n",
       "      <td>10.0</td>\n",
       "      <td>8.0</td>\n",
       "    </tr>\n",
       "    <tr>\n",
       "      <th>2223</th>\n",
       "      <td>6.0</td>\n",
       "      <td>10.0</td>\n",
       "      <td>7.0</td>\n",
       "    </tr>\n",
       "    <tr>\n",
       "      <th>2942</th>\n",
       "      <td>8.0</td>\n",
       "      <td>9.0</td>\n",
       "      <td>8.0</td>\n",
       "    </tr>\n",
       "    <tr>\n",
       "      <th>3298</th>\n",
       "      <td>8.0</td>\n",
       "      <td>10.0</td>\n",
       "      <td>10.0</td>\n",
       "    </tr>\n",
       "    <tr>\n",
       "      <th>3424</th>\n",
       "      <td>9.0</td>\n",
       "      <td>9.0</td>\n",
       "      <td>9.0</td>\n",
       "    </tr>\n",
       "    <tr>\n",
       "      <th>5205</th>\n",
       "      <td>8.0</td>\n",
       "      <td>9.0</td>\n",
       "      <td>9.0</td>\n",
       "    </tr>\n",
       "  </tbody>\n",
       "</table>\n",
       "</div>"
      ]
     },
     "execution_count": 18,
     "metadata": {},
     "output_type": "execute_result"
    }
   ],
   "execution_count": 18
  },
  {
   "metadata": {
    "ExecuteTime": {
     "end_time": "2025-06-11T13:39:05.197693Z",
     "start_time": "2025-06-11T13:39:05.193957Z"
    }
   },
   "cell_type": "code",
   "source": [
    "# This line adds one nan value as the very first entry in our matrix\n",
    "user_movie_subset.iloc[0, 0] = np.nan\n",
    "\n",
    "# Try svd with this new matrix (sẽ có error)\n",
    "# u, s, vt = np.linalg.svd(user_movie_subset)"
   ],
   "id": "247a79b2cbb6565f",
   "outputs": [],
   "execution_count": 20
  },
  {
   "metadata": {},
   "cell_type": "markdown",
   "source": "**Even with just one nan value we cannot perform SVD!  This is going to be a huge problem, because our real dataset has nan values everywhere!  This is where FunkSVD comes in to help.**",
   "id": "88ebef005fb69419"
  },
  {
   "metadata": {},
   "cell_type": "markdown",
   "source": "## 2. Funk SVD",
   "id": "4f99b55fe7f23b14"
  },
  {
   "metadata": {
    "ExecuteTime": {
     "end_time": "2025-06-11T13:42:04.527986Z",
     "start_time": "2025-06-11T13:42:03.212633Z"
    }
   },
   "cell_type": "code",
   "source": [
    "movies = pd.read_csv('movies_clean.csv')\n",
    "reviews = pd.read_csv('reviews_clean.csv')\n",
    "\n",
    "del movies['Unnamed: 0']\n",
    "del reviews['Unnamed: 0']\n",
    "\n",
    "# Create user-by-item matrix\n",
    "user_items = reviews[['user_id', 'movie_id', 'rating', 'timestamp']]\n",
    "user_by_movie = user_items.groupby(['user_id', 'movie_id'])['rating'].max().unstack()\n",
    "\n",
    "# Create data subset\n",
    "user_movie_subset = user_by_movie[[75314,  68646, 99685]].dropna(axis=0)\n",
    "ratings_mat = np.matrix(user_movie_subset)\n",
    "print(ratings_mat)"
   ],
   "id": "4959ce2946859f85",
   "outputs": [
    {
     "name": "stdout",
     "output_type": "stream",
     "text": [
      "[[ 7. 10.  8.]\n",
      " [ 6. 10.  7.]\n",
      " [ 8.  9.  8.]\n",
      " [ 8. 10. 10.]\n",
      " [ 9.  9.  9.]\n",
      " [ 8.  9.  9.]]\n"
     ]
    }
   ],
   "execution_count": 21
  },
  {
   "metadata": {},
   "cell_type": "markdown",
   "source": [
    "`1.` You will use the **user_movie_subset** matrix to show that your FunkSVD algorithm will converge.  In the below cell, use the comments and document string to assist you as you complete writing your own function to complete FunkSVD.  You may also want to try to complete the funtion on your own without the assistance of comments.  You may feel free to remove and add to the function in any way that gets you a working solution!\n",
    "\n",
    "**Notice:** There isn't a sigma matrix in this version of matrix factorization."
   ],
   "id": "d243af9de6399c3a"
  },
  {
   "metadata": {
    "ExecuteTime": {
     "end_time": "2025-06-11T13:42:18.913175Z",
     "start_time": "2025-06-11T13:42:18.905175Z"
    }
   },
   "cell_type": "code",
   "source": [
    "def FunkSVD(ratings_mat, latent_features=4, learning_rate=0.0001, iters=100):\n",
    "    '''\n",
    "    This function performs matrix factorization using a basic form of FunkSVD with no regularization\n",
    "\n",
    "    INPUT:\n",
    "    ratings_mat - (numpy array) a matrix with users as rows, movies as columns, and ratings as values\n",
    "    latent_features - (int) the number of latent features used\n",
    "    learning_rate - (float) the learning rate\n",
    "    iters - (int) the number of iterations\n",
    "\n",
    "    OUTPUT:\n",
    "    user_mat - (numpy array) a user by latent feature matrix\n",
    "    movie_mat - (numpy array) a latent feature by movie matrix\n",
    "    '''\n",
    "\n",
    "    # Set up useful values to be used through the rest of the function\n",
    "    n_users = ratings_mat.shape[0]\n",
    "    n_movies = ratings_mat.shape[1]\n",
    "    num_ratings = np.count_nonzero(~np.isnan(ratings_mat))\n",
    "\n",
    "    # initialize the user and movie matrices with random values\n",
    "    user_mat = np.random.rand(n_users, latent_features)\n",
    "    movie_mat = np.random.rand(latent_features, n_movies)\n",
    "\n",
    "    # initialize sse at 0 for first iteration\n",
    "    sse_accum = 0\n",
    "\n",
    "    # keep track of iteration and MSE\n",
    "    print(\"Optimizaiton Statistics\")\n",
    "    print(\"Iterations | Mean Squared Error \")\n",
    "\n",
    "    # for each iteration\n",
    "    for iteration in range(iters):\n",
    "\n",
    "        # update our sse\n",
    "        old_sse = sse_accum\n",
    "        sse_accum = 0\n",
    "\n",
    "        # For each user-movie pair\n",
    "        for i in range(n_users):\n",
    "            for j in range(n_movies):\n",
    "\n",
    "                # if the rating exists\n",
    "                if ratings_mat[i, j] > 0:\n",
    "\n",
    "                    # compute the error as the actual minus the dot product of the user and movie latent features\n",
    "                    diff = ratings_mat[i, j] - np.dot(user_mat[i, :], movie_mat[:, j])\n",
    "\n",
    "                    # Keep track of the sum of squared errors for the matrix\n",
    "                    sse_accum += diff**2\n",
    "\n",
    "                    # update the values in each matrix in the direction of the gradient\n",
    "                    for k in range(latent_features):\n",
    "                        user_mat[i, k] += learning_rate * (2*diff*movie_mat[k, j])\n",
    "                        movie_mat[k, j] += learning_rate * (2*diff*user_mat[i, k])\n",
    "\n",
    "        # print results\n",
    "        print(\"%d \\t\\t %f\" % (iteration+1, sse_accum / num_ratings))\n",
    "\n",
    "    return user_mat, movie_mat"
   ],
   "id": "d99c775675058406",
   "outputs": [],
   "execution_count": 22
  },
  {
   "metadata": {},
   "cell_type": "markdown",
   "source": "`2.` Try out your function on the **user_movie_subset** dataset.  First try 3 latent features, a learning rate of 0.005, and 10 iterations.  When you take the dot product of the resulting U and V matrices, how does the resulting **user_movie** matrix compare to the original subset of the data?",
   "id": "75ddeef8a3bb059d"
  },
  {
   "metadata": {
    "ExecuteTime": {
     "end_time": "2025-06-11T13:42:30.874293Z",
     "start_time": "2025-06-11T13:42:30.866855Z"
    }
   },
   "cell_type": "code",
   "source": [
    "user_mat, movie_mat = FunkSVD(ratings_mat,\n",
    "                              latent_features=3,\n",
    "                              learning_rate=0.005,\n",
    "                              iters=10)"
   ],
   "id": "90b6420b950cbf9a",
   "outputs": [
    {
     "name": "stdout",
     "output_type": "stream",
     "text": [
      "Optimizaiton Statistics\n",
      "Iterations | Mean Squared Error \n",
      "1 \t\t 54.780732\n",
      "2 \t\t 40.616300\n",
      "3 \t\t 24.455977\n",
      "4 \t\t 11.369786\n",
      "5 \t\t 4.232252\n",
      "6 \t\t 1.545599\n",
      "7 \t\t 0.780148\n",
      "8 \t\t 0.593327\n",
      "9 \t\t 0.548940\n",
      "10 \t\t 0.537259\n"
     ]
    }
   ],
   "execution_count": 23
  },
  {
   "metadata": {
    "ExecuteTime": {
     "end_time": "2025-06-11T13:42:35.557754Z",
     "start_time": "2025-06-11T13:42:35.550932Z"
    }
   },
   "cell_type": "code",
   "source": [
    "print(np.dot(user_mat, movie_mat))\n",
    "print(ratings_mat)"
   ],
   "id": "db03a94b354a92d7",
   "outputs": [
    {
     "name": "stdout",
     "output_type": "stream",
     "text": [
      "[[ 7.58221568  9.29536187  8.46213049]\n",
      " [ 7.04384836  8.53561009  7.75044412]\n",
      " [ 7.49361747  9.10678585  8.22927521]\n",
      " [ 8.44925413 10.21818046  9.32529649]\n",
      " [ 7.88036094  9.62919306  8.84325923]\n",
      " [ 7.82668533  9.56378863  8.59331159]]\n",
      "[[ 7. 10.  8.]\n",
      " [ 6. 10.  7.]\n",
      " [ 8.  9.  8.]\n",
      " [ 8. 10. 10.]\n",
      " [ 9.  9.  9.]\n",
      " [ 8.  9.  9.]]\n"
     ]
    }
   ],
   "execution_count": 24
  },
  {
   "metadata": {},
   "cell_type": "markdown",
   "source": [
    "**The predicted ratings from the dot product are already starting to look a lot like the original data values even after only 10 iterations. Clearly the model is not done learning, but things are looking good.**\n",
    "\n",
    "`3.` Let's try out the function again on the **user_movie_subset** dataset.  This time we will again use 3 latent features and a learning rate of 0.005.  However, let's bump up the number of iterations to 300.  When you take the dot product of the resulting U and V matrices, how does the resulting **user_movie** matrix compare to the original subset of the data?  What do you notice about the `mean squared error` at the end of each training iteration?"
   ],
   "id": "c317557929e49349"
  },
  {
   "metadata": {
    "ExecuteTime": {
     "end_time": "2025-06-11T13:42:58.016357Z",
     "start_time": "2025-06-11T13:42:57.961824Z"
    }
   },
   "cell_type": "code",
   "source": [
    "user_mat, movie_mat = FunkSVD(ratings_mat,\n",
    "                              latent_features=3,\n",
    "                              learning_rate=0.005,\n",
    "                              iters=300)"
   ],
   "id": "225f7600648bc98b",
   "outputs": [
    {
     "name": "stdout",
     "output_type": "stream",
     "text": [
      "Optimizaiton Statistics\n",
      "Iterations | Mean Squared Error \n",
      "1 \t\t 60.122337\n",
      "2 \t\t 47.705232\n",
      "3 \t\t 31.844701\n",
      "4 \t\t 16.744412\n",
      "5 \t\t 6.886349\n",
      "6 \t\t 2.510693\n",
      "7 \t\t 1.084370\n",
      "8 \t\t 0.689807\n",
      "9 \t\t 0.579252\n",
      "10 \t\t 0.542675\n",
      "11 \t\t 0.527611\n",
      "12 \t\t 0.520143\n",
      "13 \t\t 0.515806\n",
      "14 \t\t 0.512846\n",
      "15 \t\t 0.510485\n",
      "16 \t\t 0.508362\n",
      "17 \t\t 0.506307\n",
      "18 \t\t 0.504240\n",
      "19 \t\t 0.502123\n",
      "20 \t\t 0.499937\n",
      "21 \t\t 0.497673\n",
      "22 \t\t 0.495326\n",
      "23 \t\t 0.492891\n",
      "24 \t\t 0.490364\n",
      "25 \t\t 0.487742\n",
      "26 \t\t 0.485020\n",
      "27 \t\t 0.482195\n",
      "28 \t\t 0.479263\n",
      "29 \t\t 0.476220\n",
      "30 \t\t 0.473061\n",
      "31 \t\t 0.469783\n",
      "32 \t\t 0.466381\n",
      "33 \t\t 0.462852\n",
      "34 \t\t 0.459191\n",
      "35 \t\t 0.455395\n",
      "36 \t\t 0.451461\n",
      "37 \t\t 0.447385\n",
      "38 \t\t 0.443164\n",
      "39 \t\t 0.438795\n",
      "40 \t\t 0.434277\n",
      "41 \t\t 0.429606\n",
      "42 \t\t 0.424783\n",
      "43 \t\t 0.419804\n",
      "44 \t\t 0.414671\n",
      "45 \t\t 0.409383\n",
      "46 \t\t 0.403940\n",
      "47 \t\t 0.398344\n",
      "48 \t\t 0.392596\n",
      "49 \t\t 0.386700\n",
      "50 \t\t 0.380659\n",
      "51 \t\t 0.374476\n",
      "52 \t\t 0.368157\n",
      "53 \t\t 0.361708\n",
      "54 \t\t 0.355134\n",
      "55 \t\t 0.348444\n",
      "56 \t\t 0.341646\n",
      "57 \t\t 0.334748\n",
      "58 \t\t 0.327761\n",
      "59 \t\t 0.320695\n",
      "60 \t\t 0.313562\n",
      "61 \t\t 0.306373\n",
      "62 \t\t 0.299141\n",
      "63 \t\t 0.291880\n",
      "64 \t\t 0.284602\n",
      "65 \t\t 0.277322\n",
      "66 \t\t 0.270053\n",
      "67 \t\t 0.262812\n",
      "68 \t\t 0.255611\n",
      "69 \t\t 0.248465\n",
      "70 \t\t 0.241389\n",
      "71 \t\t 0.234396\n",
      "72 \t\t 0.227500\n",
      "73 \t\t 0.220714\n",
      "74 \t\t 0.214050\n",
      "75 \t\t 0.207521\n",
      "76 \t\t 0.201136\n",
      "77 \t\t 0.194907\n",
      "78 \t\t 0.188842\n",
      "79 \t\t 0.182949\n",
      "80 \t\t 0.177236\n",
      "81 \t\t 0.171708\n",
      "82 \t\t 0.166371\n",
      "83 \t\t 0.161228\n",
      "84 \t\t 0.156282\n",
      "85 \t\t 0.151535\n",
      "86 \t\t 0.146988\n",
      "87 \t\t 0.142640\n",
      "88 \t\t 0.138490\n",
      "89 \t\t 0.134536\n",
      "90 \t\t 0.130775\n",
      "91 \t\t 0.127204\n",
      "92 \t\t 0.123818\n",
      "93 \t\t 0.120613\n",
      "94 \t\t 0.117584\n",
      "95 \t\t 0.114724\n",
      "96 \t\t 0.112028\n",
      "97 \t\t 0.109489\n",
      "98 \t\t 0.107101\n",
      "99 \t\t 0.104858\n",
      "100 \t\t 0.102752\n",
      "101 \t\t 0.100776\n",
      "102 \t\t 0.098925\n",
      "103 \t\t 0.097191\n",
      "104 \t\t 0.095567\n",
      "105 \t\t 0.094048\n",
      "106 \t\t 0.092627\n",
      "107 \t\t 0.091298\n",
      "108 \t\t 0.090055\n",
      "109 \t\t 0.088893\n",
      "110 \t\t 0.087806\n",
      "111 \t\t 0.086789\n",
      "112 \t\t 0.085837\n",
      "113 \t\t 0.084945\n",
      "114 \t\t 0.084109\n",
      "115 \t\t 0.083326\n",
      "116 \t\t 0.082590\n",
      "117 \t\t 0.081899\n",
      "118 \t\t 0.081249\n",
      "119 \t\t 0.080636\n",
      "120 \t\t 0.080059\n",
      "121 \t\t 0.079513\n",
      "122 \t\t 0.078996\n",
      "123 \t\t 0.078506\n",
      "124 \t\t 0.078041\n",
      "125 \t\t 0.077599\n",
      "126 \t\t 0.077177\n",
      "127 \t\t 0.076774\n",
      "128 \t\t 0.076388\n",
      "129 \t\t 0.076018\n",
      "130 \t\t 0.075662\n",
      "131 \t\t 0.075319\n",
      "132 \t\t 0.074988\n",
      "133 \t\t 0.074667\n",
      "134 \t\t 0.074356\n",
      "135 \t\t 0.074054\n",
      "136 \t\t 0.073759\n",
      "137 \t\t 0.073471\n",
      "138 \t\t 0.073190\n",
      "139 \t\t 0.072914\n",
      "140 \t\t 0.072643\n",
      "141 \t\t 0.072376\n",
      "142 \t\t 0.072113\n",
      "143 \t\t 0.071854\n",
      "144 \t\t 0.071597\n",
      "145 \t\t 0.071342\n",
      "146 \t\t 0.071090\n",
      "147 \t\t 0.070839\n",
      "148 \t\t 0.070590\n",
      "149 \t\t 0.070342\n",
      "150 \t\t 0.070094\n",
      "151 \t\t 0.069847\n",
      "152 \t\t 0.069600\n",
      "153 \t\t 0.069353\n",
      "154 \t\t 0.069106\n",
      "155 \t\t 0.068858\n",
      "156 \t\t 0.068610\n",
      "157 \t\t 0.068361\n",
      "158 \t\t 0.068111\n",
      "159 \t\t 0.067860\n",
      "160 \t\t 0.067607\n",
      "161 \t\t 0.067353\n",
      "162 \t\t 0.067098\n",
      "163 \t\t 0.066841\n",
      "164 \t\t 0.066583\n",
      "165 \t\t 0.066322\n",
      "166 \t\t 0.066060\n",
      "167 \t\t 0.065796\n",
      "168 \t\t 0.065530\n",
      "169 \t\t 0.065261\n",
      "170 \t\t 0.064990\n",
      "171 \t\t 0.064717\n",
      "172 \t\t 0.064442\n",
      "173 \t\t 0.064164\n",
      "174 \t\t 0.063884\n",
      "175 \t\t 0.063601\n",
      "176 \t\t 0.063316\n",
      "177 \t\t 0.063028\n",
      "178 \t\t 0.062737\n",
      "179 \t\t 0.062444\n",
      "180 \t\t 0.062148\n",
      "181 \t\t 0.061850\n",
      "182 \t\t 0.061548\n",
      "183 \t\t 0.061244\n",
      "184 \t\t 0.060937\n",
      "185 \t\t 0.060627\n",
      "186 \t\t 0.060315\n",
      "187 \t\t 0.059999\n",
      "188 \t\t 0.059681\n",
      "189 \t\t 0.059360\n",
      "190 \t\t 0.059036\n",
      "191 \t\t 0.058709\n",
      "192 \t\t 0.058380\n",
      "193 \t\t 0.058047\n",
      "194 \t\t 0.057712\n",
      "195 \t\t 0.057374\n",
      "196 \t\t 0.057032\n",
      "197 \t\t 0.056689\n",
      "198 \t\t 0.056342\n",
      "199 \t\t 0.055993\n",
      "200 \t\t 0.055641\n",
      "201 \t\t 0.055286\n",
      "202 \t\t 0.054928\n",
      "203 \t\t 0.054568\n",
      "204 \t\t 0.054205\n",
      "205 \t\t 0.053840\n",
      "206 \t\t 0.053472\n",
      "207 \t\t 0.053101\n",
      "208 \t\t 0.052728\n",
      "209 \t\t 0.052353\n",
      "210 \t\t 0.051975\n",
      "211 \t\t 0.051595\n",
      "212 \t\t 0.051212\n",
      "213 \t\t 0.050828\n",
      "214 \t\t 0.050441\n",
      "215 \t\t 0.050052\n",
      "216 \t\t 0.049660\n",
      "217 \t\t 0.049267\n",
      "218 \t\t 0.048872\n",
      "219 \t\t 0.048475\n",
      "220 \t\t 0.048076\n",
      "221 \t\t 0.047675\n",
      "222 \t\t 0.047273\n",
      "223 \t\t 0.046869\n",
      "224 \t\t 0.046463\n",
      "225 \t\t 0.046056\n",
      "226 \t\t 0.045647\n",
      "227 \t\t 0.045237\n",
      "228 \t\t 0.044826\n",
      "229 \t\t 0.044414\n",
      "230 \t\t 0.044000\n",
      "231 \t\t 0.043586\n",
      "232 \t\t 0.043171\n",
      "233 \t\t 0.042754\n",
      "234 \t\t 0.042337\n",
      "235 \t\t 0.041919\n",
      "236 \t\t 0.041501\n",
      "237 \t\t 0.041082\n",
      "238 \t\t 0.040663\n",
      "239 \t\t 0.040243\n",
      "240 \t\t 0.039823\n",
      "241 \t\t 0.039403\n",
      "242 \t\t 0.038983\n",
      "243 \t\t 0.038563\n",
      "244 \t\t 0.038143\n",
      "245 \t\t 0.037724\n",
      "246 \t\t 0.037304\n",
      "247 \t\t 0.036885\n",
      "248 \t\t 0.036467\n",
      "249 \t\t 0.036049\n",
      "250 \t\t 0.035631\n",
      "251 \t\t 0.035215\n",
      "252 \t\t 0.034799\n",
      "253 \t\t 0.034385\n",
      "254 \t\t 0.033971\n",
      "255 \t\t 0.033558\n",
      "256 \t\t 0.033147\n",
      "257 \t\t 0.032737\n",
      "258 \t\t 0.032328\n",
      "259 \t\t 0.031921\n",
      "260 \t\t 0.031515\n",
      "261 \t\t 0.031111\n",
      "262 \t\t 0.030709\n",
      "263 \t\t 0.030309\n",
      "264 \t\t 0.029910\n",
      "265 \t\t 0.029514\n",
      "266 \t\t 0.029119\n",
      "267 \t\t 0.028727\n",
      "268 \t\t 0.028336\n",
      "269 \t\t 0.027948\n",
      "270 \t\t 0.027563\n",
      "271 \t\t 0.027180\n",
      "272 \t\t 0.026799\n",
      "273 \t\t 0.026421\n",
      "274 \t\t 0.026045\n",
      "275 \t\t 0.025672\n",
      "276 \t\t 0.025302\n",
      "277 \t\t 0.024934\n",
      "278 \t\t 0.024570\n",
      "279 \t\t 0.024208\n",
      "280 \t\t 0.023849\n",
      "281 \t\t 0.023493\n",
      "282 \t\t 0.023141\n",
      "283 \t\t 0.022791\n",
      "284 \t\t 0.022445\n",
      "285 \t\t 0.022101\n",
      "286 \t\t 0.021761\n",
      "287 \t\t 0.021424\n",
      "288 \t\t 0.021091\n",
      "289 \t\t 0.020760\n",
      "290 \t\t 0.020433\n",
      "291 \t\t 0.020110\n",
      "292 \t\t 0.019790\n",
      "293 \t\t 0.019473\n",
      "294 \t\t 0.019160\n",
      "295 \t\t 0.018850\n",
      "296 \t\t 0.018543\n",
      "297 \t\t 0.018241\n",
      "298 \t\t 0.017941\n",
      "299 \t\t 0.017645\n",
      "300 \t\t 0.017353\n"
     ]
    }
   ],
   "execution_count": 25
  },
  {
   "metadata": {
    "ExecuteTime": {
     "end_time": "2025-06-11T13:43:16.072136Z",
     "start_time": "2025-06-11T13:43:16.068624Z"
    }
   },
   "cell_type": "code",
   "source": [
    "print(np.dot(user_mat, movie_mat))\n",
    "print(ratings_mat)"
   ],
   "id": "7d4e5d108137b57c",
   "outputs": [
    {
     "name": "stdout",
     "output_type": "stream",
     "text": [
      "[[ 7.05323613 10.01901687  7.94525523]\n",
      " [ 5.97528703  9.99023234  7.0254881 ]\n",
      " [ 7.69835121  8.89408838  8.30797513]\n",
      " [ 8.14905576 10.05539565  9.84945279]\n",
      " [ 9.01804256  9.00524937  8.98370651]\n",
      " [ 8.05545529  9.02048822  8.94352406]]\n",
      "[[ 7. 10.  8.]\n",
      " [ 6. 10.  7.]\n",
      " [ 8.  9.  8.]\n",
      " [ 8. 10. 10.]\n",
      " [ 9.  9.  9.]\n",
      " [ 8.  9.  9.]]\n"
     ]
    }
   ],
   "execution_count": 26
  },
  {
   "metadata": {},
   "cell_type": "markdown",
   "source": [
    "**In this case, we were able to completely reconstruct the item-movie matrix to closer to 0 mean squared error at the end of 300 th iterations.**\n",
    "\n",
    "The last time we placed an **np.nan** value into this matrix the entire svd algorithm in python broke.  Let's see if that is still the case using your FunkSVD function.  In the below cell, I have placed a nan into the first cell of your numpy array.\n",
    "\n",
    "`4.` Use 3 latent features, a learning rate of 0.005, and 450 iterations.  Are you able to run your SVD without it breaking (something that was not true about the python built in)?  Do you get a prediction for the nan value?  What is your prediction for the missing value? Use the cells below to answer these questions."
   ],
   "id": "8c48c94f22d355f0"
  },
  {
   "metadata": {
    "ExecuteTime": {
     "end_time": "2025-06-11T13:44:05.444832Z",
     "start_time": "2025-06-11T13:44:05.439158Z"
    }
   },
   "cell_type": "code",
   "source": [
    "ratings_mat[0, 0] = np.nan\n",
    "ratings_mat"
   ],
   "id": "906049dd7e0c137d",
   "outputs": [
    {
     "data": {
      "text/plain": [
       "matrix([[nan, 10.,  8.],\n",
       "        [ 6., 10.,  7.],\n",
       "        [ 8.,  9.,  8.],\n",
       "        [ 8., 10., 10.],\n",
       "        [ 9.,  9.,  9.],\n",
       "        [ 8.,  9.,  9.]])"
      ]
     },
     "execution_count": 32,
     "metadata": {},
     "output_type": "execute_result"
    }
   ],
   "execution_count": 32
  },
  {
   "metadata": {
    "ExecuteTime": {
     "end_time": "2025-06-11T13:44:09.783815Z",
     "start_time": "2025-06-11T13:44:09.694996Z"
    }
   },
   "cell_type": "code",
   "source": [
    "# run SVD on the matrix with the missing value\n",
    "user_mat, movie_mat = FunkSVD(ratings_mat,\n",
    "                              latent_features=3,\n",
    "                              learning_rate=0.005,\n",
    "                              iters=450)"
   ],
   "id": "b2433b52bd6c6ec8",
   "outputs": [
    {
     "name": "stdout",
     "output_type": "stream",
     "text": [
      "Optimizaiton Statistics\n",
      "Iterations | Mean Squared Error \n",
      "1 \t\t 62.912090\n",
      "2 \t\t 51.183513\n",
      "3 \t\t 35.946836\n",
      "4 \t\t 20.447408\n",
      "5 \t\t 9.188936\n",
      "6 \t\t 3.483287\n",
      "7 \t\t 1.359016\n",
      "8 \t\t 0.713689\n",
      "9 \t\t 0.532938\n",
      "10 \t\t 0.480196\n",
      "11 \t\t 0.462039\n",
      "12 \t\t 0.453863\n",
      "13 \t\t 0.448943\n",
      "14 \t\t 0.445239\n",
      "15 \t\t 0.442035\n",
      "16 \t\t 0.439040\n",
      "17 \t\t 0.436118\n",
      "18 \t\t 0.433199\n",
      "19 \t\t 0.430245\n",
      "20 \t\t 0.427234\n",
      "21 \t\t 0.424150\n",
      "22 \t\t 0.420984\n",
      "23 \t\t 0.417729\n",
      "24 \t\t 0.414380\n",
      "25 \t\t 0.410931\n",
      "26 \t\t 0.407379\n",
      "27 \t\t 0.403721\n",
      "28 \t\t 0.399954\n",
      "29 \t\t 0.396073\n",
      "30 \t\t 0.392078\n",
      "31 \t\t 0.387965\n",
      "32 \t\t 0.383732\n",
      "33 \t\t 0.379377\n",
      "34 \t\t 0.374899\n",
      "35 \t\t 0.370295\n",
      "36 \t\t 0.365566\n",
      "37 \t\t 0.360709\n",
      "38 \t\t 0.355724\n",
      "39 \t\t 0.350611\n",
      "40 \t\t 0.345371\n",
      "41 \t\t 0.340003\n",
      "42 \t\t 0.334510\n",
      "43 \t\t 0.328892\n",
      "44 \t\t 0.323151\n",
      "45 \t\t 0.317290\n",
      "46 \t\t 0.311313\n",
      "47 \t\t 0.305222\n",
      "48 \t\t 0.299022\n",
      "49 \t\t 0.292717\n",
      "50 \t\t 0.286314\n",
      "51 \t\t 0.279818\n",
      "52 \t\t 0.273235\n",
      "53 \t\t 0.266573\n",
      "54 \t\t 0.259840\n",
      "55 \t\t 0.253043\n",
      "56 \t\t 0.246192\n",
      "57 \t\t 0.239296\n",
      "58 \t\t 0.232364\n",
      "59 \t\t 0.225407\n",
      "60 \t\t 0.218436\n",
      "61 \t\t 0.211461\n",
      "62 \t\t 0.204493\n",
      "63 \t\t 0.197544\n",
      "64 \t\t 0.190625\n",
      "65 \t\t 0.183748\n",
      "66 \t\t 0.176924\n",
      "67 \t\t 0.170164\n",
      "68 \t\t 0.163480\n",
      "69 \t\t 0.156883\n",
      "70 \t\t 0.150382\n",
      "71 \t\t 0.143989\n",
      "72 \t\t 0.137712\n",
      "73 \t\t 0.131561\n",
      "74 \t\t 0.125545\n",
      "75 \t\t 0.119671\n",
      "76 \t\t 0.113946\n",
      "77 \t\t 0.108377\n",
      "78 \t\t 0.102970\n",
      "79 \t\t 0.097728\n",
      "80 \t\t 0.092657\n",
      "81 \t\t 0.087759\n",
      "82 \t\t 0.083037\n",
      "83 \t\t 0.078492\n",
      "84 \t\t 0.074125\n",
      "85 \t\t 0.069937\n",
      "86 \t\t 0.065926\n",
      "87 \t\t 0.062091\n",
      "88 \t\t 0.058431\n",
      "89 \t\t 0.054943\n",
      "90 \t\t 0.051624\n",
      "91 \t\t 0.048470\n",
      "92 \t\t 0.045478\n",
      "93 \t\t 0.042643\n",
      "94 \t\t 0.039960\n",
      "95 \t\t 0.037424\n",
      "96 \t\t 0.035032\n",
      "97 \t\t 0.032776\n",
      "98 \t\t 0.030652\n",
      "99 \t\t 0.028654\n",
      "100 \t\t 0.026777\n",
      "101 \t\t 0.025015\n",
      "102 \t\t 0.023362\n",
      "103 \t\t 0.021814\n",
      "104 \t\t 0.020365\n",
      "105 \t\t 0.019009\n",
      "106 \t\t 0.017741\n",
      "107 \t\t 0.016557\n",
      "108 \t\t 0.015452\n",
      "109 \t\t 0.014421\n",
      "110 \t\t 0.013459\n",
      "111 \t\t 0.012563\n",
      "112 \t\t 0.011727\n",
      "113 \t\t 0.010950\n",
      "114 \t\t 0.010225\n",
      "115 \t\t 0.009551\n",
      "116 \t\t 0.008923\n",
      "117 \t\t 0.008340\n",
      "118 \t\t 0.007796\n",
      "119 \t\t 0.007291\n",
      "120 \t\t 0.006821\n",
      "121 \t\t 0.006383\n",
      "122 \t\t 0.005977\n",
      "123 \t\t 0.005598\n",
      "124 \t\t 0.005246\n",
      "125 \t\t 0.004918\n",
      "126 \t\t 0.004613\n",
      "127 \t\t 0.004328\n",
      "128 \t\t 0.004064\n",
      "129 \t\t 0.003817\n",
      "130 \t\t 0.003588\n",
      "131 \t\t 0.003373\n",
      "132 \t\t 0.003174\n",
      "133 \t\t 0.002987\n",
      "134 \t\t 0.002813\n",
      "135 \t\t 0.002651\n",
      "136 \t\t 0.002499\n",
      "137 \t\t 0.002358\n",
      "138 \t\t 0.002225\n",
      "139 \t\t 0.002101\n",
      "140 \t\t 0.001985\n",
      "141 \t\t 0.001877\n",
      "142 \t\t 0.001775\n",
      "143 \t\t 0.001679\n",
      "144 \t\t 0.001590\n",
      "145 \t\t 0.001506\n",
      "146 \t\t 0.001427\n",
      "147 \t\t 0.001353\n",
      "148 \t\t 0.001283\n",
      "149 \t\t 0.001218\n",
      "150 \t\t 0.001156\n",
      "151 \t\t 0.001098\n",
      "152 \t\t 0.001043\n",
      "153 \t\t 0.000992\n",
      "154 \t\t 0.000943\n",
      "155 \t\t 0.000898\n",
      "156 \t\t 0.000854\n",
      "157 \t\t 0.000813\n",
      "158 \t\t 0.000775\n",
      "159 \t\t 0.000738\n",
      "160 \t\t 0.000704\n",
      "161 \t\t 0.000671\n",
      "162 \t\t 0.000640\n",
      "163 \t\t 0.000611\n",
      "164 \t\t 0.000583\n",
      "165 \t\t 0.000557\n",
      "166 \t\t 0.000532\n",
      "167 \t\t 0.000508\n",
      "168 \t\t 0.000486\n",
      "169 \t\t 0.000465\n",
      "170 \t\t 0.000444\n",
      "171 \t\t 0.000425\n",
      "172 \t\t 0.000407\n",
      "173 \t\t 0.000389\n",
      "174 \t\t 0.000373\n",
      "175 \t\t 0.000357\n",
      "176 \t\t 0.000342\n",
      "177 \t\t 0.000328\n",
      "178 \t\t 0.000314\n",
      "179 \t\t 0.000301\n",
      "180 \t\t 0.000289\n",
      "181 \t\t 0.000277\n",
      "182 \t\t 0.000266\n",
      "183 \t\t 0.000255\n",
      "184 \t\t 0.000245\n",
      "185 \t\t 0.000235\n",
      "186 \t\t 0.000226\n",
      "187 \t\t 0.000217\n",
      "188 \t\t 0.000209\n",
      "189 \t\t 0.000200\n",
      "190 \t\t 0.000193\n",
      "191 \t\t 0.000185\n",
      "192 \t\t 0.000178\n",
      "193 \t\t 0.000171\n",
      "194 \t\t 0.000165\n",
      "195 \t\t 0.000159\n",
      "196 \t\t 0.000153\n",
      "197 \t\t 0.000147\n",
      "198 \t\t 0.000142\n",
      "199 \t\t 0.000136\n",
      "200 \t\t 0.000131\n",
      "201 \t\t 0.000127\n",
      "202 \t\t 0.000122\n",
      "203 \t\t 0.000118\n",
      "204 \t\t 0.000113\n",
      "205 \t\t 0.000109\n",
      "206 \t\t 0.000105\n",
      "207 \t\t 0.000102\n",
      "208 \t\t 0.000098\n",
      "209 \t\t 0.000095\n",
      "210 \t\t 0.000091\n",
      "211 \t\t 0.000088\n",
      "212 \t\t 0.000085\n",
      "213 \t\t 0.000082\n",
      "214 \t\t 0.000079\n",
      "215 \t\t 0.000077\n",
      "216 \t\t 0.000074\n",
      "217 \t\t 0.000072\n",
      "218 \t\t 0.000069\n",
      "219 \t\t 0.000067\n",
      "220 \t\t 0.000065\n",
      "221 \t\t 0.000063\n",
      "222 \t\t 0.000061\n",
      "223 \t\t 0.000059\n",
      "224 \t\t 0.000057\n",
      "225 \t\t 0.000055\n",
      "226 \t\t 0.000053\n",
      "227 \t\t 0.000051\n",
      "228 \t\t 0.000050\n",
      "229 \t\t 0.000048\n",
      "230 \t\t 0.000047\n",
      "231 \t\t 0.000045\n",
      "232 \t\t 0.000044\n",
      "233 \t\t 0.000042\n",
      "234 \t\t 0.000041\n",
      "235 \t\t 0.000040\n",
      "236 \t\t 0.000039\n",
      "237 \t\t 0.000038\n",
      "238 \t\t 0.000036\n",
      "239 \t\t 0.000035\n",
      "240 \t\t 0.000034\n",
      "241 \t\t 0.000033\n",
      "242 \t\t 0.000032\n",
      "243 \t\t 0.000031\n",
      "244 \t\t 0.000030\n",
      "245 \t\t 0.000029\n",
      "246 \t\t 0.000029\n",
      "247 \t\t 0.000028\n",
      "248 \t\t 0.000027\n",
      "249 \t\t 0.000026\n",
      "250 \t\t 0.000025\n",
      "251 \t\t 0.000025\n",
      "252 \t\t 0.000024\n",
      "253 \t\t 0.000023\n",
      "254 \t\t 0.000023\n",
      "255 \t\t 0.000022\n",
      "256 \t\t 0.000021\n",
      "257 \t\t 0.000021\n",
      "258 \t\t 0.000020\n",
      "259 \t\t 0.000020\n",
      "260 \t\t 0.000019\n",
      "261 \t\t 0.000019\n",
      "262 \t\t 0.000018\n",
      "263 \t\t 0.000018\n",
      "264 \t\t 0.000017\n",
      "265 \t\t 0.000017\n",
      "266 \t\t 0.000016\n",
      "267 \t\t 0.000016\n",
      "268 \t\t 0.000015\n",
      "269 \t\t 0.000015\n",
      "270 \t\t 0.000014\n",
      "271 \t\t 0.000014\n",
      "272 \t\t 0.000014\n",
      "273 \t\t 0.000013\n",
      "274 \t\t 0.000013\n",
      "275 \t\t 0.000013\n",
      "276 \t\t 0.000012\n",
      "277 \t\t 0.000012\n",
      "278 \t\t 0.000012\n",
      "279 \t\t 0.000011\n",
      "280 \t\t 0.000011\n",
      "281 \t\t 0.000011\n",
      "282 \t\t 0.000011\n",
      "283 \t\t 0.000010\n",
      "284 \t\t 0.000010\n",
      "285 \t\t 0.000010\n",
      "286 \t\t 0.000009\n",
      "287 \t\t 0.000009\n",
      "288 \t\t 0.000009\n",
      "289 \t\t 0.000009\n",
      "290 \t\t 0.000009\n",
      "291 \t\t 0.000008\n",
      "292 \t\t 0.000008\n",
      "293 \t\t 0.000008\n",
      "294 \t\t 0.000008\n",
      "295 \t\t 0.000008\n",
      "296 \t\t 0.000007\n",
      "297 \t\t 0.000007\n",
      "298 \t\t 0.000007\n",
      "299 \t\t 0.000007\n",
      "300 \t\t 0.000007\n",
      "301 \t\t 0.000006\n",
      "302 \t\t 0.000006\n",
      "303 \t\t 0.000006\n",
      "304 \t\t 0.000006\n",
      "305 \t\t 0.000006\n",
      "306 \t\t 0.000006\n",
      "307 \t\t 0.000006\n",
      "308 \t\t 0.000005\n",
      "309 \t\t 0.000005\n",
      "310 \t\t 0.000005\n",
      "311 \t\t 0.000005\n",
      "312 \t\t 0.000005\n",
      "313 \t\t 0.000005\n",
      "314 \t\t 0.000005\n",
      "315 \t\t 0.000005\n",
      "316 \t\t 0.000004\n",
      "317 \t\t 0.000004\n",
      "318 \t\t 0.000004\n",
      "319 \t\t 0.000004\n",
      "320 \t\t 0.000004\n",
      "321 \t\t 0.000004\n",
      "322 \t\t 0.000004\n",
      "323 \t\t 0.000004\n",
      "324 \t\t 0.000004\n",
      "325 \t\t 0.000004\n",
      "326 \t\t 0.000003\n",
      "327 \t\t 0.000003\n",
      "328 \t\t 0.000003\n",
      "329 \t\t 0.000003\n",
      "330 \t\t 0.000003\n",
      "331 \t\t 0.000003\n",
      "332 \t\t 0.000003\n",
      "333 \t\t 0.000003\n",
      "334 \t\t 0.000003\n",
      "335 \t\t 0.000003\n",
      "336 \t\t 0.000003\n",
      "337 \t\t 0.000003\n",
      "338 \t\t 0.000003\n",
      "339 \t\t 0.000003\n",
      "340 \t\t 0.000002\n",
      "341 \t\t 0.000002\n",
      "342 \t\t 0.000002\n",
      "343 \t\t 0.000002\n",
      "344 \t\t 0.000002\n",
      "345 \t\t 0.000002\n",
      "346 \t\t 0.000002\n",
      "347 \t\t 0.000002\n",
      "348 \t\t 0.000002\n",
      "349 \t\t 0.000002\n",
      "350 \t\t 0.000002\n",
      "351 \t\t 0.000002\n",
      "352 \t\t 0.000002\n",
      "353 \t\t 0.000002\n",
      "354 \t\t 0.000002\n",
      "355 \t\t 0.000002\n",
      "356 \t\t 0.000002\n",
      "357 \t\t 0.000002\n",
      "358 \t\t 0.000002\n",
      "359 \t\t 0.000002\n",
      "360 \t\t 0.000002\n",
      "361 \t\t 0.000002\n",
      "362 \t\t 0.000001\n",
      "363 \t\t 0.000001\n",
      "364 \t\t 0.000001\n",
      "365 \t\t 0.000001\n",
      "366 \t\t 0.000001\n",
      "367 \t\t 0.000001\n",
      "368 \t\t 0.000001\n",
      "369 \t\t 0.000001\n",
      "370 \t\t 0.000001\n",
      "371 \t\t 0.000001\n",
      "372 \t\t 0.000001\n",
      "373 \t\t 0.000001\n",
      "374 \t\t 0.000001\n",
      "375 \t\t 0.000001\n",
      "376 \t\t 0.000001\n",
      "377 \t\t 0.000001\n",
      "378 \t\t 0.000001\n",
      "379 \t\t 0.000001\n",
      "380 \t\t 0.000001\n",
      "381 \t\t 0.000001\n",
      "382 \t\t 0.000001\n",
      "383 \t\t 0.000001\n",
      "384 \t\t 0.000001\n",
      "385 \t\t 0.000001\n",
      "386 \t\t 0.000001\n",
      "387 \t\t 0.000001\n",
      "388 \t\t 0.000001\n",
      "389 \t\t 0.000001\n",
      "390 \t\t 0.000001\n",
      "391 \t\t 0.000001\n",
      "392 \t\t 0.000001\n",
      "393 \t\t 0.000001\n",
      "394 \t\t 0.000001\n",
      "395 \t\t 0.000001\n",
      "396 \t\t 0.000001\n",
      "397 \t\t 0.000001\n",
      "398 \t\t 0.000001\n",
      "399 \t\t 0.000001\n",
      "400 \t\t 0.000001\n",
      "401 \t\t 0.000001\n",
      "402 \t\t 0.000001\n",
      "403 \t\t 0.000001\n",
      "404 \t\t 0.000001\n",
      "405 \t\t 0.000001\n",
      "406 \t\t 0.000001\n",
      "407 \t\t 0.000001\n",
      "408 \t\t 0.000001\n",
      "409 \t\t 0.000000\n",
      "410 \t\t 0.000000\n",
      "411 \t\t 0.000000\n",
      "412 \t\t 0.000000\n",
      "413 \t\t 0.000000\n",
      "414 \t\t 0.000000\n",
      "415 \t\t 0.000000\n",
      "416 \t\t 0.000000\n",
      "417 \t\t 0.000000\n",
      "418 \t\t 0.000000\n",
      "419 \t\t 0.000000\n",
      "420 \t\t 0.000000\n",
      "421 \t\t 0.000000\n",
      "422 \t\t 0.000000\n",
      "423 \t\t 0.000000\n",
      "424 \t\t 0.000000\n",
      "425 \t\t 0.000000\n",
      "426 \t\t 0.000000\n",
      "427 \t\t 0.000000\n",
      "428 \t\t 0.000000\n",
      "429 \t\t 0.000000\n",
      "430 \t\t 0.000000\n",
      "431 \t\t 0.000000\n",
      "432 \t\t 0.000000\n",
      "433 \t\t 0.000000\n",
      "434 \t\t 0.000000\n",
      "435 \t\t 0.000000\n",
      "436 \t\t 0.000000\n",
      "437 \t\t 0.000000\n",
      "438 \t\t 0.000000\n",
      "439 \t\t 0.000000\n",
      "440 \t\t 0.000000\n",
      "441 \t\t 0.000000\n",
      "442 \t\t 0.000000\n",
      "443 \t\t 0.000000\n",
      "444 \t\t 0.000000\n",
      "445 \t\t 0.000000\n",
      "446 \t\t 0.000000\n",
      "447 \t\t 0.000000\n",
      "448 \t\t 0.000000\n",
      "449 \t\t 0.000000\n",
      "450 \t\t 0.000000\n"
     ]
    }
   ],
   "execution_count": 33
  },
  {
   "metadata": {
    "ExecuteTime": {
     "end_time": "2025-06-11T13:44:14.630205Z",
     "start_time": "2025-06-11T13:44:14.627177Z"
    }
   },
   "cell_type": "code",
   "source": [
    "preds = np.dot(user_mat, movie_mat)\n",
    "print(\"The predicted value for the missing rating is: {}\".format(preds[0,0]))\n",
    "print()\n",
    "print(\"That's right! You just predicted a rating for a user-movie pair that was never rated!\")\n",
    "print(\"But if you look in the original matrix, this was actually a value of 7. Not bad!\")"
   ],
   "id": "cc27185b52f738cd",
   "outputs": [
    {
     "name": "stdout",
     "output_type": "stream",
     "text": [
      "The predicted value for the missing rating is: 7.262131632815076\n",
      "\n",
      "That's right! You just predicted a rating for a user-movie pair that was never rated!\n",
      "But if you look in the original matrix, this was actually a value of 7. Not bad!\n"
     ]
    }
   ],
   "execution_count": 34
  },
  {
   "metadata": {},
   "cell_type": "markdown",
   "source": [
    "Now let's extend this to a more realistic example. Unfortunately, running this function on your entire user-movie matrix is still not something you likely want to do on your local machine.  However, we can see how well this example extends to 1000 users.  In the above portion, you were using a very small subset of data with no missing values.\n",
    "\n",
    "`5.` Given the size of this matrix, this will take quite a bit of time.  Consider the following hyperparameters: 3 latent features, 0.005 learning rate, and 500 iterations.  Grab a snack, take a walk, and this should be done running in a bit."
   ],
   "id": "5920e2264cf6db20"
  },
  {
   "metadata": {
    "ExecuteTime": {
     "end_time": "2025-06-11T13:53:03.842567Z",
     "start_time": "2025-06-11T13:51:37.203298Z"
    }
   },
   "cell_type": "code",
   "source": [
    "# Setting up a matrix of the first 1000 users with movie ratings\n",
    "first_1000_users = np.matrix(user_by_movie.head(1000))\n",
    "\n",
    "# perform funkSVD on the matrix of the top 1000 users\n",
    "user_mat, movie_mat = FunkSVD(first_1000_users,\n",
    "                              latent_features=3,\n",
    "                              learning_rate=0.005,\n",
    "                              iters=10) # iters=500"
   ],
   "id": "466b4c5f37a1167f",
   "outputs": [
    {
     "name": "stdout",
     "output_type": "stream",
     "text": [
      "Optimizaiton Statistics\n",
      "Iterations | Mean Squared Error \n",
      "1 \t\t 23.043350\n",
      "2 \t\t 10.757469\n",
      "3 \t\t 7.391635\n",
      "4 \t\t 5.717883\n",
      "5 \t\t 4.701460\n",
      "6 \t\t 4.009878\n",
      "7 \t\t 3.504012\n",
      "8 \t\t 3.115574\n",
      "9 \t\t 2.806692\n",
      "10 \t\t 2.554387\n"
     ]
    }
   ],
   "execution_count": 36
  },
  {
   "metadata": {},
   "cell_type": "markdown",
   "source": "`6.` Now that you have a set of predictions for each user-movie pair.  Let's answer a few questions about your results. Provide the correct values to each of the variables below, and check your solutions using the tests below.",
   "id": "abf56a14dbe76dd"
  },
  {
   "metadata": {
    "ExecuteTime": {
     "end_time": "2025-06-11T13:53:15.853163Z",
     "start_time": "2025-06-11T13:53:15.838355Z"
    }
   },
   "cell_type": "code",
   "source": [
    "# How many actual ratings exist in first_1000_users\n",
    "num_ratings = np.count_nonzero(~np.isnan(first_1000_users))\n",
    "print(\"The number of actual ratings in the first_1000_users is {}.\".format(num_ratings))\n",
    "print()\n",
    "\n",
    "# How many ratings did we make for user-movie pairs that didn't have ratings\n",
    "ratings_for_missing = first_1000_users.shape[0]*first_1000_users.shape[1] - num_ratings\n",
    "print(\"The number of ratings made for user-movie pairs that didn't have ratings is {}\".format(ratings_for_missing))"
   ],
   "id": "e10cb6c0cfb84119",
   "outputs": [
    {
     "name": "stdout",
     "output_type": "stream",
     "text": [
      "The number of actual ratings in the first_1000_users is 14287.\n",
      "\n",
      "The number of ratings made for user-movie pairs that didn't have ratings is 13835713\n"
     ]
    }
   ],
   "execution_count": 37
  },
  {
   "metadata": {
    "ExecuteTime": {
     "end_time": "2025-06-11T13:53:17.472805Z",
     "start_time": "2025-06-11T13:53:17.406699Z"
    }
   },
   "cell_type": "code",
   "source": [
    "assert num_ratings == 14287, \"Oops!  The number of actual ratings doesn't quite look right.\"\n",
    "assert ratings_for_missing == 13835713, \"Oops!  The number of movie-user pairs that you made ratings for that didn't actually have ratings doesn't look right.\"\n",
    "\n",
    "# Make sure you made predictions on all the missing user-movie pairs\n",
    "preds = np.dot(user_mat, movie_mat)\n",
    "assert np.isnan(preds).sum() == 0\n",
    "print(\"Nice job!  Looks like you have predictions made for all the missing user-movie pairs! But I still have one question... How good are they?\")"
   ],
   "id": "8494b7c957d83c1b",
   "outputs": [
    {
     "name": "stdout",
     "output_type": "stream",
     "text": [
      "Nice job!  Looks like you have predictions made for all the missing user-movie pairs! But I still have one question... How good are they?\n"
     ]
    }
   ],
   "execution_count": 38
  },
  {
   "metadata": {},
   "cell_type": "markdown",
   "source": "# 3. How Are We Doing?",
   "id": "56a222b296c05193"
  },
  {
   "metadata": {
    "ExecuteTime": {
     "end_time": "2025-06-11T13:53:19.822273Z",
     "start_time": "2025-06-11T13:53:19.693739Z"
    }
   },
   "cell_type": "code",
   "source": [
    "movies = pd.read_csv('movies_clean.csv')\n",
    "reviews = pd.read_csv('reviews_clean.csv')\n",
    "\n",
    "del movies['Unnamed: 0']\n",
    "del reviews['Unnamed: 0']"
   ],
   "id": "6f88fc0ea9f942c8",
   "outputs": [],
   "execution_count": 39
  },
  {
   "metadata": {},
   "cell_type": "markdown",
   "source": [
    "1. Using the **reviews** dataframe, perform the following tasks to create a training and validation set of data we can use to test the performance of your SVD algorithm using **off-line** validation techniques.\n",
    " * Order the reviews dataframe from earliest to most recent\n",
    " * Pull the first 10000 reviews from  the dataset\n",
    " * Make the first 8000/10000 reviews the training data\n",
    " * Make the last 2000/10000 the test data\n",
    " * Return the training and test datasets"
   ],
   "id": "4c67890d2d137b6b"
  },
  {
   "metadata": {
    "ExecuteTime": {
     "end_time": "2025-06-11T13:53:21.101879Z",
     "start_time": "2025-06-11T13:53:21.098912Z"
    }
   },
   "cell_type": "code",
   "source": [
    "def create_train_test(reviews, order_by, training_size, testing_size):\n",
    "    '''\n",
    "    INPUT:\n",
    "    reviews - (pandas df) dataframe to split into train and test\n",
    "    order_by - (string) column name to sort by\n",
    "    training_size - (int) number of rows in training set\n",
    "    testing_size - (int) number of columns in the test set\n",
    "\n",
    "    OUTPUT:\n",
    "    training_df -  (pandas df) dataframe of the training set\n",
    "    validation_df - (pandas df) dataframe of the test set\n",
    "    '''\n",
    "    reviews_new = reviews.sort_values(order_by)\n",
    "    training_df = reviews_new.head(training_size)\n",
    "    validation_df = reviews_new.iloc[training_size:training_size+testing_size]\n",
    "\n",
    "    return training_df, validation_df"
   ],
   "id": "3c7a08d668d52e30",
   "outputs": [],
   "execution_count": 40
  },
  {
   "metadata": {
    "ExecuteTime": {
     "end_time": "2025-06-11T13:53:22.938454Z",
     "start_time": "2025-06-11T13:53:22.843211Z"
    }
   },
   "cell_type": "code",
   "source": [
    "# Use our function to create training and test datasets\n",
    "train_df, val_df = create_train_test(reviews, 'date', 8000, 2000)"
   ],
   "id": "7feb37587903b797",
   "outputs": [],
   "execution_count": 41
  },
  {
   "metadata": {
    "ExecuteTime": {
     "end_time": "2025-06-11T13:53:23.719274Z",
     "start_time": "2025-06-11T13:53:23.713167Z"
    }
   },
   "cell_type": "code",
   "source": [
    "assert train_df.shape[0] == 8000, \"The number of rows doesn't look right in the training dataset.\"\n",
    "assert val_df.shape[0] == 2000, \"The number of rows doesn't look right in the validation dataset\"\n",
    "assert str(train_df.tail(1)['date']).split()[1] == '2013-07-19', \"The last date in the training dataset doesn't look like what we expected.\"\n",
    "assert str(val_df.tail(1)['date']).split()[1] == '2013-08-18', \"The last date in the validation dataset doesn't look like what we expected.\"\n",
    "print(\"Nice job!  Looks like you have written a function that provides training and validation dataframes for you to use in the next steps.\")"
   ],
   "id": "5ab5e519cdab5729",
   "outputs": [
    {
     "name": "stdout",
     "output_type": "stream",
     "text": [
      "Nice job!  Looks like you have written a function that provides training and validation dataframes for you to use in the next steps.\n"
     ]
    }
   ],
   "execution_count": 42
  },
  {
   "metadata": {},
   "cell_type": "markdown",
   "source": [
    "In the real world, we might have all of the data up to this final date in the training data.  Then we want to see how well we are doing for each of the new ratings, which show up in the test data.\n",
    "\n",
    "Below is a working example of the function created in the previous example you can use (or you can replace with your own).\n",
    "\n",
    "`2.`  Fit the function to the training data with the following hyperparameters: 15 latent features, a learning rate of 0.005, and 300 iterations. This will take some time to run, so you may choose fewer latent features, a higher learning rate, or fewer iteratios if you want to speed up the process.\n",
    "\n",
    "**Note:** Again, this might be a good time to take a phone call, go for a walk, or just take a little break."
   ],
   "id": "c46533caca3ad52c"
  },
  {
   "metadata": {
    "ExecuteTime": {
     "end_time": "2025-06-11T13:53:25.197794Z",
     "start_time": "2025-06-11T13:53:25.193158Z"
    }
   },
   "cell_type": "code",
   "source": [
    "def FunkSVD(ratings_mat, latent_features=12, learning_rate=0.0001, iters=100):\n",
    "    '''\n",
    "    This function performs matrix factorization using a basic form of FunkSVD with no regularization\n",
    "\n",
    "    INPUT:\n",
    "    ratings_mat - (numpy array) a matrix with users as rows, movies as columns, and ratings as values\n",
    "    latent_features - (int) the number of latent features used\n",
    "    learning_rate - (float) the learning rate\n",
    "    iters - (int) the number of iterations\n",
    "\n",
    "    OUTPUT:\n",
    "    user_mat - (numpy array) a user by latent feature matrix\n",
    "    movie_mat - (numpy array) a latent feature by movie matrix\n",
    "    '''\n",
    "\n",
    "    # Set up useful values to be used through the rest of the function\n",
    "    n_users = ratings_mat.shape[0]\n",
    "    n_movies = ratings_mat.shape[1]\n",
    "    num_ratings = np.count_nonzero(~np.isnan(ratings_mat))\n",
    "\n",
    "    # initialize the user and movie matrices with random values\n",
    "    user_mat = np.random.rand(n_users, latent_features)\n",
    "    movie_mat = np.random.rand(latent_features, n_movies)\n",
    "\n",
    "    # initialize sse at 0 for first iteration\n",
    "    sse_accum = 0\n",
    "\n",
    "    # keep track of iteration and MSE\n",
    "    print(\"Optimizaiton Statistics\")\n",
    "    print(\"Iterations | Mean Squared Error \")\n",
    "\n",
    "    # for each iteration\n",
    "    for iteration in range(iters):\n",
    "\n",
    "        # update our sse\n",
    "        old_sse = sse_accum\n",
    "        sse_accum = 0\n",
    "\n",
    "        # For each user-movie pair\n",
    "        for i in range(n_users):\n",
    "            for j in range(n_movies):\n",
    "\n",
    "                # if the rating exists\n",
    "                if ratings_mat[i, j] > 0:\n",
    "\n",
    "                    # compute the error as the actual minus the dot product of the user and movie latent features\n",
    "                    diff = ratings_mat[i, j] - np.dot(user_mat[i, :], movie_mat[:, j])\n",
    "\n",
    "                    # Keep track of the sum of squared errors for the matrix\n",
    "                    sse_accum += diff**2\n",
    "\n",
    "                    # update the values in each matrix in the direction of the gradient\n",
    "                    for k in range(latent_features):\n",
    "                        user_mat[i, k] += learning_rate * (2*diff*movie_mat[k, j])\n",
    "                        movie_mat[k, j] += learning_rate * (2*diff*user_mat[i, k])\n",
    "\n",
    "        # print results\n",
    "        print(\"%d \\t\\t %f\" % (iteration+1, sse_accum / num_ratings))\n",
    "\n",
    "    return user_mat, movie_mat"
   ],
   "id": "de8afdd126f149b5",
   "outputs": [],
   "execution_count": 43
  },
  {
   "metadata": {
    "ExecuteTime": {
     "end_time": "2025-06-11T13:53:43.563987Z",
     "start_time": "2025-06-11T13:53:28.881423Z"
    }
   },
   "cell_type": "code",
   "source": [
    "# Create user-by-item matrix - nothing to do here\n",
    "train_user_item = train_df[['user_id', 'movie_id', 'rating', 'timestamp']]\n",
    "train_data_df = train_user_item.groupby(['user_id', 'movie_id'])['rating'].max().unstack()\n",
    "train_data_np = np.array(train_data_df)\n",
    "\n",
    "# Fit FunkSVD with the specified hyper parameters to the training data\n",
    "user_mat, movie_mat = FunkSVD(train_data_np,\n",
    "                              latent_features=15,\n",
    "                              learning_rate=0.005,\n",
    "                              iters=10) # iters=300"
   ],
   "id": "19a5c19aee34fa32",
   "outputs": [
    {
     "name": "stdout",
     "output_type": "stream",
     "text": [
      "Optimizaiton Statistics\n",
      "Iterations | Mean Squared Error \n",
      "1 \t\t 9.471600\n",
      "2 \t\t 5.080275\n",
      "3 \t\t 3.723673\n",
      "4 \t\t 2.925616\n",
      "5 \t\t 2.378400\n",
      "6 \t\t 1.974197\n",
      "7 \t\t 1.662162\n",
      "8 \t\t 1.414140\n",
      "9 \t\t 1.212905\n",
      "10 \t\t 1.047187\n"
     ]
    }
   ],
   "execution_count": 44
  },
  {
   "metadata": {},
   "cell_type": "markdown",
   "source": [
    "Now that you have created the **user_mat** and **movie_mat**, we can use this to make predictions for how users would rate movies, by just computing the dot product of the row associated with a user and the column associated with the movie.\n",
    "\n",
    "`3.` Use the comments in the function below to complete the **predict_rating** function."
   ],
   "id": "8388e4170a22372b"
  },
  {
   "metadata": {
    "ExecuteTime": {
     "end_time": "2025-06-11T13:53:43.614383Z",
     "start_time": "2025-06-11T13:53:43.610864Z"
    }
   },
   "cell_type": "code",
   "source": [
    "def predict_rating(user_matrix, movie_matrix, user_id, movie_id):\n",
    "    '''\n",
    "    INPUT:\n",
    "    user_matrix - user by latent factor matrix\n",
    "    movie_matrix - latent factor by movie matrix\n",
    "    user_id - the user_id from the reviews df\n",
    "    movie_id - the movie_id according the movies df\n",
    "\n",
    "    OUTPUT:\n",
    "    pred - the predicted rating for user_id-movie_id according to FunkSVD\n",
    "    '''\n",
    "    # Create series of users and movies in the right order\n",
    "    user_ids_series = np.array(train_data_df.index)\n",
    "    movie_ids_series = np.array(train_data_df.columns)\n",
    "\n",
    "    # User row and Movie Column\n",
    "    user_row = np.where(user_ids_series == user_id)[0][0]\n",
    "    movie_col = np.where(movie_ids_series == movie_id)[0][0]\n",
    "\n",
    "    # Take dot product of that row and column in U and V to make prediction\n",
    "    pred = np.dot(user_matrix[user_row, :], movie_matrix[:, movie_col])\n",
    "\n",
    "    return pred"
   ],
   "id": "9b32d5173042ae6a",
   "outputs": [],
   "execution_count": 45
  },
  {
   "metadata": {
    "ExecuteTime": {
     "end_time": "2025-06-11T13:53:43.697811Z",
     "start_time": "2025-06-11T13:53:43.692999Z"
    }
   },
   "cell_type": "code",
   "source": [
    "# Test your function with the first user-movie in the user-movie matrix (notice this is a nan)\n",
    "pred_val = predict_rating(user_mat, movie_mat, 2625, 169547)\n",
    "pred_val"
   ],
   "id": "a230355b539e9517",
   "outputs": [
    {
     "data": {
      "text/plain": [
       "8.006049632006786"
      ]
     },
     "execution_count": 46,
     "metadata": {},
     "output_type": "execute_result"
    }
   ],
   "execution_count": 46
  },
  {
   "metadata": {},
   "cell_type": "markdown",
   "source": [
    "It is great that you now have a way to make predictions. However it might be nice to get a little phrase back about the user, movie, and rating.\n",
    "\n",
    "`4.` Use the comments in the function below to complete the **predict_rating** function.\n",
    "\n",
    "**Note:** The movie name doesn't come back in a great format, so you can see in the solution I messed around with it a bit just to make it a little nicer."
   ],
   "id": "d8bd10304a24bcd"
  },
  {
   "metadata": {
    "ExecuteTime": {
     "end_time": "2025-06-11T13:53:43.762826Z",
     "start_time": "2025-06-11T13:53:43.758720Z"
    }
   },
   "cell_type": "code",
   "source": [
    "def print_prediction_summary(user_id, movie_id, prediction):\n",
    "    '''\n",
    "    INPUT:\n",
    "    user_id - the user_id from the reviews df\n",
    "    movie_id - the movie_id according the movies df\n",
    "    prediction - the predicted rating for user_id-movie_id\n",
    "    '''\n",
    "    movie_name = str(movies[movies['movie_id'] == movie_id]['movie']) [5:]\n",
    "    movie_name = movie_name.replace('\\nName: movie, dtype: object', '')\n",
    "    print(\"For user {} we predict a {} rating for the movie {}.\".format(user_id, round(prediction, 2), str(movie_name)))"
   ],
   "id": "6844a23035c8ddea",
   "outputs": [],
   "execution_count": 47
  },
  {
   "metadata": {
    "ExecuteTime": {
     "end_time": "2025-06-11T13:53:43.857874Z",
     "start_time": "2025-06-11T13:53:43.851195Z"
    }
   },
   "cell_type": "code",
   "source": [
    "# Test your function the the results of the previous function\n",
    "print_prediction_summary(2625, 169547, pred_val)"
   ],
   "id": "bb7403887273aeea",
   "outputs": [
    {
     "name": "stdout",
     "output_type": "stream",
     "text": [
      "For user 2625 we predict a 8.01 rating for the movie     American Beauty (1999).\n"
     ]
    }
   ],
   "execution_count": 48
  },
  {
   "metadata": {},
   "cell_type": "markdown",
   "source": [
    "Now that we have the ability to make predictions, let's see how well our predictions do on the test ratings we already have.  This will give an indication of how well have captured the latent features, and our ability to use the latent features to make predictions in the future!\n",
    "\n",
    "`5.` For each of the user-movie rating in the **val_df** dataset, compare the actual rating given to the prediction you would make.  How do your predictions do?  Do you run into any problems?  If yes, what is the problem?  Use the document strings and comments below to assist as you work through these questions."
   ],
   "id": "6075439574429f95"
  },
  {
   "metadata": {
    "ExecuteTime": {
     "end_time": "2025-06-11T13:53:43.950353Z",
     "start_time": "2025-06-11T13:53:43.944846Z"
    }
   },
   "cell_type": "code",
   "source": [
    "def validation_comparison(val_df, num_preds):\n",
    "    '''\n",
    "    INPUT:\n",
    "    val_df - the validation dataset created in the third cell above\n",
    "    num_preds - (int) the number of rows (going in order) you would like to make predictions for\n",
    "\n",
    "    OUTPUT:\n",
    "    Nothing returned - print a statement about the prediciton made for each row of val_df from row 0 to num_preds\n",
    "    '''\n",
    "    val_users = np.array(val_df['user_id'])\n",
    "    val_movies = np.array(val_df['movie_id'])\n",
    "    val_ratings = np.array(val_df['rating'])\n",
    "\n",
    "\n",
    "    for idx in range(num_preds):\n",
    "        try:\n",
    "            pred = predict_rating(user_mat, movie_mat, val_users[idx], val_movies[idx])\n",
    "            print(\"The actual rating for user {} on movie {} is {}.\\n While the predicted rating is {}.\"\n",
    "                  .format(val_users[idx], val_movies[idx], val_ratings[idx], round(pred)))\n",
    "        except IndexError:\n",
    "            continue\n",
    "\n",
    "\n",
    "# Perform the predicted vs. actual for the first 10 rows.  How does it look?\n",
    "validation_comparison(val_df, 10)"
   ],
   "id": "8cff613d9f138e2e",
   "outputs": [
    {
     "name": "stdout",
     "output_type": "stream",
     "text": [
      "The actual rating for user 6410 on movie 1245492 is 8.\n",
      " While the predicted rating is 7.\n",
      "The actual rating for user 2894 on movie 1602613 is 3.\n",
      " While the predicted rating is 5.\n",
      "The actual rating for user 2625 on movie 169547 is 10.\n",
      " While the predicted rating is 8.\n",
      "The actual rating for user 5490 on movie 770828 is 6.\n",
      " While the predicted rating is 7.\n"
     ]
    }
   ],
   "execution_count": 49
  },
  {
   "metadata": {},
   "cell_type": "markdown",
   "source": [
    "# 4. Cold Start Problem\n",
    "In cases where you are introduced to a new user or new movie, collaborative flitering is not helpful as a technique to make predictions.\n",
    "\n",
    "Instead, you will need to use one of the techniques from the previous lesson like content based recommendations for new items or rank based recommendations for new users.\n",
    "\n",
    "As a final step to completing out our recommendation system, we will build in these edge cases. Run the cell below to get started.\n",
    "\n",
    "### Matrix Factorization - Collaborative Filtering Where Possible\n",
    "Notice the following information is available by running the below cell:\n",
    "\n",
    "`1.` **reviews** - a dataframe of reviews\n",
    "\n",
    "`2.` **movies** - a dataframe of movies\n",
    "\n",
    "`3.` **create_train_test** - a function for creating the training and validation datasets\n",
    "\n",
    "`4.` **predict_rating** - a function that takes a user and movie and gives a prediction using FunkSVD\n",
    "\n",
    "`5.` **train_df** and **val_df** - the training and test datasets used in the previous notebook\n",
    "\n",
    "`6.` **user_mat** and **movie_mat** - the u and v matrices from FunkSVD\n",
    "\n",
    "`7.` **train_data_df** - a user-movie matrix with ratings where available.  FunkSVD was performed on this matrix"
   ],
   "id": "aab5a6b4e2350d23"
  },
  {
   "metadata": {
    "ExecuteTime": {
     "end_time": "2025-06-11T14:08:44.366155Z",
     "start_time": "2025-06-11T14:08:44.138723Z"
    }
   },
   "cell_type": "code",
   "source": [
    "movies = pd.read_csv('movies_clean.csv')\n",
    "reviews = pd.read_csv('reviews_clean.csv')\n",
    "\n",
    "del movies['Unnamed: 0']\n",
    "del reviews['Unnamed: 0']"
   ],
   "id": "d54261f85cbe21e1",
   "outputs": [],
   "execution_count": 2
  },
  {
   "metadata": {
    "ExecuteTime": {
     "end_time": "2025-06-11T14:08:44.563033Z",
     "start_time": "2025-06-11T14:08:44.404386Z"
    }
   },
   "cell_type": "code",
   "source": [
    "def create_train_test(reviews, order_by, training_size, testing_size):\n",
    "    '''\n",
    "    INPUT:\n",
    "    reviews - (pandas df) dataframe to split into train and test\n",
    "    order_by - (string) column name to sort by\n",
    "    training_size - (int) number of rows in training set\n",
    "    testing_size - (int) number of columns in the test set\n",
    "\n",
    "    OUTPUT:\n",
    "    training_df -  (pandas df) dataframe of the training set\n",
    "    validation_df - (pandas df) dataframe of the test set\n",
    "    '''\n",
    "    reviews_new = reviews.sort_values(order_by)\n",
    "    training_df = reviews_new.head(training_size)\n",
    "    validation_df = reviews_new.iloc[training_size:training_size+testing_size]\n",
    "\n",
    "    return training_df, validation_df\n",
    "\n",
    "def predict_rating(user_matrix, movie_matrix, user_id, movie_id):\n",
    "    '''\n",
    "    INPUT:\n",
    "    user_matrix - user by latent factor matrix\n",
    "    movie_matrix - latent factor by movie matrix\n",
    "    user_id - the user_id from the reviews df\n",
    "    movie_id - the movie_id according the movies df\n",
    "\n",
    "    OUTPUT:\n",
    "    pred - the predicted rating for user_id-movie_id according to FunkSVD\n",
    "    '''\n",
    "    # Create series of users and movies in the right order\n",
    "    user_ids_series = np.array(train_data_df.index)\n",
    "    movie_ids_series = np.array(train_data_df.columns)\n",
    "\n",
    "    # User row and Movie Column\n",
    "    user_row = np.where(user_ids_series == user_id)[0][0]\n",
    "    movie_col = np.where(movie_ids_series == movie_id)[0][0]\n",
    "\n",
    "    # Take dot product of that row and column in U and V to make prediction\n",
    "    pred = np.dot(user_matrix[user_row, :], movie_matrix[:, movie_col])\n",
    "\n",
    "    return pred\n",
    "\n",
    "# Use our function to create training and test datasets\n",
    "train_df, val_df = create_train_test(reviews, 'date', 8000, 2000)\n",
    "\n",
    "# Create user-by-item matrix - this will keep track of order of users and movies in u and v\n",
    "train_user_item = train_df[['user_id', 'movie_id', 'rating', 'timestamp']]\n",
    "train_data_df = train_user_item.groupby(['user_id', 'movie_id'])['rating'].max().unstack()\n",
    "train_data_np = np.array(train_data_df)\n",
    "\n",
    "# Read in user and movie matrices\n",
    "user_file = open(\"user_matrix\", 'rb')\n",
    "user_mat = pickle.load(user_file)\n",
    "user_file.close()\n",
    "\n",
    "movie_file = open(\"movie_matrix\", 'rb')\n",
    "movie_mat = pickle.load(movie_file)\n",
    "movie_file.close()"
   ],
   "id": "f129fe9580e52748",
   "outputs": [],
   "execution_count": 3
  },
  {
   "metadata": {},
   "cell_type": "markdown",
   "source": [
    "### Validating Predictions\n",
    "\n",
    "Unfortunately, you weren't able to make predictions on every user-movie combination in the test set, as some of these users or movies were new.\n",
    "\n",
    "However, you can validate your predictions for the user-movie pairs that do exist in the user_mat and movie_mat matrices.\n",
    "\n",
    "`1.` Complete the function below to see how far off we were on average across all of the predicted ratings."
   ],
   "id": "66d62ebae6688738"
  },
  {
   "metadata": {
    "ExecuteTime": {
     "end_time": "2025-06-11T14:08:50.290548Z",
     "start_time": "2025-06-11T14:08:50.282742Z"
    }
   },
   "cell_type": "code",
   "source": [
    "def validation_comparison(val_df, user_mat=user_mat, movie_mat=movie_mat):\n",
    "    '''\n",
    "    INPUT:\n",
    "    val_df - the validation dataset created in the third cell above\n",
    "    user_mat - U matrix in FunkSVD\n",
    "    movie_mat - V matrix in FunkSVD\n",
    "\n",
    "    OUTPUT:\n",
    "    rmse - RMSE of how far off each value is from it's predicted value\n",
    "    perc_rated - percent of predictions out of all possible that could be rated\n",
    "    actual_v_pred - a 10 x 10 grid with counts for actual vs predicted values\n",
    "    '''\n",
    "\n",
    "    val_users = np.array(val_df['user_id'])\n",
    "    val_movies = np.array(val_df['movie_id'])\n",
    "    val_ratings = np.array(val_df['rating'])\n",
    "\n",
    "    sse = 0\n",
    "    num_rated = 0\n",
    "    preds, acts = [], []\n",
    "    actual_v_pred = np.zeros((10,10))\n",
    "    for idx in range(len(val_users)):\n",
    "        try:\n",
    "            pred = predict_rating(user_mat, movie_mat, val_users[idx], val_movies[idx])\n",
    "            sse += (val_ratings[idx] - pred)**2\n",
    "            num_rated+=1\n",
    "            preds.append(pred)\n",
    "            acts.append(val_ratings[idx])\n",
    "            actual_v_pred[11-int(val_ratings[idx]-1), int(round(pred)-1)]+=1\n",
    "\n",
    "        except:\n",
    "            continue\n",
    "\n",
    "    rmse = np.sqrt(sse/num_rated)\n",
    "    perc_rated = num_rated/len(val_users)\n",
    "    return rmse, perc_rated, actual_v_pred, preds, acts"
   ],
   "id": "ab67d0ca505e4d41",
   "outputs": [],
   "execution_count": 4
  },
  {
   "metadata": {
    "ExecuteTime": {
     "end_time": "2025-06-11T14:08:52.792868Z",
     "start_time": "2025-06-11T14:08:52.306103Z"
    }
   },
   "cell_type": "code",
   "source": [
    "# How well did we do?\n",
    "rmse, perc_rated, actual_v_pred, preds, acts = validation_comparison(val_df)\n",
    "print(rmse, perc_rated)\n",
    "sns.heatmap(actual_v_pred);\n",
    "plt.xticks(np.arange(10), np.arange(1,11));\n",
    "plt.yticks(np.arange(10), np.arange(1,11));\n",
    "plt.xlabel(\"Predicted Values\");\n",
    "plt.ylabel(\"Actual Values\");\n",
    "plt.title(\"Actual vs. Predicted Values\");"
   ],
   "id": "2384592c7ab8a7f5",
   "outputs": [
    {
     "name": "stdout",
     "output_type": "stream",
     "text": [
      "2.909000348736573 0.5065\n"
     ]
    },
    {
     "data": {
      "text/plain": [
       "<Figure size 640x480 with 2 Axes>"
      ],
      "image/png": "[encoded data removed]"
     },
     "metadata": {},
     "output_type": "display_data"
    }
   ],
   "execution_count": 5
  },
  {
   "metadata": {
    "ExecuteTime": {
     "end_time": "2025-06-11T14:08:54.610949Z",
     "start_time": "2025-06-11T14:08:54.310706Z"
    }
   },
   "cell_type": "code",
   "source": [
    "plt.figure(figsize=(8,8))\n",
    "plt.hist(acts, density=True, alpha=.5, label='actual');\n",
    "plt.hist(preds, density=True, alpha=.5, label='predicted');\n",
    "plt.legend(loc=2, prop={'size': 15});\n",
    "plt.xlabel('Rating');\n",
    "plt.title('Predicted vs. Actual Rating');"
   ],
   "id": "708f5041b51e225f",
   "outputs": [
    {
     "data": {
      "text/plain": [
       "<Figure size 800x800 with 1 Axes>"
      ],
      "image/png": "[encoded data removed]"
     },
     "metadata": {},
     "output_type": "display_data"
    }
   ],
   "execution_count": 6
  },
  {
   "metadata": {},
   "cell_type": "markdown",
   "source": "`2.` How many user-movie pairs were we unable to make predictions for?  Use the cell below to answer this question.",
   "id": "2e8cf7ee8801700c"
  },
  {
   "metadata": {
    "ExecuteTime": {
     "end_time": "2025-06-11T13:59:06.596798Z",
     "start_time": "2025-06-11T13:59:06.592473Z"
    }
   },
   "cell_type": "code",
   "source": [
    "# From the above, this can be calculated as follows:\n",
    "not_rated = int(len(val_df['rating'])*(1-perc_rated))\n",
    "rated = int(len(val_df['rating'])*perc_rated)\n",
    "\n",
    "print(\"Number not rated {}\".format(not_rated))\n",
    "print(\"Number rated {}.\".format(rated))"
   ],
   "id": "2800eace391e5cdf",
   "outputs": [
    {
     "name": "stdout",
     "output_type": "stream",
     "text": [
      "Number not rated 987\n",
      "Number rated 1012.\n"
     ]
    }
   ],
   "execution_count": 59
  },
  {
   "metadata": {},
   "cell_type": "markdown",
   "source": [
    "### Content Based For New Movies\n",
    "If all of the above went well, you will notice we still have work to do!  We need to bring in a few things we picked up from the last lesson to use for those new users and movies.  Below is the code used to make the content based recommendations, which found movies that were similar to one another.  This was from **5_Content_Based_Recommendations** in the previous lesson.\n",
    "\n",
    "The below function **find_similar_movies** will provide similar movies to any movie based only on content.\n",
    "\n",
    "Run the cell below to gain access to the content based similarity functions."
   ],
   "id": "9cc82cf54ba921b"
  },
  {
   "metadata": {
    "ExecuteTime": {
     "end_time": "2025-06-11T14:09:45.707051Z",
     "start_time": "2025-06-11T14:09:02.582150Z"
    }
   },
   "cell_type": "code",
   "source": [
    "# Subset so movie_content is only using the dummy variables for each genre and the 3 century based year dummy columns\n",
    "movie_content = np.array(movies.iloc[:,4:])\n",
    "\n",
    "# Take the dot product to obtain a movie x movie matrix of similarities\n",
    "dot_prod_movies = movie_content.dot(np.transpose(movie_content))\n",
    "\n",
    "\n",
    "def find_similar_movies(movie_id):\n",
    "    '''\n",
    "    INPUT\n",
    "    movie_id - a movie_id\n",
    "    OUTPUT\n",
    "    similar_movies - an array of the most similar movies by title\n",
    "    '''\n",
    "    # find the row of each movie id\n",
    "    movie_idx = np.where(movies['movie_id'] == movie_id)[0][0]\n",
    "\n",
    "    # find the most similar movie indices - to start I said they need to be the same for all content\n",
    "    similar_idxs = np.where(dot_prod_movies[movie_idx] == np.max(dot_prod_movies[movie_idx]))[0]\n",
    "\n",
    "    # pull the movie titles based on the indices\n",
    "    similar_movies = np.array(movies.iloc[similar_idxs, ]['movie'])\n",
    "\n",
    "    return similar_movies\n",
    "\n",
    "\n",
    "def get_movie_names(movie_ids):\n",
    "    '''\n",
    "    INPUT\n",
    "    movie_ids - a list of movie_ids\n",
    "    OUTPUT\n",
    "    movies - a list of movie names associated with the movie_ids\n",
    "\n",
    "    '''\n",
    "    movie_lst = list(movies[movies['movie_id'].isin(movie_ids)]['movie'])\n",
    "\n",
    "    return movie_lst"
   ],
   "id": "564bbe7cdf8b9321",
   "outputs": [],
   "execution_count": 7
  },
  {
   "metadata": {},
   "cell_type": "markdown",
   "source": [
    "### Rank Based For New Users\n",
    "From the above two code cells, we have a way to make recommendations for movie-user pairs that have ratings in any part of our user-movie matrix.  We also have a way to make ratings for movies that have never received a rating using movie similarities.\n",
    "\n",
    "In this last part here, we need a way to make recommendations to new users.  For this, our functions from **2_Most_Popular_Recommendations** in Lesson 1 will come in handy.  Run the cell below to have these functions available.\n",
    "\n",
    "Run the cell below to gain access to the rank based functions."
   ],
   "id": "2716fb7d0a5e07b5"
  },
  {
   "metadata": {
    "ExecuteTime": {
     "end_time": "2025-06-11T14:11:47.638210Z",
     "start_time": "2025-06-11T14:11:47.627893Z"
    }
   },
   "cell_type": "code",
   "source": [
    "def create_ranked_df(movies, reviews):\n",
    "        '''\n",
    "        INPUT\n",
    "        movies - the movies dataframe\n",
    "        reviews - the reviews dataframe\n",
    "\n",
    "        OUTPUT\n",
    "        ranked_movies - a dataframe with movies that are sorted by highest avg rating, more reviews,\n",
    "                        then time, and must have more than 4 ratings\n",
    "        '''\n",
    "\n",
    "        # Pull the average ratings and number of ratings for each movie\n",
    "        movie_ratings = reviews.groupby('movie_id')['rating']\n",
    "        avg_ratings = movie_ratings.mean()\n",
    "        num_ratings = movie_ratings.count()\n",
    "        last_rating = pd.DataFrame(reviews.groupby('movie_id').max()['date'])\n",
    "        last_rating.columns = ['last_rating']\n",
    "\n",
    "        # Add Dates\n",
    "        rating_count_df = pd.DataFrame({'avg_rating': avg_ratings, 'num_ratings': num_ratings})\n",
    "        rating_count_df = rating_count_df.join(last_rating)\n",
    "\n",
    "        # merge with the movies dataset\n",
    "        movie_recs = movies.set_index('movie_id').join(rating_count_df)\n",
    "\n",
    "        # sort by top avg rating and number of ratings\n",
    "        ranked_movies = movie_recs.sort_values(['avg_rating', 'num_ratings', 'last_rating'], ascending=False)\n",
    "\n",
    "        # for edge cases - subset the movie list to those with only 5 or more reviews\n",
    "        ranked_movies = ranked_movies[ranked_movies['num_ratings'] > 4]\n",
    "\n",
    "        return ranked_movies\n",
    "\n",
    "\n",
    "def popular_recommendations(user_id, n_top, ranked_movies):\n",
    "    '''\n",
    "    INPUT:\n",
    "    user_id - the user_id (str) of the individual you are making recommendations for\n",
    "    n_top - an integer of the number recommendations you want back\n",
    "    ranked_movies - a pandas dataframe of the already ranked movies based on avg rating, count, and time\n",
    "\n",
    "    OUTPUT:\n",
    "    top_movies - a list of the n_top recommended movies by movie title in order best to worst\n",
    "    '''\n",
    "\n",
    "    top_movies = list(ranked_movies['movie'][:n_top])\n",
    "\n",
    "    return top_movies"
   ],
   "id": "f82606ac43e55a9d",
   "outputs": [],
   "execution_count": 8
  },
  {
   "metadata": {},
   "cell_type": "markdown",
   "source": [
    "### Now For Your Task\n",
    "\n",
    "The above cells set up everything we need to use to make predictions.  Your task is to write a function, which uses the above information as necessary to provide recommendations for every user in the **val_df** dataframe.  There isn't one right way to do this, but using a blend between the three could be your best bet.\n",
    "\n",
    "You can see the blended approach I used in the video on the next page, but feel free to be creative with your solution!\n",
    "\n",
    "`3.` Use the function below along with the document strings to assist with completing the task for this notebook."
   ],
   "id": "eec9bc4153b4e643"
  },
  {
   "metadata": {
    "ExecuteTime": {
     "end_time": "2025-06-11T14:11:55.703445Z",
     "start_time": "2025-06-11T14:11:55.694153Z"
    }
   },
   "cell_type": "code",
   "source": [
    "def make_recommendations(_id, _id_type='movie', train_data=train_data_df,\n",
    "                         train_df=train_df, movies=movies, rec_num=5, user_mat=user_mat):\n",
    "    '''\n",
    "    INPUT:\n",
    "    _id - either a user or movie id (int)\n",
    "    _id_type - \"movie\" or \"user\" (str)\n",
    "    train_data - dataframe of data as user-movie matrix\n",
    "    train_df - dataframe of training data reviews\n",
    "    movies - movies df\n",
    "    rec_num - number of recommendations to return (int)\n",
    "    user_mat - the U matrix of matrix factorization\n",
    "    movie_mat - the V matrix of matrix factorization\n",
    "\n",
    "    OUTPUT:\n",
    "    recs - (array) a list or numpy array of recommended movies like the\n",
    "                   given movie, or recs for a user_id given\n",
    "    '''\n",
    "    # if the user is available from the matrix factorization data,\n",
    "    # I will use this and rank movies based on the predicted values\n",
    "    # For use with user indexing\n",
    "    val_users = train_data_df.index\n",
    "    rec_ids = create_ranked_df(movies, train_df)\n",
    "\n",
    "    if _id_type == 'user':\n",
    "        if _id in train_data.index:\n",
    "            # Get the index of which row the user is in for use in U matrix\n",
    "            idx = np.where(val_users == _id)[0][0]\n",
    "\n",
    "            # take the dot product of that row and the V matrix\n",
    "            preds = np.dot(user_mat[idx,:],movie_mat)\n",
    "\n",
    "            # pull the top movies according to the prediction\n",
    "            indices = preds.argsort()[-rec_num:][::-1] #indices\n",
    "            rec_ids = train_data_df.columns[indices]\n",
    "            rec_names = get_movie_names(rec_ids)\n",
    "\n",
    "        else:\n",
    "            # if we don't have this user, give just top ratings back\n",
    "            rec_names = popular_recommendations(_id, rec_num, rec_ids)\n",
    "\n",
    "    # Find similar movies if it is a movie that is passed\n",
    "    else:\n",
    "        rec_ids = find_similar_movies(_id)\n",
    "        rec_names = get_movie_names(rec_ids)\n",
    "\n",
    "    return rec_ids, rec_names"
   ],
   "id": "5d15006cdd7f7be6",
   "outputs": [],
   "execution_count": 9
  },
  {
   "metadata": {
    "ExecuteTime": {
     "end_time": "2025-06-11T14:12:02.769480Z",
     "start_time": "2025-06-11T14:12:02.400457Z"
    }
   },
   "cell_type": "code",
   "source": "make_recommendations(48, 'user')",
   "id": "1762dada854072ef",
   "outputs": [
    {
     "data": {
      "text/plain": [
       "(Index([388505, 488085, 1736636, 75148, 90863], dtype='int64', name='movie_id'),\n",
       " ['Rocky (1976)',\n",
       "  'The Color of Money (1986)',\n",
       "  'Va, vis et deviens (2005)',\n",
       "  'Big Nothing (2006)',\n",
       "  'Poupoupidou (2011)'])"
      ]
     },
     "execution_count": 10,
     "metadata": {},
     "output_type": "execute_result"
    }
   ],
   "execution_count": 10
  },
  {
   "metadata": {
    "ExecuteTime": {
     "end_time": "2025-06-11T14:14:28.434038Z",
     "start_time": "2025-06-11T14:12:05.682266Z"
    }
   },
   "cell_type": "code",
   "source": [
    "# Make recommendations\n",
    "user_recs_dict_with_top = dict()\n",
    "for user_id in set(val_df['user_id']):\n",
    "    user_recs_dict_with_top[user_id] = make_recommendations(user_id, 'user')[1]"
   ],
   "id": "728de1c954e04a4",
   "outputs": [],
   "execution_count": 11
  },
  {
   "metadata": {
    "ExecuteTime": {
     "end_time": "2025-06-11T14:16:04.779765Z",
     "start_time": "2025-06-11T14:16:04.773854Z"
    }
   },
   "cell_type": "code",
   "source": [
    "cnter = 0\n",
    "for user, rec in user_recs_dict_with_top.items():\n",
    "    if cnter < 12:\n",
    "        print(\"For user {}, our recommendations are: \\n {}\".format(user, rec))\n",
    "        cnter+=1\n",
    "    else:\n",
    "        break"
   ],
   "id": "623a04da6c2de9c0",
   "outputs": [
    {
     "name": "stdout",
     "output_type": "stream",
     "text": [
      "For user 4096, our recommendations are: \n",
      " ['Rocky (1976)', 'Va, vis et deviens (2005)', 'Beastly (2011)', 'Les amours imaginaires (2010)', 'La voz dormida (2011)']\n",
      "For user 4104, our recommendations are: \n",
      " ['Jubal (1956)', 'Rocky (1976)', 'Va, vis et deviens (2005)', 'The Town (2010)', 'Beastly (2011)']\n",
      "For user 4110, our recommendations are: \n",
      " [\"Schindler's List (1993)\", 'Heat (1995)', 'Memento (2000)', 'The Lord of the Rings: The Two Towers (2002)', 'Star Wars (1977)']\n",
      "For user 2082, our recommendations are: \n",
      " ['Rocky (1976)', 'Va, vis et deviens (2005)', 'Nanny McPhee (2005)', 'The Town (2010)', 'Beastly (2011)']\n",
      "For user 4135, our recommendations are: \n",
      " ['Rocky (1976)', 'Va, vis et deviens (2005)', 'Youth in Revolt (2009)', 'Diary of a Wimpy Kid: Rodrick Rules (2011)', 'Poupoupidou (2011)']\n",
      "For user 4136, our recommendations are: \n",
      " [\"Schindler's List (1993)\", 'Heat (1995)', 'Memento (2000)', 'The Lord of the Rings: The Two Towers (2002)', 'Star Wars (1977)']\n",
      "For user 43, our recommendations are: \n",
      " ['El Norte (1983)', \"River's Edge (1986)\", 'Collateral (2004)', 'Tropic Thunder (2008)', 'Beastly (2011)']\n",
      "For user 45, our recommendations are: \n",
      " ['Rocky (1976)', 'Youth in Revolt (2009)', \"Valentine's Day (2010)\", 'Insidious (2010)', 'Diary of a Wimpy Kid: Rodrick Rules (2011)']\n",
      "For user 2095, our recommendations are: \n",
      " ['Rocky (1976)', 'Va, vis et deviens (2005)', 'Beastly (2011)', 'Diary of a Wimpy Kid: Rodrick Rules (2011)', 'Safe (2012)']\n",
      "For user 4143, our recommendations are: \n",
      " ['Rocky (1976)', 'Beastly (2011)', 'Drive Angry (2011)', 'La voz dormida (2011)', 'Poupoupidou (2011)']\n",
      "For user 6193, our recommendations are: \n",
      " ['Rocky (1976)', 'Collateral (2004)', 'The Town (2010)', 'Beastly (2011)', 'Poupoupidou (2011)']\n",
      "For user 2102, our recommendations are: \n",
      " ['Rocky (1976)', \"River's Edge (1986)\", 'Va, vis et deviens (2005)', 'Big Nothing (2006)', 'Poupoupidou (2011)']\n"
     ]
    }
   ],
   "execution_count": 12
  },
  {
   "metadata": {},
   "cell_type": "markdown",
   "source": "**This recommendation style looks like it may do okay with accuracy, but it seems like a lot of the same movies are showing up.  When we think back to serendipity, novelty, and diversity as means of a good recommendation system, this set of recommendations still isn't great.  We might consider providing some content based recommendations from movies an individual has watched along with these recommendations to meet those categories of a good recommender.**",
   "id": "daf27a24054563ae"
  }
 ],
 "metadata": {
  "kernelspec": {
   "display_name": "Python 3",
   "language": "python",
   "name": "python3"
  },
  "language_info": {
   "codemirror_mode": {
    "name": "ipython",
    "version": 2
   },
   "file_extension": ".py",
   "mimetype": "text/x-python",
   "name": "python",
   "nbconvert_exporter": "python",
   "pygments_lexer": "ipython2",
   "version": "2.7.6"
  }
 },
 "nbformat": 4,
 "nbformat_minor": 5
}
